{
 "cells": [
  {
   "cell_type": "markdown",
   "id": "75391bb2-b73e-4d43-9713-cdadd7980a39",
   "metadata": {},
   "source": [
    "### Here we are performing Exploratory Data Analysis on IPL Dataset "
   ]
  },
  {
   "cell_type": "markdown",
   "id": "c88158e7-4214-4fb3-9db0-a1e4e3275d26",
   "metadata": {},
   "source": [
    "### Importing libraries"
   ]
  },
  {
   "cell_type": "code",
   "execution_count": 30,
   "id": "aa03a1f1-58a5-44af-950b-521f7cc532f0",
   "metadata": {},
   "outputs": [],
   "source": [
    "import pandas as pd\n",
    "import numpy as np\n",
    "import matplotlib as plt\n",
    "import seaborn as sns\n",
    "import plotly.express as spx"
   ]
  },
  {
   "cell_type": "markdown",
   "id": "691f4694-b1bf-4826-954e-323d4d286e86",
   "metadata": {},
   "source": [
    "### fetching the data"
   ]
  },
  {
   "cell_type": "code",
   "execution_count": 2,
   "id": "b3302fcb-588f-4af2-8c78-7ff98dc76baf",
   "metadata": {},
   "outputs": [
    {
     "name": "stdout",
     "output_type": "stream",
     "text": [
      "['matches.csv', 'deliveries.csv']\n"
     ]
    }
   ],
   "source": [
    "import os\n",
    "\n",
    "directory_path = r\"//Users/akhilkumarkolli/IPL_Data\"\n",
    "print(os.listdir(directory_path))"
   ]
  },
  {
   "cell_type": "code",
   "execution_count": 3,
   "id": "d48626b3-cce8-4fcc-8c88-5b8dff9201c7",
   "metadata": {},
   "outputs": [],
   "source": [
    "ipl_mat = pd.read_csv(r'//Users/akhilkumarkolli/IPL_Data/matches.csv')"
   ]
  },
  {
   "cell_type": "code",
   "execution_count": 4,
   "id": "6ab8591e-9103-410b-8720-b8bfe62490fa",
   "metadata": {},
   "outputs": [],
   "source": [
    "ipl_del = pd.read_csv(r'//Users/akhilkumarkolli/IPL_Data/deliveries.csv')"
   ]
  },
  {
   "cell_type": "markdown",
   "id": "0aefa255-e3f2-448e-b8be-ba382765134f",
   "metadata": {},
   "source": [
    "### Data Preprocessing "
   ]
  },
  {
   "cell_type": "code",
   "execution_count": 5,
   "id": "237edff6-8db5-4df4-a161-83b0422b5b37",
   "metadata": {},
   "outputs": [],
   "source": [
    "ipl_mat = ipl_mat.shift(1)"
   ]
  },
  {
   "cell_type": "code",
   "execution_count": 6,
   "id": "eb6085d3-af9a-44b8-aab9-2b92bcdcf4c7",
   "metadata": {},
   "outputs": [],
   "source": [
    "ipl_del = ipl_del.shift(1)"
   ]
  },
  {
   "cell_type": "code",
   "execution_count": 7,
   "id": "d87a59de-b18f-45f9-b264-88577b059c2f",
   "metadata": {},
   "outputs": [],
   "source": [
    "ipl_mat = pd.DataFrame(ipl_mat)"
   ]
  },
  {
   "cell_type": "code",
   "execution_count": 8,
   "id": "6e04dfc8-ff6a-4009-a911-6ac72a10188f",
   "metadata": {},
   "outputs": [],
   "source": [
    "ipl_del = pd.DataFrame(ipl_del)"
   ]
  },
  {
   "cell_type": "code",
   "execution_count": 9,
   "id": "31109b82-5d91-4347-a622-5f07e109cbf7",
   "metadata": {},
   "outputs": [],
   "source": [
    "ipl_del= ipl_del.drop(0)\n",
    "ipl_mat = ipl_mat.drop(0)\n"
   ]
  },
  {
   "cell_type": "code",
   "execution_count": 10,
   "id": "a2231e39-9c6a-477f-bb31-07e824cc8048",
   "metadata": {},
   "outputs": [
    {
     "data": {
      "text/plain": [
       "Index(['match_id', 'inning', 'batting_team', 'bowling_team', 'over', 'ball',\n",
       "       'batter', 'bowler', 'non_striker', 'batsman_runs', 'extra_runs',\n",
       "       'total_runs', 'extras_type', 'is_wicket', 'player_dismissed',\n",
       "       'dismissal_kind', 'fielder'],\n",
       "      dtype='object')"
      ]
     },
     "execution_count": 10,
     "metadata": {},
     "output_type": "execute_result"
    }
   ],
   "source": [
    "ipl_del.columns\n",
    "\n"
   ]
  },
  {
   "cell_type": "code",
   "execution_count": 11,
   "id": "8be9e97a-06a5-4d66-ab68-acc21466f5ee",
   "metadata": {},
   "outputs": [
    {
     "data": {
      "text/plain": [
       "Index(['id', 'season', 'city', 'date', 'match_type', 'player_of_match',\n",
       "       'venue', 'team1', 'team2', 'toss_winner', 'toss_decision', 'winner',\n",
       "       'result', 'result_margin', 'target_runs', 'target_overs', 'super_over',\n",
       "       'method', 'umpire1', 'umpire2'],\n",
       "      dtype='object')"
      ]
     },
     "execution_count": 11,
     "metadata": {},
     "output_type": "execute_result"
    }
   ],
   "source": [
    "ipl_mat.columns"
   ]
  },
  {
   "cell_type": "code",
   "execution_count": 12,
   "id": "8fe29359-aa3a-4d8c-a651-102afe9d357d",
   "metadata": {},
   "outputs": [
    {
     "data": {
      "text/html": [
       "<div>\n",
       "<style scoped>\n",
       "    .dataframe tbody tr th:only-of-type {\n",
       "        vertical-align: middle;\n",
       "    }\n",
       "\n",
       "    .dataframe tbody tr th {\n",
       "        vertical-align: top;\n",
       "    }\n",
       "\n",
       "    .dataframe thead th {\n",
       "        text-align: right;\n",
       "    }\n",
       "</style>\n",
       "<table border=\"1\" class=\"dataframe\">\n",
       "  <thead>\n",
       "    <tr style=\"text-align: right;\">\n",
       "      <th></th>\n",
       "      <th>id</th>\n",
       "      <th>season</th>\n",
       "      <th>city</th>\n",
       "      <th>date</th>\n",
       "      <th>match_type</th>\n",
       "      <th>player_of_match</th>\n",
       "      <th>venue</th>\n",
       "      <th>team1</th>\n",
       "      <th>team2</th>\n",
       "      <th>toss_winner</th>\n",
       "      <th>toss_decision</th>\n",
       "      <th>winner</th>\n",
       "      <th>result</th>\n",
       "      <th>result_margin</th>\n",
       "      <th>target_runs</th>\n",
       "      <th>target_overs</th>\n",
       "      <th>super_over</th>\n",
       "      <th>method</th>\n",
       "      <th>umpire1</th>\n",
       "      <th>umpire2</th>\n",
       "    </tr>\n",
       "  </thead>\n",
       "  <tbody>\n",
       "    <tr>\n",
       "      <th>1</th>\n",
       "      <td>335982.0</td>\n",
       "      <td>2007/08</td>\n",
       "      <td>Bangalore</td>\n",
       "      <td>2008-04-18</td>\n",
       "      <td>League</td>\n",
       "      <td>BB McCullum</td>\n",
       "      <td>M Chinnaswamy Stadium</td>\n",
       "      <td>Royal Challengers Bangalore</td>\n",
       "      <td>Kolkata Knight Riders</td>\n",
       "      <td>Royal Challengers Bangalore</td>\n",
       "      <td>field</td>\n",
       "      <td>Kolkata Knight Riders</td>\n",
       "      <td>runs</td>\n",
       "      <td>140.0</td>\n",
       "      <td>223.0</td>\n",
       "      <td>20.0</td>\n",
       "      <td>N</td>\n",
       "      <td>NaN</td>\n",
       "      <td>Asad Rauf</td>\n",
       "      <td>RE Koertzen</td>\n",
       "    </tr>\n",
       "    <tr>\n",
       "      <th>2</th>\n",
       "      <td>335983.0</td>\n",
       "      <td>2007/08</td>\n",
       "      <td>Chandigarh</td>\n",
       "      <td>2008-04-19</td>\n",
       "      <td>League</td>\n",
       "      <td>MEK Hussey</td>\n",
       "      <td>Punjab Cricket Association Stadium, Mohali</td>\n",
       "      <td>Kings XI Punjab</td>\n",
       "      <td>Chennai Super Kings</td>\n",
       "      <td>Chennai Super Kings</td>\n",
       "      <td>bat</td>\n",
       "      <td>Chennai Super Kings</td>\n",
       "      <td>runs</td>\n",
       "      <td>33.0</td>\n",
       "      <td>241.0</td>\n",
       "      <td>20.0</td>\n",
       "      <td>N</td>\n",
       "      <td>NaN</td>\n",
       "      <td>MR Benson</td>\n",
       "      <td>SL Shastri</td>\n",
       "    </tr>\n",
       "    <tr>\n",
       "      <th>3</th>\n",
       "      <td>335984.0</td>\n",
       "      <td>2007/08</td>\n",
       "      <td>Delhi</td>\n",
       "      <td>2008-04-19</td>\n",
       "      <td>League</td>\n",
       "      <td>MF Maharoof</td>\n",
       "      <td>Feroz Shah Kotla</td>\n",
       "      <td>Delhi Daredevils</td>\n",
       "      <td>Rajasthan Royals</td>\n",
       "      <td>Rajasthan Royals</td>\n",
       "      <td>bat</td>\n",
       "      <td>Delhi Daredevils</td>\n",
       "      <td>wickets</td>\n",
       "      <td>9.0</td>\n",
       "      <td>130.0</td>\n",
       "      <td>20.0</td>\n",
       "      <td>N</td>\n",
       "      <td>NaN</td>\n",
       "      <td>Aleem Dar</td>\n",
       "      <td>GA Pratapkumar</td>\n",
       "    </tr>\n",
       "    <tr>\n",
       "      <th>4</th>\n",
       "      <td>335985.0</td>\n",
       "      <td>2007/08</td>\n",
       "      <td>Mumbai</td>\n",
       "      <td>2008-04-20</td>\n",
       "      <td>League</td>\n",
       "      <td>MV Boucher</td>\n",
       "      <td>Wankhede Stadium</td>\n",
       "      <td>Mumbai Indians</td>\n",
       "      <td>Royal Challengers Bangalore</td>\n",
       "      <td>Mumbai Indians</td>\n",
       "      <td>bat</td>\n",
       "      <td>Royal Challengers Bangalore</td>\n",
       "      <td>wickets</td>\n",
       "      <td>5.0</td>\n",
       "      <td>166.0</td>\n",
       "      <td>20.0</td>\n",
       "      <td>N</td>\n",
       "      <td>NaN</td>\n",
       "      <td>SJ Davis</td>\n",
       "      <td>DJ Harper</td>\n",
       "    </tr>\n",
       "    <tr>\n",
       "      <th>5</th>\n",
       "      <td>335986.0</td>\n",
       "      <td>2007/08</td>\n",
       "      <td>Kolkata</td>\n",
       "      <td>2008-04-20</td>\n",
       "      <td>League</td>\n",
       "      <td>DJ Hussey</td>\n",
       "      <td>Eden Gardens</td>\n",
       "      <td>Kolkata Knight Riders</td>\n",
       "      <td>Deccan Chargers</td>\n",
       "      <td>Deccan Chargers</td>\n",
       "      <td>bat</td>\n",
       "      <td>Kolkata Knight Riders</td>\n",
       "      <td>wickets</td>\n",
       "      <td>5.0</td>\n",
       "      <td>111.0</td>\n",
       "      <td>20.0</td>\n",
       "      <td>N</td>\n",
       "      <td>NaN</td>\n",
       "      <td>BF Bowden</td>\n",
       "      <td>K Hariharan</td>\n",
       "    </tr>\n",
       "    <tr>\n",
       "      <th>...</th>\n",
       "      <td>...</td>\n",
       "      <td>...</td>\n",
       "      <td>...</td>\n",
       "      <td>...</td>\n",
       "      <td>...</td>\n",
       "      <td>...</td>\n",
       "      <td>...</td>\n",
       "      <td>...</td>\n",
       "      <td>...</td>\n",
       "      <td>...</td>\n",
       "      <td>...</td>\n",
       "      <td>...</td>\n",
       "      <td>...</td>\n",
       "      <td>...</td>\n",
       "      <td>...</td>\n",
       "      <td>...</td>\n",
       "      <td>...</td>\n",
       "      <td>...</td>\n",
       "      <td>...</td>\n",
       "      <td>...</td>\n",
       "    </tr>\n",
       "    <tr>\n",
       "      <th>1090</th>\n",
       "      <td>1426306.0</td>\n",
       "      <td>2024</td>\n",
       "      <td>Bengaluru</td>\n",
       "      <td>2024-05-18</td>\n",
       "      <td>League</td>\n",
       "      <td>F du Plessis</td>\n",
       "      <td>M Chinnaswamy Stadium, Bengaluru</td>\n",
       "      <td>Royal Challengers Bengaluru</td>\n",
       "      <td>Chennai Super Kings</td>\n",
       "      <td>Chennai Super Kings</td>\n",
       "      <td>field</td>\n",
       "      <td>Royal Challengers Bengaluru</td>\n",
       "      <td>runs</td>\n",
       "      <td>27.0</td>\n",
       "      <td>219.0</td>\n",
       "      <td>20.0</td>\n",
       "      <td>N</td>\n",
       "      <td>NaN</td>\n",
       "      <td>A Totre</td>\n",
       "      <td>KN Ananthapadmanabhan</td>\n",
       "    </tr>\n",
       "    <tr>\n",
       "      <th>1091</th>\n",
       "      <td>1426307.0</td>\n",
       "      <td>2024</td>\n",
       "      <td>Hyderabad</td>\n",
       "      <td>2024-05-19</td>\n",
       "      <td>League</td>\n",
       "      <td>Abhishek Sharma</td>\n",
       "      <td>Rajiv Gandhi International Stadium, Uppal, Hyd...</td>\n",
       "      <td>Punjab Kings</td>\n",
       "      <td>Sunrisers Hyderabad</td>\n",
       "      <td>Punjab Kings</td>\n",
       "      <td>bat</td>\n",
       "      <td>Sunrisers Hyderabad</td>\n",
       "      <td>wickets</td>\n",
       "      <td>4.0</td>\n",
       "      <td>215.0</td>\n",
       "      <td>20.0</td>\n",
       "      <td>N</td>\n",
       "      <td>NaN</td>\n",
       "      <td>Nitin Menon</td>\n",
       "      <td>VK Sharma</td>\n",
       "    </tr>\n",
       "    <tr>\n",
       "      <th>1092</th>\n",
       "      <td>1426309.0</td>\n",
       "      <td>2024</td>\n",
       "      <td>Ahmedabad</td>\n",
       "      <td>2024-05-21</td>\n",
       "      <td>Qualifier 1</td>\n",
       "      <td>MA Starc</td>\n",
       "      <td>Narendra Modi Stadium, Ahmedabad</td>\n",
       "      <td>Sunrisers Hyderabad</td>\n",
       "      <td>Kolkata Knight Riders</td>\n",
       "      <td>Sunrisers Hyderabad</td>\n",
       "      <td>bat</td>\n",
       "      <td>Kolkata Knight Riders</td>\n",
       "      <td>wickets</td>\n",
       "      <td>8.0</td>\n",
       "      <td>160.0</td>\n",
       "      <td>20.0</td>\n",
       "      <td>N</td>\n",
       "      <td>NaN</td>\n",
       "      <td>AK Chaudhary</td>\n",
       "      <td>R Pandit</td>\n",
       "    </tr>\n",
       "    <tr>\n",
       "      <th>1093</th>\n",
       "      <td>1426310.0</td>\n",
       "      <td>2024</td>\n",
       "      <td>Ahmedabad</td>\n",
       "      <td>2024-05-22</td>\n",
       "      <td>Eliminator</td>\n",
       "      <td>R Ashwin</td>\n",
       "      <td>Narendra Modi Stadium, Ahmedabad</td>\n",
       "      <td>Royal Challengers Bengaluru</td>\n",
       "      <td>Rajasthan Royals</td>\n",
       "      <td>Rajasthan Royals</td>\n",
       "      <td>field</td>\n",
       "      <td>Rajasthan Royals</td>\n",
       "      <td>wickets</td>\n",
       "      <td>4.0</td>\n",
       "      <td>173.0</td>\n",
       "      <td>20.0</td>\n",
       "      <td>N</td>\n",
       "      <td>NaN</td>\n",
       "      <td>KN Ananthapadmanabhan</td>\n",
       "      <td>MV Saidharshan Kumar</td>\n",
       "    </tr>\n",
       "    <tr>\n",
       "      <th>1094</th>\n",
       "      <td>1426311.0</td>\n",
       "      <td>2024</td>\n",
       "      <td>Chennai</td>\n",
       "      <td>2024-05-24</td>\n",
       "      <td>Qualifier 2</td>\n",
       "      <td>Shahbaz Ahmed</td>\n",
       "      <td>MA Chidambaram Stadium, Chepauk, Chennai</td>\n",
       "      <td>Sunrisers Hyderabad</td>\n",
       "      <td>Rajasthan Royals</td>\n",
       "      <td>Rajasthan Royals</td>\n",
       "      <td>field</td>\n",
       "      <td>Sunrisers Hyderabad</td>\n",
       "      <td>runs</td>\n",
       "      <td>36.0</td>\n",
       "      <td>176.0</td>\n",
       "      <td>20.0</td>\n",
       "      <td>N</td>\n",
       "      <td>NaN</td>\n",
       "      <td>Nitin Menon</td>\n",
       "      <td>VK Sharma</td>\n",
       "    </tr>\n",
       "  </tbody>\n",
       "</table>\n",
       "<p>1094 rows × 20 columns</p>\n",
       "</div>"
      ],
      "text/plain": [
       "             id   season        city        date   match_type  \\\n",
       "1      335982.0  2007/08   Bangalore  2008-04-18       League   \n",
       "2      335983.0  2007/08  Chandigarh  2008-04-19       League   \n",
       "3      335984.0  2007/08       Delhi  2008-04-19       League   \n",
       "4      335985.0  2007/08      Mumbai  2008-04-20       League   \n",
       "5      335986.0  2007/08     Kolkata  2008-04-20       League   \n",
       "...         ...      ...         ...         ...          ...   \n",
       "1090  1426306.0     2024   Bengaluru  2024-05-18       League   \n",
       "1091  1426307.0     2024   Hyderabad  2024-05-19       League   \n",
       "1092  1426309.0     2024   Ahmedabad  2024-05-21  Qualifier 1   \n",
       "1093  1426310.0     2024   Ahmedabad  2024-05-22   Eliminator   \n",
       "1094  1426311.0     2024     Chennai  2024-05-24  Qualifier 2   \n",
       "\n",
       "      player_of_match                                              venue  \\\n",
       "1         BB McCullum                              M Chinnaswamy Stadium   \n",
       "2          MEK Hussey         Punjab Cricket Association Stadium, Mohali   \n",
       "3         MF Maharoof                                   Feroz Shah Kotla   \n",
       "4          MV Boucher                                   Wankhede Stadium   \n",
       "5           DJ Hussey                                       Eden Gardens   \n",
       "...               ...                                                ...   \n",
       "1090     F du Plessis                   M Chinnaswamy Stadium, Bengaluru   \n",
       "1091  Abhishek Sharma  Rajiv Gandhi International Stadium, Uppal, Hyd...   \n",
       "1092         MA Starc                   Narendra Modi Stadium, Ahmedabad   \n",
       "1093         R Ashwin                   Narendra Modi Stadium, Ahmedabad   \n",
       "1094    Shahbaz Ahmed           MA Chidambaram Stadium, Chepauk, Chennai   \n",
       "\n",
       "                            team1                        team2  \\\n",
       "1     Royal Challengers Bangalore        Kolkata Knight Riders   \n",
       "2                 Kings XI Punjab          Chennai Super Kings   \n",
       "3                Delhi Daredevils             Rajasthan Royals   \n",
       "4                  Mumbai Indians  Royal Challengers Bangalore   \n",
       "5           Kolkata Knight Riders              Deccan Chargers   \n",
       "...                           ...                          ...   \n",
       "1090  Royal Challengers Bengaluru          Chennai Super Kings   \n",
       "1091                 Punjab Kings          Sunrisers Hyderabad   \n",
       "1092          Sunrisers Hyderabad        Kolkata Knight Riders   \n",
       "1093  Royal Challengers Bengaluru             Rajasthan Royals   \n",
       "1094          Sunrisers Hyderabad             Rajasthan Royals   \n",
       "\n",
       "                      toss_winner toss_decision                       winner  \\\n",
       "1     Royal Challengers Bangalore         field        Kolkata Knight Riders   \n",
       "2             Chennai Super Kings           bat          Chennai Super Kings   \n",
       "3                Rajasthan Royals           bat             Delhi Daredevils   \n",
       "4                  Mumbai Indians           bat  Royal Challengers Bangalore   \n",
       "5                 Deccan Chargers           bat        Kolkata Knight Riders   \n",
       "...                           ...           ...                          ...   \n",
       "1090          Chennai Super Kings         field  Royal Challengers Bengaluru   \n",
       "1091                 Punjab Kings           bat          Sunrisers Hyderabad   \n",
       "1092          Sunrisers Hyderabad           bat        Kolkata Knight Riders   \n",
       "1093             Rajasthan Royals         field             Rajasthan Royals   \n",
       "1094             Rajasthan Royals         field          Sunrisers Hyderabad   \n",
       "\n",
       "       result  result_margin  target_runs  target_overs super_over method  \\\n",
       "1        runs          140.0        223.0          20.0          N    NaN   \n",
       "2        runs           33.0        241.0          20.0          N    NaN   \n",
       "3     wickets            9.0        130.0          20.0          N    NaN   \n",
       "4     wickets            5.0        166.0          20.0          N    NaN   \n",
       "5     wickets            5.0        111.0          20.0          N    NaN   \n",
       "...       ...            ...          ...           ...        ...    ...   \n",
       "1090     runs           27.0        219.0          20.0          N    NaN   \n",
       "1091  wickets            4.0        215.0          20.0          N    NaN   \n",
       "1092  wickets            8.0        160.0          20.0          N    NaN   \n",
       "1093  wickets            4.0        173.0          20.0          N    NaN   \n",
       "1094     runs           36.0        176.0          20.0          N    NaN   \n",
       "\n",
       "                    umpire1                umpire2  \n",
       "1                 Asad Rauf            RE Koertzen  \n",
       "2                 MR Benson             SL Shastri  \n",
       "3                 Aleem Dar         GA Pratapkumar  \n",
       "4                  SJ Davis              DJ Harper  \n",
       "5                 BF Bowden            K Hariharan  \n",
       "...                     ...                    ...  \n",
       "1090                A Totre  KN Ananthapadmanabhan  \n",
       "1091            Nitin Menon              VK Sharma  \n",
       "1092           AK Chaudhary               R Pandit  \n",
       "1093  KN Ananthapadmanabhan   MV Saidharshan Kumar  \n",
       "1094            Nitin Menon              VK Sharma  \n",
       "\n",
       "[1094 rows x 20 columns]"
      ]
     },
     "execution_count": 12,
     "metadata": {},
     "output_type": "execute_result"
    }
   ],
   "source": [
    "ipl_mat\n"
   ]
  },
  {
   "cell_type": "code",
   "execution_count": 13,
   "id": "398f8f18-83e7-4fb4-817a-10881cc63b14",
   "metadata": {},
   "outputs": [
    {
     "data": {
      "text/html": [
       "<div>\n",
       "<style scoped>\n",
       "    .dataframe tbody tr th:only-of-type {\n",
       "        vertical-align: middle;\n",
       "    }\n",
       "\n",
       "    .dataframe tbody tr th {\n",
       "        vertical-align: top;\n",
       "    }\n",
       "\n",
       "    .dataframe thead th {\n",
       "        text-align: right;\n",
       "    }\n",
       "</style>\n",
       "<table border=\"1\" class=\"dataframe\">\n",
       "  <thead>\n",
       "    <tr style=\"text-align: right;\">\n",
       "      <th></th>\n",
       "      <th>match_id</th>\n",
       "      <th>inning</th>\n",
       "      <th>batting_team</th>\n",
       "      <th>bowling_team</th>\n",
       "      <th>over</th>\n",
       "      <th>ball</th>\n",
       "      <th>batter</th>\n",
       "      <th>bowler</th>\n",
       "      <th>non_striker</th>\n",
       "      <th>batsman_runs</th>\n",
       "      <th>extra_runs</th>\n",
       "      <th>total_runs</th>\n",
       "      <th>extras_type</th>\n",
       "      <th>is_wicket</th>\n",
       "      <th>player_dismissed</th>\n",
       "      <th>dismissal_kind</th>\n",
       "      <th>fielder</th>\n",
       "    </tr>\n",
       "  </thead>\n",
       "  <tbody>\n",
       "    <tr>\n",
       "      <th>1</th>\n",
       "      <td>335982.0</td>\n",
       "      <td>1.0</td>\n",
       "      <td>Kolkata Knight Riders</td>\n",
       "      <td>Royal Challengers Bangalore</td>\n",
       "      <td>0.0</td>\n",
       "      <td>1.0</td>\n",
       "      <td>SC Ganguly</td>\n",
       "      <td>P Kumar</td>\n",
       "      <td>BB McCullum</td>\n",
       "      <td>0.0</td>\n",
       "      <td>1.0</td>\n",
       "      <td>1.0</td>\n",
       "      <td>legbyes</td>\n",
       "      <td>0.0</td>\n",
       "      <td>NaN</td>\n",
       "      <td>NaN</td>\n",
       "      <td>NaN</td>\n",
       "    </tr>\n",
       "    <tr>\n",
       "      <th>2</th>\n",
       "      <td>335982.0</td>\n",
       "      <td>1.0</td>\n",
       "      <td>Kolkata Knight Riders</td>\n",
       "      <td>Royal Challengers Bangalore</td>\n",
       "      <td>0.0</td>\n",
       "      <td>2.0</td>\n",
       "      <td>BB McCullum</td>\n",
       "      <td>P Kumar</td>\n",
       "      <td>SC Ganguly</td>\n",
       "      <td>0.0</td>\n",
       "      <td>0.0</td>\n",
       "      <td>0.0</td>\n",
       "      <td>NaN</td>\n",
       "      <td>0.0</td>\n",
       "      <td>NaN</td>\n",
       "      <td>NaN</td>\n",
       "      <td>NaN</td>\n",
       "    </tr>\n",
       "    <tr>\n",
       "      <th>3</th>\n",
       "      <td>335982.0</td>\n",
       "      <td>1.0</td>\n",
       "      <td>Kolkata Knight Riders</td>\n",
       "      <td>Royal Challengers Bangalore</td>\n",
       "      <td>0.0</td>\n",
       "      <td>3.0</td>\n",
       "      <td>BB McCullum</td>\n",
       "      <td>P Kumar</td>\n",
       "      <td>SC Ganguly</td>\n",
       "      <td>0.0</td>\n",
       "      <td>1.0</td>\n",
       "      <td>1.0</td>\n",
       "      <td>wides</td>\n",
       "      <td>0.0</td>\n",
       "      <td>NaN</td>\n",
       "      <td>NaN</td>\n",
       "      <td>NaN</td>\n",
       "    </tr>\n",
       "    <tr>\n",
       "      <th>4</th>\n",
       "      <td>335982.0</td>\n",
       "      <td>1.0</td>\n",
       "      <td>Kolkata Knight Riders</td>\n",
       "      <td>Royal Challengers Bangalore</td>\n",
       "      <td>0.0</td>\n",
       "      <td>4.0</td>\n",
       "      <td>BB McCullum</td>\n",
       "      <td>P Kumar</td>\n",
       "      <td>SC Ganguly</td>\n",
       "      <td>0.0</td>\n",
       "      <td>0.0</td>\n",
       "      <td>0.0</td>\n",
       "      <td>NaN</td>\n",
       "      <td>0.0</td>\n",
       "      <td>NaN</td>\n",
       "      <td>NaN</td>\n",
       "      <td>NaN</td>\n",
       "    </tr>\n",
       "    <tr>\n",
       "      <th>5</th>\n",
       "      <td>335982.0</td>\n",
       "      <td>1.0</td>\n",
       "      <td>Kolkata Knight Riders</td>\n",
       "      <td>Royal Challengers Bangalore</td>\n",
       "      <td>0.0</td>\n",
       "      <td>5.0</td>\n",
       "      <td>BB McCullum</td>\n",
       "      <td>P Kumar</td>\n",
       "      <td>SC Ganguly</td>\n",
       "      <td>0.0</td>\n",
       "      <td>0.0</td>\n",
       "      <td>0.0</td>\n",
       "      <td>NaN</td>\n",
       "      <td>0.0</td>\n",
       "      <td>NaN</td>\n",
       "      <td>NaN</td>\n",
       "      <td>NaN</td>\n",
       "    </tr>\n",
       "    <tr>\n",
       "      <th>...</th>\n",
       "      <td>...</td>\n",
       "      <td>...</td>\n",
       "      <td>...</td>\n",
       "      <td>...</td>\n",
       "      <td>...</td>\n",
       "      <td>...</td>\n",
       "      <td>...</td>\n",
       "      <td>...</td>\n",
       "      <td>...</td>\n",
       "      <td>...</td>\n",
       "      <td>...</td>\n",
       "      <td>...</td>\n",
       "      <td>...</td>\n",
       "      <td>...</td>\n",
       "      <td>...</td>\n",
       "      <td>...</td>\n",
       "      <td>...</td>\n",
       "    </tr>\n",
       "    <tr>\n",
       "      <th>260915</th>\n",
       "      <td>1426312.0</td>\n",
       "      <td>2.0</td>\n",
       "      <td>Kolkata Knight Riders</td>\n",
       "      <td>Sunrisers Hyderabad</td>\n",
       "      <td>9.0</td>\n",
       "      <td>4.0</td>\n",
       "      <td>VR Iyer</td>\n",
       "      <td>AK Markram</td>\n",
       "      <td>SS Iyer</td>\n",
       "      <td>1.0</td>\n",
       "      <td>0.0</td>\n",
       "      <td>1.0</td>\n",
       "      <td>NaN</td>\n",
       "      <td>0.0</td>\n",
       "      <td>NaN</td>\n",
       "      <td>NaN</td>\n",
       "      <td>NaN</td>\n",
       "    </tr>\n",
       "    <tr>\n",
       "      <th>260916</th>\n",
       "      <td>1426312.0</td>\n",
       "      <td>2.0</td>\n",
       "      <td>Kolkata Knight Riders</td>\n",
       "      <td>Sunrisers Hyderabad</td>\n",
       "      <td>9.0</td>\n",
       "      <td>5.0</td>\n",
       "      <td>SS Iyer</td>\n",
       "      <td>AK Markram</td>\n",
       "      <td>VR Iyer</td>\n",
       "      <td>1.0</td>\n",
       "      <td>0.0</td>\n",
       "      <td>1.0</td>\n",
       "      <td>NaN</td>\n",
       "      <td>0.0</td>\n",
       "      <td>NaN</td>\n",
       "      <td>NaN</td>\n",
       "      <td>NaN</td>\n",
       "    </tr>\n",
       "    <tr>\n",
       "      <th>260917</th>\n",
       "      <td>1426312.0</td>\n",
       "      <td>2.0</td>\n",
       "      <td>Kolkata Knight Riders</td>\n",
       "      <td>Sunrisers Hyderabad</td>\n",
       "      <td>9.0</td>\n",
       "      <td>6.0</td>\n",
       "      <td>VR Iyer</td>\n",
       "      <td>AK Markram</td>\n",
       "      <td>SS Iyer</td>\n",
       "      <td>1.0</td>\n",
       "      <td>0.0</td>\n",
       "      <td>1.0</td>\n",
       "      <td>NaN</td>\n",
       "      <td>0.0</td>\n",
       "      <td>NaN</td>\n",
       "      <td>NaN</td>\n",
       "      <td>NaN</td>\n",
       "    </tr>\n",
       "    <tr>\n",
       "      <th>260918</th>\n",
       "      <td>1426312.0</td>\n",
       "      <td>2.0</td>\n",
       "      <td>Kolkata Knight Riders</td>\n",
       "      <td>Sunrisers Hyderabad</td>\n",
       "      <td>10.0</td>\n",
       "      <td>1.0</td>\n",
       "      <td>VR Iyer</td>\n",
       "      <td>Shahbaz Ahmed</td>\n",
       "      <td>SS Iyer</td>\n",
       "      <td>1.0</td>\n",
       "      <td>0.0</td>\n",
       "      <td>1.0</td>\n",
       "      <td>NaN</td>\n",
       "      <td>0.0</td>\n",
       "      <td>NaN</td>\n",
       "      <td>NaN</td>\n",
       "      <td>NaN</td>\n",
       "    </tr>\n",
       "    <tr>\n",
       "      <th>260919</th>\n",
       "      <td>1426312.0</td>\n",
       "      <td>2.0</td>\n",
       "      <td>Kolkata Knight Riders</td>\n",
       "      <td>Sunrisers Hyderabad</td>\n",
       "      <td>10.0</td>\n",
       "      <td>2.0</td>\n",
       "      <td>SS Iyer</td>\n",
       "      <td>Shahbaz Ahmed</td>\n",
       "      <td>VR Iyer</td>\n",
       "      <td>1.0</td>\n",
       "      <td>0.0</td>\n",
       "      <td>1.0</td>\n",
       "      <td>NaN</td>\n",
       "      <td>0.0</td>\n",
       "      <td>NaN</td>\n",
       "      <td>NaN</td>\n",
       "      <td>NaN</td>\n",
       "    </tr>\n",
       "  </tbody>\n",
       "</table>\n",
       "<p>260919 rows × 17 columns</p>\n",
       "</div>"
      ],
      "text/plain": [
       "         match_id  inning           batting_team                 bowling_team  \\\n",
       "1        335982.0     1.0  Kolkata Knight Riders  Royal Challengers Bangalore   \n",
       "2        335982.0     1.0  Kolkata Knight Riders  Royal Challengers Bangalore   \n",
       "3        335982.0     1.0  Kolkata Knight Riders  Royal Challengers Bangalore   \n",
       "4        335982.0     1.0  Kolkata Knight Riders  Royal Challengers Bangalore   \n",
       "5        335982.0     1.0  Kolkata Knight Riders  Royal Challengers Bangalore   \n",
       "...           ...     ...                    ...                          ...   \n",
       "260915  1426312.0     2.0  Kolkata Knight Riders          Sunrisers Hyderabad   \n",
       "260916  1426312.0     2.0  Kolkata Knight Riders          Sunrisers Hyderabad   \n",
       "260917  1426312.0     2.0  Kolkata Knight Riders          Sunrisers Hyderabad   \n",
       "260918  1426312.0     2.0  Kolkata Knight Riders          Sunrisers Hyderabad   \n",
       "260919  1426312.0     2.0  Kolkata Knight Riders          Sunrisers Hyderabad   \n",
       "\n",
       "        over  ball       batter         bowler  non_striker  batsman_runs  \\\n",
       "1        0.0   1.0   SC Ganguly        P Kumar  BB McCullum           0.0   \n",
       "2        0.0   2.0  BB McCullum        P Kumar   SC Ganguly           0.0   \n",
       "3        0.0   3.0  BB McCullum        P Kumar   SC Ganguly           0.0   \n",
       "4        0.0   4.0  BB McCullum        P Kumar   SC Ganguly           0.0   \n",
       "5        0.0   5.0  BB McCullum        P Kumar   SC Ganguly           0.0   \n",
       "...      ...   ...          ...            ...          ...           ...   \n",
       "260915   9.0   4.0      VR Iyer     AK Markram      SS Iyer           1.0   \n",
       "260916   9.0   5.0      SS Iyer     AK Markram      VR Iyer           1.0   \n",
       "260917   9.0   6.0      VR Iyer     AK Markram      SS Iyer           1.0   \n",
       "260918  10.0   1.0      VR Iyer  Shahbaz Ahmed      SS Iyer           1.0   \n",
       "260919  10.0   2.0      SS Iyer  Shahbaz Ahmed      VR Iyer           1.0   \n",
       "\n",
       "        extra_runs  total_runs extras_type  is_wicket player_dismissed  \\\n",
       "1              1.0         1.0     legbyes        0.0              NaN   \n",
       "2              0.0         0.0         NaN        0.0              NaN   \n",
       "3              1.0         1.0       wides        0.0              NaN   \n",
       "4              0.0         0.0         NaN        0.0              NaN   \n",
       "5              0.0         0.0         NaN        0.0              NaN   \n",
       "...            ...         ...         ...        ...              ...   \n",
       "260915         0.0         1.0         NaN        0.0              NaN   \n",
       "260916         0.0         1.0         NaN        0.0              NaN   \n",
       "260917         0.0         1.0         NaN        0.0              NaN   \n",
       "260918         0.0         1.0         NaN        0.0              NaN   \n",
       "260919         0.0         1.0         NaN        0.0              NaN   \n",
       "\n",
       "       dismissal_kind fielder  \n",
       "1                 NaN     NaN  \n",
       "2                 NaN     NaN  \n",
       "3                 NaN     NaN  \n",
       "4                 NaN     NaN  \n",
       "5                 NaN     NaN  \n",
       "...               ...     ...  \n",
       "260915            NaN     NaN  \n",
       "260916            NaN     NaN  \n",
       "260917            NaN     NaN  \n",
       "260918            NaN     NaN  \n",
       "260919            NaN     NaN  \n",
       "\n",
       "[260919 rows x 17 columns]"
      ]
     },
     "execution_count": 13,
     "metadata": {},
     "output_type": "execute_result"
    }
   ],
   "source": [
    "ipl_del"
   ]
  },
  {
   "cell_type": "code",
   "execution_count": 155,
   "id": "b8d74273-fd0d-417b-b3bd-f9c580ed706b",
   "metadata": {},
   "outputs": [
    {
     "data": {
      "text/plain": [
       "['A Ashish Reddy',\n",
       " 'A Badoni',\n",
       " 'A Chandila',\n",
       " 'A Choudhary',\n",
       " 'A Dananjaya',\n",
       " 'A Flintoff',\n",
       " 'A Kamboj',\n",
       " 'A Kumble',\n",
       " 'A Mishra',\n",
       " 'A Mithun',\n",
       " 'A Nehra',\n",
       " 'A Nel',\n",
       " 'A Nortje',\n",
       " 'A Singh',\n",
       " 'A Symonds',\n",
       " 'A Uniyal',\n",
       " 'A Zampa',\n",
       " 'AA Chavan',\n",
       " 'AA Jhunjhunwala',\n",
       " 'AA Kazi',\n",
       " 'AA Noffke',\n",
       " 'AB Agarkar',\n",
       " 'AB Dinda',\n",
       " 'AB McDonald',\n",
       " 'AC Gilchrist',\n",
       " 'AC Thomas',\n",
       " 'AC Voges',\n",
       " 'AD Mascarenhas',\n",
       " 'AD Mathews',\n",
       " 'AD Russell',\n",
       " 'AF Milne',\n",
       " 'AG Murtaza',\n",
       " 'AJ Finch',\n",
       " 'AJ Hosein',\n",
       " 'AJ Tye',\n",
       " 'AK Markram',\n",
       " 'AL Menaria',\n",
       " 'AM Nayar',\n",
       " 'AM Rahane',\n",
       " 'AM Salvi',\n",
       " 'AN Ahmed',\n",
       " 'AP Dole',\n",
       " 'AR Patel',\n",
       " 'AS Joseph',\n",
       " 'AS Rajpoot',\n",
       " 'AS Raut',\n",
       " 'AS Roy',\n",
       " 'AU Rashid',\n",
       " 'AUK Pathan',\n",
       " 'Abdul Samad',\n",
       " 'Abdur Razzak',\n",
       " 'Abhishek Sharma',\n",
       " 'Akash Deep',\n",
       " 'Akash Madhwal',\n",
       " 'Akash Singh',\n",
       " 'Aman Hakim Khan',\n",
       " 'Anand Rajan',\n",
       " 'Ankit Sharma',\n",
       " 'Ankit Soni',\n",
       " 'Anureet Singh',\n",
       " 'Arjun Tendulkar',\n",
       " 'Arshad Khan',\n",
       " 'Arshad Khan (2)',\n",
       " 'Arshdeep Singh',\n",
       " 'Atharva Taide',\n",
       " 'Avesh Khan',\n",
       " 'Azhar Mahmood',\n",
       " 'Azmatullah Omarzai',\n",
       " 'B Akhil',\n",
       " 'B Chipli',\n",
       " 'B Geeves',\n",
       " 'B Kumar',\n",
       " 'B Laughlin',\n",
       " 'B Lee',\n",
       " 'B Stanlake',\n",
       " 'BA Bhatt',\n",
       " 'BA Stokes',\n",
       " 'BAW Mendis',\n",
       " 'BB Sran',\n",
       " 'BCJ Cutting',\n",
       " 'BE Hendricks',\n",
       " 'BJ Hodge',\n",
       " 'BJ Rohrer',\n",
       " 'BMAJ Mendis',\n",
       " 'BW Hilfenhaus',\n",
       " 'Basil Thampi',\n",
       " 'Bipul Sharma',\n",
       " 'C Ganapathy',\n",
       " 'C Green',\n",
       " 'C Munro',\n",
       " 'C Nanda',\n",
       " 'C Sakariya',\n",
       " 'C de Grandhomme',\n",
       " 'CH Gayle',\n",
       " 'CH Morris',\n",
       " 'CJ Anderson',\n",
       " 'CJ Dala',\n",
       " 'CJ Green',\n",
       " 'CJ Jordan',\n",
       " 'CJ McKay',\n",
       " 'CK Kapugedera',\n",
       " 'CK Langeveldt',\n",
       " 'CL White',\n",
       " 'CR Brathwaite',\n",
       " 'CR Woakes',\n",
       " 'CRD Fernando',\n",
       " 'CV Varun',\n",
       " 'D Brevis',\n",
       " 'D Jansen',\n",
       " 'D Kalyankrishna',\n",
       " 'D Pretorius',\n",
       " 'D Salunkhe',\n",
       " 'D Wiese',\n",
       " 'D du Preez',\n",
       " 'DA Warner',\n",
       " 'DAJ Bracewell',\n",
       " 'DB Ravi Teja',\n",
       " 'DE Bollinger',\n",
       " 'DG Nalkande',\n",
       " 'DJ Bravo',\n",
       " 'DJ Harris',\n",
       " 'DJ Hooda',\n",
       " 'DJ Hussey',\n",
       " 'DJ Mitchell',\n",
       " 'DJ Muthuswami',\n",
       " 'DJ Thornely',\n",
       " 'DJ Willey',\n",
       " 'DJG Sammy',\n",
       " 'DJM Short',\n",
       " 'DL Chahar',\n",
       " 'DL Vettori',\n",
       " 'DNT Zoysa',\n",
       " 'DP Nannes',\n",
       " 'DP Vijaykumar',\n",
       " 'DR Sams',\n",
       " 'DR Smith',\n",
       " 'DS Kulkarni',\n",
       " 'DT Christian',\n",
       " 'DW Steyn',\n",
       " 'F du Plessis',\n",
       " 'FA Allen',\n",
       " 'FH Edwards',\n",
       " 'FY Fazal',\n",
       " 'Fazalhaq Farooqi',\n",
       " 'G Coetzee',\n",
       " 'GB Hogg',\n",
       " 'GC Viljoen',\n",
       " 'GD McGrath',\n",
       " 'GD Phillips',\n",
       " 'GH Vihari',\n",
       " 'GHS Garton',\n",
       " 'GJ Maxwell',\n",
       " 'GR Napier',\n",
       " 'GS Sandhu',\n",
       " 'Gagandeep Singh',\n",
       " 'Gulbadin Naib',\n",
       " 'Gurkeerat Singh',\n",
       " 'Gurnoor Brar',\n",
       " 'H Sharma',\n",
       " 'HF Gurney',\n",
       " 'HH Pandya',\n",
       " 'HR Shokeen',\n",
       " 'HV Patel',\n",
       " 'Harbhajan Singh',\n",
       " 'Harmeet Singh',\n",
       " 'Harpreet Brar',\n",
       " 'Harshit Rana',\n",
       " 'I Malhotra',\n",
       " 'I Sharma',\n",
       " 'I Udana',\n",
       " 'IC Pandey',\n",
       " 'IC Porel',\n",
       " 'IK Pathan',\n",
       " 'IS Sodhi',\n",
       " 'Imran Tahir',\n",
       " 'Iqbal Abdulla',\n",
       " 'J Botha',\n",
       " 'J Little',\n",
       " 'J Suchith',\n",
       " 'J Syed Mohammad',\n",
       " 'J Theron',\n",
       " 'J Yadav',\n",
       " 'JA Morkel',\n",
       " 'JA Richardson',\n",
       " 'JC Archer',\n",
       " 'JD Ryder',\n",
       " 'JD Unadkat',\n",
       " 'JDP Oram',\n",
       " 'JDS Neesham',\n",
       " 'JE Root',\n",
       " 'JE Taylor',\n",
       " 'JEC Franklin',\n",
       " 'JH Kallis',\n",
       " 'JJ Bumrah',\n",
       " 'JJ van der Wath',\n",
       " 'JL Pattinson',\n",
       " 'JM Kemp',\n",
       " 'JO Holder',\n",
       " 'JP Behrendorff',\n",
       " 'JP Duminy',\n",
       " 'JP Faulkner',\n",
       " 'JPR Scantlebury-Searles',\n",
       " 'JR Hazlewood',\n",
       " 'JR Hopes',\n",
       " 'JW Hastings',\n",
       " 'Jalaj S Saxena',\n",
       " 'Jaskaran Singh',\n",
       " 'Joginder Sharma',\n",
       " 'K Goel',\n",
       " 'K Gowtham',\n",
       " 'K Kartikeya',\n",
       " 'K Khejroliya',\n",
       " 'K Rabada',\n",
       " 'K Santokie',\n",
       " 'K Upadhyay',\n",
       " 'K Yadav',\n",
       " 'KA Jamieson',\n",
       " 'KA Maharaj',\n",
       " 'KA Pollard',\n",
       " 'KAJ Roach',\n",
       " 'KC Cariappa',\n",
       " 'KH Pandya',\n",
       " 'KJ Abbott',\n",
       " 'KK Ahmed',\n",
       " 'KK Cooper',\n",
       " 'KL Nagarkoti',\n",
       " 'KM Asif',\n",
       " 'KMA Paul',\n",
       " 'KMDN Kulasekara',\n",
       " 'KP Appanna',\n",
       " 'KP Pietersen',\n",
       " 'KR Mayers',\n",
       " 'KR Sen',\n",
       " 'KS Williamson',\n",
       " 'KT Maphaka',\n",
       " 'KV Sharma',\n",
       " 'KW Richardson',\n",
       " 'Kamran Khan',\n",
       " 'Karanveer Singh',\n",
       " 'Kartik Tyagi',\n",
       " 'Kuldeep Yadav',\n",
       " 'L Ablish',\n",
       " 'L Balaji',\n",
       " 'L Ngidi',\n",
       " 'L Wood',\n",
       " 'LA Carseldine',\n",
       " 'LB Williams',\n",
       " 'LE Plunkett',\n",
       " 'LH Ferguson',\n",
       " 'LI Meriwala',\n",
       " 'LJ Wright',\n",
       " 'LMP Simmons',\n",
       " 'LPC Silva',\n",
       " 'LR Shukla',\n",
       " 'LRPL Taylor',\n",
       " 'LS Livingstone',\n",
       " 'Lalit Yadav',\n",
       " 'M Ashwin',\n",
       " 'M Jansen',\n",
       " 'M Kartik',\n",
       " 'M Manhas',\n",
       " 'M Markande',\n",
       " 'M Morkel',\n",
       " 'M Muralitharan',\n",
       " 'M Ntini',\n",
       " 'M Pathirana',\n",
       " 'M Prasidh Krishna',\n",
       " 'M Shahrukh Khan',\n",
       " 'M Siddharth',\n",
       " 'M Theekshana',\n",
       " 'M Vijay',\n",
       " 'M de Lange',\n",
       " 'MA Khote',\n",
       " 'MA Starc',\n",
       " 'MA Wood',\n",
       " 'MB Parmar',\n",
       " 'MC Henriques',\n",
       " 'MF Maharoof',\n",
       " 'MG Bracewell',\n",
       " 'MG Johnson',\n",
       " 'MG Neser',\n",
       " 'MJ Clarke',\n",
       " 'MJ Henry',\n",
       " 'MJ McClenaghan',\n",
       " 'MJ Santner',\n",
       " 'MJ Suthar',\n",
       " 'MK Lomror',\n",
       " 'MK Tiwary',\n",
       " 'MM Ali',\n",
       " 'MM Patel',\n",
       " 'MM Sharma',\n",
       " 'MN Samuels',\n",
       " 'MP Stoinis',\n",
       " 'MP Yadav',\n",
       " 'MR Marsh',\n",
       " 'MS Gony',\n",
       " 'MW Short',\n",
       " 'Mandeep Singh',\n",
       " 'Mashrafe Mortaza',\n",
       " 'Mayank Dagar',\n",
       " 'Mohammad Asif',\n",
       " 'Mohammad Hafeez',\n",
       " 'Mohammad Nabi',\n",
       " 'Mohammed Shami',\n",
       " 'Mohammed Siraj',\n",
       " 'Mohit Rathee',\n",
       " 'Mohsin Khan',\n",
       " 'Monu Kumar',\n",
       " 'Mujeeb Ur Rahman',\n",
       " 'Mukesh Choudhary',\n",
       " 'Mukesh Kumar',\n",
       " 'Mustafizur Rahman',\n",
       " 'N Burger',\n",
       " 'N Rana',\n",
       " 'N Thushara',\n",
       " 'N Wadhera',\n",
       " 'NA Saini',\n",
       " 'NB Singh',\n",
       " 'ND Doshi',\n",
       " 'NJ Rimmington',\n",
       " 'NL McCullum',\n",
       " 'NLTC Perera',\n",
       " 'NM Coulter-Nile',\n",
       " 'NT Ellis',\n",
       " 'Naman Dhir',\n",
       " 'Navdeep Saini',\n",
       " 'Naveen-ul-Haq',\n",
       " 'Nithish Kumar Reddy',\n",
       " 'Noor Ahmad',\n",
       " 'O Thomas',\n",
       " 'OC McCoy',\n",
       " 'OF Smith',\n",
       " 'P Amarnath',\n",
       " 'P Awana',\n",
       " 'P Dubey',\n",
       " 'P Kumar',\n",
       " 'P Negi',\n",
       " 'P Parameswaran',\n",
       " 'P Prasanth',\n",
       " 'P Ray Barman',\n",
       " 'P Sahu',\n",
       " 'P Suyal',\n",
       " 'PC Valthaty',\n",
       " 'PD Collingwood',\n",
       " 'PH Solanki',\n",
       " 'PJ Cummins',\n",
       " 'PJ Sangwan',\n",
       " 'PM Sarvesh Kumar',\n",
       " 'PP Chawla',\n",
       " 'PP Ojha',\n",
       " 'PV Tambe',\n",
       " 'PVD Chameera',\n",
       " 'PWH de Silva',\n",
       " 'Pankaj Singh',\n",
       " 'Parvez Rasool',\n",
       " 'R Ashwin',\n",
       " 'R Bhatia',\n",
       " 'R Dhawan',\n",
       " 'R Goyal',\n",
       " 'R McLaren',\n",
       " 'R Ninan',\n",
       " 'R Parag',\n",
       " 'R Powell',\n",
       " 'R Rampaul',\n",
       " 'R Ravindra',\n",
       " 'R Sai Kishore',\n",
       " 'R Sanjay Yadav',\n",
       " 'R Sathish',\n",
       " 'R Sharma',\n",
       " 'R Shepherd',\n",
       " 'R Shukla',\n",
       " 'R Tewatia',\n",
       " 'R Vinay Kumar',\n",
       " 'RA Jadeja',\n",
       " 'RA Shaikh',\n",
       " 'RA Tripathi',\n",
       " 'RD Chahar',\n",
       " 'RE van der Merwe',\n",
       " 'RG More',\n",
       " 'RG Sharma',\n",
       " 'RJ Gleeson',\n",
       " 'RJ Harris',\n",
       " 'RJ Peterson',\n",
       " 'RJW Topley',\n",
       " 'RN ten Doeschate',\n",
       " 'RP Meredith',\n",
       " 'RP Singh',\n",
       " 'RR Bhatkal',\n",
       " 'RR Bose',\n",
       " 'RR Powar',\n",
       " 'RR Raje',\n",
       " 'RS Bopara',\n",
       " 'RS Gavaskar',\n",
       " 'RS Hangargekar',\n",
       " 'RV Gomez',\n",
       " 'RV Patel',\n",
       " 'RW Price',\n",
       " 'Ramandeep Singh',\n",
       " 'Rashid Khan',\n",
       " 'Rasikh Salam',\n",
       " 'Ravi Bishnoi',\n",
       " 'S Aravind',\n",
       " 'S Badree',\n",
       " 'S Dhawan',\n",
       " 'S Dube',\n",
       " 'S Gopal',\n",
       " 'S Joseph',\n",
       " 'S Kaul',\n",
       " 'S Kaushik',\n",
       " 'S Ladda',\n",
       " 'S Lamichhane',\n",
       " 'S Midhun',\n",
       " 'S Nadeem',\n",
       " 'S Narwal',\n",
       " 'S Rana',\n",
       " 'S Randiv',\n",
       " 'S Sandeep Warrier',\n",
       " 'S Sreesanth',\n",
       " 'S Sriram',\n",
       " 'S Tyagi',\n",
       " 'S Vidyut',\n",
       " 'SA Abbott',\n",
       " 'SA Yadav',\n",
       " 'SB Bangar',\n",
       " 'SB Jakati',\n",
       " 'SB Joshi',\n",
       " 'SB Styris',\n",
       " 'SB Wagh',\n",
       " 'SC Ganguly',\n",
       " 'SC Kuggeleijn',\n",
       " 'SD Chitnis',\n",
       " 'SE Bond',\n",
       " 'SE Rutherford',\n",
       " 'SH Johnson',\n",
       " 'SJ Srivastava',\n",
       " 'SK Raina',\n",
       " 'SK Trivedi',\n",
       " 'SK Warne',\n",
       " 'SL Malinga',\n",
       " 'SM Boland',\n",
       " 'SM Curran',\n",
       " 'SM Harwood',\n",
       " 'SM Pollock',\n",
       " 'SMSM Senanayake',\n",
       " 'SN Khan',\n",
       " 'SN Thakur',\n",
       " 'SP Narine',\n",
       " 'SPD Smith',\n",
       " 'SR Tendulkar',\n",
       " 'SR Watson',\n",
       " 'SS Agarwal',\n",
       " 'SS Cottrell',\n",
       " 'SS Iyer',\n",
       " 'SS Mundhe',\n",
       " 'SS Sarkar',\n",
       " 'SSB Magala',\n",
       " 'ST Jayasuriya',\n",
       " 'STR Binny',\n",
       " 'SW Tait',\n",
       " 'SZ Mulani',\n",
       " 'Sachin Baby',\n",
       " 'Sandeep Sharma',\n",
       " 'Shahbaz Ahmed',\n",
       " 'Shahid Afridi',\n",
       " 'Shakib Al Hasan',\n",
       " 'Shashank Singh',\n",
       " 'Shivam Mavi',\n",
       " 'Shivam Sharma',\n",
       " 'Shoaib Ahmed',\n",
       " 'Shoaib Akhtar',\n",
       " 'Shoaib Malik',\n",
       " 'Sikandar Raza',\n",
       " 'Simarjeet Singh',\n",
       " 'Sohail Tanvir',\n",
       " 'Sumit Kumar',\n",
       " 'Sunny Gupta',\n",
       " 'Suyash Sharma',\n",
       " 'Swapnil Singh',\n",
       " 'T Henderson',\n",
       " 'T Natarajan',\n",
       " 'T Shamsi',\n",
       " 'T Stubbs',\n",
       " 'T Thushara',\n",
       " 'TA Boult',\n",
       " 'TG Southee',\n",
       " 'TK Curran',\n",
       " 'TL Suman',\n",
       " 'TM Dilshan',\n",
       " 'TM Head',\n",
       " 'TP Sudhindra',\n",
       " 'TS Mills',\n",
       " 'TU Deshpande',\n",
       " 'Tejas Baroka',\n",
       " 'Tilak Varma',\n",
       " 'UT Yadav',\n",
       " 'Umar Gul',\n",
       " 'Umran Malik',\n",
       " 'V Kaverappa',\n",
       " 'V Kohli',\n",
       " 'V Pratap Singh',\n",
       " 'V Sehwag',\n",
       " 'V Shankar',\n",
       " 'V Viyaskanth',\n",
       " 'VG Arora',\n",
       " 'VR Aaron',\n",
       " 'VR Iyer',\n",
       " 'VRV Singh',\n",
       " 'VS Malik',\n",
       " 'VS Yeligati',\n",
       " 'VY Mahesh',\n",
       " 'Vijaykumar Vyshak',\n",
       " 'Vivrant Sharma',\n",
       " 'WA Mota',\n",
       " 'WD Parnell',\n",
       " 'WG Jacks',\n",
       " 'WPUJC Vaas',\n",
       " 'Washington Sundar',\n",
       " 'Y Gnaneswara Rao',\n",
       " 'Y Nagar',\n",
       " 'Y Prithvi Raj',\n",
       " 'Y Venugopal Rao',\n",
       " 'YA Abdulla',\n",
       " 'YBK Jaiswal',\n",
       " 'YK Pathan',\n",
       " 'YS Chahal',\n",
       " 'Yash Dayal',\n",
       " 'Yash Thakur',\n",
       " 'Yudhvir Singh',\n",
       " 'Yuvraj Singh',\n",
       " 'Z Khan']"
      ]
     },
     "execution_count": 155,
     "metadata": {},
     "output_type": "execute_result"
    }
   ],
   "source": [
    "sorted(ipl_del['bowler'].unique())\n"
   ]
  },
  {
   "cell_type": "markdown",
   "id": "a11336c0-53eb-4edd-8dd0-5c0e698e9e8c",
   "metadata": {},
   "source": [
    "### In depth analysis of batsmans performance"
   ]
  },
  {
   "cell_type": "code",
   "execution_count": 164,
   "id": "90150a47-712c-4a81-9e33-5bb4d5c0f151",
   "metadata": {},
   "outputs": [],
   "source": [
    "filt1 = ipl_del['batter']== 'MS Dhoni'\n"
   ]
  },
  {
   "cell_type": "code",
   "execution_count": 165,
   "id": "ed4a22a2-d06f-4ed7-8b9a-276ce8c66c35",
   "metadata": {},
   "outputs": [],
   "source": [
    "df_player = ipl_del[filt1]"
   ]
  },
  {
   "cell_type": "code",
   "execution_count": 166,
   "id": "b412696b-8f13-4c83-9c53-cea929e9653a",
   "metadata": {},
   "outputs": [
    {
     "data": {
      "text/plain": [
       "Index(['match_id', 'inning', 'batting_team', 'bowling_team', 'over', 'ball',\n",
       "       'batter', 'bowler', 'non_striker', 'batsman_runs', 'extra_runs',\n",
       "       'total_runs', 'extras_type', 'is_wicket', 'player_dismissed',\n",
       "       'dismissal_kind', 'fielder'],\n",
       "      dtype='object')"
      ]
     },
     "execution_count": 166,
     "metadata": {},
     "output_type": "execute_result"
    }
   ],
   "source": [
    "df_player.columns"
   ]
  },
  {
   "cell_type": "code",
   "execution_count": 167,
   "id": "7296c58b-a584-4ec6-9d50-0ff31dd6785e",
   "metadata": {},
   "outputs": [
    {
     "data": {
      "text/plain": [
       "dismissal_kind\n",
       "caught               92\n",
       "run out              25\n",
       "bowled               20\n",
       "lbw                   5\n",
       "caught and bowled     4\n",
       "stumped               3\n",
       "Name: count, dtype: int64"
      ]
     },
     "execution_count": 167,
     "metadata": {},
     "output_type": "execute_result"
    }
   ],
   "source": [
    "df_player['dismissal_kind'].value_counts()"
   ]
  },
  {
   "cell_type": "code",
   "execution_count": 168,
   "id": "d1331326-8dce-4b90-bdca-080a6d34dd85",
   "metadata": {},
   "outputs": [
    {
     "data": {
      "text/plain": [
       "batsman_runs\n",
       "1.0    1554\n",
       "0.0    1423\n",
       "4.0     363\n",
       "2.0     340\n",
       "6.0     252\n",
       "3.0      15\n",
       "Name: count, dtype: int64"
      ]
     },
     "execution_count": 168,
     "metadata": {},
     "output_type": "execute_result"
    }
   ],
   "source": [
    "df_player['batsman_runs'].value_counts()"
   ]
  },
  {
   "cell_type": "code",
   "execution_count": 169,
   "id": "cf0b15d3-5aa5-40c4-9a4f-fd167ec5c098",
   "metadata": {},
   "outputs": [
    {
     "data": {
      "text/plain": [
       "[1554, 1423, 363, 340, 252, 15]"
      ]
     },
     "execution_count": 169,
     "metadata": {},
     "output_type": "execute_result"
    }
   ],
   "source": [
    " player_runs = list((df_player['batsman_runs'].value_counts()))\n",
    "player_runs"
   ]
  },
  {
   "cell_type": "code",
   "execution_count": 170,
   "id": "5cf3a005-0d1d-41e0-9645-387529a9a39e",
   "metadata": {},
   "outputs": [
    {
     "data": {
      "text/plain": [
       "[1554, 363, 340, 252, 15]"
      ]
     },
     "execution_count": 170,
     "metadata": {},
     "output_type": "execute_result"
    }
   ],
   "source": [
    " del player_runs[1]\n",
    "player_runs"
   ]
  },
  {
   "cell_type": "code",
   "execution_count": 171,
   "id": "e69128bb-1c3c-48f1-bfad-c08c5c9d2112",
   "metadata": {},
   "outputs": [],
   "source": [
    "runs_type = [1,4,2,6,3]"
   ]
  },
  {
   "cell_type": "code",
   "execution_count": 172,
   "id": "ff0ad349-9084-4cbf-a2d7-4ee01f63bd48",
   "metadata": {},
   "outputs": [
    {
     "name": "stdout",
     "output_type": "stream",
     "text": [
      "[1554, 1452, 680, 1512, 45]\n"
     ]
    }
   ],
   "source": [
    "result = [a * b for a, b in zip(player_runs, runs_type)]\n",
    "print(result)"
   ]
  },
  {
   "cell_type": "code",
   "execution_count": 173,
   "id": "d9703c8f-834e-4a5d-9519-6899264ce135",
   "metadata": {},
   "outputs": [],
   "source": [
    "import plotly.express as spx \n",
    "import plotly.graph_objs as go\n",
    "from plotly.offline import init_notebook_mode,plot,iplot"
   ]
  },
  {
   "cell_type": "code",
   "execution_count": 174,
   "id": "bf9df9f1-2c38-46d4-bba0-22a16231bcbd",
   "metadata": {},
   "outputs": [],
   "source": [
    "values = result\n",
    "labels = runs_type"
   ]
  },
  {
   "cell_type": "code",
   "execution_count": 130,
   "id": "46c73a7c-5b1d-4388-b8b2-b6c16e4b5007",
   "metadata": {},
   "outputs": [
    {
     "data": {
      "application/vnd.plotly.v1+json": {
       "config": {
        "plotlyServerURL": "https://plot.ly"
       },
       "data": [
        {
         "hole": 0.2,
         "labels": [
          1,
          4,
          2,
          6,
          3
         ],
         "type": "pie",
         "values": [
          2591,
          2832,
          890,
          1638,
          63
         ]
        }
       ],
       "layout": {
        "autosize": true,
        "template": {
         "data": {
          "bar": [
           {
            "error_x": {
             "color": "#2a3f5f"
            },
            "error_y": {
             "color": "#2a3f5f"
            },
            "marker": {
             "line": {
              "color": "#E5ECF6",
              "width": 0.5
             },
             "pattern": {
              "fillmode": "overlay",
              "size": 10,
              "solidity": 0.2
             }
            },
            "type": "bar"
           }
          ],
          "barpolar": [
           {
            "marker": {
             "line": {
              "color": "#E5ECF6",
              "width": 0.5
             },
             "pattern": {
              "fillmode": "overlay",
              "size": 10,
              "solidity": 0.2
             }
            },
            "type": "barpolar"
           }
          ],
          "carpet": [
           {
            "aaxis": {
             "endlinecolor": "#2a3f5f",
             "gridcolor": "white",
             "linecolor": "white",
             "minorgridcolor": "white",
             "startlinecolor": "#2a3f5f"
            },
            "baxis": {
             "endlinecolor": "#2a3f5f",
             "gridcolor": "white",
             "linecolor": "white",
             "minorgridcolor": "white",
             "startlinecolor": "#2a3f5f"
            },
            "type": "carpet"
           }
          ],
          "choropleth": [
           {
            "colorbar": {
             "outlinewidth": 0,
             "ticks": ""
            },
            "type": "choropleth"
           }
          ],
          "contour": [
           {
            "colorbar": {
             "outlinewidth": 0,
             "ticks": ""
            },
            "colorscale": [
             [
              0,
              "#0d0887"
             ],
             [
              0.1111111111111111,
              "#46039f"
             ],
             [
              0.2222222222222222,
              "#7201a8"
             ],
             [
              0.3333333333333333,
              "#9c179e"
             ],
             [
              0.4444444444444444,
              "#bd3786"
             ],
             [
              0.5555555555555556,
              "#d8576b"
             ],
             [
              0.6666666666666666,
              "#ed7953"
             ],
             [
              0.7777777777777778,
              "#fb9f3a"
             ],
             [
              0.8888888888888888,
              "#fdca26"
             ],
             [
              1,
              "#f0f921"
             ]
            ],
            "type": "contour"
           }
          ],
          "contourcarpet": [
           {
            "colorbar": {
             "outlinewidth": 0,
             "ticks": ""
            },
            "type": "contourcarpet"
           }
          ],
          "heatmap": [
           {
            "colorbar": {
             "outlinewidth": 0,
             "ticks": ""
            },
            "colorscale": [
             [
              0,
              "#0d0887"
             ],
             [
              0.1111111111111111,
              "#46039f"
             ],
             [
              0.2222222222222222,
              "#7201a8"
             ],
             [
              0.3333333333333333,
              "#9c179e"
             ],
             [
              0.4444444444444444,
              "#bd3786"
             ],
             [
              0.5555555555555556,
              "#d8576b"
             ],
             [
              0.6666666666666666,
              "#ed7953"
             ],
             [
              0.7777777777777778,
              "#fb9f3a"
             ],
             [
              0.8888888888888888,
              "#fdca26"
             ],
             [
              1,
              "#f0f921"
             ]
            ],
            "type": "heatmap"
           }
          ],
          "heatmapgl": [
           {
            "colorbar": {
             "outlinewidth": 0,
             "ticks": ""
            },
            "colorscale": [
             [
              0,
              "#0d0887"
             ],
             [
              0.1111111111111111,
              "#46039f"
             ],
             [
              0.2222222222222222,
              "#7201a8"
             ],
             [
              0.3333333333333333,
              "#9c179e"
             ],
             [
              0.4444444444444444,
              "#bd3786"
             ],
             [
              0.5555555555555556,
              "#d8576b"
             ],
             [
              0.6666666666666666,
              "#ed7953"
             ],
             [
              0.7777777777777778,
              "#fb9f3a"
             ],
             [
              0.8888888888888888,
              "#fdca26"
             ],
             [
              1,
              "#f0f921"
             ]
            ],
            "type": "heatmapgl"
           }
          ],
          "histogram": [
           {
            "marker": {
             "pattern": {
              "fillmode": "overlay",
              "size": 10,
              "solidity": 0.2
             }
            },
            "type": "histogram"
           }
          ],
          "histogram2d": [
           {
            "colorbar": {
             "outlinewidth": 0,
             "ticks": ""
            },
            "colorscale": [
             [
              0,
              "#0d0887"
             ],
             [
              0.1111111111111111,
              "#46039f"
             ],
             [
              0.2222222222222222,
              "#7201a8"
             ],
             [
              0.3333333333333333,
              "#9c179e"
             ],
             [
              0.4444444444444444,
              "#bd3786"
             ],
             [
              0.5555555555555556,
              "#d8576b"
             ],
             [
              0.6666666666666666,
              "#ed7953"
             ],
             [
              0.7777777777777778,
              "#fb9f3a"
             ],
             [
              0.8888888888888888,
              "#fdca26"
             ],
             [
              1,
              "#f0f921"
             ]
            ],
            "type": "histogram2d"
           }
          ],
          "histogram2dcontour": [
           {
            "colorbar": {
             "outlinewidth": 0,
             "ticks": ""
            },
            "colorscale": [
             [
              0,
              "#0d0887"
             ],
             [
              0.1111111111111111,
              "#46039f"
             ],
             [
              0.2222222222222222,
              "#7201a8"
             ],
             [
              0.3333333333333333,
              "#9c179e"
             ],
             [
              0.4444444444444444,
              "#bd3786"
             ],
             [
              0.5555555555555556,
              "#d8576b"
             ],
             [
              0.6666666666666666,
              "#ed7953"
             ],
             [
              0.7777777777777778,
              "#fb9f3a"
             ],
             [
              0.8888888888888888,
              "#fdca26"
             ],
             [
              1,
              "#f0f921"
             ]
            ],
            "type": "histogram2dcontour"
           }
          ],
          "mesh3d": [
           {
            "colorbar": {
             "outlinewidth": 0,
             "ticks": ""
            },
            "type": "mesh3d"
           }
          ],
          "parcoords": [
           {
            "line": {
             "colorbar": {
              "outlinewidth": 0,
              "ticks": ""
             }
            },
            "type": "parcoords"
           }
          ],
          "pie": [
           {
            "automargin": true,
            "type": "pie"
           }
          ],
          "scatter": [
           {
            "fillpattern": {
             "fillmode": "overlay",
             "size": 10,
             "solidity": 0.2
            },
            "type": "scatter"
           }
          ],
          "scatter3d": [
           {
            "line": {
             "colorbar": {
              "outlinewidth": 0,
              "ticks": ""
             }
            },
            "marker": {
             "colorbar": {
              "outlinewidth": 0,
              "ticks": ""
             }
            },
            "type": "scatter3d"
           }
          ],
          "scattercarpet": [
           {
            "marker": {
             "colorbar": {
              "outlinewidth": 0,
              "ticks": ""
             }
            },
            "type": "scattercarpet"
           }
          ],
          "scattergeo": [
           {
            "marker": {
             "colorbar": {
              "outlinewidth": 0,
              "ticks": ""
             }
            },
            "type": "scattergeo"
           }
          ],
          "scattergl": [
           {
            "marker": {
             "colorbar": {
              "outlinewidth": 0,
              "ticks": ""
             }
            },
            "type": "scattergl"
           }
          ],
          "scattermapbox": [
           {
            "marker": {
             "colorbar": {
              "outlinewidth": 0,
              "ticks": ""
             }
            },
            "type": "scattermapbox"
           }
          ],
          "scatterpolar": [
           {
            "marker": {
             "colorbar": {
              "outlinewidth": 0,
              "ticks": ""
             }
            },
            "type": "scatterpolar"
           }
          ],
          "scatterpolargl": [
           {
            "marker": {
             "colorbar": {
              "outlinewidth": 0,
              "ticks": ""
             }
            },
            "type": "scatterpolargl"
           }
          ],
          "scatterternary": [
           {
            "marker": {
             "colorbar": {
              "outlinewidth": 0,
              "ticks": ""
             }
            },
            "type": "scatterternary"
           }
          ],
          "surface": [
           {
            "colorbar": {
             "outlinewidth": 0,
             "ticks": ""
            },
            "colorscale": [
             [
              0,
              "#0d0887"
             ],
             [
              0.1111111111111111,
              "#46039f"
             ],
             [
              0.2222222222222222,
              "#7201a8"
             ],
             [
              0.3333333333333333,
              "#9c179e"
             ],
             [
              0.4444444444444444,
              "#bd3786"
             ],
             [
              0.5555555555555556,
              "#d8576b"
             ],
             [
              0.6666666666666666,
              "#ed7953"
             ],
             [
              0.7777777777777778,
              "#fb9f3a"
             ],
             [
              0.8888888888888888,
              "#fdca26"
             ],
             [
              1,
              "#f0f921"
             ]
            ],
            "type": "surface"
           }
          ],
          "table": [
           {
            "cells": {
             "fill": {
              "color": "#EBF0F8"
             },
             "line": {
              "color": "white"
             }
            },
            "header": {
             "fill": {
              "color": "#C8D4E3"
             },
             "line": {
              "color": "white"
             }
            },
            "type": "table"
           }
          ]
         },
         "layout": {
          "annotationdefaults": {
           "arrowcolor": "#2a3f5f",
           "arrowhead": 0,
           "arrowwidth": 1
          },
          "autotypenumbers": "strict",
          "coloraxis": {
           "colorbar": {
            "outlinewidth": 0,
            "ticks": ""
           }
          },
          "colorscale": {
           "diverging": [
            [
             0,
             "#8e0152"
            ],
            [
             0.1,
             "#c51b7d"
            ],
            [
             0.2,
             "#de77ae"
            ],
            [
             0.3,
             "#f1b6da"
            ],
            [
             0.4,
             "#fde0ef"
            ],
            [
             0.5,
             "#f7f7f7"
            ],
            [
             0.6,
             "#e6f5d0"
            ],
            [
             0.7,
             "#b8e186"
            ],
            [
             0.8,
             "#7fbc41"
            ],
            [
             0.9,
             "#4d9221"
            ],
            [
             1,
             "#276419"
            ]
           ],
           "sequential": [
            [
             0,
             "#0d0887"
            ],
            [
             0.1111111111111111,
             "#46039f"
            ],
            [
             0.2222222222222222,
             "#7201a8"
            ],
            [
             0.3333333333333333,
             "#9c179e"
            ],
            [
             0.4444444444444444,
             "#bd3786"
            ],
            [
             0.5555555555555556,
             "#d8576b"
            ],
            [
             0.6666666666666666,
             "#ed7953"
            ],
            [
             0.7777777777777778,
             "#fb9f3a"
            ],
            [
             0.8888888888888888,
             "#fdca26"
            ],
            [
             1,
             "#f0f921"
            ]
           ],
           "sequentialminus": [
            [
             0,
             "#0d0887"
            ],
            [
             0.1111111111111111,
             "#46039f"
            ],
            [
             0.2222222222222222,
             "#7201a8"
            ],
            [
             0.3333333333333333,
             "#9c179e"
            ],
            [
             0.4444444444444444,
             "#bd3786"
            ],
            [
             0.5555555555555556,
             "#d8576b"
            ],
            [
             0.6666666666666666,
             "#ed7953"
            ],
            [
             0.7777777777777778,
             "#fb9f3a"
            ],
            [
             0.8888888888888888,
             "#fdca26"
            ],
            [
             1,
             "#f0f921"
            ]
           ]
          },
          "colorway": [
           "#636efa",
           "#EF553B",
           "#00cc96",
           "#ab63fa",
           "#FFA15A",
           "#19d3f3",
           "#FF6692",
           "#B6E880",
           "#FF97FF",
           "#FECB52"
          ],
          "font": {
           "color": "#2a3f5f"
          },
          "geo": {
           "bgcolor": "white",
           "lakecolor": "white",
           "landcolor": "#E5ECF6",
           "showlakes": true,
           "showland": true,
           "subunitcolor": "white"
          },
          "hoverlabel": {
           "align": "left"
          },
          "hovermode": "closest",
          "mapbox": {
           "style": "light"
          },
          "paper_bgcolor": "white",
          "plot_bgcolor": "#E5ECF6",
          "polar": {
           "angularaxis": {
            "gridcolor": "white",
            "linecolor": "white",
            "ticks": ""
           },
           "bgcolor": "#E5ECF6",
           "radialaxis": {
            "gridcolor": "white",
            "linecolor": "white",
            "ticks": ""
           }
          },
          "scene": {
           "xaxis": {
            "backgroundcolor": "#E5ECF6",
            "gridcolor": "white",
            "gridwidth": 2,
            "linecolor": "white",
            "showbackground": true,
            "ticks": "",
            "zerolinecolor": "white"
           },
           "yaxis": {
            "backgroundcolor": "#E5ECF6",
            "gridcolor": "white",
            "gridwidth": 2,
            "linecolor": "white",
            "showbackground": true,
            "ticks": "",
            "zerolinecolor": "white"
           },
           "zaxis": {
            "backgroundcolor": "#E5ECF6",
            "gridcolor": "white",
            "gridwidth": 2,
            "linecolor": "white",
            "showbackground": true,
            "ticks": "",
            "zerolinecolor": "white"
           }
          },
          "shapedefaults": {
           "line": {
            "color": "#2a3f5f"
           }
          },
          "ternary": {
           "aaxis": {
            "gridcolor": "white",
            "linecolor": "white",
            "ticks": ""
           },
           "baxis": {
            "gridcolor": "white",
            "linecolor": "white",
            "ticks": ""
           },
           "bgcolor": "#E5ECF6",
           "caxis": {
            "gridcolor": "white",
            "linecolor": "white",
            "ticks": ""
           }
          },
          "title": {
           "x": 0.05
          },
          "xaxis": {
           "automargin": true,
           "gridcolor": "white",
           "linecolor": "white",
           "ticks": "",
           "title": {
            "standoff": 15
           },
           "zerolinecolor": "white",
           "zerolinewidth": 2
          },
          "yaxis": {
           "automargin": true,
           "gridcolor": "white",
           "linecolor": "white",
           "ticks": "",
           "title": {
            "standoff": 15
           },
           "zerolinecolor": "white",
           "zerolinewidth": 2
          }
         }
        }
       }
      },
      "image/png": "[encoded data removed]",
      "text/html": [
       "<div>                            <div id=\"e4b17903-1e5a-4ebb-a2aa-b76e3bddc226\" class=\"plotly-graph-div\" style=\"height:525px; width:100%;\"></div>            <script type=\"text/javascript\">                require([\"plotly\"], function(Plotly) {                    window.PLOTLYENV=window.PLOTLYENV || {};                                    if (document.getElementById(\"e4b17903-1e5a-4ebb-a2aa-b76e3bddc226\")) {                    Plotly.newPlot(                        \"e4b17903-1e5a-4ebb-a2aa-b76e3bddc226\",                        [{\"hole\":0.2,\"labels\":[1,4,2,6,3],\"values\":[2591,2832,890,1638,63],\"type\":\"pie\"}],                        {\"template\":{\"data\":{\"histogram2dcontour\":[{\"type\":\"histogram2dcontour\",\"colorbar\":{\"outlinewidth\":0,\"ticks\":\"\"},\"colorscale\":[[0.0,\"#0d0887\"],[0.1111111111111111,\"#46039f\"],[0.2222222222222222,\"#7201a8\"],[0.3333333333333333,\"#9c179e\"],[0.4444444444444444,\"#bd3786\"],[0.5555555555555556,\"#d8576b\"],[0.6666666666666666,\"#ed7953\"],[0.7777777777777778,\"#fb9f3a\"],[0.8888888888888888,\"#fdca26\"],[1.0,\"#f0f921\"]]}],\"choropleth\":[{\"type\":\"choropleth\",\"colorbar\":{\"outlinewidth\":0,\"ticks\":\"\"}}],\"histogram2d\":[{\"type\":\"histogram2d\",\"colorbar\":{\"outlinewidth\":0,\"ticks\":\"\"},\"colorscale\":[[0.0,\"#0d0887\"],[0.1111111111111111,\"#46039f\"],[0.2222222222222222,\"#7201a8\"],[0.3333333333333333,\"#9c179e\"],[0.4444444444444444,\"#bd3786\"],[0.5555555555555556,\"#d8576b\"],[0.6666666666666666,\"#ed7953\"],[0.7777777777777778,\"#fb9f3a\"],[0.8888888888888888,\"#fdca26\"],[1.0,\"#f0f921\"]]}],\"heatmap\":[{\"type\":\"heatmap\",\"colorbar\":{\"outlinewidth\":0,\"ticks\":\"\"},\"colorscale\":[[0.0,\"#0d0887\"],[0.1111111111111111,\"#46039f\"],[0.2222222222222222,\"#7201a8\"],[0.3333333333333333,\"#9c179e\"],[0.4444444444444444,\"#bd3786\"],[0.5555555555555556,\"#d8576b\"],[0.6666666666666666,\"#ed7953\"],[0.7777777777777778,\"#fb9f3a\"],[0.8888888888888888,\"#fdca26\"],[1.0,\"#f0f921\"]]}],\"heatmapgl\":[{\"type\":\"heatmapgl\",\"colorbar\":{\"outlinewidth\":0,\"ticks\":\"\"},\"colorscale\":[[0.0,\"#0d0887\"],[0.1111111111111111,\"#46039f\"],[0.2222222222222222,\"#7201a8\"],[0.3333333333333333,\"#9c179e\"],[0.4444444444444444,\"#bd3786\"],[0.5555555555555556,\"#d8576b\"],[0.6666666666666666,\"#ed7953\"],[0.7777777777777778,\"#fb9f3a\"],[0.8888888888888888,\"#fdca26\"],[1.0,\"#f0f921\"]]}],\"contourcarpet\":[{\"type\":\"contourcarpet\",\"colorbar\":{\"outlinewidth\":0,\"ticks\":\"\"}}],\"contour\":[{\"type\":\"contour\",\"colorbar\":{\"outlinewidth\":0,\"ticks\":\"\"},\"colorscale\":[[0.0,\"#0d0887\"],[0.1111111111111111,\"#46039f\"],[0.2222222222222222,\"#7201a8\"],[0.3333333333333333,\"#9c179e\"],[0.4444444444444444,\"#bd3786\"],[0.5555555555555556,\"#d8576b\"],[0.6666666666666666,\"#ed7953\"],[0.7777777777777778,\"#fb9f3a\"],[0.8888888888888888,\"#fdca26\"],[1.0,\"#f0f921\"]]}],\"surface\":[{\"type\":\"surface\",\"colorbar\":{\"outlinewidth\":0,\"ticks\":\"\"},\"colorscale\":[[0.0,\"#0d0887\"],[0.1111111111111111,\"#46039f\"],[0.2222222222222222,\"#7201a8\"],[0.3333333333333333,\"#9c179e\"],[0.4444444444444444,\"#bd3786\"],[0.5555555555555556,\"#d8576b\"],[0.6666666666666666,\"#ed7953\"],[0.7777777777777778,\"#fb9f3a\"],[0.8888888888888888,\"#fdca26\"],[1.0,\"#f0f921\"]]}],\"mesh3d\":[{\"type\":\"mesh3d\",\"colorbar\":{\"outlinewidth\":0,\"ticks\":\"\"}}],\"scatter\":[{\"fillpattern\":{\"fillmode\":\"overlay\",\"size\":10,\"solidity\":0.2},\"type\":\"scatter\"}],\"parcoords\":[{\"type\":\"parcoords\",\"line\":{\"colorbar\":{\"outlinewidth\":0,\"ticks\":\"\"}}}],\"scatterpolargl\":[{\"type\":\"scatterpolargl\",\"marker\":{\"colorbar\":{\"outlinewidth\":0,\"ticks\":\"\"}}}],\"bar\":[{\"error_x\":{\"color\":\"#2a3f5f\"},\"error_y\":{\"color\":\"#2a3f5f\"},\"marker\":{\"line\":{\"color\":\"#E5ECF6\",\"width\":0.5},\"pattern\":{\"fillmode\":\"overlay\",\"size\":10,\"solidity\":0.2}},\"type\":\"bar\"}],\"scattergeo\":[{\"type\":\"scattergeo\",\"marker\":{\"colorbar\":{\"outlinewidth\":0,\"ticks\":\"\"}}}],\"scatterpolar\":[{\"type\":\"scatterpolar\",\"marker\":{\"colorbar\":{\"outlinewidth\":0,\"ticks\":\"\"}}}],\"histogram\":[{\"marker\":{\"pattern\":{\"fillmode\":\"overlay\",\"size\":10,\"solidity\":0.2}},\"type\":\"histogram\"}],\"scattergl\":[{\"type\":\"scattergl\",\"marker\":{\"colorbar\":{\"outlinewidth\":0,\"ticks\":\"\"}}}],\"scatter3d\":[{\"type\":\"scatter3d\",\"line\":{\"colorbar\":{\"outlinewidth\":0,\"ticks\":\"\"}},\"marker\":{\"colorbar\":{\"outlinewidth\":0,\"ticks\":\"\"}}}],\"scattermapbox\":[{\"type\":\"scattermapbox\",\"marker\":{\"colorbar\":{\"outlinewidth\":0,\"ticks\":\"\"}}}],\"scatterternary\":[{\"type\":\"scatterternary\",\"marker\":{\"colorbar\":{\"outlinewidth\":0,\"ticks\":\"\"}}}],\"scattercarpet\":[{\"type\":\"scattercarpet\",\"marker\":{\"colorbar\":{\"outlinewidth\":0,\"ticks\":\"\"}}}],\"carpet\":[{\"aaxis\":{\"endlinecolor\":\"#2a3f5f\",\"gridcolor\":\"white\",\"linecolor\":\"white\",\"minorgridcolor\":\"white\",\"startlinecolor\":\"#2a3f5f\"},\"baxis\":{\"endlinecolor\":\"#2a3f5f\",\"gridcolor\":\"white\",\"linecolor\":\"white\",\"minorgridcolor\":\"white\",\"startlinecolor\":\"#2a3f5f\"},\"type\":\"carpet\"}],\"table\":[{\"cells\":{\"fill\":{\"color\":\"#EBF0F8\"},\"line\":{\"color\":\"white\"}},\"header\":{\"fill\":{\"color\":\"#C8D4E3\"},\"line\":{\"color\":\"white\"}},\"type\":\"table\"}],\"barpolar\":[{\"marker\":{\"line\":{\"color\":\"#E5ECF6\",\"width\":0.5},\"pattern\":{\"fillmode\":\"overlay\",\"size\":10,\"solidity\":0.2}},\"type\":\"barpolar\"}],\"pie\":[{\"automargin\":true,\"type\":\"pie\"}]},\"layout\":{\"autotypenumbers\":\"strict\",\"colorway\":[\"#636efa\",\"#EF553B\",\"#00cc96\",\"#ab63fa\",\"#FFA15A\",\"#19d3f3\",\"#FF6692\",\"#B6E880\",\"#FF97FF\",\"#FECB52\"],\"font\":{\"color\":\"#2a3f5f\"},\"hovermode\":\"closest\",\"hoverlabel\":{\"align\":\"left\"},\"paper_bgcolor\":\"white\",\"plot_bgcolor\":\"#E5ECF6\",\"polar\":{\"bgcolor\":\"#E5ECF6\",\"angularaxis\":{\"gridcolor\":\"white\",\"linecolor\":\"white\",\"ticks\":\"\"},\"radialaxis\":{\"gridcolor\":\"white\",\"linecolor\":\"white\",\"ticks\":\"\"}},\"ternary\":{\"bgcolor\":\"#E5ECF6\",\"aaxis\":{\"gridcolor\":\"white\",\"linecolor\":\"white\",\"ticks\":\"\"},\"baxis\":{\"gridcolor\":\"white\",\"linecolor\":\"white\",\"ticks\":\"\"},\"caxis\":{\"gridcolor\":\"white\",\"linecolor\":\"white\",\"ticks\":\"\"}},\"coloraxis\":{\"colorbar\":{\"outlinewidth\":0,\"ticks\":\"\"}},\"colorscale\":{\"sequential\":[[0.0,\"#0d0887\"],[0.1111111111111111,\"#46039f\"],[0.2222222222222222,\"#7201a8\"],[0.3333333333333333,\"#9c179e\"],[0.4444444444444444,\"#bd3786\"],[0.5555555555555556,\"#d8576b\"],[0.6666666666666666,\"#ed7953\"],[0.7777777777777778,\"#fb9f3a\"],[0.8888888888888888,\"#fdca26\"],[1.0,\"#f0f921\"]],\"sequentialminus\":[[0.0,\"#0d0887\"],[0.1111111111111111,\"#46039f\"],[0.2222222222222222,\"#7201a8\"],[0.3333333333333333,\"#9c179e\"],[0.4444444444444444,\"#bd3786\"],[0.5555555555555556,\"#d8576b\"],[0.6666666666666666,\"#ed7953\"],[0.7777777777777778,\"#fb9f3a\"],[0.8888888888888888,\"#fdca26\"],[1.0,\"#f0f921\"]],\"diverging\":[[0,\"#8e0152\"],[0.1,\"#c51b7d\"],[0.2,\"#de77ae\"],[0.3,\"#f1b6da\"],[0.4,\"#fde0ef\"],[0.5,\"#f7f7f7\"],[0.6,\"#e6f5d0\"],[0.7,\"#b8e186\"],[0.8,\"#7fbc41\"],[0.9,\"#4d9221\"],[1,\"#276419\"]]},\"xaxis\":{\"gridcolor\":\"white\",\"linecolor\":\"white\",\"ticks\":\"\",\"title\":{\"standoff\":15},\"zerolinecolor\":\"white\",\"automargin\":true,\"zerolinewidth\":2},\"yaxis\":{\"gridcolor\":\"white\",\"linecolor\":\"white\",\"ticks\":\"\",\"title\":{\"standoff\":15},\"zerolinecolor\":\"white\",\"automargin\":true,\"zerolinewidth\":2},\"scene\":{\"xaxis\":{\"backgroundcolor\":\"#E5ECF6\",\"gridcolor\":\"white\",\"linecolor\":\"white\",\"showbackground\":true,\"ticks\":\"\",\"zerolinecolor\":\"white\",\"gridwidth\":2},\"yaxis\":{\"backgroundcolor\":\"#E5ECF6\",\"gridcolor\":\"white\",\"linecolor\":\"white\",\"showbackground\":true,\"ticks\":\"\",\"zerolinecolor\":\"white\",\"gridwidth\":2},\"zaxis\":{\"backgroundcolor\":\"#E5ECF6\",\"gridcolor\":\"white\",\"linecolor\":\"white\",\"showbackground\":true,\"ticks\":\"\",\"zerolinecolor\":\"white\",\"gridwidth\":2}},\"shapedefaults\":{\"line\":{\"color\":\"#2a3f5f\"}},\"annotationdefaults\":{\"arrowcolor\":\"#2a3f5f\",\"arrowhead\":0,\"arrowwidth\":1},\"geo\":{\"bgcolor\":\"white\",\"landcolor\":\"#E5ECF6\",\"subunitcolor\":\"white\",\"showland\":true,\"showlakes\":true,\"lakecolor\":\"white\"},\"title\":{\"x\":0.05},\"mapbox\":{\"style\":\"light\"}}}},                        {\"responsive\": true}                    ).then(function(){\n",
       "                            \n",
       "var gd = document.getElementById('e4b17903-1e5a-4ebb-a2aa-b76e3bddc226');\n",
       "var x = new MutationObserver(function (mutations, observer) {{\n",
       "        var display = window.getComputedStyle(gd).display;\n",
       "        if (!display || display === 'none') {{\n",
       "            console.log([gd, 'removed!']);\n",
       "            Plotly.purge(gd);\n",
       "            observer.disconnect();\n",
       "        }}\n",
       "}});\n",
       "\n",
       "// Listen for the removal of the full notebook cells\n",
       "var notebookContainer = gd.closest('#notebook-container');\n",
       "if (notebookContainer) {{\n",
       "    x.observe(notebookContainer, {childList: true});\n",
       "}}\n",
       "\n",
       "// Listen for the clearing of the current output cell\n",
       "var outputEl = gd.closest('.output');\n",
       "if (outputEl) {{\n",
       "    x.observe(outputEl, {childList: true});\n",
       "}}\n",
       "\n",
       "                        })                };                });            </script>        </div>"
      ]
     },
     "metadata": {},
     "output_type": "display_data"
    }
   ],
   "source": [
    "trace = go.Pie(labels = labels, values = values, hole = 0.2)\n",
    "data = [trace]\n",
    "fig = go.Figure(data=data)\n",
    "\n",
    "fig.show()"
   ]
  },
  {
   "cell_type": "code",
   "execution_count": 486,
   "id": "7c031629-377b-4679-a3c0-896d02dc8d0e",
   "metadata": {},
   "outputs": [
    {
     "name": "stdout",
     "output_type": "stream",
     "text": [
      "Total runs scored by V Kohli: 8014\n"
     ]
    }
   ],
   "source": [
    "def runs_analysis(name, df):\n",
    "    batter_data = df[df['batter'] == name]\n",
    "    total_runs = batter_data['batsman_runs'].sum()\n",
    "    return int(total_runs)\n",
    "\n",
    "batter_name = 'V Kohli'\n",
    "total_runs_scored = runs_analysis(batter_name, ipl_del)\n",
    "print(f'Total runs scored by {batter_name}: {total_runs_scored}')\n"
   ]
  },
  {
   "cell_type": "code",
   "execution_count": 156,
   "id": "f3b67a41-945f-486f-ab63-06c0aa186b7e",
   "metadata": {},
   "outputs": [
    {
     "name": "stdout",
     "output_type": "stream",
     "text": [
      "Total Wickets taken by GJ Maxwell: 41\n"
     ]
    }
   ],
   "source": [
    "def wickets_analysis(name,df):\n",
    "    bowler_data = df[df['bowler']== name]\n",
    "    total_wickets = bowler_data['is_wicket'].sum()\n",
    "    return int(total_wickets)\n",
    "\n",
    "bowler_name = 'GJ Maxwell'\n",
    "total_wickets_taken = wickets_analysis(bowler_name,ipl_del)\n",
    "print(f'Total Wickets taken by {bowler_name}: {total_wickets_taken}')"
   ]
  },
  {
   "cell_type": "markdown",
   "id": "e7bc7dad-e0a7-4074-afbe-188cd508e41c",
   "metadata": {},
   "source": [
    "### Toss Analysis"
   ]
  },
  {
   "cell_type": "code",
   "execution_count": 353,
   "id": "d2a79877-2b6e-49b8-a039-89af4b26019b",
   "metadata": {},
   "outputs": [
    {
     "data": {
      "text/plain": [
       "season   toss_decision\n",
       "2007/08  bat              26\n",
       "         field            32\n",
       "2009     bat              35\n",
       "         field            22\n",
       "2009/10  bat              39\n",
       "         field            21\n",
       "2011     bat              25\n",
       "         field            48\n",
       "2012     bat              37\n",
       "         field            37\n",
       "2013     bat              45\n",
       "         field            31\n",
       "2014     bat              19\n",
       "         field            41\n",
       "2015     bat              25\n",
       "         field            34\n",
       "2016     bat              11\n",
       "         field            49\n",
       "2017     bat              11\n",
       "         field            48\n",
       "2018     bat              10\n",
       "         field            50\n",
       "2019     bat              10\n",
       "         field            50\n",
       "2020/21  bat              27\n",
       "         field            33\n",
       "2021     bat              16\n",
       "         field            44\n",
       "2022     bat              15\n",
       "         field            59\n",
       "2023     bat              21\n",
       "         field            53\n",
       "2024     bat              18\n",
       "         field            52\n",
       "dtype: int64"
      ]
     },
     "execution_count": 353,
     "metadata": {},
     "output_type": "execute_result"
    }
   ],
   "source": [
    "season_toss = (ipl_mat.groupby(['season','toss_decision']).size())\n",
    "season_toss\n"
   ]
  },
  {
   "cell_type": "code",
   "execution_count": 366,
   "id": "1c81aee0-a718-4560-aa1c-3be77175e357",
   "metadata": {},
   "outputs": [
    {
     "data": {
      "text/html": [
       "<div>\n",
       "<style scoped>\n",
       "    .dataframe tbody tr th:only-of-type {\n",
       "        vertical-align: middle;\n",
       "    }\n",
       "\n",
       "    .dataframe tbody tr th {\n",
       "        vertical-align: top;\n",
       "    }\n",
       "\n",
       "    .dataframe thead th {\n",
       "        text-align: right;\n",
       "    }\n",
       "</style>\n",
       "<table border=\"1\" class=\"dataframe\">\n",
       "  <thead>\n",
       "    <tr style=\"text-align: right;\">\n",
       "      <th></th>\n",
       "      <th>season</th>\n",
       "      <th>toss_decision</th>\n",
       "      <th>count</th>\n",
       "    </tr>\n",
       "  </thead>\n",
       "  <tbody>\n",
       "    <tr>\n",
       "      <th>0</th>\n",
       "      <td>2007/08</td>\n",
       "      <td>bat</td>\n",
       "      <td>26</td>\n",
       "    </tr>\n",
       "    <tr>\n",
       "      <th>1</th>\n",
       "      <td>2007/08</td>\n",
       "      <td>field</td>\n",
       "      <td>32</td>\n",
       "    </tr>\n",
       "    <tr>\n",
       "      <th>2</th>\n",
       "      <td>2009</td>\n",
       "      <td>bat</td>\n",
       "      <td>35</td>\n",
       "    </tr>\n",
       "    <tr>\n",
       "      <th>3</th>\n",
       "      <td>2009</td>\n",
       "      <td>field</td>\n",
       "      <td>22</td>\n",
       "    </tr>\n",
       "    <tr>\n",
       "      <th>4</th>\n",
       "      <td>2009/10</td>\n",
       "      <td>bat</td>\n",
       "      <td>39</td>\n",
       "    </tr>\n",
       "    <tr>\n",
       "      <th>5</th>\n",
       "      <td>2009/10</td>\n",
       "      <td>field</td>\n",
       "      <td>21</td>\n",
       "    </tr>\n",
       "    <tr>\n",
       "      <th>6</th>\n",
       "      <td>2011</td>\n",
       "      <td>bat</td>\n",
       "      <td>25</td>\n",
       "    </tr>\n",
       "    <tr>\n",
       "      <th>7</th>\n",
       "      <td>2011</td>\n",
       "      <td>field</td>\n",
       "      <td>48</td>\n",
       "    </tr>\n",
       "    <tr>\n",
       "      <th>8</th>\n",
       "      <td>2012</td>\n",
       "      <td>bat</td>\n",
       "      <td>37</td>\n",
       "    </tr>\n",
       "    <tr>\n",
       "      <th>9</th>\n",
       "      <td>2012</td>\n",
       "      <td>field</td>\n",
       "      <td>37</td>\n",
       "    </tr>\n",
       "    <tr>\n",
       "      <th>10</th>\n",
       "      <td>2013</td>\n",
       "      <td>bat</td>\n",
       "      <td>45</td>\n",
       "    </tr>\n",
       "    <tr>\n",
       "      <th>11</th>\n",
       "      <td>2013</td>\n",
       "      <td>field</td>\n",
       "      <td>31</td>\n",
       "    </tr>\n",
       "    <tr>\n",
       "      <th>12</th>\n",
       "      <td>2014</td>\n",
       "      <td>bat</td>\n",
       "      <td>19</td>\n",
       "    </tr>\n",
       "    <tr>\n",
       "      <th>13</th>\n",
       "      <td>2014</td>\n",
       "      <td>field</td>\n",
       "      <td>41</td>\n",
       "    </tr>\n",
       "    <tr>\n",
       "      <th>14</th>\n",
       "      <td>2015</td>\n",
       "      <td>bat</td>\n",
       "      <td>25</td>\n",
       "    </tr>\n",
       "    <tr>\n",
       "      <th>15</th>\n",
       "      <td>2015</td>\n",
       "      <td>field</td>\n",
       "      <td>34</td>\n",
       "    </tr>\n",
       "    <tr>\n",
       "      <th>16</th>\n",
       "      <td>2016</td>\n",
       "      <td>bat</td>\n",
       "      <td>11</td>\n",
       "    </tr>\n",
       "    <tr>\n",
       "      <th>17</th>\n",
       "      <td>2016</td>\n",
       "      <td>field</td>\n",
       "      <td>49</td>\n",
       "    </tr>\n",
       "    <tr>\n",
       "      <th>18</th>\n",
       "      <td>2017</td>\n",
       "      <td>bat</td>\n",
       "      <td>11</td>\n",
       "    </tr>\n",
       "    <tr>\n",
       "      <th>19</th>\n",
       "      <td>2017</td>\n",
       "      <td>field</td>\n",
       "      <td>48</td>\n",
       "    </tr>\n",
       "    <tr>\n",
       "      <th>20</th>\n",
       "      <td>2018</td>\n",
       "      <td>bat</td>\n",
       "      <td>10</td>\n",
       "    </tr>\n",
       "    <tr>\n",
       "      <th>21</th>\n",
       "      <td>2018</td>\n",
       "      <td>field</td>\n",
       "      <td>50</td>\n",
       "    </tr>\n",
       "    <tr>\n",
       "      <th>22</th>\n",
       "      <td>2019</td>\n",
       "      <td>bat</td>\n",
       "      <td>10</td>\n",
       "    </tr>\n",
       "    <tr>\n",
       "      <th>23</th>\n",
       "      <td>2019</td>\n",
       "      <td>field</td>\n",
       "      <td>50</td>\n",
       "    </tr>\n",
       "    <tr>\n",
       "      <th>24</th>\n",
       "      <td>2020/21</td>\n",
       "      <td>bat</td>\n",
       "      <td>27</td>\n",
       "    </tr>\n",
       "    <tr>\n",
       "      <th>25</th>\n",
       "      <td>2020/21</td>\n",
       "      <td>field</td>\n",
       "      <td>33</td>\n",
       "    </tr>\n",
       "    <tr>\n",
       "      <th>26</th>\n",
       "      <td>2021</td>\n",
       "      <td>bat</td>\n",
       "      <td>16</td>\n",
       "    </tr>\n",
       "    <tr>\n",
       "      <th>27</th>\n",
       "      <td>2021</td>\n",
       "      <td>field</td>\n",
       "      <td>44</td>\n",
       "    </tr>\n",
       "    <tr>\n",
       "      <th>28</th>\n",
       "      <td>2022</td>\n",
       "      <td>bat</td>\n",
       "      <td>15</td>\n",
       "    </tr>\n",
       "    <tr>\n",
       "      <th>29</th>\n",
       "      <td>2022</td>\n",
       "      <td>field</td>\n",
       "      <td>59</td>\n",
       "    </tr>\n",
       "    <tr>\n",
       "      <th>30</th>\n",
       "      <td>2023</td>\n",
       "      <td>bat</td>\n",
       "      <td>21</td>\n",
       "    </tr>\n",
       "    <tr>\n",
       "      <th>31</th>\n",
       "      <td>2023</td>\n",
       "      <td>field</td>\n",
       "      <td>53</td>\n",
       "    </tr>\n",
       "    <tr>\n",
       "      <th>32</th>\n",
       "      <td>2024</td>\n",
       "      <td>bat</td>\n",
       "      <td>18</td>\n",
       "    </tr>\n",
       "    <tr>\n",
       "      <th>33</th>\n",
       "      <td>2024</td>\n",
       "      <td>field</td>\n",
       "      <td>52</td>\n",
       "    </tr>\n",
       "  </tbody>\n",
       "</table>\n",
       "</div>"
      ],
      "text/plain": [
       "     season toss_decision  count\n",
       "0   2007/08           bat     26\n",
       "1   2007/08         field     32\n",
       "2      2009           bat     35\n",
       "3      2009         field     22\n",
       "4   2009/10           bat     39\n",
       "5   2009/10         field     21\n",
       "6      2011           bat     25\n",
       "7      2011         field     48\n",
       "8      2012           bat     37\n",
       "9      2012         field     37\n",
       "10     2013           bat     45\n",
       "11     2013         field     31\n",
       "12     2014           bat     19\n",
       "13     2014         field     41\n",
       "14     2015           bat     25\n",
       "15     2015         field     34\n",
       "16     2016           bat     11\n",
       "17     2016         field     49\n",
       "18     2017           bat     11\n",
       "19     2017         field     48\n",
       "20     2018           bat     10\n",
       "21     2018         field     50\n",
       "22     2019           bat     10\n",
       "23     2019         field     50\n",
       "24  2020/21           bat     27\n",
       "25  2020/21         field     33\n",
       "26     2021           bat     16\n",
       "27     2021         field     44\n",
       "28     2022           bat     15\n",
       "29     2022         field     59\n",
       "30     2023           bat     21\n",
       "31     2023         field     53\n",
       "32     2024           bat     18\n",
       "33     2024         field     52"
      ]
     },
     "execution_count": 366,
     "metadata": {},
     "output_type": "execute_result"
    }
   ],
   "source": [
    "toss_analysis = season_toss.reset_index().rename(columns = ({0: \"count\"}))\n",
    "toss_analysis"
   ]
  },
  {
   "cell_type": "code",
   "execution_count": 367,
   "id": "c29ed28f-bbb9-4b78-9b00-0fa0f4669a00",
   "metadata": {},
   "outputs": [],
   "source": [
    "toss_analysis['count'] = toss_analysis['count'].astype(int)"
   ]
  },
  {
   "cell_type": "code",
   "execution_count": 368,
   "id": "8f6c50a4-05ab-47f9-b114-825155b18d48",
   "metadata": {},
   "outputs": [
    {
     "data": {
      "text/html": [
       "<div>\n",
       "<style scoped>\n",
       "    .dataframe tbody tr th:only-of-type {\n",
       "        vertical-align: middle;\n",
       "    }\n",
       "\n",
       "    .dataframe tbody tr th {\n",
       "        vertical-align: top;\n",
       "    }\n",
       "\n",
       "    .dataframe thead th {\n",
       "        text-align: right;\n",
       "    }\n",
       "</style>\n",
       "<table border=\"1\" class=\"dataframe\">\n",
       "  <thead>\n",
       "    <tr style=\"text-align: right;\">\n",
       "      <th></th>\n",
       "      <th>season</th>\n",
       "      <th>toss_decision</th>\n",
       "      <th>count</th>\n",
       "    </tr>\n",
       "  </thead>\n",
       "  <tbody>\n",
       "    <tr>\n",
       "      <th>0</th>\n",
       "      <td>2007/08</td>\n",
       "      <td>bat</td>\n",
       "      <td>26</td>\n",
       "    </tr>\n",
       "    <tr>\n",
       "      <th>1</th>\n",
       "      <td>2007/08</td>\n",
       "      <td>field</td>\n",
       "      <td>32</td>\n",
       "    </tr>\n",
       "    <tr>\n",
       "      <th>2</th>\n",
       "      <td>2009</td>\n",
       "      <td>bat</td>\n",
       "      <td>35</td>\n",
       "    </tr>\n",
       "    <tr>\n",
       "      <th>3</th>\n",
       "      <td>2009</td>\n",
       "      <td>field</td>\n",
       "      <td>22</td>\n",
       "    </tr>\n",
       "    <tr>\n",
       "      <th>4</th>\n",
       "      <td>2009/10</td>\n",
       "      <td>bat</td>\n",
       "      <td>39</td>\n",
       "    </tr>\n",
       "    <tr>\n",
       "      <th>5</th>\n",
       "      <td>2009/10</td>\n",
       "      <td>field</td>\n",
       "      <td>21</td>\n",
       "    </tr>\n",
       "    <tr>\n",
       "      <th>6</th>\n",
       "      <td>2011</td>\n",
       "      <td>bat</td>\n",
       "      <td>25</td>\n",
       "    </tr>\n",
       "    <tr>\n",
       "      <th>7</th>\n",
       "      <td>2011</td>\n",
       "      <td>field</td>\n",
       "      <td>48</td>\n",
       "    </tr>\n",
       "    <tr>\n",
       "      <th>8</th>\n",
       "      <td>2012</td>\n",
       "      <td>bat</td>\n",
       "      <td>37</td>\n",
       "    </tr>\n",
       "    <tr>\n",
       "      <th>9</th>\n",
       "      <td>2012</td>\n",
       "      <td>field</td>\n",
       "      <td>37</td>\n",
       "    </tr>\n",
       "    <tr>\n",
       "      <th>10</th>\n",
       "      <td>2013</td>\n",
       "      <td>bat</td>\n",
       "      <td>45</td>\n",
       "    </tr>\n",
       "    <tr>\n",
       "      <th>11</th>\n",
       "      <td>2013</td>\n",
       "      <td>field</td>\n",
       "      <td>31</td>\n",
       "    </tr>\n",
       "    <tr>\n",
       "      <th>12</th>\n",
       "      <td>2014</td>\n",
       "      <td>bat</td>\n",
       "      <td>19</td>\n",
       "    </tr>\n",
       "    <tr>\n",
       "      <th>13</th>\n",
       "      <td>2014</td>\n",
       "      <td>field</td>\n",
       "      <td>41</td>\n",
       "    </tr>\n",
       "    <tr>\n",
       "      <th>14</th>\n",
       "      <td>2015</td>\n",
       "      <td>bat</td>\n",
       "      <td>25</td>\n",
       "    </tr>\n",
       "    <tr>\n",
       "      <th>15</th>\n",
       "      <td>2015</td>\n",
       "      <td>field</td>\n",
       "      <td>34</td>\n",
       "    </tr>\n",
       "    <tr>\n",
       "      <th>16</th>\n",
       "      <td>2016</td>\n",
       "      <td>bat</td>\n",
       "      <td>11</td>\n",
       "    </tr>\n",
       "    <tr>\n",
       "      <th>17</th>\n",
       "      <td>2016</td>\n",
       "      <td>field</td>\n",
       "      <td>49</td>\n",
       "    </tr>\n",
       "    <tr>\n",
       "      <th>18</th>\n",
       "      <td>2017</td>\n",
       "      <td>bat</td>\n",
       "      <td>11</td>\n",
       "    </tr>\n",
       "    <tr>\n",
       "      <th>19</th>\n",
       "      <td>2017</td>\n",
       "      <td>field</td>\n",
       "      <td>48</td>\n",
       "    </tr>\n",
       "    <tr>\n",
       "      <th>20</th>\n",
       "      <td>2018</td>\n",
       "      <td>bat</td>\n",
       "      <td>10</td>\n",
       "    </tr>\n",
       "    <tr>\n",
       "      <th>21</th>\n",
       "      <td>2018</td>\n",
       "      <td>field</td>\n",
       "      <td>50</td>\n",
       "    </tr>\n",
       "    <tr>\n",
       "      <th>22</th>\n",
       "      <td>2019</td>\n",
       "      <td>bat</td>\n",
       "      <td>10</td>\n",
       "    </tr>\n",
       "    <tr>\n",
       "      <th>23</th>\n",
       "      <td>2019</td>\n",
       "      <td>field</td>\n",
       "      <td>50</td>\n",
       "    </tr>\n",
       "    <tr>\n",
       "      <th>24</th>\n",
       "      <td>2020/21</td>\n",
       "      <td>bat</td>\n",
       "      <td>27</td>\n",
       "    </tr>\n",
       "    <tr>\n",
       "      <th>25</th>\n",
       "      <td>2020/21</td>\n",
       "      <td>field</td>\n",
       "      <td>33</td>\n",
       "    </tr>\n",
       "    <tr>\n",
       "      <th>26</th>\n",
       "      <td>2021</td>\n",
       "      <td>bat</td>\n",
       "      <td>16</td>\n",
       "    </tr>\n",
       "    <tr>\n",
       "      <th>27</th>\n",
       "      <td>2021</td>\n",
       "      <td>field</td>\n",
       "      <td>44</td>\n",
       "    </tr>\n",
       "    <tr>\n",
       "      <th>28</th>\n",
       "      <td>2022</td>\n",
       "      <td>bat</td>\n",
       "      <td>15</td>\n",
       "    </tr>\n",
       "    <tr>\n",
       "      <th>29</th>\n",
       "      <td>2022</td>\n",
       "      <td>field</td>\n",
       "      <td>59</td>\n",
       "    </tr>\n",
       "    <tr>\n",
       "      <th>30</th>\n",
       "      <td>2023</td>\n",
       "      <td>bat</td>\n",
       "      <td>21</td>\n",
       "    </tr>\n",
       "    <tr>\n",
       "      <th>31</th>\n",
       "      <td>2023</td>\n",
       "      <td>field</td>\n",
       "      <td>53</td>\n",
       "    </tr>\n",
       "    <tr>\n",
       "      <th>32</th>\n",
       "      <td>2024</td>\n",
       "      <td>bat</td>\n",
       "      <td>18</td>\n",
       "    </tr>\n",
       "    <tr>\n",
       "      <th>33</th>\n",
       "      <td>2024</td>\n",
       "      <td>field</td>\n",
       "      <td>52</td>\n",
       "    </tr>\n",
       "  </tbody>\n",
       "</table>\n",
       "</div>"
      ],
      "text/plain": [
       "     season toss_decision  count\n",
       "0   2007/08           bat     26\n",
       "1   2007/08         field     32\n",
       "2      2009           bat     35\n",
       "3      2009         field     22\n",
       "4   2009/10           bat     39\n",
       "5   2009/10         field     21\n",
       "6      2011           bat     25\n",
       "7      2011         field     48\n",
       "8      2012           bat     37\n",
       "9      2012         field     37\n",
       "10     2013           bat     45\n",
       "11     2013         field     31\n",
       "12     2014           bat     19\n",
       "13     2014         field     41\n",
       "14     2015           bat     25\n",
       "15     2015         field     34\n",
       "16     2016           bat     11\n",
       "17     2016         field     49\n",
       "18     2017           bat     11\n",
       "19     2017         field     48\n",
       "20     2018           bat     10\n",
       "21     2018         field     50\n",
       "22     2019           bat     10\n",
       "23     2019         field     50\n",
       "24  2020/21           bat     27\n",
       "25  2020/21         field     33\n",
       "26     2021           bat     16\n",
       "27     2021         field     44\n",
       "28     2022           bat     15\n",
       "29     2022         field     59\n",
       "30     2023           bat     21\n",
       "31     2023         field     53\n",
       "32     2024           bat     18\n",
       "33     2024         field     52"
      ]
     },
     "execution_count": 368,
     "metadata": {},
     "output_type": "execute_result"
    }
   ],
   "source": [
    "toss_analysis"
   ]
  },
  {
   "cell_type": "code",
   "execution_count": 369,
   "id": "424f6aeb-0d8d-4142-9194-7009c90083c2",
   "metadata": {},
   "outputs": [
    {
     "data": {
      "text/plain": [
       "<Axes: xlabel='season', ylabel='count'>"
      ]
     },
     "execution_count": 369,
     "metadata": {},
     "output_type": "execute_result"
    },
    {
     "data": {
      "image/png": "[encoded data removed]",
      "text/plain": [
       "<Figure size 1200x1200 with 1 Axes>"
      ]
     },
     "metadata": {},
     "output_type": "display_data"
    }
   ],
   "source": [
    "\n",
    "import matplotlib.pyplot as plt\n",
    "plt.figure(figsize=(12,12))\n",
    "sns.barplot(x='season', y= 'count', hue = 'toss_decision', data = toss_analysis,width=0.8,)"
   ]
  },
  {
   "cell_type": "markdown",
   "id": "13916b38-0cf4-4b3c-ab3c-7278e8e558a7",
   "metadata": {},
   "source": [
    "### Establishing the relation between winning toss and winning games"
   ]
  },
  {
   "cell_type": "code",
   "execution_count": 385,
   "id": "53b65dc7-1d2c-48b3-9c69-0b3cbe0df3ac",
   "metadata": {},
   "outputs": [],
   "source": [
    "win_mat = ipl_mat[['toss_winner', 'winner']]\n",
    "win_mat"
   ]
  },
  {
   "cell_type": "code",
   "execution_count": 407,
   "id": "76c20a93-3296-451f-8e00-6fe4f4fe36c3",
   "metadata": {},
   "outputs": [
    {
     "data": {
      "text/plain": [
       "1       0\n",
       "2       1\n",
       "3       0\n",
       "4       0\n",
       "5       0\n",
       "       ..\n",
       "1090    0\n",
       "1091    0\n",
       "1092    0\n",
       "1093    1\n",
       "1094    0\n",
       "Length: 1094, dtype: int64"
      ]
     },
     "execution_count": 407,
     "metadata": {},
     "output_type": "execute_result"
    }
   ],
   "source": [
    "mat_count = win_mat['toss_winner'] ==  win_mat['winner']\n",
    "mat_count =  mat_count.astype(int)\n",
    "mat_count\n"
   ]
  },
  {
   "cell_type": "code",
   "execution_count": 410,
   "id": "fbf5646c-60ac-4517-9822-70e8bc4922c0",
   "metadata": {},
   "outputs": [
    {
     "data": {
      "text/plain": [
       "1    554\n",
       "0    540\n",
       "Name: count, dtype: int64"
      ]
     },
     "execution_count": 410,
     "metadata": {},
     "output_type": "execute_result"
    }
   ],
   "source": [
    "win_count = mat_count.value_counts()\n",
    "win_count"
   ]
  },
  {
   "cell_type": "code",
   "execution_count": 413,
   "id": "59c3bc63-2447-46a3-a933-a3dcc451e03d",
   "metadata": {},
   "outputs": [],
   "source": [
    "values = win_count\n",
    "labels = \"% of teams won toss and won match\", \"% of teams lost toss and won match\""
   ]
  },
  {
   "cell_type": "code",
   "execution_count": 419,
   "id": "4d2a3d66-91b8-436c-b51f-252f2b9ba0fe",
   "metadata": {},
   "outputs": [
    {
     "data": {
      "application/vnd.plotly.v1+json": {
       "config": {
        "plotlyServerURL": "https://plot.ly"
       },
       "data": [
        {
         "hole": 0.2,
         "labels": [
          "% of teams won toss and won match",
          "% of teams lost toss and won match"
         ],
         "type": "pie",
         "values": [
          554,
          540
         ]
        }
       ],
       "layout": {
        "autosize": true,
        "template": {
         "data": {
          "bar": [
           {
            "error_x": {
             "color": "#2a3f5f"
            },
            "error_y": {
             "color": "#2a3f5f"
            },
            "marker": {
             "line": {
              "color": "#E5ECF6",
              "width": 0.5
             },
             "pattern": {
              "fillmode": "overlay",
              "size": 10,
              "solidity": 0.2
             }
            },
            "type": "bar"
           }
          ],
          "barpolar": [
           {
            "marker": {
             "line": {
              "color": "#E5ECF6",
              "width": 0.5
             },
             "pattern": {
              "fillmode": "overlay",
              "size": 10,
              "solidity": 0.2
             }
            },
            "type": "barpolar"
           }
          ],
          "carpet": [
           {
            "aaxis": {
             "endlinecolor": "#2a3f5f",
             "gridcolor": "white",
             "linecolor": "white",
             "minorgridcolor": "white",
             "startlinecolor": "#2a3f5f"
            },
            "baxis": {
             "endlinecolor": "#2a3f5f",
             "gridcolor": "white",
             "linecolor": "white",
             "minorgridcolor": "white",
             "startlinecolor": "#2a3f5f"
            },
            "type": "carpet"
           }
          ],
          "choropleth": [
           {
            "colorbar": {
             "outlinewidth": 0,
             "ticks": ""
            },
            "type": "choropleth"
           }
          ],
          "contour": [
           {
            "colorbar": {
             "outlinewidth": 0,
             "ticks": ""
            },
            "colorscale": [
             [
              0,
              "#0d0887"
             ],
             [
              0.1111111111111111,
              "#46039f"
             ],
             [
              0.2222222222222222,
              "#7201a8"
             ],
             [
              0.3333333333333333,
              "#9c179e"
             ],
             [
              0.4444444444444444,
              "#bd3786"
             ],
             [
              0.5555555555555556,
              "#d8576b"
             ],
             [
              0.6666666666666666,
              "#ed7953"
             ],
             [
              0.7777777777777778,
              "#fb9f3a"
             ],
             [
              0.8888888888888888,
              "#fdca26"
             ],
             [
              1,
              "#f0f921"
             ]
            ],
            "type": "contour"
           }
          ],
          "contourcarpet": [
           {
            "colorbar": {
             "outlinewidth": 0,
             "ticks": ""
            },
            "type": "contourcarpet"
           }
          ],
          "heatmap": [
           {
            "colorbar": {
             "outlinewidth": 0,
             "ticks": ""
            },
            "colorscale": [
             [
              0,
              "#0d0887"
             ],
             [
              0.1111111111111111,
              "#46039f"
             ],
             [
              0.2222222222222222,
              "#7201a8"
             ],
             [
              0.3333333333333333,
              "#9c179e"
             ],
             [
              0.4444444444444444,
              "#bd3786"
             ],
             [
              0.5555555555555556,
              "#d8576b"
             ],
             [
              0.6666666666666666,
              "#ed7953"
             ],
             [
              0.7777777777777778,
              "#fb9f3a"
             ],
             [
              0.8888888888888888,
              "#fdca26"
             ],
             [
              1,
              "#f0f921"
             ]
            ],
            "type": "heatmap"
           }
          ],
          "heatmapgl": [
           {
            "colorbar": {
             "outlinewidth": 0,
             "ticks": ""
            },
            "colorscale": [
             [
              0,
              "#0d0887"
             ],
             [
              0.1111111111111111,
              "#46039f"
             ],
             [
              0.2222222222222222,
              "#7201a8"
             ],
             [
              0.3333333333333333,
              "#9c179e"
             ],
             [
              0.4444444444444444,
              "#bd3786"
             ],
             [
              0.5555555555555556,
              "#d8576b"
             ],
             [
              0.6666666666666666,
              "#ed7953"
             ],
             [
              0.7777777777777778,
              "#fb9f3a"
             ],
             [
              0.8888888888888888,
              "#fdca26"
             ],
             [
              1,
              "#f0f921"
             ]
            ],
            "type": "heatmapgl"
           }
          ],
          "histogram": [
           {
            "marker": {
             "pattern": {
              "fillmode": "overlay",
              "size": 10,
              "solidity": 0.2
             }
            },
            "type": "histogram"
           }
          ],
          "histogram2d": [
           {
            "colorbar": {
             "outlinewidth": 0,
             "ticks": ""
            },
            "colorscale": [
             [
              0,
              "#0d0887"
             ],
             [
              0.1111111111111111,
              "#46039f"
             ],
             [
              0.2222222222222222,
              "#7201a8"
             ],
             [
              0.3333333333333333,
              "#9c179e"
             ],
             [
              0.4444444444444444,
              "#bd3786"
             ],
             [
              0.5555555555555556,
              "#d8576b"
             ],
             [
              0.6666666666666666,
              "#ed7953"
             ],
             [
              0.7777777777777778,
              "#fb9f3a"
             ],
             [
              0.8888888888888888,
              "#fdca26"
             ],
             [
              1,
              "#f0f921"
             ]
            ],
            "type": "histogram2d"
           }
          ],
          "histogram2dcontour": [
           {
            "colorbar": {
             "outlinewidth": 0,
             "ticks": ""
            },
            "colorscale": [
             [
              0,
              "#0d0887"
             ],
             [
              0.1111111111111111,
              "#46039f"
             ],
             [
              0.2222222222222222,
              "#7201a8"
             ],
             [
              0.3333333333333333,
              "#9c179e"
             ],
             [
              0.4444444444444444,
              "#bd3786"
             ],
             [
              0.5555555555555556,
              "#d8576b"
             ],
             [
              0.6666666666666666,
              "#ed7953"
             ],
             [
              0.7777777777777778,
              "#fb9f3a"
             ],
             [
              0.8888888888888888,
              "#fdca26"
             ],
             [
              1,
              "#f0f921"
             ]
            ],
            "type": "histogram2dcontour"
           }
          ],
          "mesh3d": [
           {
            "colorbar": {
             "outlinewidth": 0,
             "ticks": ""
            },
            "type": "mesh3d"
           }
          ],
          "parcoords": [
           {
            "line": {
             "colorbar": {
              "outlinewidth": 0,
              "ticks": ""
             }
            },
            "type": "parcoords"
           }
          ],
          "pie": [
           {
            "automargin": true,
            "type": "pie"
           }
          ],
          "scatter": [
           {
            "fillpattern": {
             "fillmode": "overlay",
             "size": 10,
             "solidity": 0.2
            },
            "type": "scatter"
           }
          ],
          "scatter3d": [
           {
            "line": {
             "colorbar": {
              "outlinewidth": 0,
              "ticks": ""
             }
            },
            "marker": {
             "colorbar": {
              "outlinewidth": 0,
              "ticks": ""
             }
            },
            "type": "scatter3d"
           }
          ],
          "scattercarpet": [
           {
            "marker": {
             "colorbar": {
              "outlinewidth": 0,
              "ticks": ""
             }
            },
            "type": "scattercarpet"
           }
          ],
          "scattergeo": [
           {
            "marker": {
             "colorbar": {
              "outlinewidth": 0,
              "ticks": ""
             }
            },
            "type": "scattergeo"
           }
          ],
          "scattergl": [
           {
            "marker": {
             "colorbar": {
              "outlinewidth": 0,
              "ticks": ""
             }
            },
            "type": "scattergl"
           }
          ],
          "scattermapbox": [
           {
            "marker": {
             "colorbar": {
              "outlinewidth": 0,
              "ticks": ""
             }
            },
            "type": "scattermapbox"
           }
          ],
          "scatterpolar": [
           {
            "marker": {
             "colorbar": {
              "outlinewidth": 0,
              "ticks": ""
             }
            },
            "type": "scatterpolar"
           }
          ],
          "scatterpolargl": [
           {
            "marker": {
             "colorbar": {
              "outlinewidth": 0,
              "ticks": ""
             }
            },
            "type": "scatterpolargl"
           }
          ],
          "scatterternary": [
           {
            "marker": {
             "colorbar": {
              "outlinewidth": 0,
              "ticks": ""
             }
            },
            "type": "scatterternary"
           }
          ],
          "surface": [
           {
            "colorbar": {
             "outlinewidth": 0,
             "ticks": ""
            },
            "colorscale": [
             [
              0,
              "#0d0887"
             ],
             [
              0.1111111111111111,
              "#46039f"
             ],
             [
              0.2222222222222222,
              "#7201a8"
             ],
             [
              0.3333333333333333,
              "#9c179e"
             ],
             [
              0.4444444444444444,
              "#bd3786"
             ],
             [
              0.5555555555555556,
              "#d8576b"
             ],
             [
              0.6666666666666666,
              "#ed7953"
             ],
             [
              0.7777777777777778,
              "#fb9f3a"
             ],
             [
              0.8888888888888888,
              "#fdca26"
             ],
             [
              1,
              "#f0f921"
             ]
            ],
            "type": "surface"
           }
          ],
          "table": [
           {
            "cells": {
             "fill": {
              "color": "#EBF0F8"
             },
             "line": {
              "color": "white"
             }
            },
            "header": {
             "fill": {
              "color": "#C8D4E3"
             },
             "line": {
              "color": "white"
             }
            },
            "type": "table"
           }
          ]
         },
         "layout": {
          "annotationdefaults": {
           "arrowcolor": "#2a3f5f",
           "arrowhead": 0,
           "arrowwidth": 1
          },
          "autotypenumbers": "strict",
          "coloraxis": {
           "colorbar": {
            "outlinewidth": 0,
            "ticks": ""
           }
          },
          "colorscale": {
           "diverging": [
            [
             0,
             "#8e0152"
            ],
            [
             0.1,
             "#c51b7d"
            ],
            [
             0.2,
             "#de77ae"
            ],
            [
             0.3,
             "#f1b6da"
            ],
            [
             0.4,
             "#fde0ef"
            ],
            [
             0.5,
             "#f7f7f7"
            ],
            [
             0.6,
             "#e6f5d0"
            ],
            [
             0.7,
             "#b8e186"
            ],
            [
             0.8,
             "#7fbc41"
            ],
            [
             0.9,
             "#4d9221"
            ],
            [
             1,
             "#276419"
            ]
           ],
           "sequential": [
            [
             0,
             "#0d0887"
            ],
            [
             0.1111111111111111,
             "#46039f"
            ],
            [
             0.2222222222222222,
             "#7201a8"
            ],
            [
             0.3333333333333333,
             "#9c179e"
            ],
            [
             0.4444444444444444,
             "#bd3786"
            ],
            [
             0.5555555555555556,
             "#d8576b"
            ],
            [
             0.6666666666666666,
             "#ed7953"
            ],
            [
             0.7777777777777778,
             "#fb9f3a"
            ],
            [
             0.8888888888888888,
             "#fdca26"
            ],
            [
             1,
             "#f0f921"
            ]
           ],
           "sequentialminus": [
            [
             0,
             "#0d0887"
            ],
            [
             0.1111111111111111,
             "#46039f"
            ],
            [
             0.2222222222222222,
             "#7201a8"
            ],
            [
             0.3333333333333333,
             "#9c179e"
            ],
            [
             0.4444444444444444,
             "#bd3786"
            ],
            [
             0.5555555555555556,
             "#d8576b"
            ],
            [
             0.6666666666666666,
             "#ed7953"
            ],
            [
             0.7777777777777778,
             "#fb9f3a"
            ],
            [
             0.8888888888888888,
             "#fdca26"
            ],
            [
             1,
             "#f0f921"
            ]
           ]
          },
          "colorway": [
           "#636efa",
           "#EF553B",
           "#00cc96",
           "#ab63fa",
           "#FFA15A",
           "#19d3f3",
           "#FF6692",
           "#B6E880",
           "#FF97FF",
           "#FECB52"
          ],
          "font": {
           "color": "#2a3f5f"
          },
          "geo": {
           "bgcolor": "white",
           "lakecolor": "white",
           "landcolor": "#E5ECF6",
           "showlakes": true,
           "showland": true,
           "subunitcolor": "white"
          },
          "hoverlabel": {
           "align": "left"
          },
          "hovermode": "closest",
          "mapbox": {
           "style": "light"
          },
          "paper_bgcolor": "white",
          "plot_bgcolor": "#E5ECF6",
          "polar": {
           "angularaxis": {
            "gridcolor": "white",
            "linecolor": "white",
            "ticks": ""
           },
           "bgcolor": "#E5ECF6",
           "radialaxis": {
            "gridcolor": "white",
            "linecolor": "white",
            "ticks": ""
           }
          },
          "scene": {
           "xaxis": {
            "backgroundcolor": "#E5ECF6",
            "gridcolor": "white",
            "gridwidth": 2,
            "linecolor": "white",
            "showbackground": true,
            "ticks": "",
            "zerolinecolor": "white"
           },
           "yaxis": {
            "backgroundcolor": "#E5ECF6",
            "gridcolor": "white",
            "gridwidth": 2,
            "linecolor": "white",
            "showbackground": true,
            "ticks": "",
            "zerolinecolor": "white"
           },
           "zaxis": {
            "backgroundcolor": "#E5ECF6",
            "gridcolor": "white",
            "gridwidth": 2,
            "linecolor": "white",
            "showbackground": true,
            "ticks": "",
            "zerolinecolor": "white"
           }
          },
          "shapedefaults": {
           "line": {
            "color": "#2a3f5f"
           }
          },
          "ternary": {
           "aaxis": {
            "gridcolor": "white",
            "linecolor": "white",
            "ticks": ""
           },
           "baxis": {
            "gridcolor": "white",
            "linecolor": "white",
            "ticks": ""
           },
           "bgcolor": "#E5ECF6",
           "caxis": {
            "gridcolor": "white",
            "linecolor": "white",
            "ticks": ""
           }
          },
          "title": {
           "x": 0.05
          },
          "xaxis": {
           "automargin": true,
           "gridcolor": "white",
           "linecolor": "white",
           "ticks": "",
           "title": {
            "standoff": 15
           },
           "zerolinecolor": "white",
           "zerolinewidth": 2
          },
          "yaxis": {
           "automargin": true,
           "gridcolor": "white",
           "linecolor": "white",
           "ticks": "",
           "title": {
            "standoff": 15
           },
           "zerolinecolor": "white",
           "zerolinewidth": 2
          }
         }
        },
        "title": {
         "text": "Relation between Toss Winning and Match Winning"
        }
       }
      },
      "image/png": "[encoded data removed]",
      "text/html": [
       "<div>                            <div id=\"f73186ae-1dc6-4eca-9a2a-e6a83c974c7f\" class=\"plotly-graph-div\" style=\"height:525px; width:100%;\"></div>            <script type=\"text/javascript\">                require([\"plotly\"], function(Plotly) {                    window.PLOTLYENV=window.PLOTLYENV || {};                                    if (document.getElementById(\"f73186ae-1dc6-4eca-9a2a-e6a83c974c7f\")) {                    Plotly.newPlot(                        \"f73186ae-1dc6-4eca-9a2a-e6a83c974c7f\",                        [{\"hole\":0.2,\"labels\":[\"% of teams won toss and won match\",\"% of teams lost toss and won match\"],\"values\":[554,540],\"type\":\"pie\"}],                        {\"template\":{\"data\":{\"histogram2dcontour\":[{\"type\":\"histogram2dcontour\",\"colorbar\":{\"outlinewidth\":0,\"ticks\":\"\"},\"colorscale\":[[0.0,\"#0d0887\"],[0.1111111111111111,\"#46039f\"],[0.2222222222222222,\"#7201a8\"],[0.3333333333333333,\"#9c179e\"],[0.4444444444444444,\"#bd3786\"],[0.5555555555555556,\"#d8576b\"],[0.6666666666666666,\"#ed7953\"],[0.7777777777777778,\"#fb9f3a\"],[0.8888888888888888,\"#fdca26\"],[1.0,\"#f0f921\"]]}],\"choropleth\":[{\"type\":\"choropleth\",\"colorbar\":{\"outlinewidth\":0,\"ticks\":\"\"}}],\"histogram2d\":[{\"type\":\"histogram2d\",\"colorbar\":{\"outlinewidth\":0,\"ticks\":\"\"},\"colorscale\":[[0.0,\"#0d0887\"],[0.1111111111111111,\"#46039f\"],[0.2222222222222222,\"#7201a8\"],[0.3333333333333333,\"#9c179e\"],[0.4444444444444444,\"#bd3786\"],[0.5555555555555556,\"#d8576b\"],[0.6666666666666666,\"#ed7953\"],[0.7777777777777778,\"#fb9f3a\"],[0.8888888888888888,\"#fdca26\"],[1.0,\"#f0f921\"]]}],\"heatmap\":[{\"type\":\"heatmap\",\"colorbar\":{\"outlinewidth\":0,\"ticks\":\"\"},\"colorscale\":[[0.0,\"#0d0887\"],[0.1111111111111111,\"#46039f\"],[0.2222222222222222,\"#7201a8\"],[0.3333333333333333,\"#9c179e\"],[0.4444444444444444,\"#bd3786\"],[0.5555555555555556,\"#d8576b\"],[0.6666666666666666,\"#ed7953\"],[0.7777777777777778,\"#fb9f3a\"],[0.8888888888888888,\"#fdca26\"],[1.0,\"#f0f921\"]]}],\"heatmapgl\":[{\"type\":\"heatmapgl\",\"colorbar\":{\"outlinewidth\":0,\"ticks\":\"\"},\"colorscale\":[[0.0,\"#0d0887\"],[0.1111111111111111,\"#46039f\"],[0.2222222222222222,\"#7201a8\"],[0.3333333333333333,\"#9c179e\"],[0.4444444444444444,\"#bd3786\"],[0.5555555555555556,\"#d8576b\"],[0.6666666666666666,\"#ed7953\"],[0.7777777777777778,\"#fb9f3a\"],[0.8888888888888888,\"#fdca26\"],[1.0,\"#f0f921\"]]}],\"contourcarpet\":[{\"type\":\"contourcarpet\",\"colorbar\":{\"outlinewidth\":0,\"ticks\":\"\"}}],\"contour\":[{\"type\":\"contour\",\"colorbar\":{\"outlinewidth\":0,\"ticks\":\"\"},\"colorscale\":[[0.0,\"#0d0887\"],[0.1111111111111111,\"#46039f\"],[0.2222222222222222,\"#7201a8\"],[0.3333333333333333,\"#9c179e\"],[0.4444444444444444,\"#bd3786\"],[0.5555555555555556,\"#d8576b\"],[0.6666666666666666,\"#ed7953\"],[0.7777777777777778,\"#fb9f3a\"],[0.8888888888888888,\"#fdca26\"],[1.0,\"#f0f921\"]]}],\"surface\":[{\"type\":\"surface\",\"colorbar\":{\"outlinewidth\":0,\"ticks\":\"\"},\"colorscale\":[[0.0,\"#0d0887\"],[0.1111111111111111,\"#46039f\"],[0.2222222222222222,\"#7201a8\"],[0.3333333333333333,\"#9c179e\"],[0.4444444444444444,\"#bd3786\"],[0.5555555555555556,\"#d8576b\"],[0.6666666666666666,\"#ed7953\"],[0.7777777777777778,\"#fb9f3a\"],[0.8888888888888888,\"#fdca26\"],[1.0,\"#f0f921\"]]}],\"mesh3d\":[{\"type\":\"mesh3d\",\"colorbar\":{\"outlinewidth\":0,\"ticks\":\"\"}}],\"scatter\":[{\"fillpattern\":{\"fillmode\":\"overlay\",\"size\":10,\"solidity\":0.2},\"type\":\"scatter\"}],\"parcoords\":[{\"type\":\"parcoords\",\"line\":{\"colorbar\":{\"outlinewidth\":0,\"ticks\":\"\"}}}],\"scatterpolargl\":[{\"type\":\"scatterpolargl\",\"marker\":{\"colorbar\":{\"outlinewidth\":0,\"ticks\":\"\"}}}],\"bar\":[{\"error_x\":{\"color\":\"#2a3f5f\"},\"error_y\":{\"color\":\"#2a3f5f\"},\"marker\":{\"line\":{\"color\":\"#E5ECF6\",\"width\":0.5},\"pattern\":{\"fillmode\":\"overlay\",\"size\":10,\"solidity\":0.2}},\"type\":\"bar\"}],\"scattergeo\":[{\"type\":\"scattergeo\",\"marker\":{\"colorbar\":{\"outlinewidth\":0,\"ticks\":\"\"}}}],\"scatterpolar\":[{\"type\":\"scatterpolar\",\"marker\":{\"colorbar\":{\"outlinewidth\":0,\"ticks\":\"\"}}}],\"histogram\":[{\"marker\":{\"pattern\":{\"fillmode\":\"overlay\",\"size\":10,\"solidity\":0.2}},\"type\":\"histogram\"}],\"scattergl\":[{\"type\":\"scattergl\",\"marker\":{\"colorbar\":{\"outlinewidth\":0,\"ticks\":\"\"}}}],\"scatter3d\":[{\"type\":\"scatter3d\",\"line\":{\"colorbar\":{\"outlinewidth\":0,\"ticks\":\"\"}},\"marker\":{\"colorbar\":{\"outlinewidth\":0,\"ticks\":\"\"}}}],\"scattermapbox\":[{\"type\":\"scattermapbox\",\"marker\":{\"colorbar\":{\"outlinewidth\":0,\"ticks\":\"\"}}}],\"scatterternary\":[{\"type\":\"scatterternary\",\"marker\":{\"colorbar\":{\"outlinewidth\":0,\"ticks\":\"\"}}}],\"scattercarpet\":[{\"type\":\"scattercarpet\",\"marker\":{\"colorbar\":{\"outlinewidth\":0,\"ticks\":\"\"}}}],\"carpet\":[{\"aaxis\":{\"endlinecolor\":\"#2a3f5f\",\"gridcolor\":\"white\",\"linecolor\":\"white\",\"minorgridcolor\":\"white\",\"startlinecolor\":\"#2a3f5f\"},\"baxis\":{\"endlinecolor\":\"#2a3f5f\",\"gridcolor\":\"white\",\"linecolor\":\"white\",\"minorgridcolor\":\"white\",\"startlinecolor\":\"#2a3f5f\"},\"type\":\"carpet\"}],\"table\":[{\"cells\":{\"fill\":{\"color\":\"#EBF0F8\"},\"line\":{\"color\":\"white\"}},\"header\":{\"fill\":{\"color\":\"#C8D4E3\"},\"line\":{\"color\":\"white\"}},\"type\":\"table\"}],\"barpolar\":[{\"marker\":{\"line\":{\"color\":\"#E5ECF6\",\"width\":0.5},\"pattern\":{\"fillmode\":\"overlay\",\"size\":10,\"solidity\":0.2}},\"type\":\"barpolar\"}],\"pie\":[{\"automargin\":true,\"type\":\"pie\"}]},\"layout\":{\"autotypenumbers\":\"strict\",\"colorway\":[\"#636efa\",\"#EF553B\",\"#00cc96\",\"#ab63fa\",\"#FFA15A\",\"#19d3f3\",\"#FF6692\",\"#B6E880\",\"#FF97FF\",\"#FECB52\"],\"font\":{\"color\":\"#2a3f5f\"},\"hovermode\":\"closest\",\"hoverlabel\":{\"align\":\"left\"},\"paper_bgcolor\":\"white\",\"plot_bgcolor\":\"#E5ECF6\",\"polar\":{\"bgcolor\":\"#E5ECF6\",\"angularaxis\":{\"gridcolor\":\"white\",\"linecolor\":\"white\",\"ticks\":\"\"},\"radialaxis\":{\"gridcolor\":\"white\",\"linecolor\":\"white\",\"ticks\":\"\"}},\"ternary\":{\"bgcolor\":\"#E5ECF6\",\"aaxis\":{\"gridcolor\":\"white\",\"linecolor\":\"white\",\"ticks\":\"\"},\"baxis\":{\"gridcolor\":\"white\",\"linecolor\":\"white\",\"ticks\":\"\"},\"caxis\":{\"gridcolor\":\"white\",\"linecolor\":\"white\",\"ticks\":\"\"}},\"coloraxis\":{\"colorbar\":{\"outlinewidth\":0,\"ticks\":\"\"}},\"colorscale\":{\"sequential\":[[0.0,\"#0d0887\"],[0.1111111111111111,\"#46039f\"],[0.2222222222222222,\"#7201a8\"],[0.3333333333333333,\"#9c179e\"],[0.4444444444444444,\"#bd3786\"],[0.5555555555555556,\"#d8576b\"],[0.6666666666666666,\"#ed7953\"],[0.7777777777777778,\"#fb9f3a\"],[0.8888888888888888,\"#fdca26\"],[1.0,\"#f0f921\"]],\"sequentialminus\":[[0.0,\"#0d0887\"],[0.1111111111111111,\"#46039f\"],[0.2222222222222222,\"#7201a8\"],[0.3333333333333333,\"#9c179e\"],[0.4444444444444444,\"#bd3786\"],[0.5555555555555556,\"#d8576b\"],[0.6666666666666666,\"#ed7953\"],[0.7777777777777778,\"#fb9f3a\"],[0.8888888888888888,\"#fdca26\"],[1.0,\"#f0f921\"]],\"diverging\":[[0,\"#8e0152\"],[0.1,\"#c51b7d\"],[0.2,\"#de77ae\"],[0.3,\"#f1b6da\"],[0.4,\"#fde0ef\"],[0.5,\"#f7f7f7\"],[0.6,\"#e6f5d0\"],[0.7,\"#b8e186\"],[0.8,\"#7fbc41\"],[0.9,\"#4d9221\"],[1,\"#276419\"]]},\"xaxis\":{\"gridcolor\":\"white\",\"linecolor\":\"white\",\"ticks\":\"\",\"title\":{\"standoff\":15},\"zerolinecolor\":\"white\",\"automargin\":true,\"zerolinewidth\":2},\"yaxis\":{\"gridcolor\":\"white\",\"linecolor\":\"white\",\"ticks\":\"\",\"title\":{\"standoff\":15},\"zerolinecolor\":\"white\",\"automargin\":true,\"zerolinewidth\":2},\"scene\":{\"xaxis\":{\"backgroundcolor\":\"#E5ECF6\",\"gridcolor\":\"white\",\"linecolor\":\"white\",\"showbackground\":true,\"ticks\":\"\",\"zerolinecolor\":\"white\",\"gridwidth\":2},\"yaxis\":{\"backgroundcolor\":\"#E5ECF6\",\"gridcolor\":\"white\",\"linecolor\":\"white\",\"showbackground\":true,\"ticks\":\"\",\"zerolinecolor\":\"white\",\"gridwidth\":2},\"zaxis\":{\"backgroundcolor\":\"#E5ECF6\",\"gridcolor\":\"white\",\"linecolor\":\"white\",\"showbackground\":true,\"ticks\":\"\",\"zerolinecolor\":\"white\",\"gridwidth\":2}},\"shapedefaults\":{\"line\":{\"color\":\"#2a3f5f\"}},\"annotationdefaults\":{\"arrowcolor\":\"#2a3f5f\",\"arrowhead\":0,\"arrowwidth\":1},\"geo\":{\"bgcolor\":\"white\",\"landcolor\":\"#E5ECF6\",\"subunitcolor\":\"white\",\"showland\":true,\"showlakes\":true,\"lakecolor\":\"white\"},\"title\":{\"x\":0.05},\"mapbox\":{\"style\":\"light\"}}},\"title\":{\"text\":\"Relation between Toss Winning and Match Winning\"}},                        {\"responsive\": true}                    ).then(function(){\n",
       "                            \n",
       "var gd = document.getElementById('f73186ae-1dc6-4eca-9a2a-e6a83c974c7f');\n",
       "var x = new MutationObserver(function (mutations, observer) {{\n",
       "        var display = window.getComputedStyle(gd).display;\n",
       "        if (!display || display === 'none') {{\n",
       "            console.log([gd, 'removed!']);\n",
       "            Plotly.purge(gd);\n",
       "            observer.disconnect();\n",
       "        }}\n",
       "}});\n",
       "\n",
       "// Listen for the removal of the full notebook cells\n",
       "var notebookContainer = gd.closest('#notebook-container');\n",
       "if (notebookContainer) {{\n",
       "    x.observe(notebookContainer, {childList: true});\n",
       "}}\n",
       "\n",
       "// Listen for the clearing of the current output cell\n",
       "var outputEl = gd.closest('.output');\n",
       "if (outputEl) {{\n",
       "    x.observe(outputEl, {childList: true});\n",
       "}}\n",
       "\n",
       "                        })                };                });            </script>        </div>"
      ]
     },
     "metadata": {},
     "output_type": "display_data"
    }
   ],
   "source": [
    "trace = go.Pie(labels = labels, values = values, hole = 0.2)\n",
    "data = [trace]\n",
    "fig = go.Figure(data=data)\n",
    "fig.update_layout(title_text=\"Relation between Toss Winning and Match Winning\")\n",
    "\n",
    "fig.show()"
   ]
  },
  {
   "cell_type": "markdown",
   "id": "3c8d7509-b5b6-4cf3-951a-60ba4ff286e9",
   "metadata": {},
   "source": [
    "### Analysing which team has won the tournament most"
   ]
  },
  {
   "cell_type": "code",
   "execution_count": 501,
   "id": "6ed362b9-f983-4fbb-b742-eca9263ca7f4",
   "metadata": {},
   "outputs": [
    {
     "data": {
      "text/html": [
       "<div>\n",
       "<style scoped>\n",
       "    .dataframe tbody tr th:only-of-type {\n",
       "        vertical-align: middle;\n",
       "    }\n",
       "\n",
       "    .dataframe tbody tr th {\n",
       "        vertical-align: top;\n",
       "    }\n",
       "\n",
       "    .dataframe thead th {\n",
       "        text-align: right;\n",
       "    }\n",
       "</style>\n",
       "<table border=\"1\" class=\"dataframe\">\n",
       "  <thead>\n",
       "    <tr style=\"text-align: right;\">\n",
       "      <th></th>\n",
       "      <th>id</th>\n",
       "      <th>season</th>\n",
       "      <th>city</th>\n",
       "      <th>date</th>\n",
       "      <th>match_type</th>\n",
       "      <th>player_of_match</th>\n",
       "      <th>venue</th>\n",
       "      <th>team1</th>\n",
       "      <th>team2</th>\n",
       "      <th>toss_winner</th>\n",
       "      <th>toss_decision</th>\n",
       "      <th>winner</th>\n",
       "      <th>result</th>\n",
       "      <th>result_margin</th>\n",
       "      <th>target_runs</th>\n",
       "      <th>target_overs</th>\n",
       "      <th>super_over</th>\n",
       "      <th>method</th>\n",
       "      <th>umpire1</th>\n",
       "      <th>umpire2</th>\n",
       "    </tr>\n",
       "  </thead>\n",
       "  <tbody>\n",
       "    <tr>\n",
       "      <th>58</th>\n",
       "      <td>336040.0</td>\n",
       "      <td>2007/08</td>\n",
       "      <td>Mumbai</td>\n",
       "      <td>2008-06-01</td>\n",
       "      <td>Final</td>\n",
       "      <td>YK Pathan</td>\n",
       "      <td>Dr DY Patil Sports Academy</td>\n",
       "      <td>Chennai Super Kings</td>\n",
       "      <td>Rajasthan Royals</td>\n",
       "      <td>Rajasthan Royals</td>\n",
       "      <td>field</td>\n",
       "      <td>Rajasthan Royals</td>\n",
       "      <td>wickets</td>\n",
       "      <td>3.0</td>\n",
       "      <td>164.0</td>\n",
       "      <td>20.0</td>\n",
       "      <td>N</td>\n",
       "      <td>NaN</td>\n",
       "      <td>BF Bowden</td>\n",
       "      <td>RE Koertzen</td>\n",
       "    </tr>\n",
       "    <tr>\n",
       "      <th>115</th>\n",
       "      <td>392239.0</td>\n",
       "      <td>2009</td>\n",
       "      <td>Johannesburg</td>\n",
       "      <td>2009-05-24</td>\n",
       "      <td>Final</td>\n",
       "      <td>A Kumble</td>\n",
       "      <td>New Wanderers Stadium</td>\n",
       "      <td>Royal Challengers Bangalore</td>\n",
       "      <td>Deccan Chargers</td>\n",
       "      <td>Royal Challengers Bangalore</td>\n",
       "      <td>field</td>\n",
       "      <td>Deccan Chargers</td>\n",
       "      <td>runs</td>\n",
       "      <td>6.0</td>\n",
       "      <td>144.0</td>\n",
       "      <td>20.0</td>\n",
       "      <td>N</td>\n",
       "      <td>NaN</td>\n",
       "      <td>RE Koertzen</td>\n",
       "      <td>SJA Taufel</td>\n",
       "    </tr>\n",
       "    <tr>\n",
       "      <th>175</th>\n",
       "      <td>419165.0</td>\n",
       "      <td>2009/10</td>\n",
       "      <td>Mumbai</td>\n",
       "      <td>2010-04-25</td>\n",
       "      <td>Final</td>\n",
       "      <td>SK Raina</td>\n",
       "      <td>Dr DY Patil Sports Academy</td>\n",
       "      <td>Chennai Super Kings</td>\n",
       "      <td>Mumbai Indians</td>\n",
       "      <td>Chennai Super Kings</td>\n",
       "      <td>bat</td>\n",
       "      <td>Chennai Super Kings</td>\n",
       "      <td>runs</td>\n",
       "      <td>22.0</td>\n",
       "      <td>169.0</td>\n",
       "      <td>20.0</td>\n",
       "      <td>N</td>\n",
       "      <td>NaN</td>\n",
       "      <td>RE Koertzen</td>\n",
       "      <td>SJA Taufel</td>\n",
       "    </tr>\n",
       "    <tr>\n",
       "      <th>248</th>\n",
       "      <td>501271.0</td>\n",
       "      <td>2011</td>\n",
       "      <td>Chennai</td>\n",
       "      <td>2011-05-28</td>\n",
       "      <td>Final</td>\n",
       "      <td>M Vijay</td>\n",
       "      <td>MA Chidambaram Stadium, Chepauk</td>\n",
       "      <td>Chennai Super Kings</td>\n",
       "      <td>Royal Challengers Bangalore</td>\n",
       "      <td>Chennai Super Kings</td>\n",
       "      <td>bat</td>\n",
       "      <td>Chennai Super Kings</td>\n",
       "      <td>runs</td>\n",
       "      <td>58.0</td>\n",
       "      <td>206.0</td>\n",
       "      <td>20.0</td>\n",
       "      <td>N</td>\n",
       "      <td>NaN</td>\n",
       "      <td>Asad Rauf</td>\n",
       "      <td>SJA Taufel</td>\n",
       "    </tr>\n",
       "    <tr>\n",
       "      <th>322</th>\n",
       "      <td>548381.0</td>\n",
       "      <td>2012</td>\n",
       "      <td>Chennai</td>\n",
       "      <td>2012-05-27</td>\n",
       "      <td>Final</td>\n",
       "      <td>MS Bisla</td>\n",
       "      <td>MA Chidambaram Stadium, Chepauk</td>\n",
       "      <td>Kolkata Knight Riders</td>\n",
       "      <td>Chennai Super Kings</td>\n",
       "      <td>Chennai Super Kings</td>\n",
       "      <td>bat</td>\n",
       "      <td>Kolkata Knight Riders</td>\n",
       "      <td>wickets</td>\n",
       "      <td>5.0</td>\n",
       "      <td>191.0</td>\n",
       "      <td>20.0</td>\n",
       "      <td>N</td>\n",
       "      <td>NaN</td>\n",
       "      <td>BF Bowden</td>\n",
       "      <td>SJA Taufel</td>\n",
       "    </tr>\n",
       "    <tr>\n",
       "      <th>398</th>\n",
       "      <td>598073.0</td>\n",
       "      <td>2013</td>\n",
       "      <td>Kolkata</td>\n",
       "      <td>2013-05-26</td>\n",
       "      <td>Final</td>\n",
       "      <td>KA Pollard</td>\n",
       "      <td>Eden Gardens</td>\n",
       "      <td>Chennai Super Kings</td>\n",
       "      <td>Mumbai Indians</td>\n",
       "      <td>Mumbai Indians</td>\n",
       "      <td>bat</td>\n",
       "      <td>Mumbai Indians</td>\n",
       "      <td>runs</td>\n",
       "      <td>23.0</td>\n",
       "      <td>149.0</td>\n",
       "      <td>20.0</td>\n",
       "      <td>N</td>\n",
       "      <td>NaN</td>\n",
       "      <td>HDPK Dharmasena</td>\n",
       "      <td>SJA Taufel</td>\n",
       "    </tr>\n",
       "    <tr>\n",
       "      <th>458</th>\n",
       "      <td>734049.0</td>\n",
       "      <td>2014</td>\n",
       "      <td>Bangalore</td>\n",
       "      <td>2014-06-01</td>\n",
       "      <td>Final</td>\n",
       "      <td>MK Pandey</td>\n",
       "      <td>M Chinnaswamy Stadium</td>\n",
       "      <td>Kolkata Knight Riders</td>\n",
       "      <td>Kings XI Punjab</td>\n",
       "      <td>Kolkata Knight Riders</td>\n",
       "      <td>field</td>\n",
       "      <td>Kolkata Knight Riders</td>\n",
       "      <td>wickets</td>\n",
       "      <td>3.0</td>\n",
       "      <td>200.0</td>\n",
       "      <td>20.0</td>\n",
       "      <td>N</td>\n",
       "      <td>NaN</td>\n",
       "      <td>HDPK Dharmasena</td>\n",
       "      <td>BNJ Oxenford</td>\n",
       "    </tr>\n",
       "    <tr>\n",
       "      <th>517</th>\n",
       "      <td>829823.0</td>\n",
       "      <td>2015</td>\n",
       "      <td>Kolkata</td>\n",
       "      <td>2015-05-24</td>\n",
       "      <td>Final</td>\n",
       "      <td>RG Sharma</td>\n",
       "      <td>Eden Gardens</td>\n",
       "      <td>Mumbai Indians</td>\n",
       "      <td>Chennai Super Kings</td>\n",
       "      <td>Chennai Super Kings</td>\n",
       "      <td>field</td>\n",
       "      <td>Mumbai Indians</td>\n",
       "      <td>runs</td>\n",
       "      <td>41.0</td>\n",
       "      <td>203.0</td>\n",
       "      <td>20.0</td>\n",
       "      <td>N</td>\n",
       "      <td>NaN</td>\n",
       "      <td>HDPK Dharmasena</td>\n",
       "      <td>RK Illingworth</td>\n",
       "    </tr>\n",
       "    <tr>\n",
       "      <th>577</th>\n",
       "      <td>981019.0</td>\n",
       "      <td>2016</td>\n",
       "      <td>Bangalore</td>\n",
       "      <td>2016-05-29</td>\n",
       "      <td>Final</td>\n",
       "      <td>BCJ Cutting</td>\n",
       "      <td>M Chinnaswamy Stadium</td>\n",
       "      <td>Royal Challengers Bangalore</td>\n",
       "      <td>Sunrisers Hyderabad</td>\n",
       "      <td>Sunrisers Hyderabad</td>\n",
       "      <td>bat</td>\n",
       "      <td>Sunrisers Hyderabad</td>\n",
       "      <td>runs</td>\n",
       "      <td>8.0</td>\n",
       "      <td>209.0</td>\n",
       "      <td>20.0</td>\n",
       "      <td>N</td>\n",
       "      <td>NaN</td>\n",
       "      <td>HDPK Dharmasena</td>\n",
       "      <td>BNJ Oxenford</td>\n",
       "    </tr>\n",
       "    <tr>\n",
       "      <th>636</th>\n",
       "      <td>1082650.0</td>\n",
       "      <td>2017</td>\n",
       "      <td>Hyderabad</td>\n",
       "      <td>2017-05-21</td>\n",
       "      <td>Final</td>\n",
       "      <td>KH Pandya</td>\n",
       "      <td>Rajiv Gandhi International Stadium, Uppal</td>\n",
       "      <td>Mumbai Indians</td>\n",
       "      <td>Rising Pune Supergiant</td>\n",
       "      <td>Mumbai Indians</td>\n",
       "      <td>bat</td>\n",
       "      <td>Mumbai Indians</td>\n",
       "      <td>runs</td>\n",
       "      <td>1.0</td>\n",
       "      <td>130.0</td>\n",
       "      <td>20.0</td>\n",
       "      <td>N</td>\n",
       "      <td>NaN</td>\n",
       "      <td>NJ Llong</td>\n",
       "      <td>S Ravi</td>\n",
       "    </tr>\n",
       "    <tr>\n",
       "      <th>696</th>\n",
       "      <td>1136620.0</td>\n",
       "      <td>2018</td>\n",
       "      <td>Mumbai</td>\n",
       "      <td>2018-05-27</td>\n",
       "      <td>Final</td>\n",
       "      <td>SR Watson</td>\n",
       "      <td>Wankhede Stadium</td>\n",
       "      <td>Sunrisers Hyderabad</td>\n",
       "      <td>Chennai Super Kings</td>\n",
       "      <td>Chennai Super Kings</td>\n",
       "      <td>field</td>\n",
       "      <td>Chennai Super Kings</td>\n",
       "      <td>wickets</td>\n",
       "      <td>8.0</td>\n",
       "      <td>179.0</td>\n",
       "      <td>20.0</td>\n",
       "      <td>N</td>\n",
       "      <td>NaN</td>\n",
       "      <td>M Erasmus</td>\n",
       "      <td>S Ravi</td>\n",
       "    </tr>\n",
       "    <tr>\n",
       "      <th>756</th>\n",
       "      <td>1181768.0</td>\n",
       "      <td>2019</td>\n",
       "      <td>Hyderabad</td>\n",
       "      <td>2019-05-12</td>\n",
       "      <td>Final</td>\n",
       "      <td>JJ Bumrah</td>\n",
       "      <td>Rajiv Gandhi International Stadium</td>\n",
       "      <td>Mumbai Indians</td>\n",
       "      <td>Chennai Super Kings</td>\n",
       "      <td>Mumbai Indians</td>\n",
       "      <td>bat</td>\n",
       "      <td>Mumbai Indians</td>\n",
       "      <td>runs</td>\n",
       "      <td>1.0</td>\n",
       "      <td>150.0</td>\n",
       "      <td>20.0</td>\n",
       "      <td>N</td>\n",
       "      <td>NaN</td>\n",
       "      <td>IJ Gould</td>\n",
       "      <td>Nitin Menon</td>\n",
       "    </tr>\n",
       "    <tr>\n",
       "      <th>816</th>\n",
       "      <td>1237181.0</td>\n",
       "      <td>2020/21</td>\n",
       "      <td>NaN</td>\n",
       "      <td>2020-11-10</td>\n",
       "      <td>Final</td>\n",
       "      <td>TA Boult</td>\n",
       "      <td>Dubai International Cricket Stadium</td>\n",
       "      <td>Delhi Capitals</td>\n",
       "      <td>Mumbai Indians</td>\n",
       "      <td>Delhi Capitals</td>\n",
       "      <td>bat</td>\n",
       "      <td>Mumbai Indians</td>\n",
       "      <td>wickets</td>\n",
       "      <td>5.0</td>\n",
       "      <td>157.0</td>\n",
       "      <td>20.0</td>\n",
       "      <td>N</td>\n",
       "      <td>NaN</td>\n",
       "      <td>CB Gaffaney</td>\n",
       "      <td>Nitin Menon</td>\n",
       "    </tr>\n",
       "    <tr>\n",
       "      <th>876</th>\n",
       "      <td>1254117.0</td>\n",
       "      <td>2021</td>\n",
       "      <td>Dubai</td>\n",
       "      <td>2021-10-15</td>\n",
       "      <td>Final</td>\n",
       "      <td>F du Plessis</td>\n",
       "      <td>Dubai International Cricket Stadium</td>\n",
       "      <td>Chennai Super Kings</td>\n",
       "      <td>Kolkata Knight Riders</td>\n",
       "      <td>Kolkata Knight Riders</td>\n",
       "      <td>field</td>\n",
       "      <td>Chennai Super Kings</td>\n",
       "      <td>runs</td>\n",
       "      <td>27.0</td>\n",
       "      <td>193.0</td>\n",
       "      <td>20.0</td>\n",
       "      <td>N</td>\n",
       "      <td>NaN</td>\n",
       "      <td>Nitin Menon</td>\n",
       "      <td>RK Illingworth</td>\n",
       "    </tr>\n",
       "    <tr>\n",
       "      <th>950</th>\n",
       "      <td>1312200.0</td>\n",
       "      <td>2022</td>\n",
       "      <td>Ahmedabad</td>\n",
       "      <td>2022-05-29</td>\n",
       "      <td>Final</td>\n",
       "      <td>HH Pandya</td>\n",
       "      <td>Narendra Modi Stadium, Ahmedabad</td>\n",
       "      <td>Rajasthan Royals</td>\n",
       "      <td>Gujarat Titans</td>\n",
       "      <td>Rajasthan Royals</td>\n",
       "      <td>bat</td>\n",
       "      <td>Gujarat Titans</td>\n",
       "      <td>wickets</td>\n",
       "      <td>7.0</td>\n",
       "      <td>131.0</td>\n",
       "      <td>20.0</td>\n",
       "      <td>N</td>\n",
       "      <td>NaN</td>\n",
       "      <td>CB Gaffaney</td>\n",
       "      <td>Nitin Menon</td>\n",
       "    </tr>\n",
       "    <tr>\n",
       "      <th>1024</th>\n",
       "      <td>1370353.0</td>\n",
       "      <td>2023</td>\n",
       "      <td>Ahmedabad</td>\n",
       "      <td>2023-05-29</td>\n",
       "      <td>Final</td>\n",
       "      <td>DP Conway</td>\n",
       "      <td>Narendra Modi Stadium, Ahmedabad</td>\n",
       "      <td>Gujarat Titans</td>\n",
       "      <td>Chennai Super Kings</td>\n",
       "      <td>Chennai Super Kings</td>\n",
       "      <td>field</td>\n",
       "      <td>Chennai Super Kings</td>\n",
       "      <td>wickets</td>\n",
       "      <td>5.0</td>\n",
       "      <td>171.0</td>\n",
       "      <td>15.0</td>\n",
       "      <td>N</td>\n",
       "      <td>D/L</td>\n",
       "      <td>Nitin Menon</td>\n",
       "      <td>RJ Tucker</td>\n",
       "    </tr>\n",
       "  </tbody>\n",
       "</table>\n",
       "</div>"
      ],
      "text/plain": [
       "             id   season          city        date match_type player_of_match  \\\n",
       "58     336040.0  2007/08        Mumbai  2008-06-01      Final       YK Pathan   \n",
       "115    392239.0     2009  Johannesburg  2009-05-24      Final        A Kumble   \n",
       "175    419165.0  2009/10        Mumbai  2010-04-25      Final        SK Raina   \n",
       "248    501271.0     2011       Chennai  2011-05-28      Final         M Vijay   \n",
       "322    548381.0     2012       Chennai  2012-05-27      Final        MS Bisla   \n",
       "398    598073.0     2013       Kolkata  2013-05-26      Final      KA Pollard   \n",
       "458    734049.0     2014     Bangalore  2014-06-01      Final       MK Pandey   \n",
       "517    829823.0     2015       Kolkata  2015-05-24      Final       RG Sharma   \n",
       "577    981019.0     2016     Bangalore  2016-05-29      Final     BCJ Cutting   \n",
       "636   1082650.0     2017     Hyderabad  2017-05-21      Final       KH Pandya   \n",
       "696   1136620.0     2018        Mumbai  2018-05-27      Final       SR Watson   \n",
       "756   1181768.0     2019     Hyderabad  2019-05-12      Final       JJ Bumrah   \n",
       "816   1237181.0  2020/21           NaN  2020-11-10      Final        TA Boult   \n",
       "876   1254117.0     2021         Dubai  2021-10-15      Final    F du Plessis   \n",
       "950   1312200.0     2022     Ahmedabad  2022-05-29      Final       HH Pandya   \n",
       "1024  1370353.0     2023     Ahmedabad  2023-05-29      Final       DP Conway   \n",
       "\n",
       "                                          venue                        team1  \\\n",
       "58                   Dr DY Patil Sports Academy          Chennai Super Kings   \n",
       "115                       New Wanderers Stadium  Royal Challengers Bangalore   \n",
       "175                  Dr DY Patil Sports Academy          Chennai Super Kings   \n",
       "248             MA Chidambaram Stadium, Chepauk          Chennai Super Kings   \n",
       "322             MA Chidambaram Stadium, Chepauk        Kolkata Knight Riders   \n",
       "398                                Eden Gardens          Chennai Super Kings   \n",
       "458                       M Chinnaswamy Stadium        Kolkata Knight Riders   \n",
       "517                                Eden Gardens               Mumbai Indians   \n",
       "577                       M Chinnaswamy Stadium  Royal Challengers Bangalore   \n",
       "636   Rajiv Gandhi International Stadium, Uppal               Mumbai Indians   \n",
       "696                            Wankhede Stadium          Sunrisers Hyderabad   \n",
       "756          Rajiv Gandhi International Stadium               Mumbai Indians   \n",
       "816         Dubai International Cricket Stadium               Delhi Capitals   \n",
       "876         Dubai International Cricket Stadium          Chennai Super Kings   \n",
       "950            Narendra Modi Stadium, Ahmedabad             Rajasthan Royals   \n",
       "1024           Narendra Modi Stadium, Ahmedabad               Gujarat Titans   \n",
       "\n",
       "                            team2                  toss_winner toss_decision  \\\n",
       "58               Rajasthan Royals             Rajasthan Royals         field   \n",
       "115               Deccan Chargers  Royal Challengers Bangalore         field   \n",
       "175                Mumbai Indians          Chennai Super Kings           bat   \n",
       "248   Royal Challengers Bangalore          Chennai Super Kings           bat   \n",
       "322           Chennai Super Kings          Chennai Super Kings           bat   \n",
       "398                Mumbai Indians               Mumbai Indians           bat   \n",
       "458               Kings XI Punjab        Kolkata Knight Riders         field   \n",
       "517           Chennai Super Kings          Chennai Super Kings         field   \n",
       "577           Sunrisers Hyderabad          Sunrisers Hyderabad           bat   \n",
       "636        Rising Pune Supergiant               Mumbai Indians           bat   \n",
       "696           Chennai Super Kings          Chennai Super Kings         field   \n",
       "756           Chennai Super Kings               Mumbai Indians           bat   \n",
       "816                Mumbai Indians               Delhi Capitals           bat   \n",
       "876         Kolkata Knight Riders        Kolkata Knight Riders         field   \n",
       "950                Gujarat Titans             Rajasthan Royals           bat   \n",
       "1024          Chennai Super Kings          Chennai Super Kings         field   \n",
       "\n",
       "                     winner   result  result_margin  target_runs  \\\n",
       "58         Rajasthan Royals  wickets            3.0        164.0   \n",
       "115         Deccan Chargers     runs            6.0        144.0   \n",
       "175     Chennai Super Kings     runs           22.0        169.0   \n",
       "248     Chennai Super Kings     runs           58.0        206.0   \n",
       "322   Kolkata Knight Riders  wickets            5.0        191.0   \n",
       "398          Mumbai Indians     runs           23.0        149.0   \n",
       "458   Kolkata Knight Riders  wickets            3.0        200.0   \n",
       "517          Mumbai Indians     runs           41.0        203.0   \n",
       "577     Sunrisers Hyderabad     runs            8.0        209.0   \n",
       "636          Mumbai Indians     runs            1.0        130.0   \n",
       "696     Chennai Super Kings  wickets            8.0        179.0   \n",
       "756          Mumbai Indians     runs            1.0        150.0   \n",
       "816          Mumbai Indians  wickets            5.0        157.0   \n",
       "876     Chennai Super Kings     runs           27.0        193.0   \n",
       "950          Gujarat Titans  wickets            7.0        131.0   \n",
       "1024    Chennai Super Kings  wickets            5.0        171.0   \n",
       "\n",
       "      target_overs super_over method          umpire1         umpire2  \n",
       "58            20.0          N    NaN        BF Bowden     RE Koertzen  \n",
       "115           20.0          N    NaN      RE Koertzen      SJA Taufel  \n",
       "175           20.0          N    NaN      RE Koertzen      SJA Taufel  \n",
       "248           20.0          N    NaN        Asad Rauf      SJA Taufel  \n",
       "322           20.0          N    NaN        BF Bowden      SJA Taufel  \n",
       "398           20.0          N    NaN  HDPK Dharmasena      SJA Taufel  \n",
       "458           20.0          N    NaN  HDPK Dharmasena    BNJ Oxenford  \n",
       "517           20.0          N    NaN  HDPK Dharmasena  RK Illingworth  \n",
       "577           20.0          N    NaN  HDPK Dharmasena    BNJ Oxenford  \n",
       "636           20.0          N    NaN         NJ Llong          S Ravi  \n",
       "696           20.0          N    NaN        M Erasmus          S Ravi  \n",
       "756           20.0          N    NaN         IJ Gould     Nitin Menon  \n",
       "816           20.0          N    NaN      CB Gaffaney     Nitin Menon  \n",
       "876           20.0          N    NaN      Nitin Menon  RK Illingworth  \n",
       "950           20.0          N    NaN      CB Gaffaney     Nitin Menon  \n",
       "1024          15.0          N    D/L      Nitin Menon       RJ Tucker  "
      ]
     },
     "execution_count": 501,
     "metadata": {},
     "output_type": "execute_result"
    }
   ],
   "source": [
    "finals = ipl_mat[ipl_mat['match_type'] == \"Final\"]\n",
    "finals"
   ]
  },
  {
   "cell_type": "code",
   "execution_count": 539,
   "id": "11d35dc4-848f-47e8-bd93-81bc14d6e808",
   "metadata": {},
   "outputs": [
    {
     "data": {
      "text/html": [
       "<div>\n",
       "<style scoped>\n",
       "    .dataframe tbody tr th:only-of-type {\n",
       "        vertical-align: middle;\n",
       "    }\n",
       "\n",
       "    .dataframe tbody tr th {\n",
       "        vertical-align: top;\n",
       "    }\n",
       "\n",
       "    .dataframe thead th {\n",
       "        text-align: right;\n",
       "    }\n",
       "</style>\n",
       "<table border=\"1\" class=\"dataframe\">\n",
       "  <thead>\n",
       "    <tr style=\"text-align: right;\">\n",
       "      <th></th>\n",
       "      <th>winner</th>\n",
       "      <th>season</th>\n",
       "    </tr>\n",
       "    <tr>\n",
       "      <th>match_no</th>\n",
       "      <th></th>\n",
       "      <th></th>\n",
       "    </tr>\n",
       "  </thead>\n",
       "  <tbody>\n",
       "    <tr>\n",
       "      <th>58</th>\n",
       "      <td>Rajasthan Royals</td>\n",
       "      <td>2007/08</td>\n",
       "    </tr>\n",
       "    <tr>\n",
       "      <th>115</th>\n",
       "      <td>Deccan Chargers</td>\n",
       "      <td>2009</td>\n",
       "    </tr>\n",
       "    <tr>\n",
       "      <th>175</th>\n",
       "      <td>Chennai Super Kings</td>\n",
       "      <td>2009/10</td>\n",
       "    </tr>\n",
       "    <tr>\n",
       "      <th>248</th>\n",
       "      <td>Chennai Super Kings</td>\n",
       "      <td>2011</td>\n",
       "    </tr>\n",
       "    <tr>\n",
       "      <th>322</th>\n",
       "      <td>Kolkata Knight Riders</td>\n",
       "      <td>2012</td>\n",
       "    </tr>\n",
       "    <tr>\n",
       "      <th>398</th>\n",
       "      <td>Mumbai Indians</td>\n",
       "      <td>2013</td>\n",
       "    </tr>\n",
       "    <tr>\n",
       "      <th>458</th>\n",
       "      <td>Kolkata Knight Riders</td>\n",
       "      <td>2014</td>\n",
       "    </tr>\n",
       "    <tr>\n",
       "      <th>517</th>\n",
       "      <td>Mumbai Indians</td>\n",
       "      <td>2015</td>\n",
       "    </tr>\n",
       "    <tr>\n",
       "      <th>577</th>\n",
       "      <td>Sunrisers Hyderabad</td>\n",
       "      <td>2016</td>\n",
       "    </tr>\n",
       "    <tr>\n",
       "      <th>636</th>\n",
       "      <td>Mumbai Indians</td>\n",
       "      <td>2017</td>\n",
       "    </tr>\n",
       "    <tr>\n",
       "      <th>696</th>\n",
       "      <td>Chennai Super Kings</td>\n",
       "      <td>2018</td>\n",
       "    </tr>\n",
       "    <tr>\n",
       "      <th>756</th>\n",
       "      <td>Mumbai Indians</td>\n",
       "      <td>2019</td>\n",
       "    </tr>\n",
       "    <tr>\n",
       "      <th>816</th>\n",
       "      <td>Mumbai Indians</td>\n",
       "      <td>2020/21</td>\n",
       "    </tr>\n",
       "    <tr>\n",
       "      <th>876</th>\n",
       "      <td>Chennai Super Kings</td>\n",
       "      <td>2021</td>\n",
       "    </tr>\n",
       "    <tr>\n",
       "      <th>950</th>\n",
       "      <td>Gujarat Titans</td>\n",
       "      <td>2022</td>\n",
       "    </tr>\n",
       "    <tr>\n",
       "      <th>1024</th>\n",
       "      <td>Chennai Super Kings</td>\n",
       "      <td>2023</td>\n",
       "    </tr>\n",
       "  </tbody>\n",
       "</table>\n",
       "</div>"
      ],
      "text/plain": [
       "                         winner   season\n",
       "match_no                                \n",
       "58             Rajasthan Royals  2007/08\n",
       "115             Deccan Chargers     2009\n",
       "175         Chennai Super Kings  2009/10\n",
       "248         Chennai Super Kings     2011\n",
       "322       Kolkata Knight Riders     2012\n",
       "398              Mumbai Indians     2013\n",
       "458       Kolkata Knight Riders     2014\n",
       "517              Mumbai Indians     2015\n",
       "577         Sunrisers Hyderabad     2016\n",
       "636              Mumbai Indians     2017\n",
       "696         Chennai Super Kings     2018\n",
       "756              Mumbai Indians     2019\n",
       "816              Mumbai Indians  2020/21\n",
       "876         Chennai Super Kings     2021\n",
       "950              Gujarat Titans     2022\n",
       "1024        Chennai Super Kings     2023"
      ]
     },
     "execution_count": 539,
     "metadata": {},
     "output_type": "execute_result"
    }
   ],
   "source": [
    "finals_winners =finals[['winner', 'season']]\n",
    "finals_winners"
   ]
  },
  {
   "cell_type": "code",
   "execution_count": 547,
   "id": "4c469874-e640-49b3-b900-69bec9bfe5c0",
   "metadata": {},
   "outputs": [],
   "source": [
    "dict = {}\n",
    "dict = finals_winners.to_dict()"
   ]
  },
  {
   "cell_type": "code",
   "execution_count": 549,
   "id": "f504a75a-7ad1-48e4-9590-ee9213b9d26d",
   "metadata": {},
   "outputs": [
    {
     "data": {
      "text/html": [
       "<div>\n",
       "<style scoped>\n",
       "    .dataframe tbody tr th:only-of-type {\n",
       "        vertical-align: middle;\n",
       "    }\n",
       "\n",
       "    .dataframe tbody tr th {\n",
       "        vertical-align: top;\n",
       "    }\n",
       "\n",
       "    .dataframe thead th {\n",
       "        text-align: right;\n",
       "    }\n",
       "</style>\n",
       "<table border=\"1\" class=\"dataframe\">\n",
       "  <thead>\n",
       "    <tr style=\"text-align: right;\">\n",
       "      <th></th>\n",
       "      <th>match_no</th>\n",
       "      <th>winner</th>\n",
       "      <th>season</th>\n",
       "    </tr>\n",
       "  </thead>\n",
       "  <tbody>\n",
       "    <tr>\n",
       "      <th>0</th>\n",
       "      <td>58</td>\n",
       "      <td>Rajasthan Royals</td>\n",
       "      <td>2007/08</td>\n",
       "    </tr>\n",
       "    <tr>\n",
       "      <th>1</th>\n",
       "      <td>115</td>\n",
       "      <td>Deccan Chargers</td>\n",
       "      <td>2009</td>\n",
       "    </tr>\n",
       "    <tr>\n",
       "      <th>2</th>\n",
       "      <td>175</td>\n",
       "      <td>Chennai Super Kings</td>\n",
       "      <td>2009/10</td>\n",
       "    </tr>\n",
       "    <tr>\n",
       "      <th>3</th>\n",
       "      <td>248</td>\n",
       "      <td>Chennai Super Kings</td>\n",
       "      <td>2011</td>\n",
       "    </tr>\n",
       "    <tr>\n",
       "      <th>4</th>\n",
       "      <td>322</td>\n",
       "      <td>Kolkata Knight Riders</td>\n",
       "      <td>2012</td>\n",
       "    </tr>\n",
       "    <tr>\n",
       "      <th>5</th>\n",
       "      <td>398</td>\n",
       "      <td>Mumbai Indians</td>\n",
       "      <td>2013</td>\n",
       "    </tr>\n",
       "    <tr>\n",
       "      <th>6</th>\n",
       "      <td>458</td>\n",
       "      <td>Kolkata Knight Riders</td>\n",
       "      <td>2014</td>\n",
       "    </tr>\n",
       "    <tr>\n",
       "      <th>7</th>\n",
       "      <td>517</td>\n",
       "      <td>Mumbai Indians</td>\n",
       "      <td>2015</td>\n",
       "    </tr>\n",
       "    <tr>\n",
       "      <th>8</th>\n",
       "      <td>577</td>\n",
       "      <td>Sunrisers Hyderabad</td>\n",
       "      <td>2016</td>\n",
       "    </tr>\n",
       "    <tr>\n",
       "      <th>9</th>\n",
       "      <td>636</td>\n",
       "      <td>Mumbai Indians</td>\n",
       "      <td>2017</td>\n",
       "    </tr>\n",
       "    <tr>\n",
       "      <th>10</th>\n",
       "      <td>696</td>\n",
       "      <td>Chennai Super Kings</td>\n",
       "      <td>2018</td>\n",
       "    </tr>\n",
       "    <tr>\n",
       "      <th>11</th>\n",
       "      <td>756</td>\n",
       "      <td>Mumbai Indians</td>\n",
       "      <td>2019</td>\n",
       "    </tr>\n",
       "    <tr>\n",
       "      <th>12</th>\n",
       "      <td>816</td>\n",
       "      <td>Mumbai Indians</td>\n",
       "      <td>2020/21</td>\n",
       "    </tr>\n",
       "    <tr>\n",
       "      <th>13</th>\n",
       "      <td>876</td>\n",
       "      <td>Chennai Super Kings</td>\n",
       "      <td>2021</td>\n",
       "    </tr>\n",
       "    <tr>\n",
       "      <th>14</th>\n",
       "      <td>950</td>\n",
       "      <td>Gujarat Titans</td>\n",
       "      <td>2022</td>\n",
       "    </tr>\n",
       "    <tr>\n",
       "      <th>15</th>\n",
       "      <td>1024</td>\n",
       "      <td>Chennai Super Kings</td>\n",
       "      <td>2023</td>\n",
       "    </tr>\n",
       "  </tbody>\n",
       "</table>\n",
       "</div>"
      ],
      "text/plain": [
       "    match_no                 winner   season\n",
       "0         58       Rajasthan Royals  2007/08\n",
       "1        115        Deccan Chargers     2009\n",
       "2        175    Chennai Super Kings  2009/10\n",
       "3        248    Chennai Super Kings     2011\n",
       "4        322  Kolkata Knight Riders     2012\n",
       "5        398         Mumbai Indians     2013\n",
       "6        458  Kolkata Knight Riders     2014\n",
       "7        517         Mumbai Indians     2015\n",
       "8        577    Sunrisers Hyderabad     2016\n",
       "9        636         Mumbai Indians     2017\n",
       "10       696    Chennai Super Kings     2018\n",
       "11       756         Mumbai Indians     2019\n",
       "12       816         Mumbai Indians  2020/21\n",
       "13       876    Chennai Super Kings     2021\n",
       "14       950         Gujarat Titans     2022\n",
       "15      1024    Chennai Super Kings     2023"
      ]
     },
     "execution_count": 549,
     "metadata": {},
     "output_type": "execute_result"
    }
   ],
   "source": [
    "finals_winners = finals_winners.reset_index()"
   ]
  },
  {
   "cell_type": "code",
   "execution_count": 571,
   "id": "8b7623eb-1980-4787-b0e0-b02b22f6475e",
   "metadata": {},
   "outputs": [
    {
     "data": {
      "text/plain": [
       "{'2007/08': 'Rajasthan Royals',\n",
       " '2009': 'Deccan Chargers',\n",
       " '2009/10': 'Chennai Super Kings',\n",
       " '2011': 'Chennai Super Kings',\n",
       " '2012': 'Kolkata Knight Riders',\n",
       " '2013': 'Mumbai Indians',\n",
       " '2014': 'Kolkata Knight Riders',\n",
       " '2015': 'Mumbai Indians',\n",
       " '2016': 'Sunrisers Hyderabad',\n",
       " '2017': 'Mumbai Indians',\n",
       " '2018': 'Chennai Super Kings',\n",
       " '2019': 'Mumbai Indians',\n",
       " '2020/21': 'Mumbai Indians',\n",
       " '2021': 'Chennai Super Kings',\n",
       " '2022': 'Gujarat Titans',\n",
       " '2023': 'Chennai Super Kings'}"
      ]
     },
     "execution_count": 571,
     "metadata": {},
     "output_type": "execute_result"
    }
   ],
   "source": [
    "season_winner_dict = {row['season']: row['winner'] for _, row in finals_winners.iterrows()}\n",
    "season_winner_dict"
   ]
  },
  {
   "cell_type": "code",
   "execution_count": 569,
   "id": "a199ccfc-098a-4202-9da1-6af007cbf6e0",
   "metadata": {},
   "outputs": [],
   "source": [
    "from collections import Counter"
   ]
  },
  {
   "cell_type": "code",
   "execution_count": 572,
   "id": "65a84ddc-03ce-4c0f-93d0-235b4a12e4cb",
   "metadata": {},
   "outputs": [
    {
     "data": {
      "text/plain": [
       "Counter({'Chennai Super Kings': 5,\n",
       "         'Mumbai Indians': 5,\n",
       "         'Kolkata Knight Riders': 2,\n",
       "         'Rajasthan Royals': 1,\n",
       "         'Deccan Chargers': 1,\n",
       "         'Sunrisers Hyderabad': 1,\n",
       "         'Gujarat Titans': 1})"
      ]
     },
     "execution_count": 572,
     "metadata": {},
     "output_type": "execute_result"
    }
   ],
   "source": [
    "Counter(season_winner_dict.values())"
   ]
  },
  {
   "cell_type": "markdown",
   "id": "39a35b3d-aa2a-4557-b452-5e3297bc8259",
   "metadata": {},
   "source": [
    "### comparitive analysis of IPL teams"
   ]
  },
  {
   "cell_type": "code",
   "execution_count": 634,
   "id": "f0c74214-faf7-4284-a409-b9405eda9eac",
   "metadata": {},
   "outputs": [],
   "source": [
    "ipl_teams = ipl_mat[['team1','team2']]"
   ]
  },
  {
   "cell_type": "code",
   "execution_count": 635,
   "id": "0e7296bf-cbff-4d79-8bdd-c74d91e527ba",
   "metadata": {},
   "outputs": [],
   "source": [
    "teams_played = ipl_teams['team1'].value_counts() + ipl_teams['team2'].value_counts()"
   ]
  },
  {
   "cell_type": "code",
   "execution_count": 636,
   "id": "35b826d5-c838-496d-bed8-d6caa36ad2db",
   "metadata": {},
   "outputs": [],
   "source": [
    "teams_played= teams_played.to_frame().reset_index()"
   ]
  },
  {
   "cell_type": "code",
   "execution_count": 637,
   "id": "a312cf61-bdfd-4746-8f84-b3169753d06a",
   "metadata": {},
   "outputs": [],
   "source": [
    "teams_played.columns = [\"team\", \"matches_played\"]"
   ]
  },
  {
   "cell_type": "code",
   "execution_count": 664,
   "id": "fde83698-42e0-4dce-80ac-531c503fd1a7",
   "metadata": {},
   "outputs": [
    {
     "data": {
      "text/plain": [
       "Index(['team', 'matches_played'], dtype='object')"
      ]
     },
     "execution_count": 664,
     "metadata": {},
     "output_type": "execute_result"
    }
   ],
   "source": [
    "teams_played.columns"
   ]
  },
  {
   "cell_type": "code",
   "execution_count": 639,
   "id": "d5ff3da8-6ca5-4edf-99f3-ec596fed155b",
   "metadata": {},
   "outputs": [],
   "source": [
    "wins = pd.DataFrame(ipl_mat['winner'].value_counts()).reset_index()"
   ]
  },
  {
   "cell_type": "code",
   "execution_count": 663,
   "id": "8c62f364-1ee8-42a0-a0b0-6134deb4b906",
   "metadata": {},
   "outputs": [
    {
     "data": {
      "text/plain": [
       "Index(['team', 'no_of_wins'], dtype='object')"
      ]
     },
     "execution_count": 663,
     "metadata": {},
     "output_type": "execute_result"
    }
   ],
   "source": [
    "wins = wins.rename(columns = {\"winner\" : \"team\", \"count\":\"no_of_wins\"})\n",
    "wins.columns"
   ]
  },
  {
   "cell_type": "code",
   "execution_count": 666,
   "id": "47b2fb22-64b7-405f-87f7-8f06ab581e1e",
   "metadata": {},
   "outputs": [],
   "source": [
    "winning_teams = pd.merge(teams_played, wins, on='team', how='inner')"
   ]
  },
  {
   "cell_type": "code",
   "execution_count": 667,
   "id": "713b5e72-e4fc-4bd7-984d-2ec08b312953",
   "metadata": {},
   "outputs": [
    {
     "data": {
      "text/html": [
       "<div>\n",
       "<style scoped>\n",
       "    .dataframe tbody tr th:only-of-type {\n",
       "        vertical-align: middle;\n",
       "    }\n",
       "\n",
       "    .dataframe tbody tr th {\n",
       "        vertical-align: top;\n",
       "    }\n",
       "\n",
       "    .dataframe thead th {\n",
       "        text-align: right;\n",
       "    }\n",
       "</style>\n",
       "<table border=\"1\" class=\"dataframe\">\n",
       "  <thead>\n",
       "    <tr style=\"text-align: right;\">\n",
       "      <th></th>\n",
       "      <th>team</th>\n",
       "      <th>matches_played</th>\n",
       "      <th>no_of_wins</th>\n",
       "    </tr>\n",
       "  </thead>\n",
       "  <tbody>\n",
       "    <tr>\n",
       "      <th>0</th>\n",
       "      <td>Chennai Super Kings</td>\n",
       "      <td>238</td>\n",
       "      <td>138</td>\n",
       "    </tr>\n",
       "    <tr>\n",
       "      <th>1</th>\n",
       "      <td>Deccan Chargers</td>\n",
       "      <td>75</td>\n",
       "      <td>29</td>\n",
       "    </tr>\n",
       "    <tr>\n",
       "      <th>2</th>\n",
       "      <td>Delhi Capitals</td>\n",
       "      <td>91</td>\n",
       "      <td>48</td>\n",
       "    </tr>\n",
       "    <tr>\n",
       "      <th>3</th>\n",
       "      <td>Delhi Daredevils</td>\n",
       "      <td>161</td>\n",
       "      <td>67</td>\n",
       "    </tr>\n",
       "    <tr>\n",
       "      <th>4</th>\n",
       "      <td>Gujarat Lions</td>\n",
       "      <td>30</td>\n",
       "      <td>13</td>\n",
       "    </tr>\n",
       "    <tr>\n",
       "      <th>5</th>\n",
       "      <td>Gujarat Titans</td>\n",
       "      <td>45</td>\n",
       "      <td>28</td>\n",
       "    </tr>\n",
       "    <tr>\n",
       "      <th>6</th>\n",
       "      <td>Kings XI Punjab</td>\n",
       "      <td>190</td>\n",
       "      <td>88</td>\n",
       "    </tr>\n",
       "    <tr>\n",
       "      <th>7</th>\n",
       "      <td>Kochi Tuskers Kerala</td>\n",
       "      <td>14</td>\n",
       "      <td>6</td>\n",
       "    </tr>\n",
       "    <tr>\n",
       "      <th>8</th>\n",
       "      <td>Kolkata Knight Riders</td>\n",
       "      <td>250</td>\n",
       "      <td>130</td>\n",
       "    </tr>\n",
       "    <tr>\n",
       "      <th>9</th>\n",
       "      <td>Lucknow Super Giants</td>\n",
       "      <td>44</td>\n",
       "      <td>24</td>\n",
       "    </tr>\n",
       "    <tr>\n",
       "      <th>10</th>\n",
       "      <td>Mumbai Indians</td>\n",
       "      <td>261</td>\n",
       "      <td>144</td>\n",
       "    </tr>\n",
       "    <tr>\n",
       "      <th>11</th>\n",
       "      <td>Pune Warriors</td>\n",
       "      <td>46</td>\n",
       "      <td>12</td>\n",
       "    </tr>\n",
       "    <tr>\n",
       "      <th>12</th>\n",
       "      <td>Punjab Kings</td>\n",
       "      <td>56</td>\n",
       "      <td>24</td>\n",
       "    </tr>\n",
       "    <tr>\n",
       "      <th>13</th>\n",
       "      <td>Rajasthan Royals</td>\n",
       "      <td>221</td>\n",
       "      <td>112</td>\n",
       "    </tr>\n",
       "    <tr>\n",
       "      <th>14</th>\n",
       "      <td>Rising Pune Supergiant</td>\n",
       "      <td>16</td>\n",
       "      <td>10</td>\n",
       "    </tr>\n",
       "    <tr>\n",
       "      <th>15</th>\n",
       "      <td>Rising Pune Supergiants</td>\n",
       "      <td>14</td>\n",
       "      <td>5</td>\n",
       "    </tr>\n",
       "    <tr>\n",
       "      <th>16</th>\n",
       "      <td>Royal Challengers Bangalore</td>\n",
       "      <td>240</td>\n",
       "      <td>116</td>\n",
       "    </tr>\n",
       "    <tr>\n",
       "      <th>17</th>\n",
       "      <td>Royal Challengers Bengaluru</td>\n",
       "      <td>15</td>\n",
       "      <td>7</td>\n",
       "    </tr>\n",
       "    <tr>\n",
       "      <th>18</th>\n",
       "      <td>Sunrisers Hyderabad</td>\n",
       "      <td>181</td>\n",
       "      <td>88</td>\n",
       "    </tr>\n",
       "  </tbody>\n",
       "</table>\n",
       "</div>"
      ],
      "text/plain": [
       "                           team  matches_played  no_of_wins\n",
       "0           Chennai Super Kings             238         138\n",
       "1               Deccan Chargers              75          29\n",
       "2                Delhi Capitals              91          48\n",
       "3              Delhi Daredevils             161          67\n",
       "4                 Gujarat Lions              30          13\n",
       "5                Gujarat Titans              45          28\n",
       "6               Kings XI Punjab             190          88\n",
       "7          Kochi Tuskers Kerala              14           6\n",
       "8         Kolkata Knight Riders             250         130\n",
       "9          Lucknow Super Giants              44          24\n",
       "10               Mumbai Indians             261         144\n",
       "11                Pune Warriors              46          12\n",
       "12                 Punjab Kings              56          24\n",
       "13             Rajasthan Royals             221         112\n",
       "14       Rising Pune Supergiant              16          10\n",
       "15      Rising Pune Supergiants              14           5\n",
       "16  Royal Challengers Bangalore             240         116\n",
       "17  Royal Challengers Bengaluru              15           7\n",
       "18          Sunrisers Hyderabad             181          88"
      ]
     },
     "execution_count": 667,
     "metadata": {},
     "output_type": "execute_result"
    }
   ],
   "source": [
    "winning_teams"
   ]
  },
  {
   "cell_type": "code",
   "execution_count": 675,
   "id": "ed2b306d-aac8-4cfb-b94a-b817607ae986",
   "metadata": {},
   "outputs": [],
   "source": [
    "trace1 = go.Bar(x= winning_teams[\"team\"], y =winning_teams[\"no_of_wins\"], name =\"matches_won\")\n",
    "trace2 = go.Bar(x= winning_teams[\"team\"], y =winning_teams[\"matches_played\"],name = \"played_matches\")"
   ]
  },
  {
   "cell_type": "code",
   "execution_count": 676,
   "id": "c4c02a7e-16e7-4bd3-929f-f0823574ca75",
   "metadata": {},
   "outputs": [],
   "source": [
    "data = [trace1, trace2]"
   ]
  },
  {
   "cell_type": "code",
   "execution_count": 677,
   "id": "84a2607a-2ef8-40fb-b486-bdd0cf1cb0fa",
   "metadata": {},
   "outputs": [
    {
     "data": {
      "application/vnd.plotly.v1+json": {
       "config": {
        "linkText": "Export to plot.ly",
        "plotlyServerURL": "https://plot.ly",
        "showLink": false
       },
       "data": [
        {
         "name": "matches_won",
         "type": "bar",
         "x": [
          "Chennai Super Kings",
          "Deccan Chargers",
          "Delhi Capitals",
          "Delhi Daredevils",
          "Gujarat Lions",
          "Gujarat Titans",
          "Kings XI Punjab",
          "Kochi Tuskers Kerala",
          "Kolkata Knight Riders",
          "Lucknow Super Giants",
          "Mumbai Indians",
          "Pune Warriors",
          "Punjab Kings",
          "Rajasthan Royals",
          "Rising Pune Supergiant",
          "Rising Pune Supergiants",
          "Royal Challengers Bangalore",
          "Royal Challengers Bengaluru",
          "Sunrisers Hyderabad"
         ],
         "y": [
          138,
          29,
          48,
          67,
          13,
          28,
          88,
          6,
          130,
          24,
          144,
          12,
          24,
          112,
          10,
          5,
          116,
          7,
          88
         ]
        },
        {
         "name": "played_matches",
         "type": "bar",
         "x": [
          "Chennai Super Kings",
          "Deccan Chargers",
          "Delhi Capitals",
          "Delhi Daredevils",
          "Gujarat Lions",
          "Gujarat Titans",
          "Kings XI Punjab",
          "Kochi Tuskers Kerala",
          "Kolkata Knight Riders",
          "Lucknow Super Giants",
          "Mumbai Indians",
          "Pune Warriors",
          "Punjab Kings",
          "Rajasthan Royals",
          "Rising Pune Supergiant",
          "Rising Pune Supergiants",
          "Royal Challengers Bangalore",
          "Royal Challengers Bengaluru",
          "Sunrisers Hyderabad"
         ],
         "y": [
          238,
          75,
          91,
          161,
          30,
          45,
          190,
          14,
          250,
          44,
          261,
          46,
          56,
          221,
          16,
          14,
          240,
          15,
          181
         ]
        }
       ],
       "layout": {
        "autosize": true,
        "template": {
         "data": {
          "bar": [
           {
            "error_x": {
             "color": "#2a3f5f"
            },
            "error_y": {
             "color": "#2a3f5f"
            },
            "marker": {
             "line": {
              "color": "#E5ECF6",
              "width": 0.5
             },
             "pattern": {
              "fillmode": "overlay",
              "size": 10,
              "solidity": 0.2
             }
            },
            "type": "bar"
           }
          ],
          "barpolar": [
           {
            "marker": {
             "line": {
              "color": "#E5ECF6",
              "width": 0.5
             },
             "pattern": {
              "fillmode": "overlay",
              "size": 10,
              "solidity": 0.2
             }
            },
            "type": "barpolar"
           }
          ],
          "carpet": [
           {
            "aaxis": {
             "endlinecolor": "#2a3f5f",
             "gridcolor": "white",
             "linecolor": "white",
             "minorgridcolor": "white",
             "startlinecolor": "#2a3f5f"
            },
            "baxis": {
             "endlinecolor": "#2a3f5f",
             "gridcolor": "white",
             "linecolor": "white",
             "minorgridcolor": "white",
             "startlinecolor": "#2a3f5f"
            },
            "type": "carpet"
           }
          ],
          "choropleth": [
           {
            "colorbar": {
             "outlinewidth": 0,
             "ticks": ""
            },
            "type": "choropleth"
           }
          ],
          "contour": [
           {
            "colorbar": {
             "outlinewidth": 0,
             "ticks": ""
            },
            "colorscale": [
             [
              0,
              "#0d0887"
             ],
             [
              0.1111111111111111,
              "#46039f"
             ],
             [
              0.2222222222222222,
              "#7201a8"
             ],
             [
              0.3333333333333333,
              "#9c179e"
             ],
             [
              0.4444444444444444,
              "#bd3786"
             ],
             [
              0.5555555555555556,
              "#d8576b"
             ],
             [
              0.6666666666666666,
              "#ed7953"
             ],
             [
              0.7777777777777778,
              "#fb9f3a"
             ],
             [
              0.8888888888888888,
              "#fdca26"
             ],
             [
              1,
              "#f0f921"
             ]
            ],
            "type": "contour"
           }
          ],
          "contourcarpet": [
           {
            "colorbar": {
             "outlinewidth": 0,
             "ticks": ""
            },
            "type": "contourcarpet"
           }
          ],
          "heatmap": [
           {
            "colorbar": {
             "outlinewidth": 0,
             "ticks": ""
            },
            "colorscale": [
             [
              0,
              "#0d0887"
             ],
             [
              0.1111111111111111,
              "#46039f"
             ],
             [
              0.2222222222222222,
              "#7201a8"
             ],
             [
              0.3333333333333333,
              "#9c179e"
             ],
             [
              0.4444444444444444,
              "#bd3786"
             ],
             [
              0.5555555555555556,
              "#d8576b"
             ],
             [
              0.6666666666666666,
              "#ed7953"
             ],
             [
              0.7777777777777778,
              "#fb9f3a"
             ],
             [
              0.8888888888888888,
              "#fdca26"
             ],
             [
              1,
              "#f0f921"
             ]
            ],
            "type": "heatmap"
           }
          ],
          "heatmapgl": [
           {
            "colorbar": {
             "outlinewidth": 0,
             "ticks": ""
            },
            "colorscale": [
             [
              0,
              "#0d0887"
             ],
             [
              0.1111111111111111,
              "#46039f"
             ],
             [
              0.2222222222222222,
              "#7201a8"
             ],
             [
              0.3333333333333333,
              "#9c179e"
             ],
             [
              0.4444444444444444,
              "#bd3786"
             ],
             [
              0.5555555555555556,
              "#d8576b"
             ],
             [
              0.6666666666666666,
              "#ed7953"
             ],
             [
              0.7777777777777778,
              "#fb9f3a"
             ],
             [
              0.8888888888888888,
              "#fdca26"
             ],
             [
              1,
              "#f0f921"
             ]
            ],
            "type": "heatmapgl"
           }
          ],
          "histogram": [
           {
            "marker": {
             "pattern": {
              "fillmode": "overlay",
              "size": 10,
              "solidity": 0.2
             }
            },
            "type": "histogram"
           }
          ],
          "histogram2d": [
           {
            "colorbar": {
             "outlinewidth": 0,
             "ticks": ""
            },
            "colorscale": [
             [
              0,
              "#0d0887"
             ],
             [
              0.1111111111111111,
              "#46039f"
             ],
             [
              0.2222222222222222,
              "#7201a8"
             ],
             [
              0.3333333333333333,
              "#9c179e"
             ],
             [
              0.4444444444444444,
              "#bd3786"
             ],
             [
              0.5555555555555556,
              "#d8576b"
             ],
             [
              0.6666666666666666,
              "#ed7953"
             ],
             [
              0.7777777777777778,
              "#fb9f3a"
             ],
             [
              0.8888888888888888,
              "#fdca26"
             ],
             [
              1,
              "#f0f921"
             ]
            ],
            "type": "histogram2d"
           }
          ],
          "histogram2dcontour": [
           {
            "colorbar": {
             "outlinewidth": 0,
             "ticks": ""
            },
            "colorscale": [
             [
              0,
              "#0d0887"
             ],
             [
              0.1111111111111111,
              "#46039f"
             ],
             [
              0.2222222222222222,
              "#7201a8"
             ],
             [
              0.3333333333333333,
              "#9c179e"
             ],
             [
              0.4444444444444444,
              "#bd3786"
             ],
             [
              0.5555555555555556,
              "#d8576b"
             ],
             [
              0.6666666666666666,
              "#ed7953"
             ],
             [
              0.7777777777777778,
              "#fb9f3a"
             ],
             [
              0.8888888888888888,
              "#fdca26"
             ],
             [
              1,
              "#f0f921"
             ]
            ],
            "type": "histogram2dcontour"
           }
          ],
          "mesh3d": [
           {
            "colorbar": {
             "outlinewidth": 0,
             "ticks": ""
            },
            "type": "mesh3d"
           }
          ],
          "parcoords": [
           {
            "line": {
             "colorbar": {
              "outlinewidth": 0,
              "ticks": ""
             }
            },
            "type": "parcoords"
           }
          ],
          "pie": [
           {
            "automargin": true,
            "type": "pie"
           }
          ],
          "scatter": [
           {
            "fillpattern": {
             "fillmode": "overlay",
             "size": 10,
             "solidity": 0.2
            },
            "type": "scatter"
           }
          ],
          "scatter3d": [
           {
            "line": {
             "colorbar": {
              "outlinewidth": 0,
              "ticks": ""
             }
            },
            "marker": {
             "colorbar": {
              "outlinewidth": 0,
              "ticks": ""
             }
            },
            "type": "scatter3d"
           }
          ],
          "scattercarpet": [
           {
            "marker": {
             "colorbar": {
              "outlinewidth": 0,
              "ticks": ""
             }
            },
            "type": "scattercarpet"
           }
          ],
          "scattergeo": [
           {
            "marker": {
             "colorbar": {
              "outlinewidth": 0,
              "ticks": ""
             }
            },
            "type": "scattergeo"
           }
          ],
          "scattergl": [
           {
            "marker": {
             "colorbar": {
              "outlinewidth": 0,
              "ticks": ""
             }
            },
            "type": "scattergl"
           }
          ],
          "scattermapbox": [
           {
            "marker": {
             "colorbar": {
              "outlinewidth": 0,
              "ticks": ""
             }
            },
            "type": "scattermapbox"
           }
          ],
          "scatterpolar": [
           {
            "marker": {
             "colorbar": {
              "outlinewidth": 0,
              "ticks": ""
             }
            },
            "type": "scatterpolar"
           }
          ],
          "scatterpolargl": [
           {
            "marker": {
             "colorbar": {
              "outlinewidth": 0,
              "ticks": ""
             }
            },
            "type": "scatterpolargl"
           }
          ],
          "scatterternary": [
           {
            "marker": {
             "colorbar": {
              "outlinewidth": 0,
              "ticks": ""
             }
            },
            "type": "scatterternary"
           }
          ],
          "surface": [
           {
            "colorbar": {
             "outlinewidth": 0,
             "ticks": ""
            },
            "colorscale": [
             [
              0,
              "#0d0887"
             ],
             [
              0.1111111111111111,
              "#46039f"
             ],
             [
              0.2222222222222222,
              "#7201a8"
             ],
             [
              0.3333333333333333,
              "#9c179e"
             ],
             [
              0.4444444444444444,
              "#bd3786"
             ],
             [
              0.5555555555555556,
              "#d8576b"
             ],
             [
              0.6666666666666666,
              "#ed7953"
             ],
             [
              0.7777777777777778,
              "#fb9f3a"
             ],
             [
              0.8888888888888888,
              "#fdca26"
             ],
             [
              1,
              "#f0f921"
             ]
            ],
            "type": "surface"
           }
          ],
          "table": [
           {
            "cells": {
             "fill": {
              "color": "#EBF0F8"
             },
             "line": {
              "color": "white"
             }
            },
            "header": {
             "fill": {
              "color": "#C8D4E3"
             },
             "line": {
              "color": "white"
             }
            },
            "type": "table"
           }
          ]
         },
         "layout": {
          "annotationdefaults": {
           "arrowcolor": "#2a3f5f",
           "arrowhead": 0,
           "arrowwidth": 1
          },
          "autotypenumbers": "strict",
          "coloraxis": {
           "colorbar": {
            "outlinewidth": 0,
            "ticks": ""
           }
          },
          "colorscale": {
           "diverging": [
            [
             0,
             "#8e0152"
            ],
            [
             0.1,
             "#c51b7d"
            ],
            [
             0.2,
             "#de77ae"
            ],
            [
             0.3,
             "#f1b6da"
            ],
            [
             0.4,
             "#fde0ef"
            ],
            [
             0.5,
             "#f7f7f7"
            ],
            [
             0.6,
             "#e6f5d0"
            ],
            [
             0.7,
             "#b8e186"
            ],
            [
             0.8,
             "#7fbc41"
            ],
            [
             0.9,
             "#4d9221"
            ],
            [
             1,
             "#276419"
            ]
           ],
           "sequential": [
            [
             0,
             "#0d0887"
            ],
            [
             0.1111111111111111,
             "#46039f"
            ],
            [
             0.2222222222222222,
             "#7201a8"
            ],
            [
             0.3333333333333333,
             "#9c179e"
            ],
            [
             0.4444444444444444,
             "#bd3786"
            ],
            [
             0.5555555555555556,
             "#d8576b"
            ],
            [
             0.6666666666666666,
             "#ed7953"
            ],
            [
             0.7777777777777778,
             "#fb9f3a"
            ],
            [
             0.8888888888888888,
             "#fdca26"
            ],
            [
             1,
             "#f0f921"
            ]
           ],
           "sequentialminus": [
            [
             0,
             "#0d0887"
            ],
            [
             0.1111111111111111,
             "#46039f"
            ],
            [
             0.2222222222222222,
             "#7201a8"
            ],
            [
             0.3333333333333333,
             "#9c179e"
            ],
            [
             0.4444444444444444,
             "#bd3786"
            ],
            [
             0.5555555555555556,
             "#d8576b"
            ],
            [
             0.6666666666666666,
             "#ed7953"
            ],
            [
             0.7777777777777778,
             "#fb9f3a"
            ],
            [
             0.8888888888888888,
             "#fdca26"
            ],
            [
             1,
             "#f0f921"
            ]
           ]
          },
          "colorway": [
           "#636efa",
           "#EF553B",
           "#00cc96",
           "#ab63fa",
           "#FFA15A",
           "#19d3f3",
           "#FF6692",
           "#B6E880",
           "#FF97FF",
           "#FECB52"
          ],
          "font": {
           "color": "#2a3f5f"
          },
          "geo": {
           "bgcolor": "white",
           "lakecolor": "white",
           "landcolor": "#E5ECF6",
           "showlakes": true,
           "showland": true,
           "subunitcolor": "white"
          },
          "hoverlabel": {
           "align": "left"
          },
          "hovermode": "closest",
          "mapbox": {
           "style": "light"
          },
          "paper_bgcolor": "white",
          "plot_bgcolor": "#E5ECF6",
          "polar": {
           "angularaxis": {
            "gridcolor": "white",
            "linecolor": "white",
            "ticks": ""
           },
           "bgcolor": "#E5ECF6",
           "radialaxis": {
            "gridcolor": "white",
            "linecolor": "white",
            "ticks": ""
           }
          },
          "scene": {
           "xaxis": {
            "backgroundcolor": "#E5ECF6",
            "gridcolor": "white",
            "gridwidth": 2,
            "linecolor": "white",
            "showbackground": true,
            "ticks": "",
            "zerolinecolor": "white"
           },
           "yaxis": {
            "backgroundcolor": "#E5ECF6",
            "gridcolor": "white",
            "gridwidth": 2,
            "linecolor": "white",
            "showbackground": true,
            "ticks": "",
            "zerolinecolor": "white"
           },
           "zaxis": {
            "backgroundcolor": "#E5ECF6",
            "gridcolor": "white",
            "gridwidth": 2,
            "linecolor": "white",
            "showbackground": true,
            "ticks": "",
            "zerolinecolor": "white"
           }
          },
          "shapedefaults": {
           "line": {
            "color": "#2a3f5f"
           }
          },
          "ternary": {
           "aaxis": {
            "gridcolor": "white",
            "linecolor": "white",
            "ticks": ""
           },
           "baxis": {
            "gridcolor": "white",
            "linecolor": "white",
            "ticks": ""
           },
           "bgcolor": "#E5ECF6",
           "caxis": {
            "gridcolor": "white",
            "linecolor": "white",
            "ticks": ""
           }
          },
          "title": {
           "x": 0.05
          },
          "xaxis": {
           "automargin": true,
           "gridcolor": "white",
           "linecolor": "white",
           "ticks": "",
           "title": {
            "standoff": 15
           },
           "zerolinecolor": "white",
           "zerolinewidth": 2
          },
          "yaxis": {
           "automargin": true,
           "gridcolor": "white",
           "linecolor": "white",
           "ticks": "",
           "title": {
            "standoff": 15
           },
           "zerolinecolor": "white",
           "zerolinewidth": 2
          }
         }
        },
        "xaxis": {
         "autorange": true,
         "range": [
          -0.5,
          18.5
         ],
         "type": "category"
        },
        "yaxis": {
         "autorange": true,
         "range": [
          0,
          274.7368421052632
         ],
         "type": "linear"
        }
       }
      },
      "image/png": "[encoded data removed]",
      "text/html": [
       "<div>                            <div id=\"f75b3a5a-c08c-4a08-9caf-47835880fc4b\" class=\"plotly-graph-div\" style=\"height:525px; width:100%;\"></div>            <script type=\"text/javascript\">                require([\"plotly\"], function(Plotly) {                    window.PLOTLYENV=window.PLOTLYENV || {};                                    if (document.getElementById(\"f75b3a5a-c08c-4a08-9caf-47835880fc4b\")) {                    Plotly.newPlot(                        \"f75b3a5a-c08c-4a08-9caf-47835880fc4b\",                        [{\"name\":\"matches_won\",\"x\":[\"Chennai Super Kings\",\"Deccan Chargers\",\"Delhi Capitals\",\"Delhi Daredevils\",\"Gujarat Lions\",\"Gujarat Titans\",\"Kings XI Punjab\",\"Kochi Tuskers Kerala\",\"Kolkata Knight Riders\",\"Lucknow Super Giants\",\"Mumbai Indians\",\"Pune Warriors\",\"Punjab Kings\",\"Rajasthan Royals\",\"Rising Pune Supergiant\",\"Rising Pune Supergiants\",\"Royal Challengers Bangalore\",\"Royal Challengers Bengaluru\",\"Sunrisers Hyderabad\"],\"y\":[138,29,48,67,13,28,88,6,130,24,144,12,24,112,10,5,116,7,88],\"type\":\"bar\"},{\"name\":\"played_matches\",\"x\":[\"Chennai Super Kings\",\"Deccan Chargers\",\"Delhi Capitals\",\"Delhi Daredevils\",\"Gujarat Lions\",\"Gujarat Titans\",\"Kings XI Punjab\",\"Kochi Tuskers Kerala\",\"Kolkata Knight Riders\",\"Lucknow Super Giants\",\"Mumbai Indians\",\"Pune Warriors\",\"Punjab Kings\",\"Rajasthan Royals\",\"Rising Pune Supergiant\",\"Rising Pune Supergiants\",\"Royal Challengers Bangalore\",\"Royal Challengers Bengaluru\",\"Sunrisers Hyderabad\"],\"y\":[238,75,91,161,30,45,190,14,250,44,261,46,56,221,16,14,240,15,181],\"type\":\"bar\"}],                        {\"template\":{\"data\":{\"barpolar\":[{\"marker\":{\"line\":{\"color\":\"#E5ECF6\",\"width\":0.5},\"pattern\":{\"fillmode\":\"overlay\",\"size\":10,\"solidity\":0.2}},\"type\":\"barpolar\"}],\"bar\":[{\"error_x\":{\"color\":\"#2a3f5f\"},\"error_y\":{\"color\":\"#2a3f5f\"},\"marker\":{\"line\":{\"color\":\"#E5ECF6\",\"width\":0.5},\"pattern\":{\"fillmode\":\"overlay\",\"size\":10,\"solidity\":0.2}},\"type\":\"bar\"}],\"carpet\":[{\"aaxis\":{\"endlinecolor\":\"#2a3f5f\",\"gridcolor\":\"white\",\"linecolor\":\"white\",\"minorgridcolor\":\"white\",\"startlinecolor\":\"#2a3f5f\"},\"baxis\":{\"endlinecolor\":\"#2a3f5f\",\"gridcolor\":\"white\",\"linecolor\":\"white\",\"minorgridcolor\":\"white\",\"startlinecolor\":\"#2a3f5f\"},\"type\":\"carpet\"}],\"choropleth\":[{\"colorbar\":{\"outlinewidth\":0,\"ticks\":\"\"},\"type\":\"choropleth\"}],\"contourcarpet\":[{\"colorbar\":{\"outlinewidth\":0,\"ticks\":\"\"},\"type\":\"contourcarpet\"}],\"contour\":[{\"colorbar\":{\"outlinewidth\":0,\"ticks\":\"\"},\"colorscale\":[[0.0,\"#0d0887\"],[0.1111111111111111,\"#46039f\"],[0.2222222222222222,\"#7201a8\"],[0.3333333333333333,\"#9c179e\"],[0.4444444444444444,\"#bd3786\"],[0.5555555555555556,\"#d8576b\"],[0.6666666666666666,\"#ed7953\"],[0.7777777777777778,\"#fb9f3a\"],[0.8888888888888888,\"#fdca26\"],[1.0,\"#f0f921\"]],\"type\":\"contour\"}],\"heatmapgl\":[{\"colorbar\":{\"outlinewidth\":0,\"ticks\":\"\"},\"colorscale\":[[0.0,\"#0d0887\"],[0.1111111111111111,\"#46039f\"],[0.2222222222222222,\"#7201a8\"],[0.3333333333333333,\"#9c179e\"],[0.4444444444444444,\"#bd3786\"],[0.5555555555555556,\"#d8576b\"],[0.6666666666666666,\"#ed7953\"],[0.7777777777777778,\"#fb9f3a\"],[0.8888888888888888,\"#fdca26\"],[1.0,\"#f0f921\"]],\"type\":\"heatmapgl\"}],\"heatmap\":[{\"colorbar\":{\"outlinewidth\":0,\"ticks\":\"\"},\"colorscale\":[[0.0,\"#0d0887\"],[0.1111111111111111,\"#46039f\"],[0.2222222222222222,\"#7201a8\"],[0.3333333333333333,\"#9c179e\"],[0.4444444444444444,\"#bd3786\"],[0.5555555555555556,\"#d8576b\"],[0.6666666666666666,\"#ed7953\"],[0.7777777777777778,\"#fb9f3a\"],[0.8888888888888888,\"#fdca26\"],[1.0,\"#f0f921\"]],\"type\":\"heatmap\"}],\"histogram2dcontour\":[{\"colorbar\":{\"outlinewidth\":0,\"ticks\":\"\"},\"colorscale\":[[0.0,\"#0d0887\"],[0.1111111111111111,\"#46039f\"],[0.2222222222222222,\"#7201a8\"],[0.3333333333333333,\"#9c179e\"],[0.4444444444444444,\"#bd3786\"],[0.5555555555555556,\"#d8576b\"],[0.6666666666666666,\"#ed7953\"],[0.7777777777777778,\"#fb9f3a\"],[0.8888888888888888,\"#fdca26\"],[1.0,\"#f0f921\"]],\"type\":\"histogram2dcontour\"}],\"histogram2d\":[{\"colorbar\":{\"outlinewidth\":0,\"ticks\":\"\"},\"colorscale\":[[0.0,\"#0d0887\"],[0.1111111111111111,\"#46039f\"],[0.2222222222222222,\"#7201a8\"],[0.3333333333333333,\"#9c179e\"],[0.4444444444444444,\"#bd3786\"],[0.5555555555555556,\"#d8576b\"],[0.6666666666666666,\"#ed7953\"],[0.7777777777777778,\"#fb9f3a\"],[0.8888888888888888,\"#fdca26\"],[1.0,\"#f0f921\"]],\"type\":\"histogram2d\"}],\"histogram\":[{\"marker\":{\"pattern\":{\"fillmode\":\"overlay\",\"size\":10,\"solidity\":0.2}},\"type\":\"histogram\"}],\"mesh3d\":[{\"colorbar\":{\"outlinewidth\":0,\"ticks\":\"\"},\"type\":\"mesh3d\"}],\"parcoords\":[{\"line\":{\"colorbar\":{\"outlinewidth\":0,\"ticks\":\"\"}},\"type\":\"parcoords\"}],\"pie\":[{\"automargin\":true,\"type\":\"pie\"}],\"scatter3d\":[{\"line\":{\"colorbar\":{\"outlinewidth\":0,\"ticks\":\"\"}},\"marker\":{\"colorbar\":{\"outlinewidth\":0,\"ticks\":\"\"}},\"type\":\"scatter3d\"}],\"scattercarpet\":[{\"marker\":{\"colorbar\":{\"outlinewidth\":0,\"ticks\":\"\"}},\"type\":\"scattercarpet\"}],\"scattergeo\":[{\"marker\":{\"colorbar\":{\"outlinewidth\":0,\"ticks\":\"\"}},\"type\":\"scattergeo\"}],\"scattergl\":[{\"marker\":{\"colorbar\":{\"outlinewidth\":0,\"ticks\":\"\"}},\"type\":\"scattergl\"}],\"scattermapbox\":[{\"marker\":{\"colorbar\":{\"outlinewidth\":0,\"ticks\":\"\"}},\"type\":\"scattermapbox\"}],\"scatterpolargl\":[{\"marker\":{\"colorbar\":{\"outlinewidth\":0,\"ticks\":\"\"}},\"type\":\"scatterpolargl\"}],\"scatterpolar\":[{\"marker\":{\"colorbar\":{\"outlinewidth\":0,\"ticks\":\"\"}},\"type\":\"scatterpolar\"}],\"scatter\":[{\"fillpattern\":{\"fillmode\":\"overlay\",\"size\":10,\"solidity\":0.2},\"type\":\"scatter\"}],\"scatterternary\":[{\"marker\":{\"colorbar\":{\"outlinewidth\":0,\"ticks\":\"\"}},\"type\":\"scatterternary\"}],\"surface\":[{\"colorbar\":{\"outlinewidth\":0,\"ticks\":\"\"},\"colorscale\":[[0.0,\"#0d0887\"],[0.1111111111111111,\"#46039f\"],[0.2222222222222222,\"#7201a8\"],[0.3333333333333333,\"#9c179e\"],[0.4444444444444444,\"#bd3786\"],[0.5555555555555556,\"#d8576b\"],[0.6666666666666666,\"#ed7953\"],[0.7777777777777778,\"#fb9f3a\"],[0.8888888888888888,\"#fdca26\"],[1.0,\"#f0f921\"]],\"type\":\"surface\"}],\"table\":[{\"cells\":{\"fill\":{\"color\":\"#EBF0F8\"},\"line\":{\"color\":\"white\"}},\"header\":{\"fill\":{\"color\":\"#C8D4E3\"},\"line\":{\"color\":\"white\"}},\"type\":\"table\"}]},\"layout\":{\"annotationdefaults\":{\"arrowcolor\":\"#2a3f5f\",\"arrowhead\":0,\"arrowwidth\":1},\"autotypenumbers\":\"strict\",\"coloraxis\":{\"colorbar\":{\"outlinewidth\":0,\"ticks\":\"\"}},\"colorscale\":{\"diverging\":[[0,\"#8e0152\"],[0.1,\"#c51b7d\"],[0.2,\"#de77ae\"],[0.3,\"#f1b6da\"],[0.4,\"#fde0ef\"],[0.5,\"#f7f7f7\"],[0.6,\"#e6f5d0\"],[0.7,\"#b8e186\"],[0.8,\"#7fbc41\"],[0.9,\"#4d9221\"],[1,\"#276419\"]],\"sequential\":[[0.0,\"#0d0887\"],[0.1111111111111111,\"#46039f\"],[0.2222222222222222,\"#7201a8\"],[0.3333333333333333,\"#9c179e\"],[0.4444444444444444,\"#bd3786\"],[0.5555555555555556,\"#d8576b\"],[0.6666666666666666,\"#ed7953\"],[0.7777777777777778,\"#fb9f3a\"],[0.8888888888888888,\"#fdca26\"],[1.0,\"#f0f921\"]],\"sequentialminus\":[[0.0,\"#0d0887\"],[0.1111111111111111,\"#46039f\"],[0.2222222222222222,\"#7201a8\"],[0.3333333333333333,\"#9c179e\"],[0.4444444444444444,\"#bd3786\"],[0.5555555555555556,\"#d8576b\"],[0.6666666666666666,\"#ed7953\"],[0.7777777777777778,\"#fb9f3a\"],[0.8888888888888888,\"#fdca26\"],[1.0,\"#f0f921\"]]},\"colorway\":[\"#636efa\",\"#EF553B\",\"#00cc96\",\"#ab63fa\",\"#FFA15A\",\"#19d3f3\",\"#FF6692\",\"#B6E880\",\"#FF97FF\",\"#FECB52\"],\"font\":{\"color\":\"#2a3f5f\"},\"geo\":{\"bgcolor\":\"white\",\"lakecolor\":\"white\",\"landcolor\":\"#E5ECF6\",\"showlakes\":true,\"showland\":true,\"subunitcolor\":\"white\"},\"hoverlabel\":{\"align\":\"left\"},\"hovermode\":\"closest\",\"mapbox\":{\"style\":\"light\"},\"paper_bgcolor\":\"white\",\"plot_bgcolor\":\"#E5ECF6\",\"polar\":{\"angularaxis\":{\"gridcolor\":\"white\",\"linecolor\":\"white\",\"ticks\":\"\"},\"bgcolor\":\"#E5ECF6\",\"radialaxis\":{\"gridcolor\":\"white\",\"linecolor\":\"white\",\"ticks\":\"\"}},\"scene\":{\"xaxis\":{\"backgroundcolor\":\"#E5ECF6\",\"gridcolor\":\"white\",\"gridwidth\":2,\"linecolor\":\"white\",\"showbackground\":true,\"ticks\":\"\",\"zerolinecolor\":\"white\"},\"yaxis\":{\"backgroundcolor\":\"#E5ECF6\",\"gridcolor\":\"white\",\"gridwidth\":2,\"linecolor\":\"white\",\"showbackground\":true,\"ticks\":\"\",\"zerolinecolor\":\"white\"},\"zaxis\":{\"backgroundcolor\":\"#E5ECF6\",\"gridcolor\":\"white\",\"gridwidth\":2,\"linecolor\":\"white\",\"showbackground\":true,\"ticks\":\"\",\"zerolinecolor\":\"white\"}},\"shapedefaults\":{\"line\":{\"color\":\"#2a3f5f\"}},\"ternary\":{\"aaxis\":{\"gridcolor\":\"white\",\"linecolor\":\"white\",\"ticks\":\"\"},\"baxis\":{\"gridcolor\":\"white\",\"linecolor\":\"white\",\"ticks\":\"\"},\"bgcolor\":\"#E5ECF6\",\"caxis\":{\"gridcolor\":\"white\",\"linecolor\":\"white\",\"ticks\":\"\"}},\"title\":{\"x\":0.05},\"xaxis\":{\"automargin\":true,\"gridcolor\":\"white\",\"linecolor\":\"white\",\"ticks\":\"\",\"title\":{\"standoff\":15},\"zerolinecolor\":\"white\",\"zerolinewidth\":2},\"yaxis\":{\"automargin\":true,\"gridcolor\":\"white\",\"linecolor\":\"white\",\"ticks\":\"\",\"title\":{\"standoff\":15},\"zerolinecolor\":\"white\",\"zerolinewidth\":2}}}},                        {\"responsive\": true}                    ).then(function(){\n",
       "                            \n",
       "var gd = document.getElementById('f75b3a5a-c08c-4a08-9caf-47835880fc4b');\n",
       "var x = new MutationObserver(function (mutations, observer) {{\n",
       "        var display = window.getComputedStyle(gd).display;\n",
       "        if (!display || display === 'none') {{\n",
       "            console.log([gd, 'removed!']);\n",
       "            Plotly.purge(gd);\n",
       "            observer.disconnect();\n",
       "        }}\n",
       "}});\n",
       "\n",
       "// Listen for the removal of the full notebook cells\n",
       "var notebookContainer = gd.closest('#notebook-container');\n",
       "if (notebookContainer) {{\n",
       "    x.observe(notebookContainer, {childList: true});\n",
       "}}\n",
       "\n",
       "// Listen for the clearing of the current output cell\n",
       "var outputEl = gd.closest('.output');\n",
       "if (outputEl) {{\n",
       "    x.observe(outputEl, {childList: true});\n",
       "}}\n",
       "\n",
       "                        })                };                });            </script>        </div>"
      ]
     },
     "metadata": {},
     "output_type": "display_data"
    }
   ],
   "source": [
    "iplot(data)"
   ]
  },
  {
   "cell_type": "code",
   "execution_count": null,
   "id": "7963cfbf-1217-418c-9397-86517c0169ca",
   "metadata": {},
   "outputs": [],
   "source": []
  }
 ],
 "metadata": {
  "kernelspec": {
   "display_name": "Python 3 (ipykernel)",
   "language": "python",
   "name": "python3"
  },
  "language_info": {
   "codemirror_mode": {
    "name": "ipython",
    "version": 3
   },
   "file_extension": ".py",
   "mimetype": "text/x-python",
   "name": "python",
   "nbconvert_exporter": "python",
   "pygments_lexer": "ipython3",
   "version": "3.12.4"
  }
 },
 "nbformat": 4,
 "nbformat_minor": 5
}
