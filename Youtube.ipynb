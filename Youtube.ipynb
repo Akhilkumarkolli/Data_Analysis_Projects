{
 "cells": [
  {
   "cell_type": "markdown",
   "id": "e8112c8b-d00c-45f2-8e71-6565a4617a77",
   "metadata": {},
   "source": [
    "### Importing required libraries"
   ]
  },
  {
   "cell_type": "code",
   "execution_count": 3,
   "id": "d5b7a3a5-758a-4f92-b822-27c45620dacc",
   "metadata": {},
   "outputs": [],
   "source": [
    "import pandas as pd\n",
    "import numpy as np\n",
    "import matplotlib.pyplot as plt\n",
    "import seaborn as sns"
   ]
  },
  {
   "cell_type": "markdown",
   "id": "5f5396fc-aa7e-4e42-aadf-630e82ffe34b",
   "metadata": {},
   "source": [
    "### Fetching the data"
   ]
  },
  {
   "cell_type": "code",
   "execution_count": 4,
   "id": "1df420d2-4694-4205-8586-30bd99e7d403",
   "metadata": {},
   "outputs": [
    {
     "name": "stdout",
     "output_type": "stream",
     "text": [
      "['college.csv', '.ipynb_checkpoints', 'UScomments.csv']\n"
     ]
    }
   ],
   "source": [
    "import os\n",
    "\n",
    "directory_path = r\"//Users/akhilkumarkolli/Youtube\"\n",
    "print(os.listdir(directory_path))"
   ]
  },
  {
   "cell_type": "code",
   "execution_count": 5,
   "id": "f3ccd1a1-9c99-4665-b4d9-ddf0df9558fd",
   "metadata": {},
   "outputs": [
    {
     "name": "stderr",
     "output_type": "stream",
     "text": [
      "/var/folders/nf/jyh9wrds77jbcj7h60009_nw0000gn/T/ipykernel_44928/1264427927.py:2: DtypeWarning: Columns (2,3) have mixed types. Specify dtype option on import or set low_memory=False.\n",
      "  data = pd.read_csv(path_file, on_bad_lines='skip')\n"
     ]
    }
   ],
   "source": [
    "path_file = (\"/Users/akhilkumarkolli/Youtube/Uscomments.csv\")\n",
    "data = pd.read_csv(path_file, on_bad_lines='skip')"
   ]
  },
  {
   "cell_type": "markdown",
   "id": "144c5af3-2cb5-4b0b-8e8e-58a18a3b983c",
   "metadata": {},
   "source": [
    "### Data Preprocessing"
   ]
  },
  {
   "cell_type": "code",
   "execution_count": 6,
   "id": "df295458-aaa9-4601-812d-aa73e9d23e94",
   "metadata": {},
   "outputs": [
    {
     "data": {
      "text/html": [
       "<div>\n",
       "<style scoped>\n",
       "    .dataframe tbody tr th:only-of-type {\n",
       "        vertical-align: middle;\n",
       "    }\n",
       "\n",
       "    .dataframe tbody tr th {\n",
       "        vertical-align: top;\n",
       "    }\n",
       "\n",
       "    .dataframe thead th {\n",
       "        text-align: right;\n",
       "    }\n",
       "</style>\n",
       "<table border=\"1\" class=\"dataframe\">\n",
       "  <thead>\n",
       "    <tr style=\"text-align: right;\">\n",
       "      <th></th>\n",
       "      <th>video_id</th>\n",
       "      <th>comment_text</th>\n",
       "      <th>likes</th>\n",
       "      <th>replies</th>\n",
       "    </tr>\n",
       "  </thead>\n",
       "  <tbody>\n",
       "    <tr>\n",
       "      <th>0</th>\n",
       "      <td>XpVt6Z1Gjjo</td>\n",
       "      <td>Logan Paul it's yo big day ‼️‼️‼️</td>\n",
       "      <td>4</td>\n",
       "      <td>0</td>\n",
       "    </tr>\n",
       "    <tr>\n",
       "      <th>1</th>\n",
       "      <td>XpVt6Z1Gjjo</td>\n",
       "      <td>I've been following you from the start of your...</td>\n",
       "      <td>3</td>\n",
       "      <td>0</td>\n",
       "    </tr>\n",
       "    <tr>\n",
       "      <th>2</th>\n",
       "      <td>XpVt6Z1Gjjo</td>\n",
       "      <td>Say hi to Kong and maverick for me</td>\n",
       "      <td>3</td>\n",
       "      <td>0</td>\n",
       "    </tr>\n",
       "    <tr>\n",
       "      <th>3</th>\n",
       "      <td>XpVt6Z1Gjjo</td>\n",
       "      <td>MY FAN . attendance</td>\n",
       "      <td>3</td>\n",
       "      <td>0</td>\n",
       "    </tr>\n",
       "    <tr>\n",
       "      <th>4</th>\n",
       "      <td>XpVt6Z1Gjjo</td>\n",
       "      <td>trending 😉</td>\n",
       "      <td>3</td>\n",
       "      <td>0</td>\n",
       "    </tr>\n",
       "  </tbody>\n",
       "</table>\n",
       "</div>"
      ],
      "text/plain": [
       "      video_id                                       comment_text likes  \\\n",
       "0  XpVt6Z1Gjjo                  Logan Paul it's yo big day ‼️‼️‼️     4   \n",
       "1  XpVt6Z1Gjjo  I've been following you from the start of your...     3   \n",
       "2  XpVt6Z1Gjjo                 Say hi to Kong and maverick for me     3   \n",
       "3  XpVt6Z1Gjjo                                MY FAN . attendance     3   \n",
       "4  XpVt6Z1Gjjo                                         trending 😉     3   \n",
       "\n",
       "  replies  \n",
       "0       0  \n",
       "1       0  \n",
       "2       0  \n",
       "3       0  \n",
       "4       0  "
      ]
     },
     "execution_count": 6,
     "metadata": {},
     "output_type": "execute_result"
    }
   ],
   "source": [
    "data.head()"
   ]
  },
  {
   "cell_type": "code",
   "execution_count": 7,
   "id": "79a7609c-46bc-47ed-9428-6fdb00c7bfb8",
   "metadata": {},
   "outputs": [
    {
     "data": {
      "text/plain": [
       "video_id         0\n",
       "comment_text    26\n",
       "likes            0\n",
       "replies          0\n",
       "dtype: int64"
      ]
     },
     "execution_count": 7,
     "metadata": {},
     "output_type": "execute_result"
    }
   ],
   "source": [
    "data.isnull().sum()"
   ]
  },
  {
   "cell_type": "code",
   "execution_count": 8,
   "id": "443b52fe-f2cb-4cbc-8ec3-2b4df434159f",
   "metadata": {},
   "outputs": [],
   "source": [
    "data.dropna(inplace = True)"
   ]
  },
  {
   "cell_type": "code",
   "execution_count": 9,
   "id": "45cc6942-d701-4ad9-939d-9cf6aaf0d4b7",
   "metadata": {},
   "outputs": [
    {
     "data": {
      "text/plain": [
       "video_id        0\n",
       "comment_text    0\n",
       "likes           0\n",
       "replies         0\n",
       "dtype: int64"
      ]
     },
     "execution_count": 9,
     "metadata": {},
     "output_type": "execute_result"
    }
   ],
   "source": [
    "data.isnull().sum()"
   ]
  },
  {
   "cell_type": "markdown",
   "id": "cf7ea262-5bf5-48c5-9e82-795efe62df45",
   "metadata": {},
   "source": [
    "### Sentiment Analysis"
   ]
  },
  {
   "cell_type": "code",
   "execution_count": 10,
   "id": "409e3f7a-d39d-40a3-aad3-8fedfc3fde98",
   "metadata": {},
   "outputs": [
    {
     "name": "stdout",
     "output_type": "stream",
     "text": [
      "Requirement already satisfied: textblob in /opt/anaconda3/lib/python3.12/site-packages (0.18.0.post0)\n",
      "Requirement already satisfied: nltk>=3.8 in /opt/anaconda3/lib/python3.12/site-packages (from textblob) (3.8.1)\n",
      "Requirement already satisfied: click in /opt/anaconda3/lib/python3.12/site-packages (from nltk>=3.8->textblob) (8.1.7)\n",
      "Requirement already satisfied: joblib in /opt/anaconda3/lib/python3.12/site-packages (from nltk>=3.8->textblob) (1.4.2)\n",
      "Requirement already satisfied: regex>=2021.8.3 in /opt/anaconda3/lib/python3.12/site-packages (from nltk>=3.8->textblob) (2023.10.3)\n",
      "Requirement already satisfied: tqdm in /opt/anaconda3/lib/python3.12/site-packages (from nltk>=3.8->textblob) (4.66.4)\n"
     ]
    }
   ],
   "source": [
    "!pip install textblob"
   ]
  },
  {
   "cell_type": "code",
   "execution_count": 11,
   "id": "767ac77e-bd1d-4b2c-a38e-24f58a77c522",
   "metadata": {},
   "outputs": [],
   "source": [
    "from textblob import TextBlob"
   ]
  },
  {
   "cell_type": "code",
   "execution_count": 12,
   "id": "8910759c-fbdb-4e3a-bc48-e4ef2d3aecaa",
   "metadata": {},
   "outputs": [
    {
     "data": {
      "text/html": [
       "<div>\n",
       "<style scoped>\n",
       "    .dataframe tbody tr th:only-of-type {\n",
       "        vertical-align: middle;\n",
       "    }\n",
       "\n",
       "    .dataframe tbody tr th {\n",
       "        vertical-align: top;\n",
       "    }\n",
       "\n",
       "    .dataframe thead th {\n",
       "        text-align: right;\n",
       "    }\n",
       "</style>\n",
       "<table border=\"1\" class=\"dataframe\">\n",
       "  <thead>\n",
       "    <tr style=\"text-align: right;\">\n",
       "      <th></th>\n",
       "      <th>video_id</th>\n",
       "      <th>comment_text</th>\n",
       "      <th>likes</th>\n",
       "      <th>replies</th>\n",
       "    </tr>\n",
       "  </thead>\n",
       "  <tbody>\n",
       "    <tr>\n",
       "      <th>0</th>\n",
       "      <td>XpVt6Z1Gjjo</td>\n",
       "      <td>Logan Paul it's yo big day ‼️‼️‼️</td>\n",
       "      <td>4</td>\n",
       "      <td>0</td>\n",
       "    </tr>\n",
       "    <tr>\n",
       "      <th>1</th>\n",
       "      <td>XpVt6Z1Gjjo</td>\n",
       "      <td>I've been following you from the start of your...</td>\n",
       "      <td>3</td>\n",
       "      <td>0</td>\n",
       "    </tr>\n",
       "    <tr>\n",
       "      <th>2</th>\n",
       "      <td>XpVt6Z1Gjjo</td>\n",
       "      <td>Say hi to Kong and maverick for me</td>\n",
       "      <td>3</td>\n",
       "      <td>0</td>\n",
       "    </tr>\n",
       "    <tr>\n",
       "      <th>3</th>\n",
       "      <td>XpVt6Z1Gjjo</td>\n",
       "      <td>MY FAN . attendance</td>\n",
       "      <td>3</td>\n",
       "      <td>0</td>\n",
       "    </tr>\n",
       "    <tr>\n",
       "      <th>4</th>\n",
       "      <td>XpVt6Z1Gjjo</td>\n",
       "      <td>trending 😉</td>\n",
       "      <td>3</td>\n",
       "      <td>0</td>\n",
       "    </tr>\n",
       "    <tr>\n",
       "      <th>5</th>\n",
       "      <td>XpVt6Z1Gjjo</td>\n",
       "      <td>#1 on trending AYYEEEEE</td>\n",
       "      <td>3</td>\n",
       "      <td>0</td>\n",
       "    </tr>\n",
       "  </tbody>\n",
       "</table>\n",
       "</div>"
      ],
      "text/plain": [
       "      video_id                                       comment_text likes  \\\n",
       "0  XpVt6Z1Gjjo                  Logan Paul it's yo big day ‼️‼️‼️     4   \n",
       "1  XpVt6Z1Gjjo  I've been following you from the start of your...     3   \n",
       "2  XpVt6Z1Gjjo                 Say hi to Kong and maverick for me     3   \n",
       "3  XpVt6Z1Gjjo                                MY FAN . attendance     3   \n",
       "4  XpVt6Z1Gjjo                                         trending 😉     3   \n",
       "5  XpVt6Z1Gjjo                            #1 on trending AYYEEEEE     3   \n",
       "\n",
       "  replies  \n",
       "0       0  \n",
       "1       0  \n",
       "2       0  \n",
       "3       0  \n",
       "4       0  \n",
       "5       0  "
      ]
     },
     "execution_count": 12,
     "metadata": {},
     "output_type": "execute_result"
    }
   ],
   "source": [
    "data.head(6)"
   ]
  },
  {
   "cell_type": "code",
   "execution_count": 39,
   "id": "1b628b7a-af88-4772-b6c3-8e0338666f1c",
   "metadata": {},
   "outputs": [],
   "source": [
    "polarity = []\n",
    "for comments in data[\"comment_text\"]:\n",
    "    try:\n",
    "        polarity.append( TextBlob(comments).sentiment.polarity)\n",
    "    except:\n",
    "        polarity.append(0)\n",
    "   \n",
    "                   "
   ]
  },
  {
   "cell_type": "code",
   "execution_count": 40,
   "id": "14a89a90-48e8-4166-a4f1-922ba52913b4",
   "metadata": {},
   "outputs": [],
   "source": [
    "data[\"polarity\"] = polarity"
   ]
  },
  {
   "cell_type": "code",
   "execution_count": 41,
   "id": "d1a9d721-30b2-46e8-9956-ae092f774e06",
   "metadata": {},
   "outputs": [
    {
     "data": {
      "text/plain": [
       "(691374, 5)"
      ]
     },
     "execution_count": 41,
     "metadata": {},
     "output_type": "execute_result"
    }
   ],
   "source": [
    "data.shape"
   ]
  },
  {
   "cell_type": "code",
   "execution_count": 42,
   "id": "4f854a80-1fcc-4c8d-bb22-6570aa4b50f2",
   "metadata": {},
   "outputs": [
    {
     "data": {
      "text/html": [
       "<div>\n",
       "<style scoped>\n",
       "    .dataframe tbody tr th:only-of-type {\n",
       "        vertical-align: middle;\n",
       "    }\n",
       "\n",
       "    .dataframe tbody tr th {\n",
       "        vertical-align: top;\n",
       "    }\n",
       "\n",
       "    .dataframe thead th {\n",
       "        text-align: right;\n",
       "    }\n",
       "</style>\n",
       "<table border=\"1\" class=\"dataframe\">\n",
       "  <thead>\n",
       "    <tr style=\"text-align: right;\">\n",
       "      <th></th>\n",
       "      <th>video_id</th>\n",
       "      <th>comment_text</th>\n",
       "      <th>likes</th>\n",
       "      <th>replies</th>\n",
       "      <th>polarity</th>\n",
       "    </tr>\n",
       "  </thead>\n",
       "  <tbody>\n",
       "    <tr>\n",
       "      <th>0</th>\n",
       "      <td>XpVt6Z1Gjjo</td>\n",
       "      <td>Logan Paul it's yo big day ‼️‼️‼️</td>\n",
       "      <td>4</td>\n",
       "      <td>0</td>\n",
       "      <td>0.000000</td>\n",
       "    </tr>\n",
       "    <tr>\n",
       "      <th>1</th>\n",
       "      <td>XpVt6Z1Gjjo</td>\n",
       "      <td>I've been following you from the start of your...</td>\n",
       "      <td>3</td>\n",
       "      <td>0</td>\n",
       "      <td>0.000000</td>\n",
       "    </tr>\n",
       "    <tr>\n",
       "      <th>2</th>\n",
       "      <td>XpVt6Z1Gjjo</td>\n",
       "      <td>Say hi to Kong and maverick for me</td>\n",
       "      <td>3</td>\n",
       "      <td>0</td>\n",
       "      <td>0.000000</td>\n",
       "    </tr>\n",
       "    <tr>\n",
       "      <th>3</th>\n",
       "      <td>XpVt6Z1Gjjo</td>\n",
       "      <td>MY FAN . attendance</td>\n",
       "      <td>3</td>\n",
       "      <td>0</td>\n",
       "      <td>0.000000</td>\n",
       "    </tr>\n",
       "    <tr>\n",
       "      <th>4</th>\n",
       "      <td>XpVt6Z1Gjjo</td>\n",
       "      <td>trending 😉</td>\n",
       "      <td>3</td>\n",
       "      <td>0</td>\n",
       "      <td>0.000000</td>\n",
       "    </tr>\n",
       "    <tr>\n",
       "      <th>5</th>\n",
       "      <td>XpVt6Z1Gjjo</td>\n",
       "      <td>#1 on trending AYYEEEEE</td>\n",
       "      <td>3</td>\n",
       "      <td>0</td>\n",
       "      <td>0.000000</td>\n",
       "    </tr>\n",
       "    <tr>\n",
       "      <th>6</th>\n",
       "      <td>XpVt6Z1Gjjo</td>\n",
       "      <td>The end though 😭👍🏻❤️</td>\n",
       "      <td>4</td>\n",
       "      <td>0</td>\n",
       "      <td>0.000000</td>\n",
       "    </tr>\n",
       "    <tr>\n",
       "      <th>7</th>\n",
       "      <td>XpVt6Z1Gjjo</td>\n",
       "      <td>#1 trending!!!!!!!!!</td>\n",
       "      <td>3</td>\n",
       "      <td>0</td>\n",
       "      <td>0.000000</td>\n",
       "    </tr>\n",
       "    <tr>\n",
       "      <th>8</th>\n",
       "      <td>XpVt6Z1Gjjo</td>\n",
       "      <td>Happy one year vlogaversary</td>\n",
       "      <td>3</td>\n",
       "      <td>0</td>\n",
       "      <td>0.800000</td>\n",
       "    </tr>\n",
       "    <tr>\n",
       "      <th>9</th>\n",
       "      <td>XpVt6Z1Gjjo</td>\n",
       "      <td>You and your shit brother may have single hand...</td>\n",
       "      <td>0</td>\n",
       "      <td>0</td>\n",
       "      <td>-0.135714</td>\n",
       "    </tr>\n",
       "    <tr>\n",
       "      <th>10</th>\n",
       "      <td>XpVt6Z1Gjjo</td>\n",
       "      <td>There should be a mini Logan Paul too!</td>\n",
       "      <td>0</td>\n",
       "      <td>0</td>\n",
       "      <td>0.000000</td>\n",
       "    </tr>\n",
       "    <tr>\n",
       "      <th>11</th>\n",
       "      <td>XpVt6Z1Gjjo</td>\n",
       "      <td>Dear Logan, I really wanna get your Merch but ...</td>\n",
       "      <td>0</td>\n",
       "      <td>0</td>\n",
       "      <td>0.200000</td>\n",
       "    </tr>\n",
       "    <tr>\n",
       "      <th>12</th>\n",
       "      <td>XpVt6Z1Gjjo</td>\n",
       "      <td>Honestly Evan is so annoying. Like its not fun...</td>\n",
       "      <td>0</td>\n",
       "      <td>0</td>\n",
       "      <td>-0.023333</td>\n",
       "    </tr>\n",
       "    <tr>\n",
       "      <th>13</th>\n",
       "      <td>XpVt6Z1Gjjo</td>\n",
       "      <td>Casey is still better then logan</td>\n",
       "      <td>0</td>\n",
       "      <td>0</td>\n",
       "      <td>0.500000</td>\n",
       "    </tr>\n",
       "    <tr>\n",
       "      <th>14</th>\n",
       "      <td>XpVt6Z1Gjjo</td>\n",
       "      <td>aw geez rick this guy is the face of YouTube.</td>\n",
       "      <td>0</td>\n",
       "      <td>0</td>\n",
       "      <td>0.000000</td>\n",
       "    </tr>\n",
       "    <tr>\n",
       "      <th>15</th>\n",
       "      <td>XpVt6Z1Gjjo</td>\n",
       "      <td>He happy cause he in a movie</td>\n",
       "      <td>0</td>\n",
       "      <td>0</td>\n",
       "      <td>0.800000</td>\n",
       "    </tr>\n",
       "    <tr>\n",
       "      <th>16</th>\n",
       "      <td>XpVt6Z1Gjjo</td>\n",
       "      <td>Ayyyyoooo Logang what up .  This was a hard vl...</td>\n",
       "      <td>1</td>\n",
       "      <td>0</td>\n",
       "      <td>-0.291667</td>\n",
       "    </tr>\n",
       "    <tr>\n",
       "      <th>17</th>\n",
       "      <td>XpVt6Z1Gjjo</td>\n",
       "      <td>Bro y didnt u give merch to johannes he is ur ...</td>\n",
       "      <td>0</td>\n",
       "      <td>0</td>\n",
       "      <td>0.000000</td>\n",
       "    </tr>\n",
       "    <tr>\n",
       "      <th>18</th>\n",
       "      <td>XpVt6Z1Gjjo</td>\n",
       "      <td>It's been fun watching you grow. I'm at 42 day...</td>\n",
       "      <td>3</td>\n",
       "      <td>0</td>\n",
       "      <td>0.250000</td>\n",
       "    </tr>\n",
       "    <tr>\n",
       "      <th>19</th>\n",
       "      <td>XpVt6Z1Gjjo</td>\n",
       "      <td>Made a lot of people hate youtube - GJ</td>\n",
       "      <td>0</td>\n",
       "      <td>0</td>\n",
       "      <td>-0.800000</td>\n",
       "    </tr>\n",
       "  </tbody>\n",
       "</table>\n",
       "</div>"
      ],
      "text/plain": [
       "       video_id                                       comment_text likes  \\\n",
       "0   XpVt6Z1Gjjo                  Logan Paul it's yo big day ‼️‼️‼️     4   \n",
       "1   XpVt6Z1Gjjo  I've been following you from the start of your...     3   \n",
       "2   XpVt6Z1Gjjo                 Say hi to Kong and maverick for me     3   \n",
       "3   XpVt6Z1Gjjo                                MY FAN . attendance     3   \n",
       "4   XpVt6Z1Gjjo                                         trending 😉     3   \n",
       "5   XpVt6Z1Gjjo                            #1 on trending AYYEEEEE     3   \n",
       "6   XpVt6Z1Gjjo                               The end though 😭👍🏻❤️     4   \n",
       "7   XpVt6Z1Gjjo                               #1 trending!!!!!!!!!     3   \n",
       "8   XpVt6Z1Gjjo                        Happy one year vlogaversary     3   \n",
       "9   XpVt6Z1Gjjo  You and your shit brother may have single hand...     0   \n",
       "10  XpVt6Z1Gjjo             There should be a mini Logan Paul too!     0   \n",
       "11  XpVt6Z1Gjjo  Dear Logan, I really wanna get your Merch but ...     0   \n",
       "12  XpVt6Z1Gjjo  Honestly Evan is so annoying. Like its not fun...     0   \n",
       "13  XpVt6Z1Gjjo                   Casey is still better then logan     0   \n",
       "14  XpVt6Z1Gjjo      aw geez rick this guy is the face of YouTube.     0   \n",
       "15  XpVt6Z1Gjjo                       He happy cause he in a movie     0   \n",
       "16  XpVt6Z1Gjjo  Ayyyyoooo Logang what up .  This was a hard vl...     1   \n",
       "17  XpVt6Z1Gjjo  Bro y didnt u give merch to johannes he is ur ...     0   \n",
       "18  XpVt6Z1Gjjo  It's been fun watching you grow. I'm at 42 day...     3   \n",
       "19  XpVt6Z1Gjjo             Made a lot of people hate youtube - GJ     0   \n",
       "\n",
       "   replies  polarity  \n",
       "0        0  0.000000  \n",
       "1        0  0.000000  \n",
       "2        0  0.000000  \n",
       "3        0  0.000000  \n",
       "4        0  0.000000  \n",
       "5        0  0.000000  \n",
       "6        0  0.000000  \n",
       "7        0  0.000000  \n",
       "8        0  0.800000  \n",
       "9        0 -0.135714  \n",
       "10       0  0.000000  \n",
       "11       0  0.200000  \n",
       "12       0 -0.023333  \n",
       "13       0  0.500000  \n",
       "14       0  0.000000  \n",
       "15       0  0.800000  \n",
       "16       0 -0.291667  \n",
       "17       0  0.000000  \n",
       "18       0  0.250000  \n",
       "19       0 -0.800000  "
      ]
     },
     "execution_count": 42,
     "metadata": {},
     "output_type": "execute_result"
    }
   ],
   "source": [
    "data.head(20)"
   ]
  },
  {
   "cell_type": "code",
   "execution_count": 43,
   "id": "e3f22108-f04c-45a8-aabc-eb3fcd715207",
   "metadata": {},
   "outputs": [],
   "source": [
    "filter1 = data['polarity'] == 1\n"
   ]
  },
  {
   "cell_type": "code",
   "execution_count": 44,
   "id": "2f2f03c0-43a6-4279-bb25-2bf2e9e5f62a",
   "metadata": {},
   "outputs": [],
   "source": [
    "comments_positive = data[filter1]"
   ]
  },
  {
   "cell_type": "code",
   "execution_count": 45,
   "id": "31e77851-a70e-445e-8466-ea5ee9688b47",
   "metadata": {},
   "outputs": [],
   "source": [
    "filter2 = data['polarity'] == -1"
   ]
  },
  {
   "cell_type": "code",
   "execution_count": 46,
   "id": "3fbb48cf-e4e6-4edf-a8a0-40e1ce371a95",
   "metadata": {},
   "outputs": [],
   "source": [
    "comments_negative = data[filter2]"
   ]
  },
  {
   "cell_type": "code",
   "execution_count": 47,
   "id": "b2f42ebb-07ef-4abd-88b1-99ed25534fb6",
   "metadata": {},
   "outputs": [
    {
     "data": {
      "text/html": [
       "<div>\n",
       "<style scoped>\n",
       "    .dataframe tbody tr th:only-of-type {\n",
       "        vertical-align: middle;\n",
       "    }\n",
       "\n",
       "    .dataframe tbody tr th {\n",
       "        vertical-align: top;\n",
       "    }\n",
       "\n",
       "    .dataframe thead th {\n",
       "        text-align: right;\n",
       "    }\n",
       "</style>\n",
       "<table border=\"1\" class=\"dataframe\">\n",
       "  <thead>\n",
       "    <tr style=\"text-align: right;\">\n",
       "      <th></th>\n",
       "      <th>video_id</th>\n",
       "      <th>comment_text</th>\n",
       "      <th>likes</th>\n",
       "      <th>replies</th>\n",
       "      <th>polarity</th>\n",
       "    </tr>\n",
       "  </thead>\n",
       "  <tbody>\n",
       "    <tr>\n",
       "      <th>512</th>\n",
       "      <td>8wNr-NQImFg</td>\n",
       "      <td>BEN CARSON IS THE MAN!!!!! THEY HATE HIM CAUSE...</td>\n",
       "      <td>0</td>\n",
       "      <td>0</td>\n",
       "      <td>-1.0</td>\n",
       "    </tr>\n",
       "    <tr>\n",
       "      <th>562</th>\n",
       "      <td>8wNr-NQImFg</td>\n",
       "      <td>Well… The brain surgeon Ben Carson just proved...</td>\n",
       "      <td>0</td>\n",
       "      <td>0</td>\n",
       "      <td>-1.0</td>\n",
       "    </tr>\n",
       "    <tr>\n",
       "      <th>952</th>\n",
       "      <td>Ayb_2qbZHm4</td>\n",
       "      <td>WHY DID YOU MAKE FURRY FORCE?! SO NASTY!!!</td>\n",
       "      <td>0</td>\n",
       "      <td>0</td>\n",
       "      <td>-1.0</td>\n",
       "    </tr>\n",
       "    <tr>\n",
       "      <th>1371</th>\n",
       "      <td>vu_9muoxT50</td>\n",
       "      <td>WTF BRUH!!!!!!</td>\n",
       "      <td>0</td>\n",
       "      <td>0</td>\n",
       "      <td>-1.0</td>\n",
       "    </tr>\n",
       "    <tr>\n",
       "      <th>1391</th>\n",
       "      <td>vu_9muoxT50</td>\n",
       "      <td>cheeseus christ thats insane!!!</td>\n",
       "      <td>0</td>\n",
       "      <td>0</td>\n",
       "      <td>-1.0</td>\n",
       "    </tr>\n",
       "  </tbody>\n",
       "</table>\n",
       "</div>"
      ],
      "text/plain": [
       "         video_id                                       comment_text likes  \\\n",
       "512   8wNr-NQImFg  BEN CARSON IS THE MAN!!!!! THEY HATE HIM CAUSE...     0   \n",
       "562   8wNr-NQImFg  Well… The brain surgeon Ben Carson just proved...     0   \n",
       "952   Ayb_2qbZHm4         WHY DID YOU MAKE FURRY FORCE?! SO NASTY!!!     0   \n",
       "1371  vu_9muoxT50                                     WTF BRUH!!!!!!     0   \n",
       "1391  vu_9muoxT50                    cheeseus christ thats insane!!!     0   \n",
       "\n",
       "     replies  polarity  \n",
       "512        0      -1.0  \n",
       "562        0      -1.0  \n",
       "952        0      -1.0  \n",
       "1371       0      -1.0  \n",
       "1391       0      -1.0  "
      ]
     },
     "execution_count": 47,
     "metadata": {},
     "output_type": "execute_result"
    }
   ],
   "source": [
    "comments_negative.head(5)"
   ]
  },
  {
   "cell_type": "markdown",
   "id": "dc797605-7ea6-47eb-a794-04abb18f51e1",
   "metadata": {},
   "source": [
    "### Word Cloud Analysis"
   ]
  },
  {
   "cell_type": "code",
   "execution_count": 48,
   "id": "ea4f33ec-441e-4b96-9f07-b8503d21758c",
   "metadata": {},
   "outputs": [
    {
     "name": "stdout",
     "output_type": "stream",
     "text": [
      "Requirement already satisfied: wordcloud in /opt/anaconda3/lib/python3.12/site-packages (1.9.3)\n",
      "Requirement already satisfied: numpy>=1.6.1 in /opt/anaconda3/lib/python3.12/site-packages (from wordcloud) (1.26.4)\n",
      "Requirement already satisfied: pillow in /opt/anaconda3/lib/python3.12/site-packages (from wordcloud) (10.3.0)\n",
      "Requirement already satisfied: matplotlib in /opt/anaconda3/lib/python3.12/site-packages (from wordcloud) (3.8.4)\n",
      "Requirement already satisfied: contourpy>=1.0.1 in /opt/anaconda3/lib/python3.12/site-packages (from matplotlib->wordcloud) (1.2.0)\n",
      "Requirement already satisfied: cycler>=0.10 in /opt/anaconda3/lib/python3.12/site-packages (from matplotlib->wordcloud) (0.11.0)\n",
      "Requirement already satisfied: fonttools>=4.22.0 in /opt/anaconda3/lib/python3.12/site-packages (from matplotlib->wordcloud) (4.51.0)\n",
      "Requirement already satisfied: kiwisolver>=1.3.1 in /opt/anaconda3/lib/python3.12/site-packages (from matplotlib->wordcloud) (1.4.4)\n",
      "Requirement already satisfied: packaging>=20.0 in /opt/anaconda3/lib/python3.12/site-packages (from matplotlib->wordcloud) (23.2)\n",
      "Requirement already satisfied: pyparsing>=2.3.1 in /opt/anaconda3/lib/python3.12/site-packages (from matplotlib->wordcloud) (3.0.9)\n",
      "Requirement already satisfied: python-dateutil>=2.7 in /opt/anaconda3/lib/python3.12/site-packages (from matplotlib->wordcloud) (2.9.0.post0)\n",
      "Requirement already satisfied: six>=1.5 in /opt/anaconda3/lib/python3.12/site-packages (from python-dateutil>=2.7->matplotlib->wordcloud) (1.16.0)\n"
     ]
    }
   ],
   "source": [
    "!pip install wordcloud"
   ]
  },
  {
   "cell_type": "code",
   "execution_count": 49,
   "id": "bb123800-afea-4680-8499-fa3b633e7416",
   "metadata": {},
   "outputs": [],
   "source": [
    "from wordcloud import WordCloud, STOPWORDS"
   ]
  },
  {
   "cell_type": "code",
   "execution_count": 50,
   "id": "ce0a0a46-28c2-4c9d-b204-77b272da5642",
   "metadata": {},
   "outputs": [
    {
     "data": {
      "text/plain": [
       "512       BEN CARSON IS THE MAN!!!!! THEY HATE HIM CAUSE...\n",
       "562       Well… The brain surgeon Ben Carson just proved...\n",
       "952              WHY DID YOU MAKE FURRY FORCE?! SO NASTY!!!\n",
       "1371                                         WTF BRUH!!!!!!\n",
       "1391                        cheeseus christ thats insane!!!\n",
       "                                ...                        \n",
       "690788                                  Like Kelly she evil\n",
       "690865                       R U FUCKING KIDDING ME?!?!?!?!\n",
       "691073             This is horribly offensive please report\n",
       "691180    Sink holes looks terrifying sinkholes sink you...\n",
       "691224    Trump talked to the president of US Virgin Isl...\n",
       "Name: comment_text, Length: 3508, dtype: object"
      ]
     },
     "execution_count": 50,
     "metadata": {},
     "output_type": "execute_result"
    }
   ],
   "source": [
    "comments_negative['comment_text']"
   ]
  },
  {
   "cell_type": "code",
   "execution_count": 51,
   "id": "9fd8caef-169a-4955-8535-9efbb300d821",
   "metadata": {},
   "outputs": [],
   "source": [
    "positive_comments_collab = ' '.join(comments_positive['comment_text'])"
   ]
  },
  {
   "cell_type": "code",
   "execution_count": 52,
   "id": "9b896d78-e060-4997-94c6-7e44312b8eba",
   "metadata": {},
   "outputs": [],
   "source": [
    "wordcloud = WordCloud(stopwords = set(STOPWORDS)).generate(positive_comments_collab)"
   ]
  },
  {
   "cell_type": "code",
   "execution_count": 53,
   "id": "4ed79231-ab1c-4fa6-a64a-15c216c05da2",
   "metadata": {},
   "outputs": [
    {
     "data": {
      "text/plain": [
       "(-0.5, 399.5, 199.5, -0.5)"
      ]
     },
     "execution_count": 53,
     "metadata": {},
     "output_type": "execute_result"
    },
    {
     "data": {
      "image/png": "[encoded data removed]",
      "text/plain": [
       "<Figure size 640x480 with 1 Axes>"
      ]
     },
     "metadata": {},
     "output_type": "display_data"
    }
   ],
   "source": [
    "plt.imshow(wordcloud)\n",
    "plt.axis('off')"
   ]
  },
  {
   "cell_type": "markdown",
   "id": "bb9acf91-c77e-4167-99f0-d900e279756f",
   "metadata": {},
   "source": [
    "### Emoji analysis of YouTube comments"
   ]
  },
  {
   "cell_type": "code",
   "execution_count": 54,
   "id": "c57d5c87-9284-4b7e-8d77-805d502f01df",
   "metadata": {},
   "outputs": [
    {
     "name": "stdout",
     "output_type": "stream",
     "text": [
      "Requirement already satisfied: emoji==2.2.0 in /opt/anaconda3/lib/python3.12/site-packages (2.2.0)\n"
     ]
    }
   ],
   "source": [
    "!pip install emoji==2.2.0"
   ]
  },
  {
   "cell_type": "code",
   "execution_count": 55,
   "id": "01112d45-103f-4bc5-84c2-b494e3d1abc9",
   "metadata": {},
   "outputs": [],
   "source": [
    "import emoji "
   ]
  },
  {
   "cell_type": "code",
   "execution_count": 56,
   "id": "95404c50-8c65-4ad7-8737-1961dc52853f",
   "metadata": {},
   "outputs": [
    {
     "data": {
      "text/plain": [
       "0                    Logan Paul it's yo big day ‼️‼️‼️\n",
       "1    I've been following you from the start of your...\n",
       "2                   Say hi to Kong and maverick for me\n",
       "3                                  MY FAN . attendance\n",
       "4                                           trending 😉\n",
       "5                              #1 on trending AYYEEEEE\n",
       "Name: comment_text, dtype: object"
      ]
     },
     "execution_count": 56,
     "metadata": {},
     "output_type": "execute_result"
    }
   ],
   "source": [
    "data['comment_text'].head(6)"
   ]
  },
  {
   "cell_type": "code",
   "execution_count": 57,
   "id": "147de12e-231e-4772-8c8e-aceddd0e96b7",
   "metadata": {},
   "outputs": [],
   "source": [
    "comment = 'trending 😉'"
   ]
  },
  {
   "cell_type": "code",
   "execution_count": 58,
   "id": "5a105e8f-ffaf-4508-8c49-d69866d8ba60",
   "metadata": {},
   "outputs": [
    {
     "name": "stdout",
     "output_type": "stream",
     "text": [
      "['👍', '❤️', '😂', '❤️', '💄', '🖤', '💕', '😒', '👎🏽', '🐘', '💕', '😎', '🇺🇸', '🙏', '🇺🇸', '🇺🇸', '🌞', '💜', '😱', '💕', '🎈', '👍', '😕', '😻', '💄', '💦', '❤️', '❤', '😅', '💜', '🤴🏻', '😍', '💯', '❤', '😑', '💖', '❤', '🙏🏽', '♥️', '😂', '❤️', '😭', '💛', '😝', '😍', '❤', '😍', '💝', '👌', '🌞', '✌🏻', '😒', '👎🏽', '😂', '🇺🇸', '🙏', '🇺🇸', '🇺🇸', '💜', '😱', '🎈', '👍', '😴', '👍', '👍', '👍', '❤', '👍', '🔥', '💯', '🐍', '🐍', '😍', '👍', '😂', '👍', '❤', '💩', '😍', '👍', '😍', '💞', '♥️', '😻', '♥', '😂', '😃', '😴', '👍', '👍', '👍', '❤', '👍', '🔥', '💯', '🐍', '🐍', '😍', '👍', '😂', '👍', '❤', '💩', '😍', '👍', '😍', '💞', '♥️', '😻', '♥', '😂', '😃', '👍', '🤘🏾', '👍', '🙄', '😂', '👍', '👍', '🎢', '❤️', '👍🏾', '😂', '😍', '👍', '❤', '❤', '👌', '🤢', '🔥', '❤️', '😍', '🤗', '😢', '👍', '🔥', '👑', '😍', '👍', '💯', '❤', '🐍', '🐍', '💞', '♥️', '😂', '😀', '👌', '😍', '👍', '🤦🏾\\u200d♂️', '💋', '👋', '👍', '😂', '❤', '😍', '❤️', '😭', '😍', '❤️', '❤', '💚', '♥', '👍', '🖤', '💚', '❤️', '💿', '❤️', '🥀', '👁', '😀', '😂', '👍', '🇩🇴', '❤', '❣️', '🔥', '🔥', '👑', '❤', '❤', '💛', '👌🏾', '🤢', '👍', '💚', '😍', '❤️', '🔥', '😢', '❤', '👍', '💯', '💖', '💞', '♥️', '🐍', '🐍', '👍', '😇', '❤️', '❤️', '👍', '🙌', '😄', '💕', '❤', '👍', '😎', '😛', '💋', '💯', '✌', '❤', '👍', '👌', '😱', '💖', '👍', '😂', '😂', '❤', '❤', '🎈', '🎈', '😍', '👁', '🔥', '👑', '😳', '❤', '💓', '💛', '😂', '👍', '🎈', '🤢', '💟', '❤️', '😍', '🔥', '❤', '❤', '💚', '🔥', '👍', '👍', '💯', '🐍', '🐍', '💞', '♥️', '🙌', '❤️', '😕', '😂', '😛', '👍', '😇', '😂', '❤', '💯', '👍', '❤', '❤', '👌', '👍', '😭', '❤️', '💙', '❤️', '😄', '🤢', '😍', '😍', '🤖', '🇧🇷', '😍', '♥', '😦', '🎈', '💖', '😄', '👌', '❤', '😍', '❤️', '❤', '👍', '😂', '🔥', '👑', '❤️', '🎈', '🎈', '👍', '😢', '🤢', '💚', '💟', '😌', '❤', '🔥', '🔥', '❤', '❤', '❤', '🙌', '👎', '😕', '👍', '😇', '🤥', '❤', '❤️', '🖕🏻', '😐', '❤️', '❤️', '💄', '💄', '🙏', '😄', '😀', '😂', '❤️', '😘', '🐍', '👍', '❤', '💖', '🌌', '👍', '😦', '😄', '😊', '😍', '❤', '😂', '👍', '🔥', '👑', '❤️', '❤️', '🎈', '👍', '🔥', '😢', '🤢', '😂', '😭', '🐢', '❤️', '👍', '🇦🇷', '🎩', '👍', '🇦🇷', '🎩', '🔥', '😢', '💗', '❤', '🙏', '😄', '💖', '👍', '♥', '💄', '🐍', '❤️', '😘', '🐍', '👍', '☺', '😊', '💀', '😄', '😦', '😄', '😂', '😍', '🙄', '😂', '🙁', '😑', '😒', '♥️', '👍', '😢', '😭', '🎩', '😂', '😂', '❤️', '😍', '😞', '🖤', '❤️', '😂', '🙏', '😄', '❤️', '👍', '💖', '❤', '❤️', '💄', '❤️', '🐍', '🐍', '🐍', '😊', '👍', '☺', '😊', '😦', '😍', '❤️', '😍', '🔥', '♥', '❤️', '😔', '💖', '🙌', '🔥', '♥', '😍', '💙', '❤️', '❤', '😍', '🎈', '🎈', '💖', '💜', '🙁', '❤', '👌', '🐽', '❤️', '💙', '❤', '♥️', '♥', '❤', '💯', '🔥', '😑', '😒', '💎', '♥', '♥', '😩', '😭', '😊', '😲', '😂', '😂', '😎', '❤', '❤️', '😂', '❤️', '👍', '💖', '😲', '😂', '❤️', '💟', '😍', '🙀', '😂', '😍', '😱', '🙌', '🔥', '💜', '💙', '💖', '😍', '❤️', '🎈', '🎈', '❤', '💜', '❤', '💯', '🙏🏼', '👌', '😂', '❤', '🙁', '🐽', '❤️', '👌', '♥', '❤', '😑', '😒', '🥀', '♥️', '💎', '😊', '🤚', '💕', '❤️', '😑', '😻', '😎', '🇹🇷', '😍', '❤', '👍', '🙌', '💕', '🥇', '😪', '🤙🏻', '❄️', '😆', '💋', '♥️', '😍', '😍', '💙', '🖕🏿', '😘', '❤', '❤', '🎈', '🎈', '❤', '😍', '💯', '🙏🏼', '🤣', '❤', '😂', '👏', '💞', '😍', '🙌', '😕', '💜', '🙁', '👍🏽', '👌', '😍', '🐽', '😑', '😒', '♥', '❤', '♥️', '😂', '🖖', '😂', '😍', '❤️', '🍻', '😨', '😻', '😂', '💕', '🥇', '❤', '💋', '♥', '👍', '🙌', '🙌', '😻', '🖕🏿', '❤', '😍', '😘', '❤️', '❤️', '❣', '🎈', '😍', '❤️', '❤', '😂', '🤣', '👏', '🙏🏼', '💯', '♥️', '💜', '🕊', '😍', '👍🏽', '👌', '❤', '🙁', '😍', '♥', '❤', '😑', '😒', '🐽', '😱', '❤', '😻', '😂', '❤️', '🌲', '🎷', '😳', '👌', '😎', '❤', '❤️', '👎🏼', '😢', '😭', '😉', '❤', '🇺🇸', '💕', '❤', '😨', '🎈', '👍', '👌🏽', '💕', '🥇', '🙄', '😻', '💋', '♥', '❤', '👍', '😍', '🚀', '❤️', '❤', '🦊', '🔥', '👍🏻', '🇬🇭', '😂', '😈', '💜', '👍', '😂', '🔥', '😍', '👍', '👌', '😂', '😁', '👎🏼', '👌', '😎', '😢', '😢', '❤', '😉', '🇺🇸', '💗', '❤️', '❤', '🙋', '🎈', '😊', '🤑', '😂', '😍', '👍', '😂', '❤️', '💖', '♥', '😍', '👍', '❤', '♥', '💜', '🤙🏻', '❤', '❤️', '♥', '🙄', '❤', '❤', '❤️', '😍', '❤️', '👍', '😂', '😀', '👌', '😁', '👌', '😎', '👎🏼', '👍', '😢', '🐍', '😢', '😍', '❤️', '❤', '👍', '😮', '🕳', '🙇', '❤', '😍', '❤', '💖', '😂', '❤️', '❤', '❤️', '❤️', '😍', '🤗', '💖', '💙', '♥', '🌷', '😍', '🤣', '😂', '😂', '💪🏽', '😁', '♥', '😆', '💕', '❤', '❤️', '💜', '🤘', '👍', '👌', '❤️', '🖤', '😂', '😗', '💩', '😇', '😐', '🕶', '💎', '💚', '🐱', '😍', '👃', '😂', '❤', '💗', '😂', '💖', '😱', '❤️', '💖', '❤', '😂', '🙇', '❤', '😍', '❤', '💜', '❤️', '❤️', '💙', '😍', '💘', '💜', '🌷', '💖', '❤', '😍', '❤', '🤣', '😂', '👌', '❤️', '❤️', '😏', '💪🏽', '❤️', '❤', '❤️', '👋', '❤', '👀', '🤙', '😂', '✔️', '💚', '👏', '👍', '😺', '❤️', '💓', '😔', '😂', '😍', '😂', '🙇', '❤', '😍', '❤', '💜', '❤', '✊', '💜', '❤️', '💙', '😝', '❤', '💖', '❤', '❤️', '🤣', '😂', '😊', '😍', '❤', '💪🏽', '❤️', '❤️', '😍', '👋', '💔', '😥', '❤️', '🐘', '😒', '👍', '❤️', '👀', '💙', '👍', '😂', '👍', '😂', '😢', '👍', '😭', '👏', '👍', '❤', '😺', '🐱', '👍', '😍', '👍', '🙇', '❤', '😍', '❤', '😊', '💙', '👍', '💜', '❤', '❤', '❤️', '😝', '👍', '💕', '💜', '❤️', '❤', '❤', '💖', '❤', '🤣', '😂', '🙌', '🇩🇪', '👆', '💔', '💔', '❤', '🥁', '👍', '😢', '🙁', '🍈', '😮', '😍', '😂', '❤', '👀', '😀', '🤣', '💩', '😂', '😂', '😢', '😈', '👍', '😭', '👍', '❤', '😍', '👍', '😺', '❤', '🇦🇱', '🇧🇷', '👍', '👍', '😂', '🙇', '❤', '😍', '😍', '💙', '💗', '👅', '😊', '👍', '👍', '😢', '🥁', '💔', '💔', '🐢', '❤️', '🙁', '😔', '😻', '🐍', '🐍', '🔥', '😍', '❤', '🤣', '🌹', '💩', '😂', '😂', '😢', '❤️', '😭', '😍', '🏴', '👍', '💜', '❤️', '😎', '🤦\\u200d♂️', '❤', '😱', '😍', '😭', '🥁', '🐢', '👍', '😔', '🙁', '🐍', '🐍', '😻', '🤣', '🌹', '🙏', '😍', '😔', '😂', '👌', '😍', '😎', '😁', '😀', '🏴', '☠️', '❤', '😍', '❤️', '💖', '💙', '😍', '❤️', '😍', '💙', '😍', '💓', '❤️', '😎', '🤗', '❤️', '❤', '👍', '😬', '🥁', '❤', '😔', '🙁', '👏🏾', '🐍', '🐍', '🥜', '😏', '😀', '🔑', '💕', '😂', '😘', '🌬', '🤡', '🖕', '🤡', '👨🏻\\u200d🔧', '😂', '🖕', '😭', '🤞🏻', '🖕🏾', '😵', '😂', '😍', '💜', '💜', '❤️', '❤️', '🤔', '😀', '😍', '❤', '❤', '❤️', '🏴', '😂', '👍', '💙', '💕', '💖', '😍', '😍', '😍', '😍', '💙', '😎', '❤️', '💘', '♥', '❤', '👍', '❤️', '❤', '😬', '❤', '💗', '💔', '☹️', '🍆', '🦄', '😋', '💋', '💗', '🅱️', '💗', '🤢', '🖕🏾', '💜', '😊', '💙', '😀', '❤️', '💕', '👍', '👎', '😍', '❤', '🏴', '❤️', '❤️', '♥', '😘', '♥', '❤', '💟', '😍', '💙', '😁', '💙', '❤', '❤️', '♥', '🙌🏼', '❤', '🤤', '❤️', '💘', '🍷', '💖', '💖', '💕', '🐸', '❤️', '👏', '🐸', '💔', '❤️', '👏', '💯', '🐢', '🦌', '😳', '🤓', '💿', '💖', '🤢', '🖕🏾', '😀', '😊', '❤️', '❤️', '💚', '❤️', '❤️', '❤', '😍', '💁🏻', '😍', '🏴', '❤', '💟', '💕', '💙', '♥', '💘', '🐢', '👌', '👍', '👌', '😍', '😂', '😍', '😂', '👍', '💞', '🐸', '👏', '🎈', '🤦\\u200d♂️', '❤️', '👍🏻', '👍', '💕', '💔', '❤️', '💜', '🐙', '🐉', '💩', '🦄', '😄', '💩', '🧢', '🖕🏾', '💯', '☄', '😊', '👍', '😴', '💖', '💜', '❤️', '❤️', '❤️', '❤️', '💚', '❤', '❤️', '💁🏻', '😍', '🏴', '™', '😍', '😎', '💕', '💓', '😂', '❤', '😂', '🐝', '💖', '😂', '👍', '👍', '😂', '🐐', '💖', '🐸', '👏', '👍🏻', '🤦\\u200d♂️', '❤️', '💗', '❤️', '❤️', '👎🏻', '❤', '🤘', '❤', '🍪', '😋', '💜', '🐙', '🖕🏾', '💯', '👍', '♥️', '😁', '😍', '❤️', '😁', '🇺🇸', '🔥', '👎', '❤️', '♥', '😢', '😍', '😕', '😘', '🙌🏾', '🐾', '😍', '❤', '❤', '🐐', '❤️', '🇧🇷', '😂', '👍', '🐦', '👍🏻', '👏', '👍', '❤️', '💖', '🐸', '🤦\\u200d♂️', '❤️', '👏', '👍🏻', '❤️', '😂', '❤️', '💃', '❤', '😹', '😥', '❤', '❤️', '😍', '😎', '♥', '❤️', '✨', '💕', '🐾', '🌹', '😍', '❤️', '😍', '❤️', '👍', '❤️', '🐐', '😒', '😕', '🙏🏼', '♥', '💓', '😐', '👍', '♥', '❤️', '👏', '👍', '😑', '🔥', '💖', '👍🏿', '🤡', '🎈', '🔥', '❤️', '😀', '😊', '👍', '😗', '😉', '😇', '❤️', '♥', '❤️', '❤️', '😳', '✋', '😐', '🤣', '🇧🇷', '💖', '🇱🇨', '❤️', '🌹', '😍', '❤️', '🤗', '🐾', '🐐', '🤢', '😐', '❤️', '❤', '♥', '❤', '💖', '❤️', '❤️', '🙏🏼', '♥', '💓', '♥', '😍', '😂', '❤️', '🤡', '🤡', '🙊', '😱', '😑', '😐', '👍', '😀', '😴', '👍', '💗', '😇', '😗', '👍', '🐱', '😍', '❤️', '❓', '💕', '👍', '♥', '❤️', '❤️', '❤️', '😍', '🌹', '😍', '❤', '💖', '❤', '♥', '💓', '♥', '💛', '❤️', '🖤', '😲', '🐾', '❤️', '😒', '❤️', '🐐', '❤', '🙏🏼', '♥', '😍', '😂', '😍', '👏', '😱', '😐', '🐐', '😂', '❤️', '❤️', '👍', '🤘🏻', '💗', '😴', '❤️', '😧', '😀', '😇', '😗', '❤️', '❤', '😍', '❤', '💓', '❓', '💜', '❤️', '👻', '♥', '💓', '❤️', '♥', '😍', '❤', '💖', '❤️', '🌹', '😍', '❤', '💥', '👍', '👍', '💛', '❤️', '🤔', '😲', '😐', '🐾', '😮', '🐐', '👍', '😒', '💔', '🐐', '😨', '🤡', '😍', '😍', '😂', '👎', '🇩🇿', '🤘🏻', '💖', '💗', '😇', '😴', '😍', '😀', '❤️', '♥', '😍', '👌', '😉', '❓', '❤️', '💕', '❤️', '💓', '♥', '❤', '💖', '😂', '😍', '👻', '🎣', '🤣', '❤️', '❤️', '❤', '👑', '👍', '😐', '😦', '❤', '❤', '😍', '❤️', '💓', '💜', '😒', '💔', '💓', '🐐', '😨', '🎃', '😒', '😍', '😂', '😍', '🤘🏻', '💗', '😇', '🌹', '❤️', '😴', '😍', '❓', '👎', '🌶', '😱', '🐐', '🙏🏽', '❤', '👍', '💟', '❤️', '💖', '❤', '😍', '😐', '❤', '❤', '😂', '😒', '💓', '❤️', '💜', '💓', '🎃', '😨', '🐐', '😮', '💝', '♥', '👍', '😂', '😍', '👎🏽', '❤️', '😍', '♥', '❤️', '❤', '👍', '💟', '❤️', '💖', '😍', '😱', '🙃', '🐐', '🙏🏽', '😋', '😙', '🎃', '❤', '❤️', '💓', '😜', '❤', '👍', '💓', '✌', '▫️', '😂', '💓', '💓', '🎈', '😢', '😘', '🐐', '❤️', '😂', '😞', '👍🏻', '🤢', '👏', '🔥', '💜', '❤️', '🐶', '😍', '🔥', '❤', '👍', '💟', '❤️', '💖', '😍', '😋', '😙', '🎃', '🐐', '🙃', '😜', '👽', '💘', '👍', '💓', '✌', '❤', '💙', '❤️', '😂', '😢', '😂', '🤡', '💓']\n"
     ]
    }
   ],
   "source": [
    "all_emoji_list =[]\n",
    "for char in data['comment_text']:\n",
    "    if char in emoji.EMOJI_DATA:\n",
    "        all_emoji_list.append(char)\n",
    "        \n",
    "print(all_emoji_list)"
   ]
  },
  {
   "cell_type": "code",
   "execution_count": 59,
   "id": "e0eaadef-f4d9-49cc-85d4-d8f64b1ed983",
   "metadata": {},
   "outputs": [],
   "source": [
    "from collections import Counter"
   ]
  },
  {
   "cell_type": "code",
   "execution_count": 60,
   "id": "d41c7e1c-d019-4f01-b339-c559b34e4b19",
   "metadata": {},
   "outputs": [],
   "source": [
    " emojis =[Counter(all_emoji_list).most_common(10)[i][0] for i in range(10)]\n"
   ]
  },
  {
   "cell_type": "code",
   "execution_count": 61,
   "id": "fe5ff05e-87f6-40ae-80a6-ab317fb7b1ef",
   "metadata": {},
   "outputs": [],
   "source": [
    "freq = [Counter(all_emoji_list).most_common(10)[i][1] for i in range(10)]"
   ]
  },
  {
   "cell_type": "code",
   "execution_count": 62,
   "id": "503f4c2e-bbe1-4217-b27b-d18337a94036",
   "metadata": {},
   "outputs": [],
   "source": [
    "import plotly.graph_objs as go\n",
    "from plotly.offline import iplot"
   ]
  },
  {
   "cell_type": "code",
   "execution_count": 63,
   "id": "06b754b3-263d-4bcd-ae9e-a4d9e4eb2abc",
   "metadata": {},
   "outputs": [],
   "source": [
    "trace = go.Bar(x=emojis , y=freq)"
   ]
  },
  {
   "cell_type": "code",
   "execution_count": 64,
   "id": "86ba4f58-4574-42b8-94bf-63ca1a75466f",
   "metadata": {
    "scrolled": true
   },
   "outputs": [
    {
     "data": {
      "application/vnd.plotly.v1+json": {
       "config": {
        "linkText": "Export to plot.ly",
        "plotlyServerURL": "https://plot.ly",
        "showLink": false
       },
       "data": [
        {
         "type": "bar",
         "x": [
          "❤️",
          "❤",
          "👍",
          "😍",
          "😂",
          "♥",
          "💖",
          "💜",
          "🔥",
          "🐍"
         ],
         "y": [
          164,
          148,
          120,
          120,
          90,
          43,
          38,
          28,
          28,
          23
         ]
        }
       ],
       "layout": {
        "autosize": true,
        "template": {
         "data": {
          "bar": [
           {
            "error_x": {
             "color": "#2a3f5f"
            },
            "error_y": {
             "color": "#2a3f5f"
            },
            "marker": {
             "line": {
              "color": "#E5ECF6",
              "width": 0.5
             },
             "pattern": {
              "fillmode": "overlay",
              "size": 10,
              "solidity": 0.2
             }
            },
            "type": "bar"
           }
          ],
          "barpolar": [
           {
            "marker": {
             "line": {
              "color": "#E5ECF6",
              "width": 0.5
             },
             "pattern": {
              "fillmode": "overlay",
              "size": 10,
              "solidity": 0.2
             }
            },
            "type": "barpolar"
           }
          ],
          "carpet": [
           {
            "aaxis": {
             "endlinecolor": "#2a3f5f",
             "gridcolor": "white",
             "linecolor": "white",
             "minorgridcolor": "white",
             "startlinecolor": "#2a3f5f"
            },
            "baxis": {
             "endlinecolor": "#2a3f5f",
             "gridcolor": "white",
             "linecolor": "white",
             "minorgridcolor": "white",
             "startlinecolor": "#2a3f5f"
            },
            "type": "carpet"
           }
          ],
          "choropleth": [
           {
            "colorbar": {
             "outlinewidth": 0,
             "ticks": ""
            },
            "type": "choropleth"
           }
          ],
          "contour": [
           {
            "colorbar": {
             "outlinewidth": 0,
             "ticks": ""
            },
            "colorscale": [
             [
              0,
              "#0d0887"
             ],
             [
              0.1111111111111111,
              "#46039f"
             ],
             [
              0.2222222222222222,
              "#7201a8"
             ],
             [
              0.3333333333333333,
              "#9c179e"
             ],
             [
              0.4444444444444444,
              "#bd3786"
             ],
             [
              0.5555555555555556,
              "#d8576b"
             ],
             [
              0.6666666666666666,
              "#ed7953"
             ],
             [
              0.7777777777777778,
              "#fb9f3a"
             ],
             [
              0.8888888888888888,
              "#fdca26"
             ],
             [
              1,
              "#f0f921"
             ]
            ],
            "type": "contour"
           }
          ],
          "contourcarpet": [
           {
            "colorbar": {
             "outlinewidth": 0,
             "ticks": ""
            },
            "type": "contourcarpet"
           }
          ],
          "heatmap": [
           {
            "colorbar": {
             "outlinewidth": 0,
             "ticks": ""
            },
            "colorscale": [
             [
              0,
              "#0d0887"
             ],
             [
              0.1111111111111111,
              "#46039f"
             ],
             [
              0.2222222222222222,
              "#7201a8"
             ],
             [
              0.3333333333333333,
              "#9c179e"
             ],
             [
              0.4444444444444444,
              "#bd3786"
             ],
             [
              0.5555555555555556,
              "#d8576b"
             ],
             [
              0.6666666666666666,
              "#ed7953"
             ],
             [
              0.7777777777777778,
              "#fb9f3a"
             ],
             [
              0.8888888888888888,
              "#fdca26"
             ],
             [
              1,
              "#f0f921"
             ]
            ],
            "type": "heatmap"
           }
          ],
          "heatmapgl": [
           {
            "colorbar": {
             "outlinewidth": 0,
             "ticks": ""
            },
            "colorscale": [
             [
              0,
              "#0d0887"
             ],
             [
              0.1111111111111111,
              "#46039f"
             ],
             [
              0.2222222222222222,
              "#7201a8"
             ],
             [
              0.3333333333333333,
              "#9c179e"
             ],
             [
              0.4444444444444444,
              "#bd3786"
             ],
             [
              0.5555555555555556,
              "#d8576b"
             ],
             [
              0.6666666666666666,
              "#ed7953"
             ],
             [
              0.7777777777777778,
              "#fb9f3a"
             ],
             [
              0.8888888888888888,
              "#fdca26"
             ],
             [
              1,
              "#f0f921"
             ]
            ],
            "type": "heatmapgl"
           }
          ],
          "histogram": [
           {
            "marker": {
             "pattern": {
              "fillmode": "overlay",
              "size": 10,
              "solidity": 0.2
             }
            },
            "type": "histogram"
           }
          ],
          "histogram2d": [
           {
            "colorbar": {
             "outlinewidth": 0,
             "ticks": ""
            },
            "colorscale": [
             [
              0,
              "#0d0887"
             ],
             [
              0.1111111111111111,
              "#46039f"
             ],
             [
              0.2222222222222222,
              "#7201a8"
             ],
             [
              0.3333333333333333,
              "#9c179e"
             ],
             [
              0.4444444444444444,
              "#bd3786"
             ],
             [
              0.5555555555555556,
              "#d8576b"
             ],
             [
              0.6666666666666666,
              "#ed7953"
             ],
             [
              0.7777777777777778,
              "#fb9f3a"
             ],
             [
              0.8888888888888888,
              "#fdca26"
             ],
             [
              1,
              "#f0f921"
             ]
            ],
            "type": "histogram2d"
           }
          ],
          "histogram2dcontour": [
           {
            "colorbar": {
             "outlinewidth": 0,
             "ticks": ""
            },
            "colorscale": [
             [
              0,
              "#0d0887"
             ],
             [
              0.1111111111111111,
              "#46039f"
             ],
             [
              0.2222222222222222,
              "#7201a8"
             ],
             [
              0.3333333333333333,
              "#9c179e"
             ],
             [
              0.4444444444444444,
              "#bd3786"
             ],
             [
              0.5555555555555556,
              "#d8576b"
             ],
             [
              0.6666666666666666,
              "#ed7953"
             ],
             [
              0.7777777777777778,
              "#fb9f3a"
             ],
             [
              0.8888888888888888,
              "#fdca26"
             ],
             [
              1,
              "#f0f921"
             ]
            ],
            "type": "histogram2dcontour"
           }
          ],
          "mesh3d": [
           {
            "colorbar": {
             "outlinewidth": 0,
             "ticks": ""
            },
            "type": "mesh3d"
           }
          ],
          "parcoords": [
           {
            "line": {
             "colorbar": {
              "outlinewidth": 0,
              "ticks": ""
             }
            },
            "type": "parcoords"
           }
          ],
          "pie": [
           {
            "automargin": true,
            "type": "pie"
           }
          ],
          "scatter": [
           {
            "fillpattern": {
             "fillmode": "overlay",
             "size": 10,
             "solidity": 0.2
            },
            "type": "scatter"
           }
          ],
          "scatter3d": [
           {
            "line": {
             "colorbar": {
              "outlinewidth": 0,
              "ticks": ""
             }
            },
            "marker": {
             "colorbar": {
              "outlinewidth": 0,
              "ticks": ""
             }
            },
            "type": "scatter3d"
           }
          ],
          "scattercarpet": [
           {
            "marker": {
             "colorbar": {
              "outlinewidth": 0,
              "ticks": ""
             }
            },
            "type": "scattercarpet"
           }
          ],
          "scattergeo": [
           {
            "marker": {
             "colorbar": {
              "outlinewidth": 0,
              "ticks": ""
             }
            },
            "type": "scattergeo"
           }
          ],
          "scattergl": [
           {
            "marker": {
             "colorbar": {
              "outlinewidth": 0,
              "ticks": ""
             }
            },
            "type": "scattergl"
           }
          ],
          "scattermapbox": [
           {
            "marker": {
             "colorbar": {
              "outlinewidth": 0,
              "ticks": ""
             }
            },
            "type": "scattermapbox"
           }
          ],
          "scatterpolar": [
           {
            "marker": {
             "colorbar": {
              "outlinewidth": 0,
              "ticks": ""
             }
            },
            "type": "scatterpolar"
           }
          ],
          "scatterpolargl": [
           {
            "marker": {
             "colorbar": {
              "outlinewidth": 0,
              "ticks": ""
             }
            },
            "type": "scatterpolargl"
           }
          ],
          "scatterternary": [
           {
            "marker": {
             "colorbar": {
              "outlinewidth": 0,
              "ticks": ""
             }
            },
            "type": "scatterternary"
           }
          ],
          "surface": [
           {
            "colorbar": {
             "outlinewidth": 0,
             "ticks": ""
            },
            "colorscale": [
             [
              0,
              "#0d0887"
             ],
             [
              0.1111111111111111,
              "#46039f"
             ],
             [
              0.2222222222222222,
              "#7201a8"
             ],
             [
              0.3333333333333333,
              "#9c179e"
             ],
             [
              0.4444444444444444,
              "#bd3786"
             ],
             [
              0.5555555555555556,
              "#d8576b"
             ],
             [
              0.6666666666666666,
              "#ed7953"
             ],
             [
              0.7777777777777778,
              "#fb9f3a"
             ],
             [
              0.8888888888888888,
              "#fdca26"
             ],
             [
              1,
              "#f0f921"
             ]
            ],
            "type": "surface"
           }
          ],
          "table": [
           {
            "cells": {
             "fill": {
              "color": "#EBF0F8"
             },
             "line": {
              "color": "white"
             }
            },
            "header": {
             "fill": {
              "color": "#C8D4E3"
             },
             "line": {
              "color": "white"
             }
            },
            "type": "table"
           }
          ]
         },
         "layout": {
          "annotationdefaults": {
           "arrowcolor": "#2a3f5f",
           "arrowhead": 0,
           "arrowwidth": 1
          },
          "autotypenumbers": "strict",
          "coloraxis": {
           "colorbar": {
            "outlinewidth": 0,
            "ticks": ""
           }
          },
          "colorscale": {
           "diverging": [
            [
             0,
             "#8e0152"
            ],
            [
             0.1,
             "#c51b7d"
            ],
            [
             0.2,
             "#de77ae"
            ],
            [
             0.3,
             "#f1b6da"
            ],
            [
             0.4,
             "#fde0ef"
            ],
            [
             0.5,
             "#f7f7f7"
            ],
            [
             0.6,
             "#e6f5d0"
            ],
            [
             0.7,
             "#b8e186"
            ],
            [
             0.8,
             "#7fbc41"
            ],
            [
             0.9,
             "#4d9221"
            ],
            [
             1,
             "#276419"
            ]
           ],
           "sequential": [
            [
             0,
             "#0d0887"
            ],
            [
             0.1111111111111111,
             "#46039f"
            ],
            [
             0.2222222222222222,
             "#7201a8"
            ],
            [
             0.3333333333333333,
             "#9c179e"
            ],
            [
             0.4444444444444444,
             "#bd3786"
            ],
            [
             0.5555555555555556,
             "#d8576b"
            ],
            [
             0.6666666666666666,
             "#ed7953"
            ],
            [
             0.7777777777777778,
             "#fb9f3a"
            ],
            [
             0.8888888888888888,
             "#fdca26"
            ],
            [
             1,
             "#f0f921"
            ]
           ],
           "sequentialminus": [
            [
             0,
             "#0d0887"
            ],
            [
             0.1111111111111111,
             "#46039f"
            ],
            [
             0.2222222222222222,
             "#7201a8"
            ],
            [
             0.3333333333333333,
             "#9c179e"
            ],
            [
             0.4444444444444444,
             "#bd3786"
            ],
            [
             0.5555555555555556,
             "#d8576b"
            ],
            [
             0.6666666666666666,
             "#ed7953"
            ],
            [
             0.7777777777777778,
             "#fb9f3a"
            ],
            [
             0.8888888888888888,
             "#fdca26"
            ],
            [
             1,
             "#f0f921"
            ]
           ]
          },
          "colorway": [
           "#636efa",
           "#EF553B",
           "#00cc96",
           "#ab63fa",
           "#FFA15A",
           "#19d3f3",
           "#FF6692",
           "#B6E880",
           "#FF97FF",
           "#FECB52"
          ],
          "font": {
           "color": "#2a3f5f"
          },
          "geo": {
           "bgcolor": "white",
           "lakecolor": "white",
           "landcolor": "#E5ECF6",
           "showlakes": true,
           "showland": true,
           "subunitcolor": "white"
          },
          "hoverlabel": {
           "align": "left"
          },
          "hovermode": "closest",
          "mapbox": {
           "style": "light"
          },
          "paper_bgcolor": "white",
          "plot_bgcolor": "#E5ECF6",
          "polar": {
           "angularaxis": {
            "gridcolor": "white",
            "linecolor": "white",
            "ticks": ""
           },
           "bgcolor": "#E5ECF6",
           "radialaxis": {
            "gridcolor": "white",
            "linecolor": "white",
            "ticks": ""
           }
          },
          "scene": {
           "xaxis": {
            "backgroundcolor": "#E5ECF6",
            "gridcolor": "white",
            "gridwidth": 2,
            "linecolor": "white",
            "showbackground": true,
            "ticks": "",
            "zerolinecolor": "white"
           },
           "yaxis": {
            "backgroundcolor": "#E5ECF6",
            "gridcolor": "white",
            "gridwidth": 2,
            "linecolor": "white",
            "showbackground": true,
            "ticks": "",
            "zerolinecolor": "white"
           },
           "zaxis": {
            "backgroundcolor": "#E5ECF6",
            "gridcolor": "white",
            "gridwidth": 2,
            "linecolor": "white",
            "showbackground": true,
            "ticks": "",
            "zerolinecolor": "white"
           }
          },
          "shapedefaults": {
           "line": {
            "color": "#2a3f5f"
           }
          },
          "ternary": {
           "aaxis": {
            "gridcolor": "white",
            "linecolor": "white",
            "ticks": ""
           },
           "baxis": {
            "gridcolor": "white",
            "linecolor": "white",
            "ticks": ""
           },
           "bgcolor": "#E5ECF6",
           "caxis": {
            "gridcolor": "white",
            "linecolor": "white",
            "ticks": ""
           }
          },
          "title": {
           "x": 0.05
          },
          "xaxis": {
           "automargin": true,
           "gridcolor": "white",
           "linecolor": "white",
           "ticks": "",
           "title": {
            "standoff": 15
           },
           "zerolinecolor": "white",
           "zerolinewidth": 2
          },
          "yaxis": {
           "automargin": true,
           "gridcolor": "white",
           "linecolor": "white",
           "ticks": "",
           "title": {
            "standoff": 15
           },
           "zerolinecolor": "white",
           "zerolinewidth": 2
          }
         }
        },
        "xaxis": {
         "autorange": true,
         "range": [
          -0.5,
          9.5
         ],
         "type": "category"
        },
        "yaxis": {
         "autorange": true,
         "range": [
          0,
          172.6315789473684
         ],
         "type": "linear"
        }
       }
      },
      "image/png": "[encoded data removed]",
      "text/html": [
       "<div>                            <div id=\"d2f16f40-69ee-43d6-af78-34f5dff54b5d\" class=\"plotly-graph-div\" style=\"height:525px; width:100%;\"></div>            <script type=\"text/javascript\">                require([\"plotly\"], function(Plotly) {                    window.PLOTLYENV=window.PLOTLYENV || {};                                    if (document.getElementById(\"d2f16f40-69ee-43d6-af78-34f5dff54b5d\")) {                    Plotly.newPlot(                        \"d2f16f40-69ee-43d6-af78-34f5dff54b5d\",                        [{\"x\":[\"\\u2764\\ufe0f\",\"\\u2764\",\"\\ud83d\\udc4d\",\"\\ud83d\\ude0d\",\"\\ud83d\\ude02\",\"\\u2665\",\"\\ud83d\\udc96\",\"\\ud83d\\udc9c\",\"\\ud83d\\udd25\",\"\\ud83d\\udc0d\"],\"y\":[164,148,120,120,90,43,38,28,28,23],\"type\":\"bar\"}],                        {\"template\":{\"data\":{\"barpolar\":[{\"marker\":{\"line\":{\"color\":\"#E5ECF6\",\"width\":0.5},\"pattern\":{\"fillmode\":\"overlay\",\"size\":10,\"solidity\":0.2}},\"type\":\"barpolar\"}],\"bar\":[{\"error_x\":{\"color\":\"#2a3f5f\"},\"error_y\":{\"color\":\"#2a3f5f\"},\"marker\":{\"line\":{\"color\":\"#E5ECF6\",\"width\":0.5},\"pattern\":{\"fillmode\":\"overlay\",\"size\":10,\"solidity\":0.2}},\"type\":\"bar\"}],\"carpet\":[{\"aaxis\":{\"endlinecolor\":\"#2a3f5f\",\"gridcolor\":\"white\",\"linecolor\":\"white\",\"minorgridcolor\":\"white\",\"startlinecolor\":\"#2a3f5f\"},\"baxis\":{\"endlinecolor\":\"#2a3f5f\",\"gridcolor\":\"white\",\"linecolor\":\"white\",\"minorgridcolor\":\"white\",\"startlinecolor\":\"#2a3f5f\"},\"type\":\"carpet\"}],\"choropleth\":[{\"colorbar\":{\"outlinewidth\":0,\"ticks\":\"\"},\"type\":\"choropleth\"}],\"contourcarpet\":[{\"colorbar\":{\"outlinewidth\":0,\"ticks\":\"\"},\"type\":\"contourcarpet\"}],\"contour\":[{\"colorbar\":{\"outlinewidth\":0,\"ticks\":\"\"},\"colorscale\":[[0.0,\"#0d0887\"],[0.1111111111111111,\"#46039f\"],[0.2222222222222222,\"#7201a8\"],[0.3333333333333333,\"#9c179e\"],[0.4444444444444444,\"#bd3786\"],[0.5555555555555556,\"#d8576b\"],[0.6666666666666666,\"#ed7953\"],[0.7777777777777778,\"#fb9f3a\"],[0.8888888888888888,\"#fdca26\"],[1.0,\"#f0f921\"]],\"type\":\"contour\"}],\"heatmapgl\":[{\"colorbar\":{\"outlinewidth\":0,\"ticks\":\"\"},\"colorscale\":[[0.0,\"#0d0887\"],[0.1111111111111111,\"#46039f\"],[0.2222222222222222,\"#7201a8\"],[0.3333333333333333,\"#9c179e\"],[0.4444444444444444,\"#bd3786\"],[0.5555555555555556,\"#d8576b\"],[0.6666666666666666,\"#ed7953\"],[0.7777777777777778,\"#fb9f3a\"],[0.8888888888888888,\"#fdca26\"],[1.0,\"#f0f921\"]],\"type\":\"heatmapgl\"}],\"heatmap\":[{\"colorbar\":{\"outlinewidth\":0,\"ticks\":\"\"},\"colorscale\":[[0.0,\"#0d0887\"],[0.1111111111111111,\"#46039f\"],[0.2222222222222222,\"#7201a8\"],[0.3333333333333333,\"#9c179e\"],[0.4444444444444444,\"#bd3786\"],[0.5555555555555556,\"#d8576b\"],[0.6666666666666666,\"#ed7953\"],[0.7777777777777778,\"#fb9f3a\"],[0.8888888888888888,\"#fdca26\"],[1.0,\"#f0f921\"]],\"type\":\"heatmap\"}],\"histogram2dcontour\":[{\"colorbar\":{\"outlinewidth\":0,\"ticks\":\"\"},\"colorscale\":[[0.0,\"#0d0887\"],[0.1111111111111111,\"#46039f\"],[0.2222222222222222,\"#7201a8\"],[0.3333333333333333,\"#9c179e\"],[0.4444444444444444,\"#bd3786\"],[0.5555555555555556,\"#d8576b\"],[0.6666666666666666,\"#ed7953\"],[0.7777777777777778,\"#fb9f3a\"],[0.8888888888888888,\"#fdca26\"],[1.0,\"#f0f921\"]],\"type\":\"histogram2dcontour\"}],\"histogram2d\":[{\"colorbar\":{\"outlinewidth\":0,\"ticks\":\"\"},\"colorscale\":[[0.0,\"#0d0887\"],[0.1111111111111111,\"#46039f\"],[0.2222222222222222,\"#7201a8\"],[0.3333333333333333,\"#9c179e\"],[0.4444444444444444,\"#bd3786\"],[0.5555555555555556,\"#d8576b\"],[0.6666666666666666,\"#ed7953\"],[0.7777777777777778,\"#fb9f3a\"],[0.8888888888888888,\"#fdca26\"],[1.0,\"#f0f921\"]],\"type\":\"histogram2d\"}],\"histogram\":[{\"marker\":{\"pattern\":{\"fillmode\":\"overlay\",\"size\":10,\"solidity\":0.2}},\"type\":\"histogram\"}],\"mesh3d\":[{\"colorbar\":{\"outlinewidth\":0,\"ticks\":\"\"},\"type\":\"mesh3d\"}],\"parcoords\":[{\"line\":{\"colorbar\":{\"outlinewidth\":0,\"ticks\":\"\"}},\"type\":\"parcoords\"}],\"pie\":[{\"automargin\":true,\"type\":\"pie\"}],\"scatter3d\":[{\"line\":{\"colorbar\":{\"outlinewidth\":0,\"ticks\":\"\"}},\"marker\":{\"colorbar\":{\"outlinewidth\":0,\"ticks\":\"\"}},\"type\":\"scatter3d\"}],\"scattercarpet\":[{\"marker\":{\"colorbar\":{\"outlinewidth\":0,\"ticks\":\"\"}},\"type\":\"scattercarpet\"}],\"scattergeo\":[{\"marker\":{\"colorbar\":{\"outlinewidth\":0,\"ticks\":\"\"}},\"type\":\"scattergeo\"}],\"scattergl\":[{\"marker\":{\"colorbar\":{\"outlinewidth\":0,\"ticks\":\"\"}},\"type\":\"scattergl\"}],\"scattermapbox\":[{\"marker\":{\"colorbar\":{\"outlinewidth\":0,\"ticks\":\"\"}},\"type\":\"scattermapbox\"}],\"scatterpolargl\":[{\"marker\":{\"colorbar\":{\"outlinewidth\":0,\"ticks\":\"\"}},\"type\":\"scatterpolargl\"}],\"scatterpolar\":[{\"marker\":{\"colorbar\":{\"outlinewidth\":0,\"ticks\":\"\"}},\"type\":\"scatterpolar\"}],\"scatter\":[{\"fillpattern\":{\"fillmode\":\"overlay\",\"size\":10,\"solidity\":0.2},\"type\":\"scatter\"}],\"scatterternary\":[{\"marker\":{\"colorbar\":{\"outlinewidth\":0,\"ticks\":\"\"}},\"type\":\"scatterternary\"}],\"surface\":[{\"colorbar\":{\"outlinewidth\":0,\"ticks\":\"\"},\"colorscale\":[[0.0,\"#0d0887\"],[0.1111111111111111,\"#46039f\"],[0.2222222222222222,\"#7201a8\"],[0.3333333333333333,\"#9c179e\"],[0.4444444444444444,\"#bd3786\"],[0.5555555555555556,\"#d8576b\"],[0.6666666666666666,\"#ed7953\"],[0.7777777777777778,\"#fb9f3a\"],[0.8888888888888888,\"#fdca26\"],[1.0,\"#f0f921\"]],\"type\":\"surface\"}],\"table\":[{\"cells\":{\"fill\":{\"color\":\"#EBF0F8\"},\"line\":{\"color\":\"white\"}},\"header\":{\"fill\":{\"color\":\"#C8D4E3\"},\"line\":{\"color\":\"white\"}},\"type\":\"table\"}]},\"layout\":{\"annotationdefaults\":{\"arrowcolor\":\"#2a3f5f\",\"arrowhead\":0,\"arrowwidth\":1},\"autotypenumbers\":\"strict\",\"coloraxis\":{\"colorbar\":{\"outlinewidth\":0,\"ticks\":\"\"}},\"colorscale\":{\"diverging\":[[0,\"#8e0152\"],[0.1,\"#c51b7d\"],[0.2,\"#de77ae\"],[0.3,\"#f1b6da\"],[0.4,\"#fde0ef\"],[0.5,\"#f7f7f7\"],[0.6,\"#e6f5d0\"],[0.7,\"#b8e186\"],[0.8,\"#7fbc41\"],[0.9,\"#4d9221\"],[1,\"#276419\"]],\"sequential\":[[0.0,\"#0d0887\"],[0.1111111111111111,\"#46039f\"],[0.2222222222222222,\"#7201a8\"],[0.3333333333333333,\"#9c179e\"],[0.4444444444444444,\"#bd3786\"],[0.5555555555555556,\"#d8576b\"],[0.6666666666666666,\"#ed7953\"],[0.7777777777777778,\"#fb9f3a\"],[0.8888888888888888,\"#fdca26\"],[1.0,\"#f0f921\"]],\"sequentialminus\":[[0.0,\"#0d0887\"],[0.1111111111111111,\"#46039f\"],[0.2222222222222222,\"#7201a8\"],[0.3333333333333333,\"#9c179e\"],[0.4444444444444444,\"#bd3786\"],[0.5555555555555556,\"#d8576b\"],[0.6666666666666666,\"#ed7953\"],[0.7777777777777778,\"#fb9f3a\"],[0.8888888888888888,\"#fdca26\"],[1.0,\"#f0f921\"]]},\"colorway\":[\"#636efa\",\"#EF553B\",\"#00cc96\",\"#ab63fa\",\"#FFA15A\",\"#19d3f3\",\"#FF6692\",\"#B6E880\",\"#FF97FF\",\"#FECB52\"],\"font\":{\"color\":\"#2a3f5f\"},\"geo\":{\"bgcolor\":\"white\",\"lakecolor\":\"white\",\"landcolor\":\"#E5ECF6\",\"showlakes\":true,\"showland\":true,\"subunitcolor\":\"white\"},\"hoverlabel\":{\"align\":\"left\"},\"hovermode\":\"closest\",\"mapbox\":{\"style\":\"light\"},\"paper_bgcolor\":\"white\",\"plot_bgcolor\":\"#E5ECF6\",\"polar\":{\"angularaxis\":{\"gridcolor\":\"white\",\"linecolor\":\"white\",\"ticks\":\"\"},\"bgcolor\":\"#E5ECF6\",\"radialaxis\":{\"gridcolor\":\"white\",\"linecolor\":\"white\",\"ticks\":\"\"}},\"scene\":{\"xaxis\":{\"backgroundcolor\":\"#E5ECF6\",\"gridcolor\":\"white\",\"gridwidth\":2,\"linecolor\":\"white\",\"showbackground\":true,\"ticks\":\"\",\"zerolinecolor\":\"white\"},\"yaxis\":{\"backgroundcolor\":\"#E5ECF6\",\"gridcolor\":\"white\",\"gridwidth\":2,\"linecolor\":\"white\",\"showbackground\":true,\"ticks\":\"\",\"zerolinecolor\":\"white\"},\"zaxis\":{\"backgroundcolor\":\"#E5ECF6\",\"gridcolor\":\"white\",\"gridwidth\":2,\"linecolor\":\"white\",\"showbackground\":true,\"ticks\":\"\",\"zerolinecolor\":\"white\"}},\"shapedefaults\":{\"line\":{\"color\":\"#2a3f5f\"}},\"ternary\":{\"aaxis\":{\"gridcolor\":\"white\",\"linecolor\":\"white\",\"ticks\":\"\"},\"baxis\":{\"gridcolor\":\"white\",\"linecolor\":\"white\",\"ticks\":\"\"},\"bgcolor\":\"#E5ECF6\",\"caxis\":{\"gridcolor\":\"white\",\"linecolor\":\"white\",\"ticks\":\"\"}},\"title\":{\"x\":0.05},\"xaxis\":{\"automargin\":true,\"gridcolor\":\"white\",\"linecolor\":\"white\",\"ticks\":\"\",\"title\":{\"standoff\":15},\"zerolinecolor\":\"white\",\"zerolinewidth\":2},\"yaxis\":{\"automargin\":true,\"gridcolor\":\"white\",\"linecolor\":\"white\",\"ticks\":\"\",\"title\":{\"standoff\":15},\"zerolinecolor\":\"white\",\"zerolinewidth\":2}}}},                        {\"responsive\": true}                    ).then(function(){\n",
       "                            \n",
       "var gd = document.getElementById('d2f16f40-69ee-43d6-af78-34f5dff54b5d');\n",
       "var x = new MutationObserver(function (mutations, observer) {{\n",
       "        var display = window.getComputedStyle(gd).display;\n",
       "        if (!display || display === 'none') {{\n",
       "            console.log([gd, 'removed!']);\n",
       "            Plotly.purge(gd);\n",
       "            observer.disconnect();\n",
       "        }}\n",
       "}});\n",
       "\n",
       "// Listen for the removal of the full notebook cells\n",
       "var notebookContainer = gd.closest('#notebook-container');\n",
       "if (notebookContainer) {{\n",
       "    x.observe(notebookContainer, {childList: true});\n",
       "}}\n",
       "\n",
       "// Listen for the clearing of the current output cell\n",
       "var outputEl = gd.closest('.output');\n",
       "if (outputEl) {{\n",
       "    x.observe(outputEl, {childList: true});\n",
       "}}\n",
       "\n",
       "                        })                };                });            </script>        </div>"
      ]
     },
     "metadata": {},
     "output_type": "display_data"
    }
   ],
   "source": [
    "iplot([trace])"
   ]
  },
  {
   "cell_type": "markdown",
   "id": "b2cb02b6-4901-40cf-9b7d-35a8e3b1f33e",
   "metadata": {},
   "source": [
    "### Data collection"
   ]
  },
  {
   "cell_type": "code",
   "execution_count": 65,
   "id": "b6eb6529-f543-447f-9851-ae7a76a3530f",
   "metadata": {},
   "outputs": [],
   "source": [
    "import os"
   ]
  },
  {
   "cell_type": "code",
   "execution_count": 66,
   "id": "560b1879-9652-4ac6-9cd8-755a0b313f88",
   "metadata": {},
   "outputs": [],
   "source": [
    "files = os.listdir(r\"/Users/akhilkumarkolli/additional_data\")"
   ]
  },
  {
   "cell_type": "code",
   "execution_count": 67,
   "id": "56f12543-2dbd-4c89-aa83-feebb8f5985a",
   "metadata": {},
   "outputs": [],
   "source": [
    "files_csv= [file for file in files if \".csv\" in file]"
   ]
  },
  {
   "cell_type": "code",
   "execution_count": 68,
   "id": "c6afbac6-9706-49cc-97a7-d96cfec77897",
   "metadata": {},
   "outputs": [],
   "source": [
    "import warnings \n",
    "from warnings import filterwarnings\n",
    "filterwarnings('ignore')"
   ]
  },
  {
   "cell_type": "code",
   "execution_count": 69,
   "id": "0561cc09-ce14-4771-8e27-35c3da2835a3",
   "metadata": {},
   "outputs": [],
   "source": [
    "full_df = pd.DataFrame()\n",
    "path = r\"/Users/akhilkumarkolli/additional_data\"\n",
    "\n",
    "for file in files_csv:\n",
    "    current_df = pd.read_csv(path+ '/'+file,encoding = \"iso-8859-1\" )\n",
    "    full_df = pd.concat([full_df,current_df], ignore_index = True)"
   ]
  },
  {
   "cell_type": "code",
   "execution_count": 70,
   "id": "39b28859-b0c0-432e-9396-eb11ac40885f",
   "metadata": {},
   "outputs": [
    {
     "data": {
      "text/plain": [
       "(375942, 16)"
      ]
     },
     "execution_count": 70,
     "metadata": {},
     "output_type": "execute_result"
    }
   ],
   "source": [
    "full_df.shape"
   ]
  },
  {
   "cell_type": "markdown",
   "id": "b077a45c-0bf7-4d90-b4c4-cf2179ff624d",
   "metadata": {},
   "source": [
    "### Data Preprocessing"
   ]
  },
  {
   "cell_type": "code",
   "execution_count": 71,
   "id": "6a1f55b1-4a97-4e34-91ad-26e17177e022",
   "metadata": {},
   "outputs": [
    {
     "data": {
      "text/plain": [
       "(36417, 16)"
      ]
     },
     "execution_count": 71,
     "metadata": {},
     "output_type": "execute_result"
    }
   ],
   "source": [
    "full_df[full_df.duplicated()].shape"
   ]
  },
  {
   "cell_type": "code",
   "execution_count": 72,
   "id": "2bc470f4-fd44-4045-a4db-1599de443587",
   "metadata": {},
   "outputs": [],
   "source": [
    "full_df = full_df.drop_duplicates()"
   ]
  },
  {
   "cell_type": "code",
   "execution_count": 73,
   "id": "9521ba82-fc57-44bd-add0-597582c1089f",
   "metadata": {},
   "outputs": [
    {
     "data": {
      "text/plain": [
       "(339525, 16)"
      ]
     },
     "execution_count": 73,
     "metadata": {},
     "output_type": "execute_result"
    }
   ],
   "source": [
    "full_df.shape"
   ]
  },
  {
   "cell_type": "code",
   "execution_count": 46,
   "id": "b7db4ac3-198d-4f79-9db5-04160db49c18",
   "metadata": {},
   "outputs": [],
   "source": [
    "full_df[0:1000].to_csv(\"/Users/akhilkumarkolli/collated_data.csv\", index = False)"
   ]
  },
  {
   "cell_type": "code",
   "execution_count": 74,
   "id": "6835b388-c3c5-480b-aae3-38117d353edf",
   "metadata": {},
   "outputs": [
    {
     "name": "stdout",
     "output_type": "stream",
     "text": [
      "Requirement already satisfied: mysql-connector-python in /opt/anaconda3/lib/python3.12/site-packages (9.0.0)\n"
     ]
    }
   ],
   "source": [
    "!pip install mysql-connector-python\n",
    "from sqlalchemy import create_engine\n",
    "import urllib.parse\n"
   ]
  },
  {
   "cell_type": "code",
   "execution_count": 75,
   "id": "0e9ed7a4-b432-490e-8162-c5f5dde38003",
   "metadata": {},
   "outputs": [],
   "source": [
    "#connection_string = f'mysql+mysqlconnector://{username}:{encoded_password}@{host}:{port}/{database}'\n"
   ]
  },
  {
   "cell_type": "code",
   "execution_count": 77,
   "id": "fff409d1-42e1-4088-8643-538ede96ba29",
   "metadata": {},
   "outputs": [],
   "source": [
    "#engine = create_engine(connection_string)"
   ]
  },
  {
   "cell_type": "code",
   "execution_count": 79,
   "id": "1150a8b1-022e-44e6-8733-398446025006",
   "metadata": {},
   "outputs": [],
   "source": [
    "#full_df[0:100].to_sql('users', con=engine, if_exists ='append')"
   ]
  },
  {
   "cell_type": "markdown",
   "id": "a138687e-3da4-4a2f-94da-ef4e0370b41d",
   "metadata": {},
   "source": [
    "### Analysing the most liked category in Youtube"
   ]
  },
  {
   "cell_type": "code",
   "execution_count": 80,
   "id": "45d053d9-66cc-483c-8bb8-d6af4cca36c8",
   "metadata": {},
   "outputs": [
    {
     "data": {
      "text/html": [
       "<div>\n",
       "<style scoped>\n",
       "    .dataframe tbody tr th:only-of-type {\n",
       "        vertical-align: middle;\n",
       "    }\n",
       "\n",
       "    .dataframe tbody tr th {\n",
       "        vertical-align: top;\n",
       "    }\n",
       "\n",
       "    .dataframe thead th {\n",
       "        text-align: right;\n",
       "    }\n",
       "</style>\n",
       "<table border=\"1\" class=\"dataframe\">\n",
       "  <thead>\n",
       "    <tr style=\"text-align: right;\">\n",
       "      <th></th>\n",
       "      <th>video_id</th>\n",
       "      <th>trending_date</th>\n",
       "      <th>title</th>\n",
       "      <th>channel_title</th>\n",
       "      <th>category_id</th>\n",
       "      <th>publish_time</th>\n",
       "      <th>tags</th>\n",
       "      <th>views</th>\n",
       "      <th>likes</th>\n",
       "      <th>dislikes</th>\n",
       "      <th>comment_count</th>\n",
       "      <th>thumbnail_link</th>\n",
       "      <th>comments_disabled</th>\n",
       "      <th>ratings_disabled</th>\n",
       "      <th>video_error_or_removed</th>\n",
       "      <th>description</th>\n",
       "    </tr>\n",
       "  </thead>\n",
       "  <tbody>\n",
       "    <tr>\n",
       "      <th>0</th>\n",
       "      <td>SbOwzAl9ZfQ</td>\n",
       "      <td>17.14.11</td>\n",
       "      <td>CapÃ­tulo 12 | MasterChef 2017</td>\n",
       "      <td>MasterChef 2017</td>\n",
       "      <td>24</td>\n",
       "      <td>2017-11-13T06:06:22.000Z</td>\n",
       "      <td>MasterChef Junior 2017|\"TV Azteca\"|\"recetas\"|\"...</td>\n",
       "      <td>310130</td>\n",
       "      <td>4182</td>\n",
       "      <td>361</td>\n",
       "      <td>1836</td>\n",
       "      <td>https://i.ytimg.com/vi/SbOwzAl9ZfQ/default.jpg</td>\n",
       "      <td>False</td>\n",
       "      <td>False</td>\n",
       "      <td>False</td>\n",
       "      <td>Disfruta la presencia del Chef Torreblanca en ...</td>\n",
       "    </tr>\n",
       "    <tr>\n",
       "      <th>1</th>\n",
       "      <td>klOV6Xh-DnI</td>\n",
       "      <td>17.14.11</td>\n",
       "      <td>ALEXA EX-INTEGRANTE DEL GRUPO TIMBIRICHE RENUN...</td>\n",
       "      <td>Micky Contreras Martinez</td>\n",
       "      <td>22</td>\n",
       "      <td>2017-11-13T05:11:58.000Z</td>\n",
       "      <td>La Voz Mexico 7</td>\n",
       "      <td>104972</td>\n",
       "      <td>271</td>\n",
       "      <td>174</td>\n",
       "      <td>369</td>\n",
       "      <td>https://i.ytimg.com/vi/klOV6Xh-DnI/default.jpg</td>\n",
       "      <td>False</td>\n",
       "      <td>False</td>\n",
       "      <td>False</td>\n",
       "      <td>ALEXA EX-INTEGRANTE DEL GRUPO TIMBIRICHE RENUN...</td>\n",
       "    </tr>\n",
       "    <tr>\n",
       "      <th>2</th>\n",
       "      <td>6L2ZF7Qzsbk</td>\n",
       "      <td>17.14.11</td>\n",
       "      <td>LOUIS CKAGÃ - EL PULSO DE LA REPÃBLICA</td>\n",
       "      <td>El Pulso De La RepÃºblica</td>\n",
       "      <td>25</td>\n",
       "      <td>2017-11-13T17:00:02.000Z</td>\n",
       "      <td>Chumel Torres|\"El Pulso de la Republica\"|\"noti...</td>\n",
       "      <td>136064</td>\n",
       "      <td>10105</td>\n",
       "      <td>266</td>\n",
       "      <td>607</td>\n",
       "      <td>https://i.ytimg.com/vi/6L2ZF7Qzsbk/default.jpg</td>\n",
       "      <td>False</td>\n",
       "      <td>False</td>\n",
       "      <td>False</td>\n",
       "      <td>La canciÃ³n del principio se llama âEste esp...</td>\n",
       "    </tr>\n",
       "    <tr>\n",
       "      <th>3</th>\n",
       "      <td>hcY52MFWMDM</td>\n",
       "      <td>17.14.11</td>\n",
       "      <td>Sismo de 6.7 sacude Costa Rica 12 Noviembre 2017</td>\n",
       "      <td>Casanare</td>\n",
       "      <td>25</td>\n",
       "      <td>2017-11-13T03:47:10.000Z</td>\n",
       "      <td>temblor|\"costa rica\"|\"sismo en costa rica\"</td>\n",
       "      <td>96153</td>\n",
       "      <td>378</td>\n",
       "      <td>171</td>\n",
       "      <td>208</td>\n",
       "      <td>https://i.ytimg.com/vi/hcY52MFWMDM/default.jpg</td>\n",
       "      <td>False</td>\n",
       "      <td>False</td>\n",
       "      <td>False</td>\n",
       "      <td>El video es de un Walmart en el pais centroame...</td>\n",
       "    </tr>\n",
       "    <tr>\n",
       "      <th>4</th>\n",
       "      <td>_OXDcGPVAa4</td>\n",
       "      <td>17.14.11</td>\n",
       "      <td>DOG HACKS | MUSAS LESSLIE LOS POLINESIOS</td>\n",
       "      <td>Musas</td>\n",
       "      <td>26</td>\n",
       "      <td>2017-11-13T19:17:48.000Z</td>\n",
       "      <td>MUSAS|\"lesslie\"|\"karen\"|\"hacks\"|\"perros\"|\"dogs...</td>\n",
       "      <td>499965</td>\n",
       "      <td>57781</td>\n",
       "      <td>681</td>\n",
       "      <td>7428</td>\n",
       "      <td>https://i.ytimg.com/vi/_OXDcGPVAa4/default.jpg</td>\n",
       "      <td>False</td>\n",
       "      <td>False</td>\n",
       "      <td>False</td>\n",
       "      <td>MI HERMANO NARRA MI RUTINA DE MAQUILLAJE\\nhttp...</td>\n",
       "    </tr>\n",
       "  </tbody>\n",
       "</table>\n",
       "</div>"
      ],
      "text/plain": [
       "      video_id trending_date  \\\n",
       "0  SbOwzAl9ZfQ      17.14.11   \n",
       "1  klOV6Xh-DnI      17.14.11   \n",
       "2  6L2ZF7Qzsbk      17.14.11   \n",
       "3  hcY52MFWMDM      17.14.11   \n",
       "4  _OXDcGPVAa4      17.14.11   \n",
       "\n",
       "                                               title  \\\n",
       "0                     CapÃ­tulo 12 | MasterChef 2017   \n",
       "1  ALEXA EX-INTEGRANTE DEL GRUPO TIMBIRICHE RENUN...   \n",
       "2           LOUIS CKAGÃ - EL PULSO DE LA REPÃBLICA   \n",
       "3   Sismo de 6.7 sacude Costa Rica 12 Noviembre 2017   \n",
       "4           DOG HACKS | MUSAS LESSLIE LOS POLINESIOS   \n",
       "\n",
       "               channel_title  category_id              publish_time  \\\n",
       "0            MasterChef 2017           24  2017-11-13T06:06:22.000Z   \n",
       "1   Micky Contreras Martinez           22  2017-11-13T05:11:58.000Z   \n",
       "2  El Pulso De La RepÃºblica           25  2017-11-13T17:00:02.000Z   \n",
       "3                   Casanare           25  2017-11-13T03:47:10.000Z   \n",
       "4                      Musas           26  2017-11-13T19:17:48.000Z   \n",
       "\n",
       "                                                tags   views  likes  dislikes  \\\n",
       "0  MasterChef Junior 2017|\"TV Azteca\"|\"recetas\"|\"...  310130   4182       361   \n",
       "1                                    La Voz Mexico 7  104972    271       174   \n",
       "2  Chumel Torres|\"El Pulso de la Republica\"|\"noti...  136064  10105       266   \n",
       "3         temblor|\"costa rica\"|\"sismo en costa rica\"   96153    378       171   \n",
       "4  MUSAS|\"lesslie\"|\"karen\"|\"hacks\"|\"perros\"|\"dogs...  499965  57781       681   \n",
       "\n",
       "   comment_count                                  thumbnail_link  \\\n",
       "0           1836  https://i.ytimg.com/vi/SbOwzAl9ZfQ/default.jpg   \n",
       "1            369  https://i.ytimg.com/vi/klOV6Xh-DnI/default.jpg   \n",
       "2            607  https://i.ytimg.com/vi/6L2ZF7Qzsbk/default.jpg   \n",
       "3            208  https://i.ytimg.com/vi/hcY52MFWMDM/default.jpg   \n",
       "4           7428  https://i.ytimg.com/vi/_OXDcGPVAa4/default.jpg   \n",
       "\n",
       "   comments_disabled  ratings_disabled  video_error_or_removed  \\\n",
       "0              False             False                   False   \n",
       "1              False             False                   False   \n",
       "2              False             False                   False   \n",
       "3              False             False                   False   \n",
       "4              False             False                   False   \n",
       "\n",
       "                                         description  \n",
       "0  Disfruta la presencia del Chef Torreblanca en ...  \n",
       "1  ALEXA EX-INTEGRANTE DEL GRUPO TIMBIRICHE RENUN...  \n",
       "2  La canciÃ³n del principio se llama âEste esp...  \n",
       "3  El video es de un Walmart en el pais centroame...  \n",
       "4  MI HERMANO NARRA MI RUTINA DE MAQUILLAJE\\nhttp...  "
      ]
     },
     "execution_count": 80,
     "metadata": {},
     "output_type": "execute_result"
    }
   ],
   "source": [
    "full_df.head(5)"
   ]
  },
  {
   "cell_type": "code",
   "execution_count": 81,
   "id": "e113d6b5-9bc2-4a3b-9fe6-0854269039e7",
   "metadata": {},
   "outputs": [
    {
     "data": {
      "text/plain": [
       "array([24, 22, 25, 26, 10, 23, 17,  2,  1, 29, 27, 28, 20, 15, 19, 43, 30,\n",
       "       44])"
      ]
     },
     "execution_count": 81,
     "metadata": {},
     "output_type": "execute_result"
    }
   ],
   "source": [
    "full_df['category_id'].unique()"
   ]
  },
  {
   "cell_type": "code",
   "execution_count": 82,
   "id": "a200c758-c113-4d3d-81a8-5fb78c2fa795",
   "metadata": {},
   "outputs": [],
   "source": [
    "json_df = pd.read_json(r'/Users/akhilkumarkolli/additional_data/US_category_id.json')"
   ]
  },
  {
   "cell_type": "code",
   "execution_count": 83,
   "id": "250d9b46-bb60-496b-a1a3-7be3363b0b46",
   "metadata": {},
   "outputs": [
    {
     "data": {
      "text/plain": [
       "{'kind': 'youtube#videoCategory',\n",
       " 'etag': '\"m2yskBQFythfE4irbTIeOgYYfBU/Xy1mB4_yLrHy_BmKmPBggty2mZQ\"',\n",
       " 'id': '1',\n",
       " 'snippet': {'channelId': 'UCBR8-60-B28hp2BmDPdntcQ',\n",
       "  'title': 'Film & Animation',\n",
       "  'assignable': True}}"
      ]
     },
     "execution_count": 83,
     "metadata": {},
     "output_type": "execute_result"
    }
   ],
   "source": [
    "json_df[\"items\"][0]"
   ]
  },
  {
   "cell_type": "code",
   "execution_count": 84,
   "id": "36b2a59d-8154-4386-9af8-099c30e484da",
   "metadata": {},
   "outputs": [],
   "source": [
    "cat_dic = {}\n",
    "\n",
    "for item in json_df[\"items\"]:\n",
    "    cat_dic[int(item[\"id\"])] = item['snippet']['title']"
   ]
  },
  {
   "cell_type": "code",
   "execution_count": 85,
   "id": "b4bc85be-4436-43e2-88b7-6bd11a49cd5b",
   "metadata": {},
   "outputs": [
    {
     "data": {
      "text/plain": [
       "{1: 'Film & Animation',\n",
       " 2: 'Autos & Vehicles',\n",
       " 10: 'Music',\n",
       " 15: 'Pets & Animals',\n",
       " 17: 'Sports',\n",
       " 18: 'Short Movies',\n",
       " 19: 'Travel & Events',\n",
       " 20: 'Gaming',\n",
       " 21: 'Videoblogging',\n",
       " 22: 'People & Blogs',\n",
       " 23: 'Comedy',\n",
       " 24: 'Entertainment',\n",
       " 25: 'News & Politics',\n",
       " 26: 'Howto & Style',\n",
       " 27: 'Education',\n",
       " 28: 'Science & Technology',\n",
       " 29: 'Nonprofits & Activism',\n",
       " 30: 'Movies',\n",
       " 31: 'Anime/Animation',\n",
       " 32: 'Action/Adventure',\n",
       " 33: 'Classics',\n",
       " 34: 'Comedy',\n",
       " 35: 'Documentary',\n",
       " 36: 'Drama',\n",
       " 37: 'Family',\n",
       " 38: 'Foreign',\n",
       " 39: 'Horror',\n",
       " 40: 'Sci-Fi/Fantasy',\n",
       " 41: 'Thriller',\n",
       " 42: 'Shorts',\n",
       " 43: 'Shows',\n",
       " 44: 'Trailers'}"
      ]
     },
     "execution_count": 85,
     "metadata": {},
     "output_type": "execute_result"
    }
   ],
   "source": [
    "cat_dic"
   ]
  },
  {
   "cell_type": "code",
   "execution_count": 86,
   "id": "563fbafd-6899-4268-a5aa-9ec579cd84eb",
   "metadata": {},
   "outputs": [],
   "source": [
    "full_df[\"category_name\"]=full_df[\"category_id\"].map(cat_dic)"
   ]
  },
  {
   "cell_type": "code",
   "execution_count": 87,
   "id": "9a267b35-b09a-4208-ad3b-01613431be94",
   "metadata": {},
   "outputs": [
    {
     "data": {
      "text/html": [
       "<div>\n",
       "<style scoped>\n",
       "    .dataframe tbody tr th:only-of-type {\n",
       "        vertical-align: middle;\n",
       "    }\n",
       "\n",
       "    .dataframe tbody tr th {\n",
       "        vertical-align: top;\n",
       "    }\n",
       "\n",
       "    .dataframe thead th {\n",
       "        text-align: right;\n",
       "    }\n",
       "</style>\n",
       "<table border=\"1\" class=\"dataframe\">\n",
       "  <thead>\n",
       "    <tr style=\"text-align: right;\">\n",
       "      <th></th>\n",
       "      <th>video_id</th>\n",
       "      <th>trending_date</th>\n",
       "      <th>title</th>\n",
       "      <th>channel_title</th>\n",
       "      <th>category_id</th>\n",
       "      <th>publish_time</th>\n",
       "      <th>tags</th>\n",
       "      <th>views</th>\n",
       "      <th>likes</th>\n",
       "      <th>dislikes</th>\n",
       "      <th>comment_count</th>\n",
       "      <th>thumbnail_link</th>\n",
       "      <th>comments_disabled</th>\n",
       "      <th>ratings_disabled</th>\n",
       "      <th>video_error_or_removed</th>\n",
       "      <th>description</th>\n",
       "      <th>category_name</th>\n",
       "    </tr>\n",
       "  </thead>\n",
       "  <tbody>\n",
       "    <tr>\n",
       "      <th>0</th>\n",
       "      <td>SbOwzAl9ZfQ</td>\n",
       "      <td>17.14.11</td>\n",
       "      <td>CapÃ­tulo 12 | MasterChef 2017</td>\n",
       "      <td>MasterChef 2017</td>\n",
       "      <td>24</td>\n",
       "      <td>2017-11-13T06:06:22.000Z</td>\n",
       "      <td>MasterChef Junior 2017|\"TV Azteca\"|\"recetas\"|\"...</td>\n",
       "      <td>310130</td>\n",
       "      <td>4182</td>\n",
       "      <td>361</td>\n",
       "      <td>1836</td>\n",
       "      <td>https://i.ytimg.com/vi/SbOwzAl9ZfQ/default.jpg</td>\n",
       "      <td>False</td>\n",
       "      <td>False</td>\n",
       "      <td>False</td>\n",
       "      <td>Disfruta la presencia del Chef Torreblanca en ...</td>\n",
       "      <td>Entertainment</td>\n",
       "    </tr>\n",
       "    <tr>\n",
       "      <th>1</th>\n",
       "      <td>klOV6Xh-DnI</td>\n",
       "      <td>17.14.11</td>\n",
       "      <td>ALEXA EX-INTEGRANTE DEL GRUPO TIMBIRICHE RENUN...</td>\n",
       "      <td>Micky Contreras Martinez</td>\n",
       "      <td>22</td>\n",
       "      <td>2017-11-13T05:11:58.000Z</td>\n",
       "      <td>La Voz Mexico 7</td>\n",
       "      <td>104972</td>\n",
       "      <td>271</td>\n",
       "      <td>174</td>\n",
       "      <td>369</td>\n",
       "      <td>https://i.ytimg.com/vi/klOV6Xh-DnI/default.jpg</td>\n",
       "      <td>False</td>\n",
       "      <td>False</td>\n",
       "      <td>False</td>\n",
       "      <td>ALEXA EX-INTEGRANTE DEL GRUPO TIMBIRICHE RENUN...</td>\n",
       "      <td>People &amp; Blogs</td>\n",
       "    </tr>\n",
       "    <tr>\n",
       "      <th>2</th>\n",
       "      <td>6L2ZF7Qzsbk</td>\n",
       "      <td>17.14.11</td>\n",
       "      <td>LOUIS CKAGÃ - EL PULSO DE LA REPÃBLICA</td>\n",
       "      <td>El Pulso De La RepÃºblica</td>\n",
       "      <td>25</td>\n",
       "      <td>2017-11-13T17:00:02.000Z</td>\n",
       "      <td>Chumel Torres|\"El Pulso de la Republica\"|\"noti...</td>\n",
       "      <td>136064</td>\n",
       "      <td>10105</td>\n",
       "      <td>266</td>\n",
       "      <td>607</td>\n",
       "      <td>https://i.ytimg.com/vi/6L2ZF7Qzsbk/default.jpg</td>\n",
       "      <td>False</td>\n",
       "      <td>False</td>\n",
       "      <td>False</td>\n",
       "      <td>La canciÃ³n del principio se llama âEste esp...</td>\n",
       "      <td>News &amp; Politics</td>\n",
       "    </tr>\n",
       "    <tr>\n",
       "      <th>3</th>\n",
       "      <td>hcY52MFWMDM</td>\n",
       "      <td>17.14.11</td>\n",
       "      <td>Sismo de 6.7 sacude Costa Rica 12 Noviembre 2017</td>\n",
       "      <td>Casanare</td>\n",
       "      <td>25</td>\n",
       "      <td>2017-11-13T03:47:10.000Z</td>\n",
       "      <td>temblor|\"costa rica\"|\"sismo en costa rica\"</td>\n",
       "      <td>96153</td>\n",
       "      <td>378</td>\n",
       "      <td>171</td>\n",
       "      <td>208</td>\n",
       "      <td>https://i.ytimg.com/vi/hcY52MFWMDM/default.jpg</td>\n",
       "      <td>False</td>\n",
       "      <td>False</td>\n",
       "      <td>False</td>\n",
       "      <td>El video es de un Walmart en el pais centroame...</td>\n",
       "      <td>News &amp; Politics</td>\n",
       "    </tr>\n",
       "    <tr>\n",
       "      <th>4</th>\n",
       "      <td>_OXDcGPVAa4</td>\n",
       "      <td>17.14.11</td>\n",
       "      <td>DOG HACKS | MUSAS LESSLIE LOS POLINESIOS</td>\n",
       "      <td>Musas</td>\n",
       "      <td>26</td>\n",
       "      <td>2017-11-13T19:17:48.000Z</td>\n",
       "      <td>MUSAS|\"lesslie\"|\"karen\"|\"hacks\"|\"perros\"|\"dogs...</td>\n",
       "      <td>499965</td>\n",
       "      <td>57781</td>\n",
       "      <td>681</td>\n",
       "      <td>7428</td>\n",
       "      <td>https://i.ytimg.com/vi/_OXDcGPVAa4/default.jpg</td>\n",
       "      <td>False</td>\n",
       "      <td>False</td>\n",
       "      <td>False</td>\n",
       "      <td>MI HERMANO NARRA MI RUTINA DE MAQUILLAJE\\nhttp...</td>\n",
       "      <td>Howto &amp; Style</td>\n",
       "    </tr>\n",
       "    <tr>\n",
       "      <th>...</th>\n",
       "      <td>...</td>\n",
       "      <td>...</td>\n",
       "      <td>...</td>\n",
       "      <td>...</td>\n",
       "      <td>...</td>\n",
       "      <td>...</td>\n",
       "      <td>...</td>\n",
       "      <td>...</td>\n",
       "      <td>...</td>\n",
       "      <td>...</td>\n",
       "      <td>...</td>\n",
       "      <td>...</td>\n",
       "      <td>...</td>\n",
       "      <td>...</td>\n",
       "      <td>...</td>\n",
       "      <td>...</td>\n",
       "      <td>...</td>\n",
       "    </tr>\n",
       "    <tr>\n",
       "      <th>375937</th>\n",
       "      <td>l884wKofd54</td>\n",
       "      <td>18.14.06</td>\n",
       "      <td>Enrique Iglesias - MOVE TO MIAMI (Official Vid...</td>\n",
       "      <td>EnriqueIglesiasVEVO</td>\n",
       "      <td>10</td>\n",
       "      <td>2018-05-09T07:00:01.000Z</td>\n",
       "      <td>Enrique Iglesias feat. Pitbull|\"MOVE TO MIAMI\"...</td>\n",
       "      <td>25066952</td>\n",
       "      <td>268088</td>\n",
       "      <td>12783</td>\n",
       "      <td>9933</td>\n",
       "      <td>https://i.ytimg.com/vi/l884wKofd54/default.jpg</td>\n",
       "      <td>False</td>\n",
       "      <td>False</td>\n",
       "      <td>False</td>\n",
       "      <td>NEW SONG - MOVE TO MIAMI feat. Pitbull (Click ...</td>\n",
       "      <td>Music</td>\n",
       "    </tr>\n",
       "    <tr>\n",
       "      <th>375938</th>\n",
       "      <td>IP8k2xkhOdI</td>\n",
       "      <td>18.14.06</td>\n",
       "      <td>Jacob Sartorius - Up With It (Official Music V...</td>\n",
       "      <td>Jacob Sartorius</td>\n",
       "      <td>10</td>\n",
       "      <td>2018-05-11T17:09:16.000Z</td>\n",
       "      <td>jacob sartorius|\"jacob\"|\"up with it\"|\"jacob sa...</td>\n",
       "      <td>1492219</td>\n",
       "      <td>61998</td>\n",
       "      <td>13781</td>\n",
       "      <td>24330</td>\n",
       "      <td>https://i.ytimg.com/vi/IP8k2xkhOdI/default.jpg</td>\n",
       "      <td>False</td>\n",
       "      <td>False</td>\n",
       "      <td>False</td>\n",
       "      <td>THE OFFICIAL UP WITH IT MUSIC VIDEO!Get my new...</td>\n",
       "      <td>Music</td>\n",
       "    </tr>\n",
       "    <tr>\n",
       "      <th>375939</th>\n",
       "      <td>Il-an3K9pjg</td>\n",
       "      <td>18.14.06</td>\n",
       "      <td>Anne-Marie - 2002 [Official Video]</td>\n",
       "      <td>Anne-Marie</td>\n",
       "      <td>10</td>\n",
       "      <td>2018-05-08T11:05:08.000Z</td>\n",
       "      <td>anne|\"marie\"|\"anne-marie\"|\"2002\"|\"two thousand...</td>\n",
       "      <td>29641412</td>\n",
       "      <td>394830</td>\n",
       "      <td>8892</td>\n",
       "      <td>19988</td>\n",
       "      <td>https://i.ytimg.com/vi/Il-an3K9pjg/default.jpg</td>\n",
       "      <td>False</td>\n",
       "      <td>False</td>\n",
       "      <td>False</td>\n",
       "      <td>Get 2002 by Anne-Marie HERE â¶ http://ad.gt/2...</td>\n",
       "      <td>Music</td>\n",
       "    </tr>\n",
       "    <tr>\n",
       "      <th>375940</th>\n",
       "      <td>-DRsfNObKIQ</td>\n",
       "      <td>18.14.06</td>\n",
       "      <td>Eleni Foureira - Fuego - Cyprus - LIVE - First...</td>\n",
       "      <td>Eurovision Song Contest</td>\n",
       "      <td>24</td>\n",
       "      <td>2018-05-08T20:32:32.000Z</td>\n",
       "      <td>Eurovision Song Contest|\"2018\"|\"Lisbon\"|\"Cypru...</td>\n",
       "      <td>14317515</td>\n",
       "      <td>151870</td>\n",
       "      <td>45875</td>\n",
       "      <td>26766</td>\n",
       "      <td>https://i.ytimg.com/vi/-DRsfNObKIQ/default.jpg</td>\n",
       "      <td>False</td>\n",
       "      <td>False</td>\n",
       "      <td>False</td>\n",
       "      <td>Eleni Foureira represented Cyprus at the first...</td>\n",
       "      <td>Entertainment</td>\n",
       "    </tr>\n",
       "    <tr>\n",
       "      <th>375941</th>\n",
       "      <td>4YFo4bdMO8Q</td>\n",
       "      <td>18.14.06</td>\n",
       "      <td>KYLE - Ikuyo feat.  2 Chainz &amp; Sophia Black [A...</td>\n",
       "      <td>SuperDuperKyle</td>\n",
       "      <td>10</td>\n",
       "      <td>2018-05-11T04:06:35.000Z</td>\n",
       "      <td>Kyle|\"SuperDuperKyle\"|\"Ikuyo\"|\"2 Chainz\"|\"Soph...</td>\n",
       "      <td>607552</td>\n",
       "      <td>18271</td>\n",
       "      <td>274</td>\n",
       "      <td>1423</td>\n",
       "      <td>https://i.ytimg.com/vi/4YFo4bdMO8Q/default.jpg</td>\n",
       "      <td>False</td>\n",
       "      <td>False</td>\n",
       "      <td>False</td>\n",
       "      <td>Debut album 'Light of Mine' out now: http://ky...</td>\n",
       "      <td>Music</td>\n",
       "    </tr>\n",
       "  </tbody>\n",
       "</table>\n",
       "<p>339525 rows × 17 columns</p>\n",
       "</div>"
      ],
      "text/plain": [
       "           video_id trending_date  \\\n",
       "0       SbOwzAl9ZfQ      17.14.11   \n",
       "1       klOV6Xh-DnI      17.14.11   \n",
       "2       6L2ZF7Qzsbk      17.14.11   \n",
       "3       hcY52MFWMDM      17.14.11   \n",
       "4       _OXDcGPVAa4      17.14.11   \n",
       "...             ...           ...   \n",
       "375937  l884wKofd54      18.14.06   \n",
       "375938  IP8k2xkhOdI      18.14.06   \n",
       "375939  Il-an3K9pjg      18.14.06   \n",
       "375940  -DRsfNObKIQ      18.14.06   \n",
       "375941  4YFo4bdMO8Q      18.14.06   \n",
       "\n",
       "                                                    title  \\\n",
       "0                          CapÃ­tulo 12 | MasterChef 2017   \n",
       "1       ALEXA EX-INTEGRANTE DEL GRUPO TIMBIRICHE RENUN...   \n",
       "2                LOUIS CKAGÃ - EL PULSO DE LA REPÃBLICA   \n",
       "3        Sismo de 6.7 sacude Costa Rica 12 Noviembre 2017   \n",
       "4                DOG HACKS | MUSAS LESSLIE LOS POLINESIOS   \n",
       "...                                                   ...   \n",
       "375937  Enrique Iglesias - MOVE TO MIAMI (Official Vid...   \n",
       "375938  Jacob Sartorius - Up With It (Official Music V...   \n",
       "375939                 Anne-Marie - 2002 [Official Video]   \n",
       "375940  Eleni Foureira - Fuego - Cyprus - LIVE - First...   \n",
       "375941  KYLE - Ikuyo feat.  2 Chainz & Sophia Black [A...   \n",
       "\n",
       "                    channel_title  category_id              publish_time  \\\n",
       "0                 MasterChef 2017           24  2017-11-13T06:06:22.000Z   \n",
       "1        Micky Contreras Martinez           22  2017-11-13T05:11:58.000Z   \n",
       "2       El Pulso De La RepÃºblica           25  2017-11-13T17:00:02.000Z   \n",
       "3                        Casanare           25  2017-11-13T03:47:10.000Z   \n",
       "4                           Musas           26  2017-11-13T19:17:48.000Z   \n",
       "...                           ...          ...                       ...   \n",
       "375937        EnriqueIglesiasVEVO           10  2018-05-09T07:00:01.000Z   \n",
       "375938            Jacob Sartorius           10  2018-05-11T17:09:16.000Z   \n",
       "375939                 Anne-Marie           10  2018-05-08T11:05:08.000Z   \n",
       "375940    Eurovision Song Contest           24  2018-05-08T20:32:32.000Z   \n",
       "375941             SuperDuperKyle           10  2018-05-11T04:06:35.000Z   \n",
       "\n",
       "                                                     tags     views   likes  \\\n",
       "0       MasterChef Junior 2017|\"TV Azteca\"|\"recetas\"|\"...    310130    4182   \n",
       "1                                         La Voz Mexico 7    104972     271   \n",
       "2       Chumel Torres|\"El Pulso de la Republica\"|\"noti...    136064   10105   \n",
       "3              temblor|\"costa rica\"|\"sismo en costa rica\"     96153     378   \n",
       "4       MUSAS|\"lesslie\"|\"karen\"|\"hacks\"|\"perros\"|\"dogs...    499965   57781   \n",
       "...                                                   ...       ...     ...   \n",
       "375937  Enrique Iglesias feat. Pitbull|\"MOVE TO MIAMI\"...  25066952  268088   \n",
       "375938  jacob sartorius|\"jacob\"|\"up with it\"|\"jacob sa...   1492219   61998   \n",
       "375939  anne|\"marie\"|\"anne-marie\"|\"2002\"|\"two thousand...  29641412  394830   \n",
       "375940  Eurovision Song Contest|\"2018\"|\"Lisbon\"|\"Cypru...  14317515  151870   \n",
       "375941  Kyle|\"SuperDuperKyle\"|\"Ikuyo\"|\"2 Chainz\"|\"Soph...    607552   18271   \n",
       "\n",
       "        dislikes  comment_count  \\\n",
       "0            361           1836   \n",
       "1            174            369   \n",
       "2            266            607   \n",
       "3            171            208   \n",
       "4            681           7428   \n",
       "...          ...            ...   \n",
       "375937     12783           9933   \n",
       "375938     13781          24330   \n",
       "375939      8892          19988   \n",
       "375940     45875          26766   \n",
       "375941       274           1423   \n",
       "\n",
       "                                        thumbnail_link  comments_disabled  \\\n",
       "0       https://i.ytimg.com/vi/SbOwzAl9ZfQ/default.jpg              False   \n",
       "1       https://i.ytimg.com/vi/klOV6Xh-DnI/default.jpg              False   \n",
       "2       https://i.ytimg.com/vi/6L2ZF7Qzsbk/default.jpg              False   \n",
       "3       https://i.ytimg.com/vi/hcY52MFWMDM/default.jpg              False   \n",
       "4       https://i.ytimg.com/vi/_OXDcGPVAa4/default.jpg              False   \n",
       "...                                                ...                ...   \n",
       "375937  https://i.ytimg.com/vi/l884wKofd54/default.jpg              False   \n",
       "375938  https://i.ytimg.com/vi/IP8k2xkhOdI/default.jpg              False   \n",
       "375939  https://i.ytimg.com/vi/Il-an3K9pjg/default.jpg              False   \n",
       "375940  https://i.ytimg.com/vi/-DRsfNObKIQ/default.jpg              False   \n",
       "375941  https://i.ytimg.com/vi/4YFo4bdMO8Q/default.jpg              False   \n",
       "\n",
       "        ratings_disabled  video_error_or_removed  \\\n",
       "0                  False                   False   \n",
       "1                  False                   False   \n",
       "2                  False                   False   \n",
       "3                  False                   False   \n",
       "4                  False                   False   \n",
       "...                  ...                     ...   \n",
       "375937             False                   False   \n",
       "375938             False                   False   \n",
       "375939             False                   False   \n",
       "375940             False                   False   \n",
       "375941             False                   False   \n",
       "\n",
       "                                              description    category_name  \n",
       "0       Disfruta la presencia del Chef Torreblanca en ...    Entertainment  \n",
       "1       ALEXA EX-INTEGRANTE DEL GRUPO TIMBIRICHE RENUN...   People & Blogs  \n",
       "2       La canciÃ³n del principio se llama âEste esp...  News & Politics  \n",
       "3       El video es de un Walmart en el pais centroame...  News & Politics  \n",
       "4       MI HERMANO NARRA MI RUTINA DE MAQUILLAJE\\nhttp...    Howto & Style  \n",
       "...                                                   ...              ...  \n",
       "375937  NEW SONG - MOVE TO MIAMI feat. Pitbull (Click ...            Music  \n",
       "375938  THE OFFICIAL UP WITH IT MUSIC VIDEO!Get my new...            Music  \n",
       "375939  Get 2002 by Anne-Marie HERE â¶ http://ad.gt/2...            Music  \n",
       "375940  Eleni Foureira represented Cyprus at the first...    Entertainment  \n",
       "375941  Debut album 'Light of Mine' out now: http://ky...            Music  \n",
       "\n",
       "[339525 rows x 17 columns]"
      ]
     },
     "execution_count": 87,
     "metadata": {},
     "output_type": "execute_result"
    }
   ],
   "source": [
    "full_df"
   ]
  },
  {
   "cell_type": "code",
   "execution_count": 88,
   "id": "db30f985-2777-4bf6-a86a-6f155a0d4e90",
   "metadata": {},
   "outputs": [
    {
     "data": {
      "text/plain": [
       "([0, 1, 2, 3, 4, 5, 6, 7, 8, 9, 10, 11, 12, 13, 14, 15, 16, 17],\n",
       " [Text(0, 0, 'Entertainment'),\n",
       "  Text(1, 0, 'People & Blogs'),\n",
       "  Text(2, 0, 'News & Politics'),\n",
       "  Text(3, 0, 'Howto & Style'),\n",
       "  Text(4, 0, 'Music'),\n",
       "  Text(5, 0, 'Comedy'),\n",
       "  Text(6, 0, 'Sports'),\n",
       "  Text(7, 0, 'Autos & Vehicles'),\n",
       "  Text(8, 0, 'Film & Animation'),\n",
       "  Text(9, 0, 'Nonprofits & Activism'),\n",
       "  Text(10, 0, 'Education'),\n",
       "  Text(11, 0, 'Science & Technology'),\n",
       "  Text(12, 0, 'Gaming'),\n",
       "  Text(13, 0, 'Pets & Animals'),\n",
       "  Text(14, 0, 'Travel & Events'),\n",
       "  Text(15, 0, 'Shows'),\n",
       "  Text(16, 0, 'Movies'),\n",
       "  Text(17, 0, 'Trailers')])"
      ]
     },
     "execution_count": 88,
     "metadata": {},
     "output_type": "execute_result"
    },
    {
     "data": {
      "image/png": "[encoded data removed]",
      "text/plain": [
       "<Figure size 1500x1500 with 1 Axes>"
      ]
     },
     "metadata": {},
     "output_type": "display_data"
    }
   ],
   "source": [
    "plt.figure(figsize=(15,15))\n",
    "sns.boxplot(x = 'category_name', y= \"likes\", data= full_df)\n",
    "plt.xticks(rotation = \"vertical\")"
   ]
  },
  {
   "cell_type": "code",
   "execution_count": 89,
   "id": "1aefd53e-288d-4b32-b893-521bf87199f6",
   "metadata": {},
   "outputs": [],
   "source": [
    "most_liked_category = full_df.loc[full_df['likes'].idxmax(), 'category_name']"
   ]
  },
  {
   "cell_type": "code",
   "execution_count": 90,
   "id": "99a07f2f-e2ba-467b-8761-ec1e5a70d569",
   "metadata": {},
   "outputs": [
    {
     "data": {
      "text/plain": [
       "'Music'"
      ]
     },
     "execution_count": 90,
     "metadata": {},
     "output_type": "execute_result"
    }
   ],
   "source": [
    "most_liked_category"
   ]
  },
  {
   "cell_type": "markdown",
   "id": "d3e1baec-00f3-43d8-b85e-415d3c89edbd",
   "metadata": {},
   "source": [
    "### Engagement of audience"
   ]
  },
  {
   "cell_type": "code",
   "execution_count": 91,
   "id": "3ffd80c2-c4bb-419d-8e8b-5c461af04f13",
   "metadata": {},
   "outputs": [
    {
     "data": {
      "text/plain": [
       "Index(['video_id', 'trending_date', 'title', 'channel_title', 'category_id',\n",
       "       'publish_time', 'tags', 'views', 'likes', 'dislikes', 'comment_count',\n",
       "       'thumbnail_link', 'comments_disabled', 'ratings_disabled',\n",
       "       'video_error_or_removed', 'description', 'category_name'],\n",
       "      dtype='object')"
      ]
     },
     "execution_count": 91,
     "metadata": {},
     "output_type": "execute_result"
    }
   ],
   "source": [
    "full_df.columns"
   ]
  },
  {
   "cell_type": "code",
   "execution_count": 92,
   "id": "edeefb08-8b2d-40d9-9b9d-29c79d3830f6",
   "metadata": {},
   "outputs": [],
   "source": [
    "full_df['like_rate']=(full_df['likes']/full_df['views'])*100\n",
    "full_df['dislike_rate']=(full_df['dislikes']/full_df['views'])*100\n",
    "full_df['comments_count_rate']=(full_df['comment_count']/full_df['views'])*100"
   ]
  },
  {
   "cell_type": "code",
   "execution_count": 93,
   "id": "5e3ec7f9-64f1-450f-8818-44e4edcd368a",
   "metadata": {},
   "outputs": [
    {
     "data": {
      "text/plain": [
       "Index(['video_id', 'trending_date', 'title', 'channel_title', 'category_id',\n",
       "       'publish_time', 'tags', 'views', 'likes', 'dislikes', 'comment_count',\n",
       "       'thumbnail_link', 'comments_disabled', 'ratings_disabled',\n",
       "       'video_error_or_removed', 'description', 'category_name', 'like_rate',\n",
       "       'dislike_rate', 'comments_count_rate'],\n",
       "      dtype='object')"
      ]
     },
     "execution_count": 93,
     "metadata": {},
     "output_type": "execute_result"
    }
   ],
   "source": [
    "full_df.columns"
   ]
  },
  {
   "cell_type": "code",
   "execution_count": 99,
   "id": "fba881c1-5156-428a-ad42-43b531cf21cb",
   "metadata": {},
   "outputs": [
    {
     "data": {
      "image/png": "[encoded data removed]",
      "text/plain": [
       "<Figure size 1500x800 with 1 Axes>"
      ]
     },
     "metadata": {},
     "output_type": "display_data"
    }
   ],
   "source": [
    "plt.figure(figsize=(15,8))\n",
    "sns.boxplot(x = \"category_name\", y= \"like_rate\", data= full_df)\n",
    "plt.xticks(rotation = \"vertical\")\n",
    "plt.show()"
   ]
  },
  {
   "cell_type": "code",
   "execution_count": 100,
   "id": "835041e4-5113-4e9c-87a3-014c9f9d5ba1",
   "metadata": {},
   "outputs": [
    {
     "data": {
      "text/plain": [
       "<Axes: xlabel='views', ylabel='likes'>"
      ]
     },
     "execution_count": 100,
     "metadata": {},
     "output_type": "execute_result"
    },
    {
     "data": {
      "image/png": "[encoded data removed]",
      "text/plain": [
       "<Figure size 640x480 with 1 Axes>"
      ]
     },
     "metadata": {},
     "output_type": "display_data"
    }
   ],
   "source": [
    "sns.regplot(x='views',y='likes', data = full_df)"
   ]
  },
  {
   "cell_type": "code",
   "execution_count": 101,
   "id": "1a53bf0c-7449-4c50-9f3f-316b50e4cedb",
   "metadata": {},
   "outputs": [
    {
     "data": {
      "text/html": [
       "<div>\n",
       "<style scoped>\n",
       "    .dataframe tbody tr th:only-of-type {\n",
       "        vertical-align: middle;\n",
       "    }\n",
       "\n",
       "    .dataframe tbody tr th {\n",
       "        vertical-align: top;\n",
       "    }\n",
       "\n",
       "    .dataframe thead th {\n",
       "        text-align: right;\n",
       "    }\n",
       "</style>\n",
       "<table border=\"1\" class=\"dataframe\">\n",
       "  <thead>\n",
       "    <tr style=\"text-align: right;\">\n",
       "      <th></th>\n",
       "      <th>views</th>\n",
       "      <th>likes</th>\n",
       "      <th>dislikes</th>\n",
       "    </tr>\n",
       "  </thead>\n",
       "  <tbody>\n",
       "    <tr>\n",
       "      <th>views</th>\n",
       "      <td>1.000000</td>\n",
       "      <td>0.779531</td>\n",
       "      <td>0.405428</td>\n",
       "    </tr>\n",
       "    <tr>\n",
       "      <th>likes</th>\n",
       "      <td>0.779531</td>\n",
       "      <td>1.000000</td>\n",
       "      <td>0.451809</td>\n",
       "    </tr>\n",
       "    <tr>\n",
       "      <th>dislikes</th>\n",
       "      <td>0.405428</td>\n",
       "      <td>0.451809</td>\n",
       "      <td>1.000000</td>\n",
       "    </tr>\n",
       "  </tbody>\n",
       "</table>\n",
       "</div>"
      ],
      "text/plain": [
       "             views     likes  dislikes\n",
       "views     1.000000  0.779531  0.405428\n",
       "likes     0.779531  1.000000  0.451809\n",
       "dislikes  0.405428  0.451809  1.000000"
      ]
     },
     "execution_count": 101,
     "metadata": {},
     "output_type": "execute_result"
    }
   ],
   "source": [
    "full_df[['views','likes','dislikes']].corr()"
   ]
  },
  {
   "cell_type": "code",
   "execution_count": 102,
   "id": "958bae3f-4399-4729-8881-c0ccd12d1308",
   "metadata": {},
   "outputs": [
    {
     "data": {
      "text/plain": [
       "<Axes: >"
      ]
     },
     "execution_count": 102,
     "metadata": {},
     "output_type": "execute_result"
    },
    {
     "data": {
      "image/png": "[encoded data removed]",
      "text/plain": [
       "<Figure size 640x480 with 2 Axes>"
      ]
     },
     "metadata": {},
     "output_type": "display_data"
    }
   ],
   "source": [
    "sns.heatmap(full_df[['views','likes','dislikes']].corr(), annot = True)"
   ]
  },
  {
   "cell_type": "markdown",
   "id": "5bc81a5b-80a8-4ead-87c7-0d3ba24ec69e",
   "metadata": {},
   "source": [
    "### Channel with largest number of trending videos in YouTube Community"
   ]
  },
  {
   "cell_type": "code",
   "execution_count": 103,
   "id": "3f5053de-ebc5-41b5-b0e2-455ad489fdf7",
   "metadata": {},
   "outputs": [
    {
     "data": {
      "text/html": [
       "<div>\n",
       "<style scoped>\n",
       "    .dataframe tbody tr th:only-of-type {\n",
       "        vertical-align: middle;\n",
       "    }\n",
       "\n",
       "    .dataframe tbody tr th {\n",
       "        vertical-align: top;\n",
       "    }\n",
       "\n",
       "    .dataframe thead th {\n",
       "        text-align: right;\n",
       "    }\n",
       "</style>\n",
       "<table border=\"1\" class=\"dataframe\">\n",
       "  <thead>\n",
       "    <tr style=\"text-align: right;\">\n",
       "      <th></th>\n",
       "      <th>video_id</th>\n",
       "      <th>trending_date</th>\n",
       "      <th>title</th>\n",
       "      <th>channel_title</th>\n",
       "      <th>category_id</th>\n",
       "      <th>publish_time</th>\n",
       "      <th>tags</th>\n",
       "      <th>views</th>\n",
       "      <th>likes</th>\n",
       "      <th>dislikes</th>\n",
       "      <th>comment_count</th>\n",
       "      <th>thumbnail_link</th>\n",
       "      <th>comments_disabled</th>\n",
       "      <th>ratings_disabled</th>\n",
       "      <th>video_error_or_removed</th>\n",
       "      <th>description</th>\n",
       "      <th>category_name</th>\n",
       "      <th>like_rate</th>\n",
       "      <th>dislike_rate</th>\n",
       "      <th>comments_count_rate</th>\n",
       "    </tr>\n",
       "  </thead>\n",
       "  <tbody>\n",
       "    <tr>\n",
       "      <th>0</th>\n",
       "      <td>SbOwzAl9ZfQ</td>\n",
       "      <td>17.14.11</td>\n",
       "      <td>CapÃ­tulo 12 | MasterChef 2017</td>\n",
       "      <td>MasterChef 2017</td>\n",
       "      <td>24</td>\n",
       "      <td>2017-11-13T06:06:22.000Z</td>\n",
       "      <td>MasterChef Junior 2017|\"TV Azteca\"|\"recetas\"|\"...</td>\n",
       "      <td>310130</td>\n",
       "      <td>4182</td>\n",
       "      <td>361</td>\n",
       "      <td>1836</td>\n",
       "      <td>https://i.ytimg.com/vi/SbOwzAl9ZfQ/default.jpg</td>\n",
       "      <td>False</td>\n",
       "      <td>False</td>\n",
       "      <td>False</td>\n",
       "      <td>Disfruta la presencia del Chef Torreblanca en ...</td>\n",
       "      <td>Entertainment</td>\n",
       "      <td>1.348467</td>\n",
       "      <td>0.116403</td>\n",
       "      <td>0.592010</td>\n",
       "    </tr>\n",
       "    <tr>\n",
       "      <th>1</th>\n",
       "      <td>klOV6Xh-DnI</td>\n",
       "      <td>17.14.11</td>\n",
       "      <td>ALEXA EX-INTEGRANTE DEL GRUPO TIMBIRICHE RENUN...</td>\n",
       "      <td>Micky Contreras Martinez</td>\n",
       "      <td>22</td>\n",
       "      <td>2017-11-13T05:11:58.000Z</td>\n",
       "      <td>La Voz Mexico 7</td>\n",
       "      <td>104972</td>\n",
       "      <td>271</td>\n",
       "      <td>174</td>\n",
       "      <td>369</td>\n",
       "      <td>https://i.ytimg.com/vi/klOV6Xh-DnI/default.jpg</td>\n",
       "      <td>False</td>\n",
       "      <td>False</td>\n",
       "      <td>False</td>\n",
       "      <td>ALEXA EX-INTEGRANTE DEL GRUPO TIMBIRICHE RENUN...</td>\n",
       "      <td>People &amp; Blogs</td>\n",
       "      <td>0.258164</td>\n",
       "      <td>0.165758</td>\n",
       "      <td>0.351522</td>\n",
       "    </tr>\n",
       "    <tr>\n",
       "      <th>2</th>\n",
       "      <td>6L2ZF7Qzsbk</td>\n",
       "      <td>17.14.11</td>\n",
       "      <td>LOUIS CKAGÃ - EL PULSO DE LA REPÃBLICA</td>\n",
       "      <td>El Pulso De La RepÃºblica</td>\n",
       "      <td>25</td>\n",
       "      <td>2017-11-13T17:00:02.000Z</td>\n",
       "      <td>Chumel Torres|\"El Pulso de la Republica\"|\"noti...</td>\n",
       "      <td>136064</td>\n",
       "      <td>10105</td>\n",
       "      <td>266</td>\n",
       "      <td>607</td>\n",
       "      <td>https://i.ytimg.com/vi/6L2ZF7Qzsbk/default.jpg</td>\n",
       "      <td>False</td>\n",
       "      <td>False</td>\n",
       "      <td>False</td>\n",
       "      <td>La canciÃ³n del principio se llama âEste esp...</td>\n",
       "      <td>News &amp; Politics</td>\n",
       "      <td>7.426652</td>\n",
       "      <td>0.195496</td>\n",
       "      <td>0.446114</td>\n",
       "    </tr>\n",
       "    <tr>\n",
       "      <th>3</th>\n",
       "      <td>hcY52MFWMDM</td>\n",
       "      <td>17.14.11</td>\n",
       "      <td>Sismo de 6.7 sacude Costa Rica 12 Noviembre 2017</td>\n",
       "      <td>Casanare</td>\n",
       "      <td>25</td>\n",
       "      <td>2017-11-13T03:47:10.000Z</td>\n",
       "      <td>temblor|\"costa rica\"|\"sismo en costa rica\"</td>\n",
       "      <td>96153</td>\n",
       "      <td>378</td>\n",
       "      <td>171</td>\n",
       "      <td>208</td>\n",
       "      <td>https://i.ytimg.com/vi/hcY52MFWMDM/default.jpg</td>\n",
       "      <td>False</td>\n",
       "      <td>False</td>\n",
       "      <td>False</td>\n",
       "      <td>El video es de un Walmart en el pais centroame...</td>\n",
       "      <td>News &amp; Politics</td>\n",
       "      <td>0.393123</td>\n",
       "      <td>0.177842</td>\n",
       "      <td>0.216322</td>\n",
       "    </tr>\n",
       "    <tr>\n",
       "      <th>4</th>\n",
       "      <td>_OXDcGPVAa4</td>\n",
       "      <td>17.14.11</td>\n",
       "      <td>DOG HACKS | MUSAS LESSLIE LOS POLINESIOS</td>\n",
       "      <td>Musas</td>\n",
       "      <td>26</td>\n",
       "      <td>2017-11-13T19:17:48.000Z</td>\n",
       "      <td>MUSAS|\"lesslie\"|\"karen\"|\"hacks\"|\"perros\"|\"dogs...</td>\n",
       "      <td>499965</td>\n",
       "      <td>57781</td>\n",
       "      <td>681</td>\n",
       "      <td>7428</td>\n",
       "      <td>https://i.ytimg.com/vi/_OXDcGPVAa4/default.jpg</td>\n",
       "      <td>False</td>\n",
       "      <td>False</td>\n",
       "      <td>False</td>\n",
       "      <td>MI HERMANO NARRA MI RUTINA DE MAQUILLAJE\\nhttp...</td>\n",
       "      <td>Howto &amp; Style</td>\n",
       "      <td>11.557009</td>\n",
       "      <td>0.136210</td>\n",
       "      <td>1.485704</td>\n",
       "    </tr>\n",
       "    <tr>\n",
       "      <th>5</th>\n",
       "      <td>Q9kK6NWZR1U</td>\n",
       "      <td>17.14.11</td>\n",
       "      <td>Asi se sintio Terremoto en iraq al bordo de ir...</td>\n",
       "      <td>MÃSICA &amp; ENTRETENIMIENTO</td>\n",
       "      <td>10</td>\n",
       "      <td>2017-11-12T20:17:38.000Z</td>\n",
       "      <td>[none]</td>\n",
       "      <td>129645</td>\n",
       "      <td>506</td>\n",
       "      <td>67</td>\n",
       "      <td>239</td>\n",
       "      <td>https://i.ytimg.com/vi/Q9kK6NWZR1U/default.jpg</td>\n",
       "      <td>False</td>\n",
       "      <td>False</td>\n",
       "      <td>False</td>\n",
       "      <td>Un fuerte sismo ha afectado en la noche de est...</td>\n",
       "      <td>Music</td>\n",
       "      <td>0.390297</td>\n",
       "      <td>0.051680</td>\n",
       "      <td>0.184350</td>\n",
       "    </tr>\n",
       "  </tbody>\n",
       "</table>\n",
       "</div>"
      ],
      "text/plain": [
       "      video_id trending_date  \\\n",
       "0  SbOwzAl9ZfQ      17.14.11   \n",
       "1  klOV6Xh-DnI      17.14.11   \n",
       "2  6L2ZF7Qzsbk      17.14.11   \n",
       "3  hcY52MFWMDM      17.14.11   \n",
       "4  _OXDcGPVAa4      17.14.11   \n",
       "5  Q9kK6NWZR1U      17.14.11   \n",
       "\n",
       "                                               title  \\\n",
       "0                     CapÃ­tulo 12 | MasterChef 2017   \n",
       "1  ALEXA EX-INTEGRANTE DEL GRUPO TIMBIRICHE RENUN...   \n",
       "2           LOUIS CKAGÃ - EL PULSO DE LA REPÃBLICA   \n",
       "3   Sismo de 6.7 sacude Costa Rica 12 Noviembre 2017   \n",
       "4           DOG HACKS | MUSAS LESSLIE LOS POLINESIOS   \n",
       "5  Asi se sintio Terremoto en iraq al bordo de ir...   \n",
       "\n",
       "               channel_title  category_id              publish_time  \\\n",
       "0            MasterChef 2017           24  2017-11-13T06:06:22.000Z   \n",
       "1   Micky Contreras Martinez           22  2017-11-13T05:11:58.000Z   \n",
       "2  El Pulso De La RepÃºblica           25  2017-11-13T17:00:02.000Z   \n",
       "3                   Casanare           25  2017-11-13T03:47:10.000Z   \n",
       "4                      Musas           26  2017-11-13T19:17:48.000Z   \n",
       "5  MÃSICA & ENTRETENIMIENTO           10  2017-11-12T20:17:38.000Z   \n",
       "\n",
       "                                                tags   views  likes  dislikes  \\\n",
       "0  MasterChef Junior 2017|\"TV Azteca\"|\"recetas\"|\"...  310130   4182       361   \n",
       "1                                    La Voz Mexico 7  104972    271       174   \n",
       "2  Chumel Torres|\"El Pulso de la Republica\"|\"noti...  136064  10105       266   \n",
       "3         temblor|\"costa rica\"|\"sismo en costa rica\"   96153    378       171   \n",
       "4  MUSAS|\"lesslie\"|\"karen\"|\"hacks\"|\"perros\"|\"dogs...  499965  57781       681   \n",
       "5                                             [none]  129645    506        67   \n",
       "\n",
       "   comment_count                                  thumbnail_link  \\\n",
       "0           1836  https://i.ytimg.com/vi/SbOwzAl9ZfQ/default.jpg   \n",
       "1            369  https://i.ytimg.com/vi/klOV6Xh-DnI/default.jpg   \n",
       "2            607  https://i.ytimg.com/vi/6L2ZF7Qzsbk/default.jpg   \n",
       "3            208  https://i.ytimg.com/vi/hcY52MFWMDM/default.jpg   \n",
       "4           7428  https://i.ytimg.com/vi/_OXDcGPVAa4/default.jpg   \n",
       "5            239  https://i.ytimg.com/vi/Q9kK6NWZR1U/default.jpg   \n",
       "\n",
       "   comments_disabled  ratings_disabled  video_error_or_removed  \\\n",
       "0              False             False                   False   \n",
       "1              False             False                   False   \n",
       "2              False             False                   False   \n",
       "3              False             False                   False   \n",
       "4              False             False                   False   \n",
       "5              False             False                   False   \n",
       "\n",
       "                                         description    category_name  \\\n",
       "0  Disfruta la presencia del Chef Torreblanca en ...    Entertainment   \n",
       "1  ALEXA EX-INTEGRANTE DEL GRUPO TIMBIRICHE RENUN...   People & Blogs   \n",
       "2  La canciÃ³n del principio se llama âEste esp...  News & Politics   \n",
       "3  El video es de un Walmart en el pais centroame...  News & Politics   \n",
       "4  MI HERMANO NARRA MI RUTINA DE MAQUILLAJE\\nhttp...    Howto & Style   \n",
       "5  Un fuerte sismo ha afectado en la noche de est...            Music   \n",
       "\n",
       "   like_rate  dislike_rate  comments_count_rate  \n",
       "0   1.348467      0.116403             0.592010  \n",
       "1   0.258164      0.165758             0.351522  \n",
       "2   7.426652      0.195496             0.446114  \n",
       "3   0.393123      0.177842             0.216322  \n",
       "4  11.557009      0.136210             1.485704  \n",
       "5   0.390297      0.051680             0.184350  "
      ]
     },
     "execution_count": 103,
     "metadata": {},
     "output_type": "execute_result"
    }
   ],
   "source": [
    "full_df.head(6)"
   ]
  },
  {
   "cell_type": "code",
   "execution_count": 106,
   "id": "698d083c-8e9c-47e3-ad82-04914479ac11",
   "metadata": {},
   "outputs": [
    {
     "data": {
      "text/plain": [
       "channel_title\n",
       "The Late Show with Stephen Colbert    710\n",
       "WWE                                   643\n",
       "Late Night with Seth Meyers           592\n",
       "TheEllenShow                          555\n",
       "Jimmy Kimmel Live                     528\n",
       "                                     ... \n",
       "ABIZ ENT BUZZ                           1\n",
       "JENNYMOMENT                             1\n",
       "Drache Offiziell                        1\n",
       "Jules                                   1\n",
       "The Chainsmokers                        1\n",
       "Name: count, Length: 37824, dtype: int64"
      ]
     },
     "execution_count": 106,
     "metadata": {},
     "output_type": "execute_result"
    }
   ],
   "source": [
    "full_df['channel_title'].value_counts()"
   ]
  },
  {
   "cell_type": "markdown",
   "id": "85dd4b72-ea5b-49d9-a1fd-6739956c882b",
   "metadata": {},
   "source": [
    "### Using GROUPBY"
   ]
  },
  {
   "cell_type": "code",
   "execution_count": 111,
   "id": "ae6742af-25b0-412c-9bcc-9531a6b4182d",
   "metadata": {},
   "outputs": [
    {
     "data": {
      "text/plain": [
       "channel_title\n",
       "The Late Show with Stephen Colbert    710\n",
       "WWE                                   643\n",
       "Late Night with Seth Meyers           592\n",
       "TheEllenShow                          555\n",
       "Jimmy Kimmel Live                     528\n",
       "                                     ... \n",
       "Kd Malts                                1\n",
       "Zedan TV                                1\n",
       "Kc Kelly - Rocketprenuer                1\n",
       "Kbaby                                   1\n",
       "Pavel Sidorik TV                        1\n",
       "Length: 37824, dtype: int64"
      ]
     },
     "execution_count": 111,
     "metadata": {},
     "output_type": "execute_result"
    }
   ],
   "source": [
    "full_df.groupby(['channel_title']).size().sort_values(ascending = False)"
   ]
  },
  {
   "cell_type": "code",
   "execution_count": 121,
   "id": "0ee0e75b-da24-40b7-99cf-f9db7b0363a6",
   "metadata": {},
   "outputs": [],
   "source": [
    "cdf = full_df.groupby(['channel_title']).size().sort_values(ascending = False).reset_index()"
   ]
  },
  {
   "cell_type": "code",
   "execution_count": 122,
   "id": "4309ba46-898a-4e07-bcdb-6bc26c1e4745",
   "metadata": {},
   "outputs": [],
   "source": [
    "cdf = cdf.rename(columns={0: \"total_videos\"})"
   ]
  },
  {
   "cell_type": "code",
   "execution_count": 124,
   "id": "1ab21eb4-12a0-4154-8cc0-f6a5df9970bb",
   "metadata": {},
   "outputs": [],
   "source": [
    "top_channels = cdf[0:5]"
   ]
  },
  {
   "cell_type": "code",
   "execution_count": 125,
   "id": "c683ef19-d7e0-4118-a92a-3903ee6ce4e2",
   "metadata": {},
   "outputs": [
    {
     "data": {
      "text/html": [
       "<div>\n",
       "<style scoped>\n",
       "    .dataframe tbody tr th:only-of-type {\n",
       "        vertical-align: middle;\n",
       "    }\n",
       "\n",
       "    .dataframe tbody tr th {\n",
       "        vertical-align: top;\n",
       "    }\n",
       "\n",
       "    .dataframe thead th {\n",
       "        text-align: right;\n",
       "    }\n",
       "</style>\n",
       "<table border=\"1\" class=\"dataframe\">\n",
       "  <thead>\n",
       "    <tr style=\"text-align: right;\">\n",
       "      <th></th>\n",
       "      <th>channel_title</th>\n",
       "      <th>total_videos</th>\n",
       "    </tr>\n",
       "  </thead>\n",
       "  <tbody>\n",
       "    <tr>\n",
       "      <th>0</th>\n",
       "      <td>The Late Show with Stephen Colbert</td>\n",
       "      <td>710</td>\n",
       "    </tr>\n",
       "    <tr>\n",
       "      <th>1</th>\n",
       "      <td>WWE</td>\n",
       "      <td>643</td>\n",
       "    </tr>\n",
       "    <tr>\n",
       "      <th>2</th>\n",
       "      <td>Late Night with Seth Meyers</td>\n",
       "      <td>592</td>\n",
       "    </tr>\n",
       "    <tr>\n",
       "      <th>3</th>\n",
       "      <td>TheEllenShow</td>\n",
       "      <td>555</td>\n",
       "    </tr>\n",
       "    <tr>\n",
       "      <th>4</th>\n",
       "      <td>Jimmy Kimmel Live</td>\n",
       "      <td>528</td>\n",
       "    </tr>\n",
       "  </tbody>\n",
       "</table>\n",
       "</div>"
      ],
      "text/plain": [
       "                        channel_title  total_videos\n",
       "0  The Late Show with Stephen Colbert           710\n",
       "1                                 WWE           643\n",
       "2         Late Night with Seth Meyers           592\n",
       "3                        TheEllenShow           555\n",
       "4                   Jimmy Kimmel Live           528"
      ]
     },
     "execution_count": 125,
     "metadata": {},
     "output_type": "execute_result"
    }
   ],
   "source": [
    "top_channels"
   ]
  },
  {
   "cell_type": "code",
   "execution_count": 130,
   "id": "beb8a8b2-3057-4e07-a89a-0bd90e59ea18",
   "metadata": {},
   "outputs": [],
   "source": [
    "import plotly.express as px"
   ]
  },
  {
   "cell_type": "code",
   "execution_count": 134,
   "id": "61e2dc2d-34c7-4b20-aa35-d0301f708ec2",
   "metadata": {},
   "outputs": [
    {
     "data": {
      "application/vnd.plotly.v1+json": {
       "config": {
        "plotlyServerURL": "https://plot.ly"
       },
       "data": [
        {
         "alignmentgroup": "True",
         "hovertemplate": "channel_title=%{x}<br>total_videos=%{y}<extra></extra>",
         "legendgroup": "",
         "marker": {
          "color": "#636efa",
          "pattern": {
           "shape": ""
          }
         },
         "name": "",
         "offsetgroup": "",
         "orientation": "v",
         "showlegend": false,
         "textposition": "auto",
         "type": "bar",
         "x": [
          "The Late Show with Stephen Colbert",
          "WWE",
          "Late Night with Seth Meyers",
          "TheEllenShow",
          "Jimmy Kimmel Live",
          "PewDiePie",
          "The Tonight Show Starring Jimmy Fallon",
          "CNN",
          "The Late Late Show with James Corden",
          "ESPN",
          "FBE",
          "VikatanTV",
          "Netflix",
          "SET India",
          "MLG Highlights",
          "BuzzFeedVideo",
          "SMTOWN",
          "Ãukur",
          "Marvel Entertainment",
          "SAB TV"
         ],
         "xaxis": "x",
         "y": [
          710,
          643,
          592,
          555,
          528,
          511,
          509,
          500,
          453,
          452,
          439,
          435,
          410,
          405,
          382,
          361,
          359,
          356,
          352,
          351
         ],
         "yaxis": "y"
        }
       ],
       "layout": {
        "autosize": true,
        "barmode": "relative",
        "dragmode": "select",
        "legend": {
         "tracegroupgap": 0
        },
        "margin": {
         "t": 60
        },
        "template": {
         "data": {
          "bar": [
           {
            "error_x": {
             "color": "#2a3f5f"
            },
            "error_y": {
             "color": "#2a3f5f"
            },
            "marker": {
             "line": {
              "color": "#E5ECF6",
              "width": 0.5
             },
             "pattern": {
              "fillmode": "overlay",
              "size": 10,
              "solidity": 0.2
             }
            },
            "type": "bar"
           }
          ],
          "barpolar": [
           {
            "marker": {
             "line": {
              "color": "#E5ECF6",
              "width": 0.5
             },
             "pattern": {
              "fillmode": "overlay",
              "size": 10,
              "solidity": 0.2
             }
            },
            "type": "barpolar"
           }
          ],
          "carpet": [
           {
            "aaxis": {
             "endlinecolor": "#2a3f5f",
             "gridcolor": "white",
             "linecolor": "white",
             "minorgridcolor": "white",
             "startlinecolor": "#2a3f5f"
            },
            "baxis": {
             "endlinecolor": "#2a3f5f",
             "gridcolor": "white",
             "linecolor": "white",
             "minorgridcolor": "white",
             "startlinecolor": "#2a3f5f"
            },
            "type": "carpet"
           }
          ],
          "choropleth": [
           {
            "colorbar": {
             "outlinewidth": 0,
             "ticks": ""
            },
            "type": "choropleth"
           }
          ],
          "contour": [
           {
            "colorbar": {
             "outlinewidth": 0,
             "ticks": ""
            },
            "colorscale": [
             [
              0,
              "#0d0887"
             ],
             [
              0.1111111111111111,
              "#46039f"
             ],
             [
              0.2222222222222222,
              "#7201a8"
             ],
             [
              0.3333333333333333,
              "#9c179e"
             ],
             [
              0.4444444444444444,
              "#bd3786"
             ],
             [
              0.5555555555555556,
              "#d8576b"
             ],
             [
              0.6666666666666666,
              "#ed7953"
             ],
             [
              0.7777777777777778,
              "#fb9f3a"
             ],
             [
              0.8888888888888888,
              "#fdca26"
             ],
             [
              1,
              "#f0f921"
             ]
            ],
            "type": "contour"
           }
          ],
          "contourcarpet": [
           {
            "colorbar": {
             "outlinewidth": 0,
             "ticks": ""
            },
            "type": "contourcarpet"
           }
          ],
          "heatmap": [
           {
            "colorbar": {
             "outlinewidth": 0,
             "ticks": ""
            },
            "colorscale": [
             [
              0,
              "#0d0887"
             ],
             [
              0.1111111111111111,
              "#46039f"
             ],
             [
              0.2222222222222222,
              "#7201a8"
             ],
             [
              0.3333333333333333,
              "#9c179e"
             ],
             [
              0.4444444444444444,
              "#bd3786"
             ],
             [
              0.5555555555555556,
              "#d8576b"
             ],
             [
              0.6666666666666666,
              "#ed7953"
             ],
             [
              0.7777777777777778,
              "#fb9f3a"
             ],
             [
              0.8888888888888888,
              "#fdca26"
             ],
             [
              1,
              "#f0f921"
             ]
            ],
            "type": "heatmap"
           }
          ],
          "heatmapgl": [
           {
            "colorbar": {
             "outlinewidth": 0,
             "ticks": ""
            },
            "colorscale": [
             [
              0,
              "#0d0887"
             ],
             [
              0.1111111111111111,
              "#46039f"
             ],
             [
              0.2222222222222222,
              "#7201a8"
             ],
             [
              0.3333333333333333,
              "#9c179e"
             ],
             [
              0.4444444444444444,
              "#bd3786"
             ],
             [
              0.5555555555555556,
              "#d8576b"
             ],
             [
              0.6666666666666666,
              "#ed7953"
             ],
             [
              0.7777777777777778,
              "#fb9f3a"
             ],
             [
              0.8888888888888888,
              "#fdca26"
             ],
             [
              1,
              "#f0f921"
             ]
            ],
            "type": "heatmapgl"
           }
          ],
          "histogram": [
           {
            "marker": {
             "pattern": {
              "fillmode": "overlay",
              "size": 10,
              "solidity": 0.2
             }
            },
            "type": "histogram"
           }
          ],
          "histogram2d": [
           {
            "colorbar": {
             "outlinewidth": 0,
             "ticks": ""
            },
            "colorscale": [
             [
              0,
              "#0d0887"
             ],
             [
              0.1111111111111111,
              "#46039f"
             ],
             [
              0.2222222222222222,
              "#7201a8"
             ],
             [
              0.3333333333333333,
              "#9c179e"
             ],
             [
              0.4444444444444444,
              "#bd3786"
             ],
             [
              0.5555555555555556,
              "#d8576b"
             ],
             [
              0.6666666666666666,
              "#ed7953"
             ],
             [
              0.7777777777777778,
              "#fb9f3a"
             ],
             [
              0.8888888888888888,
              "#fdca26"
             ],
             [
              1,
              "#f0f921"
             ]
            ],
            "type": "histogram2d"
           }
          ],
          "histogram2dcontour": [
           {
            "colorbar": {
             "outlinewidth": 0,
             "ticks": ""
            },
            "colorscale": [
             [
              0,
              "#0d0887"
             ],
             [
              0.1111111111111111,
              "#46039f"
             ],
             [
              0.2222222222222222,
              "#7201a8"
             ],
             [
              0.3333333333333333,
              "#9c179e"
             ],
             [
              0.4444444444444444,
              "#bd3786"
             ],
             [
              0.5555555555555556,
              "#d8576b"
             ],
             [
              0.6666666666666666,
              "#ed7953"
             ],
             [
              0.7777777777777778,
              "#fb9f3a"
             ],
             [
              0.8888888888888888,
              "#fdca26"
             ],
             [
              1,
              "#f0f921"
             ]
            ],
            "type": "histogram2dcontour"
           }
          ],
          "mesh3d": [
           {
            "colorbar": {
             "outlinewidth": 0,
             "ticks": ""
            },
            "type": "mesh3d"
           }
          ],
          "parcoords": [
           {
            "line": {
             "colorbar": {
              "outlinewidth": 0,
              "ticks": ""
             }
            },
            "type": "parcoords"
           }
          ],
          "pie": [
           {
            "automargin": true,
            "type": "pie"
           }
          ],
          "scatter": [
           {
            "fillpattern": {
             "fillmode": "overlay",
             "size": 10,
             "solidity": 0.2
            },
            "type": "scatter"
           }
          ],
          "scatter3d": [
           {
            "line": {
             "colorbar": {
              "outlinewidth": 0,
              "ticks": ""
             }
            },
            "marker": {
             "colorbar": {
              "outlinewidth": 0,
              "ticks": ""
             }
            },
            "type": "scatter3d"
           }
          ],
          "scattercarpet": [
           {
            "marker": {
             "colorbar": {
              "outlinewidth": 0,
              "ticks": ""
             }
            },
            "type": "scattercarpet"
           }
          ],
          "scattergeo": [
           {
            "marker": {
             "colorbar": {
              "outlinewidth": 0,
              "ticks": ""
             }
            },
            "type": "scattergeo"
           }
          ],
          "scattergl": [
           {
            "marker": {
             "colorbar": {
              "outlinewidth": 0,
              "ticks": ""
             }
            },
            "type": "scattergl"
           }
          ],
          "scattermapbox": [
           {
            "marker": {
             "colorbar": {
              "outlinewidth": 0,
              "ticks": ""
             }
            },
            "type": "scattermapbox"
           }
          ],
          "scatterpolar": [
           {
            "marker": {
             "colorbar": {
              "outlinewidth": 0,
              "ticks": ""
             }
            },
            "type": "scatterpolar"
           }
          ],
          "scatterpolargl": [
           {
            "marker": {
             "colorbar": {
              "outlinewidth": 0,
              "ticks": ""
             }
            },
            "type": "scatterpolargl"
           }
          ],
          "scatterternary": [
           {
            "marker": {
             "colorbar": {
              "outlinewidth": 0,
              "ticks": ""
             }
            },
            "type": "scatterternary"
           }
          ],
          "surface": [
           {
            "colorbar": {
             "outlinewidth": 0,
             "ticks": ""
            },
            "colorscale": [
             [
              0,
              "#0d0887"
             ],
             [
              0.1111111111111111,
              "#46039f"
             ],
             [
              0.2222222222222222,
              "#7201a8"
             ],
             [
              0.3333333333333333,
              "#9c179e"
             ],
             [
              0.4444444444444444,
              "#bd3786"
             ],
             [
              0.5555555555555556,
              "#d8576b"
             ],
             [
              0.6666666666666666,
              "#ed7953"
             ],
             [
              0.7777777777777778,
              "#fb9f3a"
             ],
             [
              0.8888888888888888,
              "#fdca26"
             ],
             [
              1,
              "#f0f921"
             ]
            ],
            "type": "surface"
           }
          ],
          "table": [
           {
            "cells": {
             "fill": {
              "color": "#EBF0F8"
             },
             "line": {
              "color": "white"
             }
            },
            "header": {
             "fill": {
              "color": "#C8D4E3"
             },
             "line": {
              "color": "white"
             }
            },
            "type": "table"
           }
          ]
         },
         "layout": {
          "annotationdefaults": {
           "arrowcolor": "#2a3f5f",
           "arrowhead": 0,
           "arrowwidth": 1
          },
          "autotypenumbers": "strict",
          "coloraxis": {
           "colorbar": {
            "outlinewidth": 0,
            "ticks": ""
           }
          },
          "colorscale": {
           "diverging": [
            [
             0,
             "#8e0152"
            ],
            [
             0.1,
             "#c51b7d"
            ],
            [
             0.2,
             "#de77ae"
            ],
            [
             0.3,
             "#f1b6da"
            ],
            [
             0.4,
             "#fde0ef"
            ],
            [
             0.5,
             "#f7f7f7"
            ],
            [
             0.6,
             "#e6f5d0"
            ],
            [
             0.7,
             "#b8e186"
            ],
            [
             0.8,
             "#7fbc41"
            ],
            [
             0.9,
             "#4d9221"
            ],
            [
             1,
             "#276419"
            ]
           ],
           "sequential": [
            [
             0,
             "#0d0887"
            ],
            [
             0.1111111111111111,
             "#46039f"
            ],
            [
             0.2222222222222222,
             "#7201a8"
            ],
            [
             0.3333333333333333,
             "#9c179e"
            ],
            [
             0.4444444444444444,
             "#bd3786"
            ],
            [
             0.5555555555555556,
             "#d8576b"
            ],
            [
             0.6666666666666666,
             "#ed7953"
            ],
            [
             0.7777777777777778,
             "#fb9f3a"
            ],
            [
             0.8888888888888888,
             "#fdca26"
            ],
            [
             1,
             "#f0f921"
            ]
           ],
           "sequentialminus": [
            [
             0,
             "#0d0887"
            ],
            [
             0.1111111111111111,
             "#46039f"
            ],
            [
             0.2222222222222222,
             "#7201a8"
            ],
            [
             0.3333333333333333,
             "#9c179e"
            ],
            [
             0.4444444444444444,
             "#bd3786"
            ],
            [
             0.5555555555555556,
             "#d8576b"
            ],
            [
             0.6666666666666666,
             "#ed7953"
            ],
            [
             0.7777777777777778,
             "#fb9f3a"
            ],
            [
             0.8888888888888888,
             "#fdca26"
            ],
            [
             1,
             "#f0f921"
            ]
           ]
          },
          "colorway": [
           "#636efa",
           "#EF553B",
           "#00cc96",
           "#ab63fa",
           "#FFA15A",
           "#19d3f3",
           "#FF6692",
           "#B6E880",
           "#FF97FF",
           "#FECB52"
          ],
          "font": {
           "color": "#2a3f5f"
          },
          "geo": {
           "bgcolor": "white",
           "lakecolor": "white",
           "landcolor": "#E5ECF6",
           "showlakes": true,
           "showland": true,
           "subunitcolor": "white"
          },
          "hoverlabel": {
           "align": "left"
          },
          "hovermode": "closest",
          "mapbox": {
           "style": "light"
          },
          "paper_bgcolor": "white",
          "plot_bgcolor": "#E5ECF6",
          "polar": {
           "angularaxis": {
            "gridcolor": "white",
            "linecolor": "white",
            "ticks": ""
           },
           "bgcolor": "#E5ECF6",
           "radialaxis": {
            "gridcolor": "white",
            "linecolor": "white",
            "ticks": ""
           }
          },
          "scene": {
           "xaxis": {
            "backgroundcolor": "#E5ECF6",
            "gridcolor": "white",
            "gridwidth": 2,
            "linecolor": "white",
            "showbackground": true,
            "ticks": "",
            "zerolinecolor": "white"
           },
           "yaxis": {
            "backgroundcolor": "#E5ECF6",
            "gridcolor": "white",
            "gridwidth": 2,
            "linecolor": "white",
            "showbackground": true,
            "ticks": "",
            "zerolinecolor": "white"
           },
           "zaxis": {
            "backgroundcolor": "#E5ECF6",
            "gridcolor": "white",
            "gridwidth": 2,
            "linecolor": "white",
            "showbackground": true,
            "ticks": "",
            "zerolinecolor": "white"
           }
          },
          "shapedefaults": {
           "line": {
            "color": "#2a3f5f"
           }
          },
          "ternary": {
           "aaxis": {
            "gridcolor": "white",
            "linecolor": "white",
            "ticks": ""
           },
           "baxis": {
            "gridcolor": "white",
            "linecolor": "white",
            "ticks": ""
           },
           "bgcolor": "#E5ECF6",
           "caxis": {
            "gridcolor": "white",
            "linecolor": "white",
            "ticks": ""
           }
          },
          "title": {
           "x": 0.05
          },
          "xaxis": {
           "automargin": true,
           "gridcolor": "white",
           "linecolor": "white",
           "ticks": "",
           "title": {
            "standoff": 15
           },
           "zerolinecolor": "white",
           "zerolinewidth": 2
          },
          "yaxis": {
           "automargin": true,
           "gridcolor": "white",
           "linecolor": "white",
           "ticks": "",
           "title": {
            "standoff": 15
           },
           "zerolinecolor": "white",
           "zerolinewidth": 2
          }
         }
        },
        "xaxis": {
         "anchor": "y",
         "autorange": false,
         "domain": [
          0,
          1
         ],
         "range": [
          -0.5,
          19.5
         ],
         "title": {
          "text": "channel_title"
         },
         "type": "category"
        },
        "yaxis": {
         "anchor": "x",
         "autorange": false,
         "domain": [
          0,
          1
         ],
         "range": [
          0,
          747.3684210526313
         ],
         "title": {
          "text": "total_videos"
         },
         "type": "linear"
        }
       }
      },
      "image/png": "[encoded data removed]",
      "text/html": [
       "<div>                            <div id=\"a86be390-98c6-4f6f-b0f0-14b614e8af18\" class=\"plotly-graph-div\" style=\"height:525px; width:100%;\"></div>            <script type=\"text/javascript\">                require([\"plotly\"], function(Plotly) {                    window.PLOTLYENV=window.PLOTLYENV || {};                                    if (document.getElementById(\"a86be390-98c6-4f6f-b0f0-14b614e8af18\")) {                    Plotly.newPlot(                        \"a86be390-98c6-4f6f-b0f0-14b614e8af18\",                        [{\"alignmentgroup\":\"True\",\"hovertemplate\":\"channel_title=%{x}\\u003cbr\\u003etotal_videos=%{y}\\u003cextra\\u003e\\u003c\\u002fextra\\u003e\",\"legendgroup\":\"\",\"marker\":{\"color\":\"#636efa\",\"pattern\":{\"shape\":\"\"}},\"name\":\"\",\"offsetgroup\":\"\",\"orientation\":\"v\",\"showlegend\":false,\"textposition\":\"auto\",\"x\":[\"The Late Show with Stephen Colbert\",\"WWE\",\"Late Night with Seth Meyers\",\"TheEllenShow\",\"Jimmy Kimmel Live\",\"PewDiePie\",\"The Tonight Show Starring Jimmy Fallon\",\"CNN\",\"The Late Late Show with James Corden\",\"ESPN\",\"FBE\",\"VikatanTV\",\"Netflix\",\"SET India\",\"MLG Highlights\",\"BuzzFeedVideo\",\"SMTOWN\",\"\\u00c3\\u0087ukur\",\"Marvel Entertainment\",\"SAB TV\"],\"xaxis\":\"x\",\"y\":[710,643,592,555,528,511,509,500,453,452,439,435,410,405,382,361,359,356,352,351],\"yaxis\":\"y\",\"type\":\"bar\"}],                        {\"template\":{\"data\":{\"histogram2dcontour\":[{\"type\":\"histogram2dcontour\",\"colorbar\":{\"outlinewidth\":0,\"ticks\":\"\"},\"colorscale\":[[0.0,\"#0d0887\"],[0.1111111111111111,\"#46039f\"],[0.2222222222222222,\"#7201a8\"],[0.3333333333333333,\"#9c179e\"],[0.4444444444444444,\"#bd3786\"],[0.5555555555555556,\"#d8576b\"],[0.6666666666666666,\"#ed7953\"],[0.7777777777777778,\"#fb9f3a\"],[0.8888888888888888,\"#fdca26\"],[1.0,\"#f0f921\"]]}],\"choropleth\":[{\"type\":\"choropleth\",\"colorbar\":{\"outlinewidth\":0,\"ticks\":\"\"}}],\"histogram2d\":[{\"type\":\"histogram2d\",\"colorbar\":{\"outlinewidth\":0,\"ticks\":\"\"},\"colorscale\":[[0.0,\"#0d0887\"],[0.1111111111111111,\"#46039f\"],[0.2222222222222222,\"#7201a8\"],[0.3333333333333333,\"#9c179e\"],[0.4444444444444444,\"#bd3786\"],[0.5555555555555556,\"#d8576b\"],[0.6666666666666666,\"#ed7953\"],[0.7777777777777778,\"#fb9f3a\"],[0.8888888888888888,\"#fdca26\"],[1.0,\"#f0f921\"]]}],\"heatmap\":[{\"type\":\"heatmap\",\"colorbar\":{\"outlinewidth\":0,\"ticks\":\"\"},\"colorscale\":[[0.0,\"#0d0887\"],[0.1111111111111111,\"#46039f\"],[0.2222222222222222,\"#7201a8\"],[0.3333333333333333,\"#9c179e\"],[0.4444444444444444,\"#bd3786\"],[0.5555555555555556,\"#d8576b\"],[0.6666666666666666,\"#ed7953\"],[0.7777777777777778,\"#fb9f3a\"],[0.8888888888888888,\"#fdca26\"],[1.0,\"#f0f921\"]]}],\"heatmapgl\":[{\"type\":\"heatmapgl\",\"colorbar\":{\"outlinewidth\":0,\"ticks\":\"\"},\"colorscale\":[[0.0,\"#0d0887\"],[0.1111111111111111,\"#46039f\"],[0.2222222222222222,\"#7201a8\"],[0.3333333333333333,\"#9c179e\"],[0.4444444444444444,\"#bd3786\"],[0.5555555555555556,\"#d8576b\"],[0.6666666666666666,\"#ed7953\"],[0.7777777777777778,\"#fb9f3a\"],[0.8888888888888888,\"#fdca26\"],[1.0,\"#f0f921\"]]}],\"contourcarpet\":[{\"type\":\"contourcarpet\",\"colorbar\":{\"outlinewidth\":0,\"ticks\":\"\"}}],\"contour\":[{\"type\":\"contour\",\"colorbar\":{\"outlinewidth\":0,\"ticks\":\"\"},\"colorscale\":[[0.0,\"#0d0887\"],[0.1111111111111111,\"#46039f\"],[0.2222222222222222,\"#7201a8\"],[0.3333333333333333,\"#9c179e\"],[0.4444444444444444,\"#bd3786\"],[0.5555555555555556,\"#d8576b\"],[0.6666666666666666,\"#ed7953\"],[0.7777777777777778,\"#fb9f3a\"],[0.8888888888888888,\"#fdca26\"],[1.0,\"#f0f921\"]]}],\"surface\":[{\"type\":\"surface\",\"colorbar\":{\"outlinewidth\":0,\"ticks\":\"\"},\"colorscale\":[[0.0,\"#0d0887\"],[0.1111111111111111,\"#46039f\"],[0.2222222222222222,\"#7201a8\"],[0.3333333333333333,\"#9c179e\"],[0.4444444444444444,\"#bd3786\"],[0.5555555555555556,\"#d8576b\"],[0.6666666666666666,\"#ed7953\"],[0.7777777777777778,\"#fb9f3a\"],[0.8888888888888888,\"#fdca26\"],[1.0,\"#f0f921\"]]}],\"mesh3d\":[{\"type\":\"mesh3d\",\"colorbar\":{\"outlinewidth\":0,\"ticks\":\"\"}}],\"scatter\":[{\"fillpattern\":{\"fillmode\":\"overlay\",\"size\":10,\"solidity\":0.2},\"type\":\"scatter\"}],\"parcoords\":[{\"type\":\"parcoords\",\"line\":{\"colorbar\":{\"outlinewidth\":0,\"ticks\":\"\"}}}],\"scatterpolargl\":[{\"type\":\"scatterpolargl\",\"marker\":{\"colorbar\":{\"outlinewidth\":0,\"ticks\":\"\"}}}],\"bar\":[{\"error_x\":{\"color\":\"#2a3f5f\"},\"error_y\":{\"color\":\"#2a3f5f\"},\"marker\":{\"line\":{\"color\":\"#E5ECF6\",\"width\":0.5},\"pattern\":{\"fillmode\":\"overlay\",\"size\":10,\"solidity\":0.2}},\"type\":\"bar\"}],\"scattergeo\":[{\"type\":\"scattergeo\",\"marker\":{\"colorbar\":{\"outlinewidth\":0,\"ticks\":\"\"}}}],\"scatterpolar\":[{\"type\":\"scatterpolar\",\"marker\":{\"colorbar\":{\"outlinewidth\":0,\"ticks\":\"\"}}}],\"histogram\":[{\"marker\":{\"pattern\":{\"fillmode\":\"overlay\",\"size\":10,\"solidity\":0.2}},\"type\":\"histogram\"}],\"scattergl\":[{\"type\":\"scattergl\",\"marker\":{\"colorbar\":{\"outlinewidth\":0,\"ticks\":\"\"}}}],\"scatter3d\":[{\"type\":\"scatter3d\",\"line\":{\"colorbar\":{\"outlinewidth\":0,\"ticks\":\"\"}},\"marker\":{\"colorbar\":{\"outlinewidth\":0,\"ticks\":\"\"}}}],\"scattermapbox\":[{\"type\":\"scattermapbox\",\"marker\":{\"colorbar\":{\"outlinewidth\":0,\"ticks\":\"\"}}}],\"scatterternary\":[{\"type\":\"scatterternary\",\"marker\":{\"colorbar\":{\"outlinewidth\":0,\"ticks\":\"\"}}}],\"scattercarpet\":[{\"type\":\"scattercarpet\",\"marker\":{\"colorbar\":{\"outlinewidth\":0,\"ticks\":\"\"}}}],\"carpet\":[{\"aaxis\":{\"endlinecolor\":\"#2a3f5f\",\"gridcolor\":\"white\",\"linecolor\":\"white\",\"minorgridcolor\":\"white\",\"startlinecolor\":\"#2a3f5f\"},\"baxis\":{\"endlinecolor\":\"#2a3f5f\",\"gridcolor\":\"white\",\"linecolor\":\"white\",\"minorgridcolor\":\"white\",\"startlinecolor\":\"#2a3f5f\"},\"type\":\"carpet\"}],\"table\":[{\"cells\":{\"fill\":{\"color\":\"#EBF0F8\"},\"line\":{\"color\":\"white\"}},\"header\":{\"fill\":{\"color\":\"#C8D4E3\"},\"line\":{\"color\":\"white\"}},\"type\":\"table\"}],\"barpolar\":[{\"marker\":{\"line\":{\"color\":\"#E5ECF6\",\"width\":0.5},\"pattern\":{\"fillmode\":\"overlay\",\"size\":10,\"solidity\":0.2}},\"type\":\"barpolar\"}],\"pie\":[{\"automargin\":true,\"type\":\"pie\"}]},\"layout\":{\"autotypenumbers\":\"strict\",\"colorway\":[\"#636efa\",\"#EF553B\",\"#00cc96\",\"#ab63fa\",\"#FFA15A\",\"#19d3f3\",\"#FF6692\",\"#B6E880\",\"#FF97FF\",\"#FECB52\"],\"font\":{\"color\":\"#2a3f5f\"},\"hovermode\":\"closest\",\"hoverlabel\":{\"align\":\"left\"},\"paper_bgcolor\":\"white\",\"plot_bgcolor\":\"#E5ECF6\",\"polar\":{\"bgcolor\":\"#E5ECF6\",\"angularaxis\":{\"gridcolor\":\"white\",\"linecolor\":\"white\",\"ticks\":\"\"},\"radialaxis\":{\"gridcolor\":\"white\",\"linecolor\":\"white\",\"ticks\":\"\"}},\"ternary\":{\"bgcolor\":\"#E5ECF6\",\"aaxis\":{\"gridcolor\":\"white\",\"linecolor\":\"white\",\"ticks\":\"\"},\"baxis\":{\"gridcolor\":\"white\",\"linecolor\":\"white\",\"ticks\":\"\"},\"caxis\":{\"gridcolor\":\"white\",\"linecolor\":\"white\",\"ticks\":\"\"}},\"coloraxis\":{\"colorbar\":{\"outlinewidth\":0,\"ticks\":\"\"}},\"colorscale\":{\"sequential\":[[0.0,\"#0d0887\"],[0.1111111111111111,\"#46039f\"],[0.2222222222222222,\"#7201a8\"],[0.3333333333333333,\"#9c179e\"],[0.4444444444444444,\"#bd3786\"],[0.5555555555555556,\"#d8576b\"],[0.6666666666666666,\"#ed7953\"],[0.7777777777777778,\"#fb9f3a\"],[0.8888888888888888,\"#fdca26\"],[1.0,\"#f0f921\"]],\"sequentialminus\":[[0.0,\"#0d0887\"],[0.1111111111111111,\"#46039f\"],[0.2222222222222222,\"#7201a8\"],[0.3333333333333333,\"#9c179e\"],[0.4444444444444444,\"#bd3786\"],[0.5555555555555556,\"#d8576b\"],[0.6666666666666666,\"#ed7953\"],[0.7777777777777778,\"#fb9f3a\"],[0.8888888888888888,\"#fdca26\"],[1.0,\"#f0f921\"]],\"diverging\":[[0,\"#8e0152\"],[0.1,\"#c51b7d\"],[0.2,\"#de77ae\"],[0.3,\"#f1b6da\"],[0.4,\"#fde0ef\"],[0.5,\"#f7f7f7\"],[0.6,\"#e6f5d0\"],[0.7,\"#b8e186\"],[0.8,\"#7fbc41\"],[0.9,\"#4d9221\"],[1,\"#276419\"]]},\"xaxis\":{\"gridcolor\":\"white\",\"linecolor\":\"white\",\"ticks\":\"\",\"title\":{\"standoff\":15},\"zerolinecolor\":\"white\",\"automargin\":true,\"zerolinewidth\":2},\"yaxis\":{\"gridcolor\":\"white\",\"linecolor\":\"white\",\"ticks\":\"\",\"title\":{\"standoff\":15},\"zerolinecolor\":\"white\",\"automargin\":true,\"zerolinewidth\":2},\"scene\":{\"xaxis\":{\"backgroundcolor\":\"#E5ECF6\",\"gridcolor\":\"white\",\"linecolor\":\"white\",\"showbackground\":true,\"ticks\":\"\",\"zerolinecolor\":\"white\",\"gridwidth\":2},\"yaxis\":{\"backgroundcolor\":\"#E5ECF6\",\"gridcolor\":\"white\",\"linecolor\":\"white\",\"showbackground\":true,\"ticks\":\"\",\"zerolinecolor\":\"white\",\"gridwidth\":2},\"zaxis\":{\"backgroundcolor\":\"#E5ECF6\",\"gridcolor\":\"white\",\"linecolor\":\"white\",\"showbackground\":true,\"ticks\":\"\",\"zerolinecolor\":\"white\",\"gridwidth\":2}},\"shapedefaults\":{\"line\":{\"color\":\"#2a3f5f\"}},\"annotationdefaults\":{\"arrowcolor\":\"#2a3f5f\",\"arrowhead\":0,\"arrowwidth\":1},\"geo\":{\"bgcolor\":\"white\",\"landcolor\":\"#E5ECF6\",\"subunitcolor\":\"white\",\"showland\":true,\"showlakes\":true,\"lakecolor\":\"white\"},\"title\":{\"x\":0.05},\"mapbox\":{\"style\":\"light\"}}},\"xaxis\":{\"anchor\":\"y\",\"domain\":[0.0,1.0],\"title\":{\"text\":\"channel_title\"}},\"yaxis\":{\"anchor\":\"x\",\"domain\":[0.0,1.0],\"title\":{\"text\":\"total_videos\"}},\"legend\":{\"tracegroupgap\":0},\"margin\":{\"t\":60},\"barmode\":\"relative\"},                        {\"responsive\": true}                    ).then(function(){\n",
       "                            \n",
       "var gd = document.getElementById('a86be390-98c6-4f6f-b0f0-14b614e8af18');\n",
       "var x = new MutationObserver(function (mutations, observer) {{\n",
       "        var display = window.getComputedStyle(gd).display;\n",
       "        if (!display || display === 'none') {{\n",
       "            console.log([gd, 'removed!']);\n",
       "            Plotly.purge(gd);\n",
       "            observer.disconnect();\n",
       "        }}\n",
       "}});\n",
       "\n",
       "// Listen for the removal of the full notebook cells\n",
       "var notebookContainer = gd.closest('#notebook-container');\n",
       "if (notebookContainer) {{\n",
       "    x.observe(notebookContainer, {childList: true});\n",
       "}}\n",
       "\n",
       "// Listen for the clearing of the current output cell\n",
       "var outputEl = gd.closest('.output');\n",
       "if (outputEl) {{\n",
       "    x.observe(outputEl, {childList: true});\n",
       "}}\n",
       "\n",
       "                        })                };                });            </script>        </div>"
      ]
     },
     "metadata": {},
     "output_type": "display_data"
    }
   ],
   "source": [
    "px.bar(data_frame = cdf[0:20], x =\"channel_title\",y=\"total_videos\")"
   ]
  },
  {
   "cell_type": "markdown",
   "id": "53e0077e-fe7d-4a18-991d-db84c7729717",
   "metadata": {},
   "source": [
    "### Establishing the correlation between punctuations , views, likes, dislikes in YouTube Community"
   ]
  },
  {
   "cell_type": "code",
   "execution_count": 135,
   "id": "c94d9eab-cddb-4afe-9dc5-931c187fd9ae",
   "metadata": {},
   "outputs": [],
   "source": [
    "import string "
   ]
  },
  {
   "cell_type": "code",
   "execution_count": 139,
   "id": "76c4a34f-c6cb-4a6b-bc9b-54a2cb458451",
   "metadata": {},
   "outputs": [
    {
     "data": {
      "text/plain": [
       "'!\"#$%&\\'()*+,-./:;<=>?@[\\\\]^_`{|}~'"
      ]
     },
     "execution_count": 139,
     "metadata": {},
     "output_type": "execute_result"
    }
   ],
   "source": [
    "string.punctuation"
   ]
  },
  {
   "cell_type": "code",
   "execution_count": 142,
   "id": "309caa6d-f688-44b3-a11a-a8323999ad0f",
   "metadata": {},
   "outputs": [
    {
     "data": {
      "text/plain": [
       "1"
      ]
     },
     "execution_count": 142,
     "metadata": {},
     "output_type": "execute_result"
    }
   ],
   "source": [
    "len([char for char in full_df['title'][0] if char in string.punctuation])"
   ]
  },
  {
   "cell_type": "code",
   "execution_count": 141,
   "id": "3879277a-636a-44e5-82ef-a7792364cf45",
   "metadata": {},
   "outputs": [
    {
     "data": {
      "text/plain": [
       "'CapÃ\\xadtulo 12 | MasterChef 2017'"
      ]
     },
     "execution_count": 141,
     "metadata": {},
     "output_type": "execute_result"
    }
   ],
   "source": [
    "full_df['title'][0]"
   ]
  },
  {
   "cell_type": "markdown",
   "id": "a7bbd797-3fea-4c4b-8d80-ef5bb2e81658",
   "metadata": {},
   "source": [
    "### Taking sample Data (splitting data)"
   ]
  },
  {
   "cell_type": "code",
   "execution_count": 158,
   "id": "f4f311c3-1643-4b62-a989-03abaaa94652",
   "metadata": {},
   "outputs": [],
   "source": [
    "sample_df = full_df[0:10000]"
   ]
  },
  {
   "cell_type": "code",
   "execution_count": 159,
   "id": "d6589a75-bb7b-423f-aee5-acb6b41fdf79",
   "metadata": {},
   "outputs": [],
   "source": [
    "def punc_count(text):\n",
    "    return len([char for char in text if char in string.punctuation])"
   ]
  },
  {
   "cell_type": "code",
   "execution_count": 160,
   "id": "4ea37c7b-17e0-4225-b2ad-3f122fd76d2b",
   "metadata": {},
   "outputs": [
    {
     "data": {
      "text/plain": [
       "0       1\n",
       "1       3\n",
       "2       1\n",
       "3       1\n",
       "4       1\n",
       "       ..\n",
       "9995    2\n",
       "9996    3\n",
       "9997    1\n",
       "9998    1\n",
       "9999    0\n",
       "Name: title, Length: 10000, dtype: int64"
      ]
     },
     "execution_count": 160,
     "metadata": {},
     "output_type": "execute_result"
    }
   ],
   "source": [
    "sample_df['title'].apply(punc_count)"
   ]
  },
  {
   "cell_type": "code",
   "execution_count": 161,
   "id": "9bd62960-6609-49ef-8e33-c2eee5b14dde",
   "metadata": {},
   "outputs": [],
   "source": [
    "sample_df['punc_count'] = sample_df['title'].apply(punc_count)"
   ]
  },
  {
   "cell_type": "code",
   "execution_count": 162,
   "id": "afe6f282-5e5c-4b2f-aa02-b78995f2a5d2",
   "metadata": {},
   "outputs": [
    {
     "data": {
      "text/html": [
       "<div>\n",
       "<style scoped>\n",
       "    .dataframe tbody tr th:only-of-type {\n",
       "        vertical-align: middle;\n",
       "    }\n",
       "\n",
       "    .dataframe tbody tr th {\n",
       "        vertical-align: top;\n",
       "    }\n",
       "\n",
       "    .dataframe thead th {\n",
       "        text-align: right;\n",
       "    }\n",
       "</style>\n",
       "<table border=\"1\" class=\"dataframe\">\n",
       "  <thead>\n",
       "    <tr style=\"text-align: right;\">\n",
       "      <th></th>\n",
       "      <th>video_id</th>\n",
       "      <th>trending_date</th>\n",
       "      <th>title</th>\n",
       "      <th>channel_title</th>\n",
       "      <th>category_id</th>\n",
       "      <th>publish_time</th>\n",
       "      <th>tags</th>\n",
       "      <th>views</th>\n",
       "      <th>likes</th>\n",
       "      <th>dislikes</th>\n",
       "      <th>...</th>\n",
       "      <th>thumbnail_link</th>\n",
       "      <th>comments_disabled</th>\n",
       "      <th>ratings_disabled</th>\n",
       "      <th>video_error_or_removed</th>\n",
       "      <th>description</th>\n",
       "      <th>category_name</th>\n",
       "      <th>like_rate</th>\n",
       "      <th>dislike_rate</th>\n",
       "      <th>comments_count_rate</th>\n",
       "      <th>punc_count</th>\n",
       "    </tr>\n",
       "  </thead>\n",
       "  <tbody>\n",
       "    <tr>\n",
       "      <th>0</th>\n",
       "      <td>SbOwzAl9ZfQ</td>\n",
       "      <td>17.14.11</td>\n",
       "      <td>CapÃ­tulo 12 | MasterChef 2017</td>\n",
       "      <td>MasterChef 2017</td>\n",
       "      <td>24</td>\n",
       "      <td>2017-11-13T06:06:22.000Z</td>\n",
       "      <td>MasterChef Junior 2017|\"TV Azteca\"|\"recetas\"|\"...</td>\n",
       "      <td>310130</td>\n",
       "      <td>4182</td>\n",
       "      <td>361</td>\n",
       "      <td>...</td>\n",
       "      <td>https://i.ytimg.com/vi/SbOwzAl9ZfQ/default.jpg</td>\n",
       "      <td>False</td>\n",
       "      <td>False</td>\n",
       "      <td>False</td>\n",
       "      <td>Disfruta la presencia del Chef Torreblanca en ...</td>\n",
       "      <td>Entertainment</td>\n",
       "      <td>1.348467</td>\n",
       "      <td>0.116403</td>\n",
       "      <td>0.592010</td>\n",
       "      <td>1</td>\n",
       "    </tr>\n",
       "    <tr>\n",
       "      <th>1</th>\n",
       "      <td>klOV6Xh-DnI</td>\n",
       "      <td>17.14.11</td>\n",
       "      <td>ALEXA EX-INTEGRANTE DEL GRUPO TIMBIRICHE RENUN...</td>\n",
       "      <td>Micky Contreras Martinez</td>\n",
       "      <td>22</td>\n",
       "      <td>2017-11-13T05:11:58.000Z</td>\n",
       "      <td>La Voz Mexico 7</td>\n",
       "      <td>104972</td>\n",
       "      <td>271</td>\n",
       "      <td>174</td>\n",
       "      <td>...</td>\n",
       "      <td>https://i.ytimg.com/vi/klOV6Xh-DnI/default.jpg</td>\n",
       "      <td>False</td>\n",
       "      <td>False</td>\n",
       "      <td>False</td>\n",
       "      <td>ALEXA EX-INTEGRANTE DEL GRUPO TIMBIRICHE RENUN...</td>\n",
       "      <td>People &amp; Blogs</td>\n",
       "      <td>0.258164</td>\n",
       "      <td>0.165758</td>\n",
       "      <td>0.351522</td>\n",
       "      <td>3</td>\n",
       "    </tr>\n",
       "    <tr>\n",
       "      <th>2</th>\n",
       "      <td>6L2ZF7Qzsbk</td>\n",
       "      <td>17.14.11</td>\n",
       "      <td>LOUIS CKAGÃ - EL PULSO DE LA REPÃBLICA</td>\n",
       "      <td>El Pulso De La RepÃºblica</td>\n",
       "      <td>25</td>\n",
       "      <td>2017-11-13T17:00:02.000Z</td>\n",
       "      <td>Chumel Torres|\"El Pulso de la Republica\"|\"noti...</td>\n",
       "      <td>136064</td>\n",
       "      <td>10105</td>\n",
       "      <td>266</td>\n",
       "      <td>...</td>\n",
       "      <td>https://i.ytimg.com/vi/6L2ZF7Qzsbk/default.jpg</td>\n",
       "      <td>False</td>\n",
       "      <td>False</td>\n",
       "      <td>False</td>\n",
       "      <td>La canciÃ³n del principio se llama âEste esp...</td>\n",
       "      <td>News &amp; Politics</td>\n",
       "      <td>7.426652</td>\n",
       "      <td>0.195496</td>\n",
       "      <td>0.446114</td>\n",
       "      <td>1</td>\n",
       "    </tr>\n",
       "    <tr>\n",
       "      <th>3</th>\n",
       "      <td>hcY52MFWMDM</td>\n",
       "      <td>17.14.11</td>\n",
       "      <td>Sismo de 6.7 sacude Costa Rica 12 Noviembre 2017</td>\n",
       "      <td>Casanare</td>\n",
       "      <td>25</td>\n",
       "      <td>2017-11-13T03:47:10.000Z</td>\n",
       "      <td>temblor|\"costa rica\"|\"sismo en costa rica\"</td>\n",
       "      <td>96153</td>\n",
       "      <td>378</td>\n",
       "      <td>171</td>\n",
       "      <td>...</td>\n",
       "      <td>https://i.ytimg.com/vi/hcY52MFWMDM/default.jpg</td>\n",
       "      <td>False</td>\n",
       "      <td>False</td>\n",
       "      <td>False</td>\n",
       "      <td>El video es de un Walmart en el pais centroame...</td>\n",
       "      <td>News &amp; Politics</td>\n",
       "      <td>0.393123</td>\n",
       "      <td>0.177842</td>\n",
       "      <td>0.216322</td>\n",
       "      <td>1</td>\n",
       "    </tr>\n",
       "    <tr>\n",
       "      <th>4</th>\n",
       "      <td>_OXDcGPVAa4</td>\n",
       "      <td>17.14.11</td>\n",
       "      <td>DOG HACKS | MUSAS LESSLIE LOS POLINESIOS</td>\n",
       "      <td>Musas</td>\n",
       "      <td>26</td>\n",
       "      <td>2017-11-13T19:17:48.000Z</td>\n",
       "      <td>MUSAS|\"lesslie\"|\"karen\"|\"hacks\"|\"perros\"|\"dogs...</td>\n",
       "      <td>499965</td>\n",
       "      <td>57781</td>\n",
       "      <td>681</td>\n",
       "      <td>...</td>\n",
       "      <td>https://i.ytimg.com/vi/_OXDcGPVAa4/default.jpg</td>\n",
       "      <td>False</td>\n",
       "      <td>False</td>\n",
       "      <td>False</td>\n",
       "      <td>MI HERMANO NARRA MI RUTINA DE MAQUILLAJE\\nhttp...</td>\n",
       "      <td>Howto &amp; Style</td>\n",
       "      <td>11.557009</td>\n",
       "      <td>0.136210</td>\n",
       "      <td>1.485704</td>\n",
       "      <td>1</td>\n",
       "    </tr>\n",
       "    <tr>\n",
       "      <th>...</th>\n",
       "      <td>...</td>\n",
       "      <td>...</td>\n",
       "      <td>...</td>\n",
       "      <td>...</td>\n",
       "      <td>...</td>\n",
       "      <td>...</td>\n",
       "      <td>...</td>\n",
       "      <td>...</td>\n",
       "      <td>...</td>\n",
       "      <td>...</td>\n",
       "      <td>...</td>\n",
       "      <td>...</td>\n",
       "      <td>...</td>\n",
       "      <td>...</td>\n",
       "      <td>...</td>\n",
       "      <td>...</td>\n",
       "      <td>...</td>\n",
       "      <td>...</td>\n",
       "      <td>...</td>\n",
       "      <td>...</td>\n",
       "      <td>...</td>\n",
       "    </tr>\n",
       "    <tr>\n",
       "      <th>9995</th>\n",
       "      <td>VoTfkFkp3TM</td>\n",
       "      <td>18.03.01</td>\n",
       "      <td>ROMMEL PACHECO SE VA DE EXATLON (GIOVANNI CR)</td>\n",
       "      <td>Giovanni CR</td>\n",
       "      <td>17</td>\n",
       "      <td>2018-01-03T03:49:58.000Z</td>\n",
       "      <td>[none]</td>\n",
       "      <td>26187</td>\n",
       "      <td>189</td>\n",
       "      <td>52</td>\n",
       "      <td>...</td>\n",
       "      <td>https://i.ytimg.com/vi/VoTfkFkp3TM/default.jpg</td>\n",
       "      <td>False</td>\n",
       "      <td>False</td>\n",
       "      <td>False</td>\n",
       "      <td>Dale like y suscribete â¤ð</td>\n",
       "      <td>Sports</td>\n",
       "      <td>0.721732</td>\n",
       "      <td>0.198572</td>\n",
       "      <td>0.481155</td>\n",
       "      <td>2</td>\n",
       "    </tr>\n",
       "    <tr>\n",
       "      <th>9996</th>\n",
       "      <td>vuGi2RmYhas</td>\n",
       "      <td>18.03.01</td>\n",
       "      <td>ð¤SI TE RÃES PIERDES NIVEL DIOS ð´(818% I...</td>\n",
       "      <td>THE YOLO</td>\n",
       "      <td>23</td>\n",
       "      <td>2018-01-03T00:59:22.000Z</td>\n",
       "      <td>si te rÃ­es pierdes nivel dios|\"si te rÃ­es pi...</td>\n",
       "      <td>370656</td>\n",
       "      <td>31806</td>\n",
       "      <td>1140</td>\n",
       "      <td>...</td>\n",
       "      <td>https://i.ytimg.com/vi/vuGi2RmYhas/default.jpg</td>\n",
       "      <td>False</td>\n",
       "      <td>False</td>\n",
       "      <td>False</td>\n",
       "      <td>ð¤ SUSCRIBETE PARA MAS VÃDEOS ð½\\n\\n\\nâ",
       "...</td>\n",
       "      <td>Comedy</td>\n",
       "      <td>8.581002</td>\n",
       "      <td>0.307563</td>\n",
       "      <td>1.377288</td>\n",
       "      <td>3</td>\n",
       "    </tr>\n",
       "    <tr>\n",
       "      <th>9997</th>\n",
       "      <td>3j-sm6gBuvw</td>\n",
       "      <td>18.03.01</td>\n",
       "      <td>Â¡Top 10 Muertes SATISFACTORIAS de Villanos de...</td>\n",
       "      <td>WatchMojo EspaÃ±ol</td>\n",
       "      <td>1</td>\n",
       "      <td>2018-01-02T18:00:32.000Z</td>\n",
       "      <td>top 10|\"lista\"|\"top 5\"|\"disney\"|\"pelÃ­culas de...</td>\n",
       "      <td>368661</td>\n",
       "      <td>16764</td>\n",
       "      <td>307</td>\n",
       "      <td>...</td>\n",
       "      <td>https://i.ytimg.com/vi/3j-sm6gBuvw/default.jpg</td>\n",
       "      <td>False</td>\n",
       "      <td>False</td>\n",
       "      <td>False</td>\n",
       "      <td>Â¡Top 10 Muertes SATISFACTORIAS de Villanos de...</td>\n",
       "      <td>Film &amp; Animation</td>\n",
       "      <td>4.547267</td>\n",
       "      <td>0.083274</td>\n",
       "      <td>0.403894</td>\n",
       "      <td>1</td>\n",
       "    </tr>\n",
       "    <tr>\n",
       "      <th>9998</th>\n",
       "      <td>f_a3tmkTSzk</td>\n",
       "      <td>18.03.01</td>\n",
       "      <td>Logan Paul Finds Something In The Woods !</td>\n",
       "      <td>FritangaPlays</td>\n",
       "      <td>20</td>\n",
       "      <td>2018-01-02T09:59:24.000Z</td>\n",
       "      <td>logan paul|\"japanese forest\"|\"suicide forest\"|...</td>\n",
       "      <td>643907</td>\n",
       "      <td>5604</td>\n",
       "      <td>9068</td>\n",
       "      <td>...</td>\n",
       "      <td>https://i.ytimg.com/vi/f_a3tmkTSzk/default.jpg</td>\n",
       "      <td>False</td>\n",
       "      <td>False</td>\n",
       "      <td>False</td>\n",
       "      <td>this is a S**t post.\\n\\n______________________...</td>\n",
       "      <td>Gaming</td>\n",
       "      <td>0.870312</td>\n",
       "      <td>1.408278</td>\n",
       "      <td>0.131541</td>\n",
       "      <td>1</td>\n",
       "    </tr>\n",
       "    <tr>\n",
       "      <th>9999</th>\n",
       "      <td>PALcJ0HW1-I</td>\n",
       "      <td>18.03.01</td>\n",
       "      <td>WALK IN THE WOODS WITH A LOGAN PAUL MEME</td>\n",
       "      <td>PewDiePie</td>\n",
       "      <td>23</td>\n",
       "      <td>2018-01-02T17:12:39.000Z</td>\n",
       "      <td>[none]</td>\n",
       "      <td>2619160</td>\n",
       "      <td>235287</td>\n",
       "      <td>11430</td>\n",
       "      <td>...</td>\n",
       "      <td>https://i.ytimg.com/vi/PALcJ0HW1-I/default.jpg</td>\n",
       "      <td>False</td>\n",
       "      <td>False</td>\n",
       "      <td>False</td>\n",
       "      <td>Full song: https://www.youtube.com/watch?v=n38...</td>\n",
       "      <td>Comedy</td>\n",
       "      <td>8.983300</td>\n",
       "      <td>0.436399</td>\n",
       "      <td>0.781243</td>\n",
       "      <td>0</td>\n",
       "    </tr>\n",
       "  </tbody>\n",
       "</table>\n",
       "<p>10000 rows × 21 columns</p>\n",
       "</div>"
      ],
      "text/plain": [
       "         video_id trending_date  \\\n",
       "0     SbOwzAl9ZfQ      17.14.11   \n",
       "1     klOV6Xh-DnI      17.14.11   \n",
       "2     6L2ZF7Qzsbk      17.14.11   \n",
       "3     hcY52MFWMDM      17.14.11   \n",
       "4     _OXDcGPVAa4      17.14.11   \n",
       "...           ...           ...   \n",
       "9995  VoTfkFkp3TM      18.03.01   \n",
       "9996  vuGi2RmYhas      18.03.01   \n",
       "9997  3j-sm6gBuvw      18.03.01   \n",
       "9998  f_a3tmkTSzk      18.03.01   \n",
       "9999  PALcJ0HW1-I      18.03.01   \n",
       "\n",
       "                                                  title  \\\n",
       "0                        CapÃ­tulo 12 | MasterChef 2017   \n",
       "1     ALEXA EX-INTEGRANTE DEL GRUPO TIMBIRICHE RENUN...   \n",
       "2              LOUIS CKAGÃ - EL PULSO DE LA REPÃBLICA   \n",
       "3      Sismo de 6.7 sacude Costa Rica 12 Noviembre 2017   \n",
       "4              DOG HACKS | MUSAS LESSLIE LOS POLINESIOS   \n",
       "...                                                 ...   \n",
       "9995      ROMMEL PACHECO SE VA DE EXATLON (GIOVANNI CR)   \n",
       "9996  ð¤SI TE RÃES PIERDES NIVEL DIOS ð´(818% I...   \n",
       "9997  Â¡Top 10 Muertes SATISFACTORIAS de Villanos de...   \n",
       "9998          Logan Paul Finds Something In The Woods !   \n",
       "9999           WALK IN THE WOODS WITH A LOGAN PAUL MEME   \n",
       "\n",
       "                  channel_title  category_id              publish_time  \\\n",
       "0               MasterChef 2017           24  2017-11-13T06:06:22.000Z   \n",
       "1      Micky Contreras Martinez           22  2017-11-13T05:11:58.000Z   \n",
       "2     El Pulso De La RepÃºblica           25  2017-11-13T17:00:02.000Z   \n",
       "3                      Casanare           25  2017-11-13T03:47:10.000Z   \n",
       "4                         Musas           26  2017-11-13T19:17:48.000Z   \n",
       "...                         ...          ...                       ...   \n",
       "9995                Giovanni CR           17  2018-01-03T03:49:58.000Z   \n",
       "9996                   THE YOLO           23  2018-01-03T00:59:22.000Z   \n",
       "9997         WatchMojo EspaÃ±ol            1  2018-01-02T18:00:32.000Z   \n",
       "9998              FritangaPlays           20  2018-01-02T09:59:24.000Z   \n",
       "9999                  PewDiePie           23  2018-01-02T17:12:39.000Z   \n",
       "\n",
       "                                                   tags    views   likes  \\\n",
       "0     MasterChef Junior 2017|\"TV Azteca\"|\"recetas\"|\"...   310130    4182   \n",
       "1                                       La Voz Mexico 7   104972     271   \n",
       "2     Chumel Torres|\"El Pulso de la Republica\"|\"noti...   136064   10105   \n",
       "3            temblor|\"costa rica\"|\"sismo en costa rica\"    96153     378   \n",
       "4     MUSAS|\"lesslie\"|\"karen\"|\"hacks\"|\"perros\"|\"dogs...   499965   57781   \n",
       "...                                                 ...      ...     ...   \n",
       "9995                                             [none]    26187     189   \n",
       "9996  si te rÃ­es pierdes nivel dios|\"si te rÃ­es pi...   370656   31806   \n",
       "9997  top 10|\"lista\"|\"top 5\"|\"disney\"|\"pelÃ­culas de...   368661   16764   \n",
       "9998  logan paul|\"japanese forest\"|\"suicide forest\"|...   643907    5604   \n",
       "9999                                             [none]  2619160  235287   \n",
       "\n",
       "      dislikes  ...                                  thumbnail_link  \\\n",
       "0          361  ...  https://i.ytimg.com/vi/SbOwzAl9ZfQ/default.jpg   \n",
       "1          174  ...  https://i.ytimg.com/vi/klOV6Xh-DnI/default.jpg   \n",
       "2          266  ...  https://i.ytimg.com/vi/6L2ZF7Qzsbk/default.jpg   \n",
       "3          171  ...  https://i.ytimg.com/vi/hcY52MFWMDM/default.jpg   \n",
       "4          681  ...  https://i.ytimg.com/vi/_OXDcGPVAa4/default.jpg   \n",
       "...        ...  ...                                             ...   \n",
       "9995        52  ...  https://i.ytimg.com/vi/VoTfkFkp3TM/default.jpg   \n",
       "9996      1140  ...  https://i.ytimg.com/vi/vuGi2RmYhas/default.jpg   \n",
       "9997       307  ...  https://i.ytimg.com/vi/3j-sm6gBuvw/default.jpg   \n",
       "9998      9068  ...  https://i.ytimg.com/vi/f_a3tmkTSzk/default.jpg   \n",
       "9999     11430  ...  https://i.ytimg.com/vi/PALcJ0HW1-I/default.jpg   \n",
       "\n",
       "     comments_disabled  ratings_disabled  video_error_or_removed  \\\n",
       "0                False             False                   False   \n",
       "1                False             False                   False   \n",
       "2                False             False                   False   \n",
       "3                False             False                   False   \n",
       "4                False             False                   False   \n",
       "...                ...               ...                     ...   \n",
       "9995             False             False                   False   \n",
       "9996             False             False                   False   \n",
       "9997             False             False                   False   \n",
       "9998             False             False                   False   \n",
       "9999             False             False                   False   \n",
       "\n",
       "                                            description     category_name  \\\n",
       "0     Disfruta la presencia del Chef Torreblanca en ...     Entertainment   \n",
       "1     ALEXA EX-INTEGRANTE DEL GRUPO TIMBIRICHE RENUN...    People & Blogs   \n",
       "2     La canciÃ³n del principio se llama âEste esp...   News & Politics   \n",
       "3     El video es de un Walmart en el pais centroame...   News & Politics   \n",
       "4     MI HERMANO NARRA MI RUTINA DE MAQUILLAJE\\nhttp...     Howto & Style   \n",
       "...                                                 ...               ...   \n",
       "9995                     Dale like y suscribete â¤ð            Sports   \n",
       "9996  ð¤ SUSCRIBETE PARA MAS VÃDEOS ð½\\n\\n\\nâ\n",
       "...            Comedy   \n",
       "9997  Â¡Top 10 Muertes SATISFACTORIAS de Villanos de...  Film & Animation   \n",
       "9998  this is a S**t post.\\n\\n______________________...            Gaming   \n",
       "9999  Full song: https://www.youtube.com/watch?v=n38...            Comedy   \n",
       "\n",
       "      like_rate  dislike_rate  comments_count_rate  punc_count  \n",
       "0      1.348467      0.116403             0.592010           1  \n",
       "1      0.258164      0.165758             0.351522           3  \n",
       "2      7.426652      0.195496             0.446114           1  \n",
       "3      0.393123      0.177842             0.216322           1  \n",
       "4     11.557009      0.136210             1.485704           1  \n",
       "...         ...           ...                  ...         ...  \n",
       "9995   0.721732      0.198572             0.481155           2  \n",
       "9996   8.581002      0.307563             1.377288           3  \n",
       "9997   4.547267      0.083274             0.403894           1  \n",
       "9998   0.870312      1.408278             0.131541           1  \n",
       "9999   8.983300      0.436399             0.781243           0  \n",
       "\n",
       "[10000 rows x 21 columns]"
      ]
     },
     "execution_count": 162,
     "metadata": {},
     "output_type": "execute_result"
    }
   ],
   "source": [
    "sample_df"
   ]
  },
  {
   "cell_type": "code",
   "execution_count": 163,
   "id": "f2c8c0d3-bc40-40e1-bb67-e1cd49d03411",
   "metadata": {},
   "outputs": [
    {
     "data": {
      "text/plain": [
       "<Axes: xlabel='punc_count', ylabel='views'>"
      ]
     },
     "execution_count": 163,
     "metadata": {},
     "output_type": "execute_result"
    },
    {
     "data": {
      "image/png": "[encoded data removed]",
      "text/plain": [
       "<Figure size 640x480 with 1 Axes>"
      ]
     },
     "metadata": {},
     "output_type": "display_data"
    }
   ],
   "source": [
    "sns.regplot(x='punc_count',y='views', data = sample_df)"
   ]
  },
  {
   "cell_type": "code",
   "execution_count": 164,
   "id": "ab83e3e7-e8c7-4626-86de-b518317b0e2e",
   "metadata": {},
   "outputs": [
    {
     "data": {
      "image/png": "[encoded data removed]",
      "text/plain": [
       "<Figure size 1500x800 with 1 Axes>"
      ]
     },
     "metadata": {},
     "output_type": "display_data"
    }
   ],
   "source": [
    "plt.figure(figsize=(15,8))\n",
    "sns.boxplot(x = \"punc_count\", y= \"views\", data= sample_df)\n",
    "plt.xticks(rotation = \"vertical\")\n",
    "plt.show()"
   ]
  },
  {
   "cell_type": "markdown",
   "id": "a685c179-eb8d-4ef2-b698-ba0d102cd00b",
   "metadata": {},
   "source": [
    "# Conclusion: It is clearly evident that if the punctuations in a title are lying in b/w two or three the views are more."
   ]
  },
  {
   "cell_type": "code",
   "execution_count": null,
   "id": "26604d64-1491-4fcc-8474-4b2722ddbed5",
   "metadata": {},
   "outputs": [],
   "source": []
  }
 ],
 "metadata": {
  "kernelspec": {
   "display_name": "Python 3 (ipykernel)",
   "language": "python",
   "name": "python3"
  },
  "language_info": {
   "codemirror_mode": {
    "name": "ipython",
    "version": 3
   },
   "file_extension": ".py",
   "mimetype": "text/x-python",
   "name": "python",
   "nbconvert_exporter": "python",
   "pygments_lexer": "ipython3",
   "version": "3.12.4"
  }
 },
 "nbformat": 4,
 "nbformat_minor": 5
}
